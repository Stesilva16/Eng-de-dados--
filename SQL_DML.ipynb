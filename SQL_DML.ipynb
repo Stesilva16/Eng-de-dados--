{
  "nbformat": 4,
  "nbformat_minor": 0,
  "metadata": {
    "colab": {
      "provenance": [],
      "include_colab_link": true
    },
    "kernelspec": {
      "name": "python3",
      "display_name": "Python 3"
    },
    "language_info": {
      "name": "python"
    }
  },
  "cells": [
    {
      "cell_type": "markdown",
      "metadata": {
        "id": "view-in-github",
        "colab_type": "text"
      },
      "source": [
        "<a href=\"https://colab.research.google.com/github/Stesilva16/Eng-de-dados--/blob/main/SQL_DML.ipynb\" target=\"_parent\"><img src=\"https://colab.research.google.com/assets/colab-badge.svg\" alt=\"Open In Colab\"/></a>"
      ]
    },
    {
      "cell_type": "code",
      "execution_count": null,
      "metadata": {
        "id": "g8wx-ZXqt2Hz"
      },
      "outputs": [],
      "source": [
        "#INSERÇÃO DE VALORES COM SQL"
      ]
    },
    {
      "cell_type": "markdown",
      "source": [
        "INSERT INTO nome_da_tabela (colunas) VALUES (valores)\n",
        "\n",
        "Ex:\n",
        "\n",
        "INSERT INTO maes (id_mae, nome, endereco, telefone, dt_nascimento)VALUES (10,'Rosário de Almeida', 'Rua zzz', '(11)9.00000000', '21/06/1994')\n",
        "\n",
        "PARA INSERÇÃO EM TODAS AS COLUNAS AO MESMO TEMPO, NÃO É NECESSÁRIO INFORMAR AS COLUNAS.\n",
        "\n",
        "INSERT INTO maes VALUES (10, 'Rosário de Almeida', 'Rua zzz', '(11)9.00000000', '21/06/1994')\n",
        "\n",
        "PARA INSERIR VÁRIOS REGISTROS AO MESMO TEMPO\n",
        "\n",
        "INSERT INTO maes VALUES \n",
        "(NULL, 'Rosário de Almeida', '', '(11)9.00000000', '21/06/1994'),\n",
        "(NULL, 'Maria Sena', '', '(11)9.00000000', '21/06/1994'),\n",
        "(NULL, '', '', '(11)9.00000000', '21/06/1994'),\n",
        "(NULL, '', '', '(11)9.00000000', '21/06/1994');\n",
        "\n",
        "\n"
      ],
      "metadata": {
        "id": "rb7ImBQWuApT"
      }
    },
    {
      "cell_type": "code",
      "source": [
        "#DELETAR OS DADOS DO BANCO DE DADOS"
      ],
      "metadata": {
        "id": "wjqOM88PupJN"
      },
      "execution_count": null,
      "outputs": []
    },
    {
      "cell_type": "markdown",
      "source": [
        "DELETE FROM nome_da_tabela;\n",
        "\n",
        "DELETE FROM meus_amigos_instagram;\n",
        "\n",
        "DELETE FROM nome_da_tabela WHERE id_mae = 4;\n",
        "DELETE FROM nome_da_tabela WHERE nome = 'Tereza Cristina';\n",
        "DELETE FROM nome_da_tabela WHERE id_mae = 4 OR id_mae = 5;\n",
        "DELETE FROM nome_da_tabela WHERE id_mae > 5 AND id_mae < 10;"
      ],
      "metadata": {
        "id": "VsWWmZcx6mGJ"
      }
    },
    {
      "cell_type": "code",
      "source": [
        "#ATUALIZAR OS DADOS DE UMA TABELA"
      ],
      "metadata": {
        "id": "mOiuCCdD6m-y"
      },
      "execution_count": null,
      "outputs": []
    },
    {
      "cell_type": "markdown",
      "source": [
        "/* ATUALIZAR UMA OU MAIS COLUNAS DE UMA TABELA */\n",
        "\n",
        "UPDATE nome_da_tabela\n",
        "SET coluna1 = novo_valor1, coluna2 = novo_valor2, colunaN = novo_valorN\n",
        "WHERE condição;\n",
        "\n",
        "UPDATE maes\n",
        "SET endereco = 'Rua Rouxinol Amarelo'\n",
        "WHERE id_mae = 4;\n",
        "\n",
        "UPDATE maes\n",
        "SET endereco = 'Rua Rouxinol Amarelo', telefone = '(88)9.98988989'\n",
        "WHERE id_mae = 2;\n",
        "\n",
        "UPDATE maes SET endereco = 'Rua Rouxinol Amarelo', telefone = '(88)9.98988989' WHERE id_mae = 2;"
      ],
      "metadata": {
        "id": "gWXvOoas6rTn"
      }
    },
    {
      "cell_type": "code",
      "source": [
        "#CONSULTA DE DADOS UTILIZANDO SELECT"
      ],
      "metadata": {
        "id": "zz3-HJrh6sY-"
      },
      "execution_count": null,
      "outputs": []
    },
    {
      "cell_type": "markdown",
      "source": [
        "/*CONSULTAR / LER / READ */\n",
        "\n",
        "SELECT colunas FROM tabela\n",
        "SELECT coluna1, coluna2, coluna3, colunaN FROM tabela\n",
        "SELECT * FROM tabela;\n",
        "\n",
        "/* Mostrar todos os dados de bebes */\n",
        "SELECT * FROM bebes\n",
        "/* Mostrar nome e data de nascimento das mães */\n",
        "SELECT nome, dt_nasc FROM maes;\n",
        "/* Mostrar nome, crm e especialidade dos médicos */\n",
        "SELECT nome, crm, especialidade FROM medicos;\n",
        "SELECT especialidade, nome, crm FROM medicos;\n",
        "\n",
        "\n",
        "/* SELECT DISTINCT */\n",
        "\n",
        "SELECT DISTINCT cidade FROM compras\n",
        "\n",
        "/* ORDER BY */\n",
        "SELECT * FROM maes ORDER BY nome ASC;\n",
        "SELECT * FROM maes ORDER BY nome DESC;\n",
        "\n",
        "/* MIN e MAX */\n",
        "SELECT MIN(alt_nasc)\n",
        "FROM bebes\n",
        "\n",
        "SELECT MAX(alt_nasc)\n",
        "FROM bebes\n",
        "\n",
        "/* COUNT - Retorna Quantidade*/\n",
        "SELECT COUNT(id_bebe)\n",
        "FROM bebes\n",
        "/* SUM - Retorna a Soma*/\n",
        "SELECT SUM(alt_nasc)\n",
        "FROM bebes\n",
        "/* AVG - Retorna a Média Aritmética*/\n",
        "SELECT AVG(alt_nasc)\n",
        "FROM bebes\n",
        "\n",
        "/* LIKE */\n",
        "SELECT colunas\n",
        "FROM nome_tabela\n",
        "WHERE condição LIKE 'algum_padrão'\n",
        "\n",
        "SELECT *\n",
        "FROM maes\n",
        "WHERE nome LIKE 'Maria%'\n",
        "\n",
        "SELECT *\n",
        "FROM maes\n",
        "WHERE nome LIKE '%Maria%'\n",
        "\n",
        "SELECT *\n",
        "FROM maes\n",
        "WHERE nome NOT LIKE '%Mari_%'\n",
        "\n",
        "SELECT *\n",
        "FROM maes\n",
        "WHERE nome LIKE '%Silvi[ao]'\n",
        "\n",
        "/* APELIDOS - ALIASES */\n",
        "\n",
        "SELECT nome, endereco, telefone\n",
        "FROM maes\n",
        "\n",
        "SELECT nome, dt_nasc AS Data_Nascimento, AVG(alt_nasc) AS media_altura, SUM(peso_nasc) AS soma_peso\n",
        "FROM bebes AS b\n",
        "\n",
        "/* BETWEEN */\n",
        "\n",
        "SELECT nome, peso\n",
        "FROM bebes\n",
        "WHERE peso_bebe BETWEEN 3 AND 4\n",
        "\n",
        "SELECT nome, peso\n",
        "FROM bebes\n",
        "WHERE dt_nasc BETWEEN '2021-01-01' AND '2022-11-30'"
      ],
      "metadata": {
        "id": "8KPL74IHM126"
      }
    }
  ]
}