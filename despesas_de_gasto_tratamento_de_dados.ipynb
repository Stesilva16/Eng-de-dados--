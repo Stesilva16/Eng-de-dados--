{
  "nbformat": 4,
  "nbformat_minor": 0,
  "metadata": {
    "colab": {
      "provenance": [],
      "include_colab_link": true
    },
    "kernelspec": {
      "name": "python3",
      "display_name": "Python 3"
    },
    "language_info": {
      "name": "python"
    }
  },
  "cells": [
    {
      "cell_type": "markdown",
      "metadata": {
        "id": "view-in-github",
        "colab_type": "text"
      },
      "source": [
        "<a href=\"https://colab.research.google.com/github/Stesilva16/Eng-de-dados--/blob/main/despesas_de_gasto_tratamento_de_dados.ipynb\" target=\"_parent\"><img src=\"https://colab.research.google.com/assets/colab-badge.svg\" alt=\"Open In Colab\"/></a>"
      ]
    },
    {
      "cell_type": "markdown",
      "source": [
        "*texto em itálico*# Importação das bibliotecas"
      ],
      "metadata": {
        "id": "hgM0Kl97gNQY"
      }
    },
    {
      "cell_type": "code",
      "source": [
        "pip install pandera"
      ],
      "metadata": {
        "colab": {
          "base_uri": "https://localhost:8080/"
        },
        "id": "C1bh3VEO2KoG",
        "outputId": "b0d36143-8813-489f-f0c3-d4bcff0563f2"
      },
      "execution_count": null,
      "outputs": [
        {
          "output_type": "stream",
          "name": "stdout",
          "text": [
            "Looking in indexes: https://pypi.org/simple, https://us-python.pkg.dev/colab-wheels/public/simple/\n",
            "Collecting pandera\n",
            "  Downloading pandera-0.13.4-py3-none-any.whl (122 kB)\n",
            "\u001b[K     |████████████████████████████████| 122 kB 12.4 MB/s \n",
            "\u001b[?25hRequirement already satisfied: typing-extensions>=3.7.4.3 in /usr/local/lib/python3.7/dist-packages (from pandera) (4.1.1)\n",
            "Requirement already satisfied: pydantic in /usr/local/lib/python3.7/dist-packages (from pandera) (1.10.2)\n",
            "Requirement already satisfied: numpy>=1.19.0 in /usr/local/lib/python3.7/dist-packages (from pandera) (1.21.6)\n",
            "Requirement already satisfied: packaging>=20.0 in /usr/local/lib/python3.7/dist-packages (from pandera) (21.3)\n",
            "Requirement already satisfied: wrapt in /usr/local/lib/python3.7/dist-packages (from pandera) (1.14.1)\n",
            "Requirement already satisfied: pandas>=1.2.0 in /usr/local/lib/python3.7/dist-packages (from pandera) (1.3.5)\n",
            "Collecting typing-inspect>=0.6.0\n",
            "  Downloading typing_inspect-0.8.0-py3-none-any.whl (8.7 kB)\n",
            "Requirement already satisfied: pyparsing!=3.0.5,>=2.0.2 in /usr/local/lib/python3.7/dist-packages (from packaging>=20.0->pandera) (3.0.9)\n",
            "Requirement already satisfied: python-dateutil>=2.7.3 in /usr/local/lib/python3.7/dist-packages (from pandas>=1.2.0->pandera) (2.8.2)\n",
            "Requirement already satisfied: pytz>=2017.3 in /usr/local/lib/python3.7/dist-packages (from pandas>=1.2.0->pandera) (2022.6)\n",
            "Requirement already satisfied: six>=1.5 in /usr/local/lib/python3.7/dist-packages (from python-dateutil>=2.7.3->pandas>=1.2.0->pandera) (1.15.0)\n",
            "Collecting mypy-extensions>=0.3.0\n",
            "  Downloading mypy_extensions-0.4.3-py2.py3-none-any.whl (4.5 kB)\n",
            "Installing collected packages: mypy-extensions, typing-inspect, pandera\n",
            "Successfully installed mypy-extensions-0.4.3 pandera-0.13.4 typing-inspect-0.8.0\n"
          ]
        }
      ]
    },
    {
      "cell_type": "code",
      "execution_count": null,
      "metadata": {
        "id": "CV3MJNjyaQYG"
      },
      "outputs": [],
      "source": [
        "import pandas as pd\n",
        "import pandera as pa\n",
        "import numpy as np"
      ]
    },
    {
      "cell_type": "markdown",
      "source": [
        "#Extração das bases de dados"
      ],
      "metadata": {
        "id": "3poewfKRgOJP"
      }
    },
    {
      "cell_type": "code",
      "source": [
        "#direto do servidor alesp \n",
        "#df2 = pd.read_xml('https://storage.googleapis.com/bc26-bucket/alesp_desp.csv')"
      ],
      "metadata": {
        "id": "gt38NiOGrx_K"
      },
      "execution_count": null,
      "outputs": []
    },
    {
      "cell_type": "code",
      "source": [
        "#informações erradas\n",
        "df = pd.read_csv('https://storage.googleapis.com/pandas_26bc/cadastro_alesp.csv', sep = ',', encoding='ISO-8859-1' )\n",
        "df1 = pd.read_csv('https://storage.googleapis.com/pandas_26bc/despesa_alesp.csv', sep =',' )"
      ],
      "metadata": {
        "id": "mfahWVR5dYYD"
      },
      "execution_count": null,
      "outputs": []
    },
    {
      "cell_type": "code",
      "source": [
        "df.head(2)\n"
      ],
      "metadata": {
        "id": "JYOm2GxHgLLy",
        "colab": {
          "base_uri": "https://localhost:8080/",
          "height": 141
        },
        "outputId": "65edf817-0a8e-4105-bf4d-09dfbd5090ad"
      },
      "execution_count": null,
      "outputs": [
        {
          "output_type": "execute_result",
          "data": {
            "text/plain": [
              "   IdDeputado       IdSPL   IdUA Situacao      Andar  ...   Sala Partido  \\\n",
              "0         549  1000000330  20377      EXE  3Âº andar  ...    305    PSDB   \n",
              "1         548  1000000332  20370      EXE    TÃ©rreo  ...  T. 45    AGIR   \n",
              "\n",
              "                Telefone  Fax PlacaVeiculo  \n",
              "0  (11) 3886-6557 / 6559  NaN          NaN  \n",
              "1    (11) 3886-6567/8770  NaN          NaN  \n",
              "\n",
              "[2 rows x 16 columns]"
            ],
            "text/html": [
              "\n",
              "  <div id=\"df-200aaf1d-5402-4492-9d20-a2aca0c48de8\">\n",
              "    <div class=\"colab-df-container\">\n",
              "      <div>\n",
              "<style scoped>\n",
              "    .dataframe tbody tr th:only-of-type {\n",
              "        vertical-align: middle;\n",
              "    }\n",
              "\n",
              "    .dataframe tbody tr th {\n",
              "        vertical-align: top;\n",
              "    }\n",
              "\n",
              "    .dataframe thead th {\n",
              "        text-align: right;\n",
              "    }\n",
              "</style>\n",
              "<table border=\"1\" class=\"dataframe\">\n",
              "  <thead>\n",
              "    <tr style=\"text-align: right;\">\n",
              "      <th></th>\n",
              "      <th>IdDeputado</th>\n",
              "      <th>IdSPL</th>\n",
              "      <th>IdUA</th>\n",
              "      <th>Situacao</th>\n",
              "      <th>Andar</th>\n",
              "      <th>...</th>\n",
              "      <th>Sala</th>\n",
              "      <th>Partido</th>\n",
              "      <th>Telefone</th>\n",
              "      <th>Fax</th>\n",
              "      <th>PlacaVeiculo</th>\n",
              "    </tr>\n",
              "  </thead>\n",
              "  <tbody>\n",
              "    <tr>\n",
              "      <th>0</th>\n",
              "      <td>549</td>\n",
              "      <td>1000000330</td>\n",
              "      <td>20377</td>\n",
              "      <td>EXE</td>\n",
              "      <td>3Âº andar</td>\n",
              "      <td>...</td>\n",
              "      <td>305</td>\n",
              "      <td>PSDB</td>\n",
              "      <td>(11) 3886-6557 / 6559</td>\n",
              "      <td>NaN</td>\n",
              "      <td>NaN</td>\n",
              "    </tr>\n",
              "    <tr>\n",
              "      <th>1</th>\n",
              "      <td>548</td>\n",
              "      <td>1000000332</td>\n",
              "      <td>20370</td>\n",
              "      <td>EXE</td>\n",
              "      <td>TÃ©rreo</td>\n",
              "      <td>...</td>\n",
              "      <td>T. 45</td>\n",
              "      <td>AGIR</td>\n",
              "      <td>(11) 3886-6567/8770</td>\n",
              "      <td>NaN</td>\n",
              "      <td>NaN</td>\n",
              "    </tr>\n",
              "  </tbody>\n",
              "</table>\n",
              "<p>2 rows × 16 columns</p>\n",
              "</div>\n",
              "      <button class=\"colab-df-convert\" onclick=\"convertToInteractive('df-200aaf1d-5402-4492-9d20-a2aca0c48de8')\"\n",
              "              title=\"Convert this dataframe to an interactive table.\"\n",
              "              style=\"display:none;\">\n",
              "        \n",
              "  <svg xmlns=\"http://www.w3.org/2000/svg\" height=\"24px\"viewBox=\"0 0 24 24\"\n",
              "       width=\"24px\">\n",
              "    <path d=\"M0 0h24v24H0V0z\" fill=\"none\"/>\n",
              "    <path d=\"M18.56 5.44l.94 2.06.94-2.06 2.06-.94-2.06-.94-.94-2.06-.94 2.06-2.06.94zm-11 1L8.5 8.5l.94-2.06 2.06-.94-2.06-.94L8.5 2.5l-.94 2.06-2.06.94zm10 10l.94 2.06.94-2.06 2.06-.94-2.06-.94-.94-2.06-.94 2.06-2.06.94z\"/><path d=\"M17.41 7.96l-1.37-1.37c-.4-.4-.92-.59-1.43-.59-.52 0-1.04.2-1.43.59L10.3 9.45l-7.72 7.72c-.78.78-.78 2.05 0 2.83L4 21.41c.39.39.9.59 1.41.59.51 0 1.02-.2 1.41-.59l7.78-7.78 2.81-2.81c.8-.78.8-2.07 0-2.86zM5.41 20L4 18.59l7.72-7.72 1.47 1.35L5.41 20z\"/>\n",
              "  </svg>\n",
              "      </button>\n",
              "      \n",
              "  <style>\n",
              "    .colab-df-container {\n",
              "      display:flex;\n",
              "      flex-wrap:wrap;\n",
              "      gap: 12px;\n",
              "    }\n",
              "\n",
              "    .colab-df-convert {\n",
              "      background-color: #E8F0FE;\n",
              "      border: none;\n",
              "      border-radius: 50%;\n",
              "      cursor: pointer;\n",
              "      display: none;\n",
              "      fill: #1967D2;\n",
              "      height: 32px;\n",
              "      padding: 0 0 0 0;\n",
              "      width: 32px;\n",
              "    }\n",
              "\n",
              "    .colab-df-convert:hover {\n",
              "      background-color: #E2EBFA;\n",
              "      box-shadow: 0px 1px 2px rgba(60, 64, 67, 0.3), 0px 1px 3px 1px rgba(60, 64, 67, 0.15);\n",
              "      fill: #174EA6;\n",
              "    }\n",
              "\n",
              "    [theme=dark] .colab-df-convert {\n",
              "      background-color: #3B4455;\n",
              "      fill: #D2E3FC;\n",
              "    }\n",
              "\n",
              "    [theme=dark] .colab-df-convert:hover {\n",
              "      background-color: #434B5C;\n",
              "      box-shadow: 0px 1px 3px 1px rgba(0, 0, 0, 0.15);\n",
              "      filter: drop-shadow(0px 1px 2px rgba(0, 0, 0, 0.3));\n",
              "      fill: #FFFFFF;\n",
              "    }\n",
              "  </style>\n",
              "\n",
              "      <script>\n",
              "        const buttonEl =\n",
              "          document.querySelector('#df-200aaf1d-5402-4492-9d20-a2aca0c48de8 button.colab-df-convert');\n",
              "        buttonEl.style.display =\n",
              "          google.colab.kernel.accessAllowed ? 'block' : 'none';\n",
              "\n",
              "        async function convertToInteractive(key) {\n",
              "          const element = document.querySelector('#df-200aaf1d-5402-4492-9d20-a2aca0c48de8');\n",
              "          const dataTable =\n",
              "            await google.colab.kernel.invokeFunction('convertToInteractive',\n",
              "                                                     [key], {});\n",
              "          if (!dataTable) return;\n",
              "\n",
              "          const docLinkHtml = 'Like what you see? Visit the ' +\n",
              "            '<a target=\"_blank\" href=https://colab.research.google.com/notebooks/data_table.ipynb>data table notebook</a>'\n",
              "            + ' to learn more about interactive tables.';\n",
              "          element.innerHTML = '';\n",
              "          dataTable['output_type'] = 'display_data';\n",
              "          await google.colab.output.renderOutput(dataTable, element);\n",
              "          const docLink = document.createElement('div');\n",
              "          docLink.innerHTML = docLinkHtml;\n",
              "          element.appendChild(docLink);\n",
              "        }\n",
              "      </script>\n",
              "    </div>\n",
              "  </div>\n",
              "  "
            ]
          },
          "metadata": {},
          "execution_count": 72
        }
      ]
    },
    {
      "cell_type": "code",
      "source": [
        "#"
      ],
      "metadata": {
        "id": "eNs_3m_zGsZi"
      },
      "execution_count": null,
      "outputs": []
    },
    {
      "cell_type": "code",
      "source": [
        "df1.head(2)"
      ],
      "metadata": {
        "colab": {
          "base_uri": "https://localhost:8080/",
          "height": 112
        },
        "id": "_AHuFtiGTcLm",
        "outputId": "ba125e32-41e9-4ccd-e50b-bf9a26b80717"
      },
      "execution_count": null,
      "outputs": [
        {
          "output_type": "execute_result",
          "data": {
            "text/plain": [
              "    Ano  Matricula  Mes    Valor          CNPJ  \\\n",
              "0  2013     300098    1   575.53  5.049700e+11   \n",
              "1  2013     300098    1  1650.76  4.881450e+13   \n",
              "\n",
              "                               Tipo                Fornecedor  \n",
              "0  A - COMBUSTÍVEIS E LUBRIFICANTES   AUTO POSTO VANUTRE LTDA  \n",
              "1  A - COMBUSTÍVEIS E LUBRIFICANTES  S.D.LUIZARI & CIA. LTDA.  "
            ],
            "text/html": [
              "\n",
              "  <div id=\"df-27eedc36-8a9d-41b2-b70b-c28115a3313a\">\n",
              "    <div class=\"colab-df-container\">\n",
              "      <div>\n",
              "<style scoped>\n",
              "    .dataframe tbody tr th:only-of-type {\n",
              "        vertical-align: middle;\n",
              "    }\n",
              "\n",
              "    .dataframe tbody tr th {\n",
              "        vertical-align: top;\n",
              "    }\n",
              "\n",
              "    .dataframe thead th {\n",
              "        text-align: right;\n",
              "    }\n",
              "</style>\n",
              "<table border=\"1\" class=\"dataframe\">\n",
              "  <thead>\n",
              "    <tr style=\"text-align: right;\">\n",
              "      <th></th>\n",
              "      <th>Ano</th>\n",
              "      <th>Matricula</th>\n",
              "      <th>Mes</th>\n",
              "      <th>Valor</th>\n",
              "      <th>CNPJ</th>\n",
              "      <th>Tipo</th>\n",
              "      <th>Fornecedor</th>\n",
              "    </tr>\n",
              "  </thead>\n",
              "  <tbody>\n",
              "    <tr>\n",
              "      <th>0</th>\n",
              "      <td>2013</td>\n",
              "      <td>300098</td>\n",
              "      <td>1</td>\n",
              "      <td>575.53</td>\n",
              "      <td>5.049700e+11</td>\n",
              "      <td>A - COMBUSTÍVEIS E LUBRIFICANTES</td>\n",
              "      <td>AUTO POSTO VANUTRE LTDA</td>\n",
              "    </tr>\n",
              "    <tr>\n",
              "      <th>1</th>\n",
              "      <td>2013</td>\n",
              "      <td>300098</td>\n",
              "      <td>1</td>\n",
              "      <td>1650.76</td>\n",
              "      <td>4.881450e+13</td>\n",
              "      <td>A - COMBUSTÍVEIS E LUBRIFICANTES</td>\n",
              "      <td>S.D.LUIZARI &amp; CIA. LTDA.</td>\n",
              "    </tr>\n",
              "  </tbody>\n",
              "</table>\n",
              "</div>\n",
              "      <button class=\"colab-df-convert\" onclick=\"convertToInteractive('df-27eedc36-8a9d-41b2-b70b-c28115a3313a')\"\n",
              "              title=\"Convert this dataframe to an interactive table.\"\n",
              "              style=\"display:none;\">\n",
              "        \n",
              "  <svg xmlns=\"http://www.w3.org/2000/svg\" height=\"24px\"viewBox=\"0 0 24 24\"\n",
              "       width=\"24px\">\n",
              "    <path d=\"M0 0h24v24H0V0z\" fill=\"none\"/>\n",
              "    <path d=\"M18.56 5.44l.94 2.06.94-2.06 2.06-.94-2.06-.94-.94-2.06-.94 2.06-2.06.94zm-11 1L8.5 8.5l.94-2.06 2.06-.94-2.06-.94L8.5 2.5l-.94 2.06-2.06.94zm10 10l.94 2.06.94-2.06 2.06-.94-2.06-.94-.94-2.06-.94 2.06-2.06.94z\"/><path d=\"M17.41 7.96l-1.37-1.37c-.4-.4-.92-.59-1.43-.59-.52 0-1.04.2-1.43.59L10.3 9.45l-7.72 7.72c-.78.78-.78 2.05 0 2.83L4 21.41c.39.39.9.59 1.41.59.51 0 1.02-.2 1.41-.59l7.78-7.78 2.81-2.81c.8-.78.8-2.07 0-2.86zM5.41 20L4 18.59l7.72-7.72 1.47 1.35L5.41 20z\"/>\n",
              "  </svg>\n",
              "      </button>\n",
              "      \n",
              "  <style>\n",
              "    .colab-df-container {\n",
              "      display:flex;\n",
              "      flex-wrap:wrap;\n",
              "      gap: 12px;\n",
              "    }\n",
              "\n",
              "    .colab-df-convert {\n",
              "      background-color: #E8F0FE;\n",
              "      border: none;\n",
              "      border-radius: 50%;\n",
              "      cursor: pointer;\n",
              "      display: none;\n",
              "      fill: #1967D2;\n",
              "      height: 32px;\n",
              "      padding: 0 0 0 0;\n",
              "      width: 32px;\n",
              "    }\n",
              "\n",
              "    .colab-df-convert:hover {\n",
              "      background-color: #E2EBFA;\n",
              "      box-shadow: 0px 1px 2px rgba(60, 64, 67, 0.3), 0px 1px 3px 1px rgba(60, 64, 67, 0.15);\n",
              "      fill: #174EA6;\n",
              "    }\n",
              "\n",
              "    [theme=dark] .colab-df-convert {\n",
              "      background-color: #3B4455;\n",
              "      fill: #D2E3FC;\n",
              "    }\n",
              "\n",
              "    [theme=dark] .colab-df-convert:hover {\n",
              "      background-color: #434B5C;\n",
              "      box-shadow: 0px 1px 3px 1px rgba(0, 0, 0, 0.15);\n",
              "      filter: drop-shadow(0px 1px 2px rgba(0, 0, 0, 0.3));\n",
              "      fill: #FFFFFF;\n",
              "    }\n",
              "  </style>\n",
              "\n",
              "      <script>\n",
              "        const buttonEl =\n",
              "          document.querySelector('#df-27eedc36-8a9d-41b2-b70b-c28115a3313a button.colab-df-convert');\n",
              "        buttonEl.style.display =\n",
              "          google.colab.kernel.accessAllowed ? 'block' : 'none';\n",
              "\n",
              "        async function convertToInteractive(key) {\n",
              "          const element = document.querySelector('#df-27eedc36-8a9d-41b2-b70b-c28115a3313a');\n",
              "          const dataTable =\n",
              "            await google.colab.kernel.invokeFunction('convertToInteractive',\n",
              "                                                     [key], {});\n",
              "          if (!dataTable) return;\n",
              "\n",
              "          const docLinkHtml = 'Like what you see? Visit the ' +\n",
              "            '<a target=\"_blank\" href=https://colab.research.google.com/notebooks/data_table.ipynb>data table notebook</a>'\n",
              "            + ' to learn more about interactive tables.';\n",
              "          element.innerHTML = '';\n",
              "          dataTable['output_type'] = 'display_data';\n",
              "          await google.colab.output.renderOutput(dataTable, element);\n",
              "          const docLink = document.createElement('div');\n",
              "          docLink.innerHTML = docLinkHtml;\n",
              "          element.appendChild(docLink);\n",
              "        }\n",
              "      </script>\n",
              "    </div>\n",
              "  </div>\n",
              "  "
            ]
          },
          "metadata": {},
          "execution_count": 25
        }
      ]
    },
    {
      "cell_type": "markdown",
      "source": [
        "# Backup"
      ],
      "metadata": {
        "id": "6GKgUvqXZRkZ"
      }
    },
    {
      "cell_type": "code",
      "source": [
        "dfback = df.copy()\n",
        "df1 = df1.copy()"
      ],
      "metadata": {
        "id": "9ag0VYavZnZI"
      },
      "execution_count": null,
      "outputs": []
    },
    {
      "cell_type": "markdown",
      "source": [
        "# RENOMEAR"
      ],
      "metadata": {
        "id": "jmaQglSWUHoJ"
      }
    },
    {
      "cell_type": "code",
      "source": [
        "#renomear as colunas\n",
        "df.rename(columns={'IdDeputado':'iddeputado', 'IdSPL':'idspl','IdUA':'idua', 'Situacao':'situacao','Andar':'andar', 'Aniversario':'aniversario', 'Biografia':'biografia', 'Email': 'email', 'Matricula':'matricula', 'NomeParlamentar' : 'nomeparlamentar', 'PlacaVeiculo': 'placaeiculo', 'Fax': 'fax', 'Telefone':'telefone','Partido': 'partido', 'Sala':'sala', 'PathFoto':'pathfoto'}, inplace=True)\n",
        "df1.rename(columns={'Ano': 'ano', 'Matricula':'matricula', 'Mes' :'mes', 'Valor':'valor', 'CNPJ':'cnpj', 'Tipo': 'tipo','Fornecedor':'fornecedor'}, inplace=True)"
      ],
      "metadata": {
        "id": "HX5CrpQBiNyH"
      },
      "execution_count": null,
      "outputs": []
    },
    {
      "cell_type": "code",
      "source": [
        "df.head(2)"
      ],
      "metadata": {
        "colab": {
          "base_uri": "https://localhost:8080/",
          "height": 141
        },
        "id": "FCe7eckdUF5V",
        "outputId": "2e856161-f370-4389-9aa1-4e59c732f897"
      },
      "execution_count": null,
      "outputs": [
        {
          "output_type": "execute_result",
          "data": {
            "text/plain": [
              "   iddeputado       idspl   idua situacao      andar  ...   sala partido  \\\n",
              "0         549  1000000330  20377      EXE  3Âº andar  ...    305    PSDB   \n",
              "1         548  1000000332  20370      EXE    TÃ©rreo  ...  T. 45    AGIR   \n",
              "\n",
              "                telefone  fax placaeiculo  \n",
              "0  (11) 3886-6557 / 6559  NaN         NaN  \n",
              "1    (11) 3886-6567/8770  NaN         NaN  \n",
              "\n",
              "[2 rows x 16 columns]"
            ],
            "text/html": [
              "\n",
              "  <div id=\"df-1cfee284-5a68-4ae6-9905-8976e286cf3b\">\n",
              "    <div class=\"colab-df-container\">\n",
              "      <div>\n",
              "<style scoped>\n",
              "    .dataframe tbody tr th:only-of-type {\n",
              "        vertical-align: middle;\n",
              "    }\n",
              "\n",
              "    .dataframe tbody tr th {\n",
              "        vertical-align: top;\n",
              "    }\n",
              "\n",
              "    .dataframe thead th {\n",
              "        text-align: right;\n",
              "    }\n",
              "</style>\n",
              "<table border=\"1\" class=\"dataframe\">\n",
              "  <thead>\n",
              "    <tr style=\"text-align: right;\">\n",
              "      <th></th>\n",
              "      <th>iddeputado</th>\n",
              "      <th>idspl</th>\n",
              "      <th>idua</th>\n",
              "      <th>situacao</th>\n",
              "      <th>andar</th>\n",
              "      <th>...</th>\n",
              "      <th>sala</th>\n",
              "      <th>partido</th>\n",
              "      <th>telefone</th>\n",
              "      <th>fax</th>\n",
              "      <th>placaeiculo</th>\n",
              "    </tr>\n",
              "  </thead>\n",
              "  <tbody>\n",
              "    <tr>\n",
              "      <th>0</th>\n",
              "      <td>549</td>\n",
              "      <td>1000000330</td>\n",
              "      <td>20377</td>\n",
              "      <td>EXE</td>\n",
              "      <td>3Âº andar</td>\n",
              "      <td>...</td>\n",
              "      <td>305</td>\n",
              "      <td>PSDB</td>\n",
              "      <td>(11) 3886-6557 / 6559</td>\n",
              "      <td>NaN</td>\n",
              "      <td>NaN</td>\n",
              "    </tr>\n",
              "    <tr>\n",
              "      <th>1</th>\n",
              "      <td>548</td>\n",
              "      <td>1000000332</td>\n",
              "      <td>20370</td>\n",
              "      <td>EXE</td>\n",
              "      <td>TÃ©rreo</td>\n",
              "      <td>...</td>\n",
              "      <td>T. 45</td>\n",
              "      <td>AGIR</td>\n",
              "      <td>(11) 3886-6567/8770</td>\n",
              "      <td>NaN</td>\n",
              "      <td>NaN</td>\n",
              "    </tr>\n",
              "  </tbody>\n",
              "</table>\n",
              "<p>2 rows × 16 columns</p>\n",
              "</div>\n",
              "      <button class=\"colab-df-convert\" onclick=\"convertToInteractive('df-1cfee284-5a68-4ae6-9905-8976e286cf3b')\"\n",
              "              title=\"Convert this dataframe to an interactive table.\"\n",
              "              style=\"display:none;\">\n",
              "        \n",
              "  <svg xmlns=\"http://www.w3.org/2000/svg\" height=\"24px\"viewBox=\"0 0 24 24\"\n",
              "       width=\"24px\">\n",
              "    <path d=\"M0 0h24v24H0V0z\" fill=\"none\"/>\n",
              "    <path d=\"M18.56 5.44l.94 2.06.94-2.06 2.06-.94-2.06-.94-.94-2.06-.94 2.06-2.06.94zm-11 1L8.5 8.5l.94-2.06 2.06-.94-2.06-.94L8.5 2.5l-.94 2.06-2.06.94zm10 10l.94 2.06.94-2.06 2.06-.94-2.06-.94-.94-2.06-.94 2.06-2.06.94z\"/><path d=\"M17.41 7.96l-1.37-1.37c-.4-.4-.92-.59-1.43-.59-.52 0-1.04.2-1.43.59L10.3 9.45l-7.72 7.72c-.78.78-.78 2.05 0 2.83L4 21.41c.39.39.9.59 1.41.59.51 0 1.02-.2 1.41-.59l7.78-7.78 2.81-2.81c.8-.78.8-2.07 0-2.86zM5.41 20L4 18.59l7.72-7.72 1.47 1.35L5.41 20z\"/>\n",
              "  </svg>\n",
              "      </button>\n",
              "      \n",
              "  <style>\n",
              "    .colab-df-container {\n",
              "      display:flex;\n",
              "      flex-wrap:wrap;\n",
              "      gap: 12px;\n",
              "    }\n",
              "\n",
              "    .colab-df-convert {\n",
              "      background-color: #E8F0FE;\n",
              "      border: none;\n",
              "      border-radius: 50%;\n",
              "      cursor: pointer;\n",
              "      display: none;\n",
              "      fill: #1967D2;\n",
              "      height: 32px;\n",
              "      padding: 0 0 0 0;\n",
              "      width: 32px;\n",
              "    }\n",
              "\n",
              "    .colab-df-convert:hover {\n",
              "      background-color: #E2EBFA;\n",
              "      box-shadow: 0px 1px 2px rgba(60, 64, 67, 0.3), 0px 1px 3px 1px rgba(60, 64, 67, 0.15);\n",
              "      fill: #174EA6;\n",
              "    }\n",
              "\n",
              "    [theme=dark] .colab-df-convert {\n",
              "      background-color: #3B4455;\n",
              "      fill: #D2E3FC;\n",
              "    }\n",
              "\n",
              "    [theme=dark] .colab-df-convert:hover {\n",
              "      background-color: #434B5C;\n",
              "      box-shadow: 0px 1px 3px 1px rgba(0, 0, 0, 0.15);\n",
              "      filter: drop-shadow(0px 1px 2px rgba(0, 0, 0, 0.3));\n",
              "      fill: #FFFFFF;\n",
              "    }\n",
              "  </style>\n",
              "\n",
              "      <script>\n",
              "        const buttonEl =\n",
              "          document.querySelector('#df-1cfee284-5a68-4ae6-9905-8976e286cf3b button.colab-df-convert');\n",
              "        buttonEl.style.display =\n",
              "          google.colab.kernel.accessAllowed ? 'block' : 'none';\n",
              "\n",
              "        async function convertToInteractive(key) {\n",
              "          const element = document.querySelector('#df-1cfee284-5a68-4ae6-9905-8976e286cf3b');\n",
              "          const dataTable =\n",
              "            await google.colab.kernel.invokeFunction('convertToInteractive',\n",
              "                                                     [key], {});\n",
              "          if (!dataTable) return;\n",
              "\n",
              "          const docLinkHtml = 'Like what you see? Visit the ' +\n",
              "            '<a target=\"_blank\" href=https://colab.research.google.com/notebooks/data_table.ipynb>data table notebook</a>'\n",
              "            + ' to learn more about interactive tables.';\n",
              "          element.innerHTML = '';\n",
              "          dataTable['output_type'] = 'display_data';\n",
              "          await google.colab.output.renderOutput(dataTable, element);\n",
              "          const docLink = document.createElement('div');\n",
              "          docLink.innerHTML = docLinkHtml;\n",
              "          element.appendChild(docLink);\n",
              "        }\n",
              "      </script>\n",
              "    </div>\n",
              "  </div>\n",
              "  "
            ]
          },
          "metadata": {},
          "execution_count": 82
        }
      ]
    },
    {
      "cell_type": "code",
      "source": [
        "df1.head(2)"
      ],
      "metadata": {
        "colab": {
          "base_uri": "https://localhost:8080/",
          "height": 112
        },
        "id": "5o4V8PxWag2b",
        "outputId": "a0ec776f-880b-4a15-96e8-c742975e375d"
      },
      "execution_count": null,
      "outputs": [
        {
          "output_type": "execute_result",
          "data": {
            "text/plain": [
              "    ano  matricula  mes    valor          cnpj  \\\n",
              "0  2013     300098    1   575.53  5.049700e+11   \n",
              "1  2013     300098    1  1650.76  4.881450e+13   \n",
              "\n",
              "                               tipo                fornecedor  \n",
              "0  A - COMBUSTÍVEIS E LUBRIFICANTES   AUTO POSTO VANUTRE LTDA  \n",
              "1  A - COMBUSTÍVEIS E LUBRIFICANTES  S.D.LUIZARI & CIA. LTDA.  "
            ],
            "text/html": [
              "\n",
              "  <div id=\"df-520b6fd2-e5ee-4cbd-98fc-f9b30dbddbb7\">\n",
              "    <div class=\"colab-df-container\">\n",
              "      <div>\n",
              "<style scoped>\n",
              "    .dataframe tbody tr th:only-of-type {\n",
              "        vertical-align: middle;\n",
              "    }\n",
              "\n",
              "    .dataframe tbody tr th {\n",
              "        vertical-align: top;\n",
              "    }\n",
              "\n",
              "    .dataframe thead th {\n",
              "        text-align: right;\n",
              "    }\n",
              "</style>\n",
              "<table border=\"1\" class=\"dataframe\">\n",
              "  <thead>\n",
              "    <tr style=\"text-align: right;\">\n",
              "      <th></th>\n",
              "      <th>ano</th>\n",
              "      <th>matricula</th>\n",
              "      <th>mes</th>\n",
              "      <th>valor</th>\n",
              "      <th>cnpj</th>\n",
              "      <th>tipo</th>\n",
              "      <th>fornecedor</th>\n",
              "    </tr>\n",
              "  </thead>\n",
              "  <tbody>\n",
              "    <tr>\n",
              "      <th>0</th>\n",
              "      <td>2013</td>\n",
              "      <td>300098</td>\n",
              "      <td>1</td>\n",
              "      <td>575.53</td>\n",
              "      <td>5.049700e+11</td>\n",
              "      <td>A - COMBUSTÍVEIS E LUBRIFICANTES</td>\n",
              "      <td>AUTO POSTO VANUTRE LTDA</td>\n",
              "    </tr>\n",
              "    <tr>\n",
              "      <th>1</th>\n",
              "      <td>2013</td>\n",
              "      <td>300098</td>\n",
              "      <td>1</td>\n",
              "      <td>1650.76</td>\n",
              "      <td>4.881450e+13</td>\n",
              "      <td>A - COMBUSTÍVEIS E LUBRIFICANTES</td>\n",
              "      <td>S.D.LUIZARI &amp; CIA. LTDA.</td>\n",
              "    </tr>\n",
              "  </tbody>\n",
              "</table>\n",
              "</div>\n",
              "      <button class=\"colab-df-convert\" onclick=\"convertToInteractive('df-520b6fd2-e5ee-4cbd-98fc-f9b30dbddbb7')\"\n",
              "              title=\"Convert this dataframe to an interactive table.\"\n",
              "              style=\"display:none;\">\n",
              "        \n",
              "  <svg xmlns=\"http://www.w3.org/2000/svg\" height=\"24px\"viewBox=\"0 0 24 24\"\n",
              "       width=\"24px\">\n",
              "    <path d=\"M0 0h24v24H0V0z\" fill=\"none\"/>\n",
              "    <path d=\"M18.56 5.44l.94 2.06.94-2.06 2.06-.94-2.06-.94-.94-2.06-.94 2.06-2.06.94zm-11 1L8.5 8.5l.94-2.06 2.06-.94-2.06-.94L8.5 2.5l-.94 2.06-2.06.94zm10 10l.94 2.06.94-2.06 2.06-.94-2.06-.94-.94-2.06-.94 2.06-2.06.94z\"/><path d=\"M17.41 7.96l-1.37-1.37c-.4-.4-.92-.59-1.43-.59-.52 0-1.04.2-1.43.59L10.3 9.45l-7.72 7.72c-.78.78-.78 2.05 0 2.83L4 21.41c.39.39.9.59 1.41.59.51 0 1.02-.2 1.41-.59l7.78-7.78 2.81-2.81c.8-.78.8-2.07 0-2.86zM5.41 20L4 18.59l7.72-7.72 1.47 1.35L5.41 20z\"/>\n",
              "  </svg>\n",
              "      </button>\n",
              "      \n",
              "  <style>\n",
              "    .colab-df-container {\n",
              "      display:flex;\n",
              "      flex-wrap:wrap;\n",
              "      gap: 12px;\n",
              "    }\n",
              "\n",
              "    .colab-df-convert {\n",
              "      background-color: #E8F0FE;\n",
              "      border: none;\n",
              "      border-radius: 50%;\n",
              "      cursor: pointer;\n",
              "      display: none;\n",
              "      fill: #1967D2;\n",
              "      height: 32px;\n",
              "      padding: 0 0 0 0;\n",
              "      width: 32px;\n",
              "    }\n",
              "\n",
              "    .colab-df-convert:hover {\n",
              "      background-color: #E2EBFA;\n",
              "      box-shadow: 0px 1px 2px rgba(60, 64, 67, 0.3), 0px 1px 3px 1px rgba(60, 64, 67, 0.15);\n",
              "      fill: #174EA6;\n",
              "    }\n",
              "\n",
              "    [theme=dark] .colab-df-convert {\n",
              "      background-color: #3B4455;\n",
              "      fill: #D2E3FC;\n",
              "    }\n",
              "\n",
              "    [theme=dark] .colab-df-convert:hover {\n",
              "      background-color: #434B5C;\n",
              "      box-shadow: 0px 1px 3px 1px rgba(0, 0, 0, 0.15);\n",
              "      filter: drop-shadow(0px 1px 2px rgba(0, 0, 0, 0.3));\n",
              "      fill: #FFFFFF;\n",
              "    }\n",
              "  </style>\n",
              "\n",
              "      <script>\n",
              "        const buttonEl =\n",
              "          document.querySelector('#df-520b6fd2-e5ee-4cbd-98fc-f9b30dbddbb7 button.colab-df-convert');\n",
              "        buttonEl.style.display =\n",
              "          google.colab.kernel.accessAllowed ? 'block' : 'none';\n",
              "\n",
              "        async function convertToInteractive(key) {\n",
              "          const element = document.querySelector('#df-520b6fd2-e5ee-4cbd-98fc-f9b30dbddbb7');\n",
              "          const dataTable =\n",
              "            await google.colab.kernel.invokeFunction('convertToInteractive',\n",
              "                                                     [key], {});\n",
              "          if (!dataTable) return;\n",
              "\n",
              "          const docLinkHtml = 'Like what you see? Visit the ' +\n",
              "            '<a target=\"_blank\" href=https://colab.research.google.com/notebooks/data_table.ipynb>data table notebook</a>'\n",
              "            + ' to learn more about interactive tables.';\n",
              "          element.innerHTML = '';\n",
              "          dataTable['output_type'] = 'display_data';\n",
              "          await google.colab.output.renderOutput(dataTable, element);\n",
              "          const docLink = document.createElement('div');\n",
              "          docLink.innerHTML = docLinkHtml;\n",
              "          element.appendChild(docLink);\n",
              "        }\n",
              "      </script>\n",
              "    </div>\n",
              "  </div>\n",
              "  "
            ]
          },
          "metadata": {},
          "execution_count": 101
        }
      ]
    },
    {
      "cell_type": "markdown",
      "source": [
        "# Verificador de letras em numeros"
      ],
      "metadata": {
        "id": "_sCWJoaRA5cG"
      }
    },
    {
      "cell_type": "code",
      "source": [
        "df1.replace(pd.Na,0,inplace=True)"
      ],
      "metadata": {
        "id": "XrYMX269HJvf"
      },
      "execution_count": null,
      "outputs": []
    },
    {
      "cell_type": "code",
      "source": [
        "df1.dtypes"
      ],
      "metadata": {
        "colab": {
          "base_uri": "https://localhost:8080/"
        },
        "id": "a4xnW39DFxYU",
        "outputId": "35b4aad3-66b1-4eee-d29a-550236e52437"
      },
      "execution_count": null,
      "outputs": [
        {
          "output_type": "execute_result",
          "data": {
            "text/plain": [
              "ano             int64\n",
              "matricula       int64\n",
              "mes             int64\n",
              "valor         float64\n",
              "cnpj          float64\n",
              "tipo           object\n",
              "fornecedor     object\n",
              "dtype: object"
            ]
          },
          "metadata": {},
          "execution_count": 102
        }
      ]
    },
    {
      "cell_type": "code",
      "source": [
        "valores_estranhos = []\n",
        "for i in range(len(df1)):\n",
        "  try:\n",
        "    int(df1.loc[i ,'cnpj'])\n",
        "  except Exception:\n",
        "    valores_estranhos.append(df1.loc[i , 'cnpj'])\n",
        "print(valores_estranhos)"
      ],
      "metadata": {
        "colab": {
          "base_uri": "https://localhost:8080/"
        },
        "id": "KOQ-xIWPBEjc",
        "outputId": "35e72370-6bf5-4366-9a94-48352ae129be"
      },
      "execution_count": null,
      "outputs": [
        {
          "output_type": "stream",
          "name": "stdout",
          "text": [
            "[nan, nan, nan, nan, nan, nan, nan, nan, nan, nan, nan, nan, nan, nan, nan, nan, nan, nan, nan, nan, nan, nan, nan, nan, nan, nan, nan, nan, nan, nan, nan, nan, nan, nan, nan, nan, nan, nan, nan, nan, nan, nan, nan, nan, nan, nan, nan, nan, nan, nan, nan, nan, nan, nan, nan, nan, nan, nan, nan, nan, nan, nan, nan, nan, nan, nan, nan, nan, nan, nan, nan, nan, nan, nan, nan, nan, nan, nan, nan, nan, nan, nan, nan, nan, nan, nan, nan, nan, nan, nan, nan, nan, nan, nan, nan, nan, nan, nan, nan, nan, nan, nan, nan, nan, nan, nan, nan, nan, nan, nan, nan, nan, nan, nan, nan, nan, nan, nan, nan, nan, nan, nan, nan, nan, nan, nan, nan, nan, nan, nan, nan, nan, nan, nan, nan, nan, nan, nan, nan, nan, nan, nan, nan, nan, nan, nan, nan, nan, nan, nan, nan, nan, nan, nan, nan, nan, nan, nan, nan, nan, nan, nan, nan, nan, nan, nan, nan, nan, nan, nan, nan, nan, nan, nan, nan, nan, nan, nan, nan, nan, nan, nan, nan, nan, nan, nan, nan, nan, nan, nan, nan, nan, nan, nan, nan, nan, nan, nan, nan, nan, nan, nan, nan, nan, nan, nan, nan, nan, nan, nan, nan, nan, nan, nan, nan, nan, nan, nan, nan, nan, nan, nan, nan, nan, nan, nan, nan, nan, nan, nan, nan, nan, nan, nan, nan, nan, nan, nan, nan, nan, nan, nan, nan, nan, nan, nan, nan, nan, nan, nan, nan, nan, nan, nan, nan, nan, nan, nan, nan, nan, nan, nan, nan, nan, nan, nan, nan, nan, nan, nan, nan, nan, nan, nan, nan, nan, nan, nan, nan, nan, nan, nan, nan, nan, nan, nan, nan, nan, nan, nan, nan, nan, nan, nan, nan, nan, nan, nan, nan, nan, nan, nan, nan, nan, nan, nan, nan, nan, nan, nan, nan, nan, nan, nan, nan, nan, nan, nan, nan, nan, nan, nan, nan, nan, nan, nan, nan, nan, nan, nan, nan, nan, nan, nan, nan, nan, nan, nan, nan, nan, nan, nan, nan, nan, nan, nan, nan, nan, nan, nan, nan, nan, nan, nan, nan, nan, nan, nan, nan, nan, nan, nan, nan, nan, nan, nan, nan, nan, nan, nan, nan, nan, nan, nan, nan, nan, nan, nan, nan, nan, nan, nan, nan, nan, nan, nan, nan, nan, nan, nan, nan, nan, nan, nan, nan, nan, nan, nan, nan, nan, nan, nan, nan, nan, nan, nan, nan, nan, nan, nan, nan, nan, nan, nan, nan, nan, nan, nan, nan, nan, nan, nan, nan, nan, nan, nan, nan, nan, nan, nan, nan, nan, nan, nan, nan, nan, nan, nan, nan, nan, nan, nan, nan, nan, nan, nan, nan, nan, nan, nan, nan, nan, nan, nan, nan, nan, nan, nan, nan, nan, nan, nan, nan, nan, nan, nan, nan, nan, nan, nan, nan, nan, nan, nan, nan, nan, nan, nan, nan, nan, nan, nan, nan, nan, nan, nan, nan, nan, nan, nan, nan, nan, nan, nan, nan, nan, nan, nan, nan, nan, nan, nan, nan, nan, nan, nan, nan, nan, nan, nan, nan, nan, nan, nan, nan, nan, nan, nan, nan, nan, nan, nan, nan, nan, nan, nan, nan, nan, nan, nan, nan, nan, nan, nan, nan, nan, nan, nan, nan, nan, nan, nan, nan, nan, nan, nan, nan, nan, nan, nan, nan, nan, nan, nan, nan, nan, nan, nan, nan, nan, nan, nan, nan, nan, nan, nan, nan, nan, nan, nan, nan, nan, nan, nan, nan, nan, nan, nan, nan, nan, nan, nan, nan, nan, nan, nan, nan, nan, nan, nan, nan, nan, nan, nan, nan, nan, nan, nan, nan, nan, nan, nan, nan, nan, nan, nan, nan, nan, nan, nan, nan, nan, nan, nan, nan, nan, nan, nan, nan, nan, nan, nan, nan, nan, nan, nan, nan, nan, nan, nan, nan, nan, nan, nan, nan, nan, nan, nan, nan, nan, nan, nan, nan, nan, nan, nan, nan, nan, nan, nan, nan, nan, nan, nan, nan, nan, nan, nan, nan, nan, nan, nan, nan, nan, nan, nan, nan, nan, nan, nan, nan, nan, nan, nan, nan, nan, nan, nan, nan, nan, nan, nan, nan, nan, nan, nan, nan, nan, nan, nan, nan, nan, nan, nan, nan, nan, nan, nan, nan, nan, nan, nan, nan, nan, nan, nan, nan, nan, nan, nan, nan, nan, nan, nan, nan, nan, nan, nan, nan, nan, nan, nan, nan, nan, nan, nan, nan, nan, nan, nan, nan, nan, nan, nan, nan, nan, nan, nan, nan, nan, nan, nan, nan, nan, nan, nan, nan, nan, nan, nan, nan, nan, nan, nan, nan, nan, nan, nan, nan, nan, nan, nan, nan, nan, nan, nan, nan, nan, nan, nan, nan, nan, nan, nan, nan, nan, nan, nan, nan, nan, nan, nan, nan, nan, nan, nan, nan, nan, nan, nan, nan, nan, nan, nan, nan, nan, nan, nan, nan, nan, nan, nan, nan, nan, nan, nan, nan, nan, nan, nan, nan, nan, nan, nan, nan, nan, nan, nan, nan, nan, nan, nan, nan, nan, nan, nan, nan, nan, nan, nan, nan, nan, nan, nan, nan, nan, nan, nan, nan, nan, nan, nan, nan, nan, nan, nan, nan, nan, nan, nan, nan, nan, nan, nan, nan, nan, nan, nan, nan, nan, nan, nan, nan, nan, nan, nan, nan, nan, nan, nan, nan, nan, nan, nan, nan, nan, nan, nan, nan, nan, nan, nan, nan, nan, nan, nan, nan, nan, nan, nan, nan, nan, nan, nan, nan, nan, nan, nan, nan, nan, nan, nan, nan, nan, nan, nan, nan, nan, nan, nan, nan, nan, nan, nan, nan, nan, nan, nan, nan, nan, nan, nan, nan, nan, nan, nan, nan, nan, nan, nan, nan, nan, nan, nan, nan, nan, nan, nan, nan, nan, nan, nan, nan, nan, nan, nan, nan, nan, nan, nan, nan, nan, nan, nan, nan, nan, nan, nan, nan, nan, nan, nan, nan, nan, nan, nan, nan, nan, nan, nan, nan, nan, nan, nan, nan, nan, nan, nan, nan, nan, nan, nan, nan, nan, nan, nan, nan, nan, nan, nan, nan, nan, nan, nan, nan, nan, nan, nan, nan, nan, nan, nan, nan, nan, nan, nan, nan, nan, nan, nan, nan, nan, nan, nan, nan, nan, nan, nan, nan, nan, nan, nan, nan, nan, nan, nan, nan, nan, nan, nan, nan, nan, nan, nan, nan, nan, nan, nan, nan, nan, nan, nan, nan, nan, nan, nan, nan, nan, nan, nan, nan, nan, nan, nan, nan, nan, nan, nan, nan, nan, nan, nan, nan, nan, nan, nan, nan, nan, nan, nan, nan, nan, nan, nan, nan, nan, nan, nan, nan, nan, nan, nan, nan, nan, nan, nan, nan, nan, nan, nan, nan, nan, nan, nan, nan, nan, nan, nan, nan, nan, nan, nan, nan, nan, nan, nan, nan, nan, nan, nan, nan, nan, nan, nan, nan, nan, nan, nan, nan, nan, nan, nan, nan, nan, nan, nan, nan, nan, nan, nan, nan, nan, nan, nan, nan, nan, nan, nan, nan, nan, nan, nan, nan, nan, nan, nan, nan, nan, nan, nan, nan, nan, nan, nan, nan, nan, nan, nan, nan, nan, nan, nan, nan, nan, nan, nan, nan, nan, nan, nan, nan, nan, nan, nan, nan, nan, nan, nan, nan, nan, nan, nan, nan, nan, nan, nan, nan, nan, nan, nan, nan, nan, nan, nan, nan, nan, nan, nan, nan, nan, nan, nan, nan, nan, nan, nan, nan, nan, nan, nan, nan, nan, nan, nan, nan, nan, nan, nan, nan, nan, nan, nan, nan, nan, nan, nan, nan, nan, nan, nan, nan, nan, nan, nan, nan, nan, nan, nan, nan, nan, nan, nan, nan, nan, nan, nan, nan, nan, nan, nan, nan, nan, nan, nan, nan, nan, nan, nan, nan, nan, nan, nan, nan, nan, nan, nan, nan, nan, nan, nan, nan, nan, nan, nan, nan, nan, nan, nan, nan, nan, nan, nan, nan, nan, nan, nan, nan, nan, nan, nan, nan, nan, nan, nan, nan, nan, nan, nan, nan, nan, nan, nan, nan, nan, nan, nan, nan, nan, nan, nan, nan, nan, nan, nan, nan, nan, nan, nan, nan, nan, nan, nan, nan, nan, nan, nan, nan, nan, nan, nan, nan, nan, nan, nan, nan, nan, nan, nan, nan, nan, nan, nan, nan, nan, nan, nan, nan, nan, nan, nan, nan, nan, nan, nan, nan, nan, nan, nan, nan, nan, nan, nan, nan, nan, nan, nan, nan, nan, nan, nan, nan, nan, nan, nan, nan, nan, nan, nan, nan, nan, nan, nan, nan, nan, nan, nan, nan, nan, nan, nan, nan, nan, nan, nan, nan, nan, nan, nan, nan, nan, nan, nan, nan, nan, nan, nan, nan, nan, nan, nan, nan, nan, nan, nan, nan, nan, nan, nan, nan, nan, nan, nan, nan, nan, nan, nan, nan, nan, nan, nan, nan, nan, nan, nan, nan, nan, nan, nan, nan, nan, nan, nan, nan, nan, nan, nan, nan, nan, nan, nan, nan, nan, nan, nan, nan, nan, nan, nan, nan, nan, nan, nan, nan, nan, nan, nan, nan, nan, nan, nan, nan, nan, nan, nan, nan, nan, nan, nan, nan, nan, nan, nan, nan, nan, nan, nan, nan, nan, nan, nan, nan, nan, nan, nan, nan, nan, nan, nan, nan, nan, nan, nan, nan, nan, nan, nan, nan, nan, nan, nan, nan, nan, nan, nan, nan, nan, nan, nan, nan, nan, nan, nan, nan, nan, nan, nan, nan, nan, nan, nan, nan, nan, nan, nan, nan, nan, nan, nan, nan, nan, nan, nan, nan, nan, nan, nan, nan, nan, nan, nan, nan, nan, nan, nan, nan, nan, nan, nan, nan, nan, nan, nan, nan, nan, nan, nan, nan, nan, nan, nan, nan, nan, nan, nan, nan, nan, nan, nan, nan, nan, nan, nan, nan, nan, nan, nan, nan, nan, nan, nan, nan, nan, nan, nan, nan, nan, nan, nan, nan, nan, nan, nan, nan, nan, nan, nan, nan, nan, nan, nan, nan, nan, nan, nan, nan, nan, nan, nan, nan, nan, nan, nan, nan, nan, nan, nan, nan, nan, nan, nan, nan, nan, nan, nan, nan, nan, nan, nan, nan, nan, nan, nan, nan, nan, nan, nan, nan, nan, nan, nan, nan, nan, nan, nan, nan, nan, nan, nan, nan, nan, nan, nan, nan, nan, nan, nan, nan, nan, nan, nan, nan, nan, nan, nan, nan, nan, nan, nan, nan, nan, nan, nan, nan, nan, nan, nan, nan, nan, nan, nan, nan, nan, nan, nan, nan, nan, nan, nan, nan, nan, nan, nan, nan, nan, nan, nan, nan, nan, nan, nan, nan, nan, nan, nan, nan, nan, nan, nan, nan, nan, nan, nan, nan, nan, nan, nan, nan, nan, nan, nan, nan, nan, nan, nan, nan, nan, nan, nan, nan, nan, nan, nan, nan, nan, nan, nan, nan, nan, nan, nan, nan, nan, nan, nan, nan, nan, nan, nan, nan, nan, nan, nan, nan, nan, nan, nan, nan, nan, nan, nan, nan, nan, nan, nan, nan, nan, nan, nan, nan, nan, nan, nan, nan, nan, nan, nan, nan, nan, nan, nan, nan, nan, nan, nan, nan, nan, nan, nan, nan, nan, nan, nan, nan, nan, nan, nan, nan, nan, nan, nan, nan, nan, nan, nan, nan, nan, nan, nan, nan, nan, nan, nan, nan, nan, nan, nan, nan, nan, nan, nan, nan, nan, nan, nan, nan, nan, nan, nan, nan, nan, nan, nan, nan, nan, nan, nan, nan, nan, nan, nan, nan, nan, nan, nan]\n"
          ]
        }
      ]
    },
    {
      "cell_type": "code",
      "source": [
        "df1.isna().sum()"
      ],
      "metadata": {
        "colab": {
          "base_uri": "https://localhost:8080/"
        },
        "id": "Wlh71C-iCzIS",
        "outputId": "464939f5-ff63-4840-8917-08a9ded25f20"
      },
      "execution_count": null,
      "outputs": [
        {
          "output_type": "execute_result",
          "data": {
            "text/plain": [
              "ano              0\n",
              "matricula        0\n",
              "mes              0\n",
              "valor            0\n",
              "cnpj          1854\n",
              "tipo             0\n",
              "fornecedor       0\n",
              "dtype: int64"
            ]
          },
          "metadata": {},
          "execution_count": 104
        }
      ]
    },
    {
      "cell_type": "code",
      "source": [
        "df1.cnpj.is_unique"
      ],
      "metadata": {
        "colab": {
          "base_uri": "https://localhost:8080/"
        },
        "id": "sOlWuxE9EqQy",
        "outputId": "a8c64917-9616-47d2-893f-25ea6857b23a"
      },
      "execution_count": null,
      "outputs": [
        {
          "output_type": "execute_result",
          "data": {
            "text/plain": [
              "False"
            ]
          },
          "metadata": {},
          "execution_count": 89
        }
      ]
    },
    {
      "cell_type": "code",
      "source": [
        "df1.to_excel('cnpj_excel_ok.xlsx',index=False)"
      ],
      "metadata": {
        "id": "BBONH5NgIBUN"
      },
      "execution_count": null,
      "outputs": []
    },
    {
      "cell_type": "markdown",
      "source": [
        "##Pré analise"
      ],
      "metadata": {
        "id": "5tLSLR0RgPNf"
      }
    },
    {
      "cell_type": "code",
      "source": [
        "pd.set_option('display.max_columns',10)"
      ],
      "metadata": {
        "id": "sZIbpPtlgn9X"
      },
      "execution_count": null,
      "outputs": []
    },
    {
      "cell_type": "code",
      "source": [
        "df.head(2)\n"
      ],
      "metadata": {
        "colab": {
          "base_uri": "https://localhost:8080/",
          "height": 141
        },
        "id": "qavMzi9HgzS4",
        "outputId": "9650aaa7-9061-4fab-c098-04bbb0bac4fc"
      },
      "execution_count": null,
      "outputs": [
        {
          "output_type": "execute_result",
          "data": {
            "text/plain": [
              "   iddeputado       idspl   idua situacao      andar  ...   sala partido  \\\n",
              "0         549  1000000330  20377      EXE  3Âº andar  ...    305    PSDB   \n",
              "1         548  1000000332  20370      EXE    TÃ©rreo  ...  T. 45    AGIR   \n",
              "\n",
              "                telefone  fax placaeiculo  \n",
              "0  (11) 3886-6557 / 6559  NaN         NaN  \n",
              "1    (11) 3886-6567/8770  NaN         NaN  \n",
              "\n",
              "[2 rows x 16 columns]"
            ],
            "text/html": [
              "\n",
              "  <div id=\"df-06e56e8b-c93a-4628-a0e9-66d1c8fb781e\">\n",
              "    <div class=\"colab-df-container\">\n",
              "      <div>\n",
              "<style scoped>\n",
              "    .dataframe tbody tr th:only-of-type {\n",
              "        vertical-align: middle;\n",
              "    }\n",
              "\n",
              "    .dataframe tbody tr th {\n",
              "        vertical-align: top;\n",
              "    }\n",
              "\n",
              "    .dataframe thead th {\n",
              "        text-align: right;\n",
              "    }\n",
              "</style>\n",
              "<table border=\"1\" class=\"dataframe\">\n",
              "  <thead>\n",
              "    <tr style=\"text-align: right;\">\n",
              "      <th></th>\n",
              "      <th>iddeputado</th>\n",
              "      <th>idspl</th>\n",
              "      <th>idua</th>\n",
              "      <th>situacao</th>\n",
              "      <th>andar</th>\n",
              "      <th>...</th>\n",
              "      <th>sala</th>\n",
              "      <th>partido</th>\n",
              "      <th>telefone</th>\n",
              "      <th>fax</th>\n",
              "      <th>placaeiculo</th>\n",
              "    </tr>\n",
              "  </thead>\n",
              "  <tbody>\n",
              "    <tr>\n",
              "      <th>0</th>\n",
              "      <td>549</td>\n",
              "      <td>1000000330</td>\n",
              "      <td>20377</td>\n",
              "      <td>EXE</td>\n",
              "      <td>3Âº andar</td>\n",
              "      <td>...</td>\n",
              "      <td>305</td>\n",
              "      <td>PSDB</td>\n",
              "      <td>(11) 3886-6557 / 6559</td>\n",
              "      <td>NaN</td>\n",
              "      <td>NaN</td>\n",
              "    </tr>\n",
              "    <tr>\n",
              "      <th>1</th>\n",
              "      <td>548</td>\n",
              "      <td>1000000332</td>\n",
              "      <td>20370</td>\n",
              "      <td>EXE</td>\n",
              "      <td>TÃ©rreo</td>\n",
              "      <td>...</td>\n",
              "      <td>T. 45</td>\n",
              "      <td>AGIR</td>\n",
              "      <td>(11) 3886-6567/8770</td>\n",
              "      <td>NaN</td>\n",
              "      <td>NaN</td>\n",
              "    </tr>\n",
              "  </tbody>\n",
              "</table>\n",
              "<p>2 rows × 16 columns</p>\n",
              "</div>\n",
              "      <button class=\"colab-df-convert\" onclick=\"convertToInteractive('df-06e56e8b-c93a-4628-a0e9-66d1c8fb781e')\"\n",
              "              title=\"Convert this dataframe to an interactive table.\"\n",
              "              style=\"display:none;\">\n",
              "        \n",
              "  <svg xmlns=\"http://www.w3.org/2000/svg\" height=\"24px\"viewBox=\"0 0 24 24\"\n",
              "       width=\"24px\">\n",
              "    <path d=\"M0 0h24v24H0V0z\" fill=\"none\"/>\n",
              "    <path d=\"M18.56 5.44l.94 2.06.94-2.06 2.06-.94-2.06-.94-.94-2.06-.94 2.06-2.06.94zm-11 1L8.5 8.5l.94-2.06 2.06-.94-2.06-.94L8.5 2.5l-.94 2.06-2.06.94zm10 10l.94 2.06.94-2.06 2.06-.94-2.06-.94-.94-2.06-.94 2.06-2.06.94z\"/><path d=\"M17.41 7.96l-1.37-1.37c-.4-.4-.92-.59-1.43-.59-.52 0-1.04.2-1.43.59L10.3 9.45l-7.72 7.72c-.78.78-.78 2.05 0 2.83L4 21.41c.39.39.9.59 1.41.59.51 0 1.02-.2 1.41-.59l7.78-7.78 2.81-2.81c.8-.78.8-2.07 0-2.86zM5.41 20L4 18.59l7.72-7.72 1.47 1.35L5.41 20z\"/>\n",
              "  </svg>\n",
              "      </button>\n",
              "      \n",
              "  <style>\n",
              "    .colab-df-container {\n",
              "      display:flex;\n",
              "      flex-wrap:wrap;\n",
              "      gap: 12px;\n",
              "    }\n",
              "\n",
              "    .colab-df-convert {\n",
              "      background-color: #E8F0FE;\n",
              "      border: none;\n",
              "      border-radius: 50%;\n",
              "      cursor: pointer;\n",
              "      display: none;\n",
              "      fill: #1967D2;\n",
              "      height: 32px;\n",
              "      padding: 0 0 0 0;\n",
              "      width: 32px;\n",
              "    }\n",
              "\n",
              "    .colab-df-convert:hover {\n",
              "      background-color: #E2EBFA;\n",
              "      box-shadow: 0px 1px 2px rgba(60, 64, 67, 0.3), 0px 1px 3px 1px rgba(60, 64, 67, 0.15);\n",
              "      fill: #174EA6;\n",
              "    }\n",
              "\n",
              "    [theme=dark] .colab-df-convert {\n",
              "      background-color: #3B4455;\n",
              "      fill: #D2E3FC;\n",
              "    }\n",
              "\n",
              "    [theme=dark] .colab-df-convert:hover {\n",
              "      background-color: #434B5C;\n",
              "      box-shadow: 0px 1px 3px 1px rgba(0, 0, 0, 0.15);\n",
              "      filter: drop-shadow(0px 1px 2px rgba(0, 0, 0, 0.3));\n",
              "      fill: #FFFFFF;\n",
              "    }\n",
              "  </style>\n",
              "\n",
              "      <script>\n",
              "        const buttonEl =\n",
              "          document.querySelector('#df-06e56e8b-c93a-4628-a0e9-66d1c8fb781e button.colab-df-convert');\n",
              "        buttonEl.style.display =\n",
              "          google.colab.kernel.accessAllowed ? 'block' : 'none';\n",
              "\n",
              "        async function convertToInteractive(key) {\n",
              "          const element = document.querySelector('#df-06e56e8b-c93a-4628-a0e9-66d1c8fb781e');\n",
              "          const dataTable =\n",
              "            await google.colab.kernel.invokeFunction('convertToInteractive',\n",
              "                                                     [key], {});\n",
              "          if (!dataTable) return;\n",
              "\n",
              "          const docLinkHtml = 'Like what you see? Visit the ' +\n",
              "            '<a target=\"_blank\" href=https://colab.research.google.com/notebooks/data_table.ipynb>data table notebook</a>'\n",
              "            + ' to learn more about interactive tables.';\n",
              "          element.innerHTML = '';\n",
              "          dataTable['output_type'] = 'display_data';\n",
              "          await google.colab.output.renderOutput(dataTable, element);\n",
              "          const docLink = document.createElement('div');\n",
              "          docLink.innerHTML = docLinkHtml;\n",
              "          element.appendChild(docLink);\n",
              "        }\n",
              "      </script>\n",
              "    </div>\n",
              "  </div>\n",
              "  "
            ]
          },
          "metadata": {},
          "execution_count": 31
        }
      ]
    },
    {
      "cell_type": "code",
      "source": [
        "df.Fornecedor.is_unique"
      ],
      "metadata": {
        "id": "PofwS3sRhcX-"
      },
      "execution_count": null,
      "outputs": []
    },
    {
      "cell_type": "markdown",
      "source": [
        "# Tratamento de dados"
      ],
      "metadata": {
        "id": "vcXXnkZkhw-n"
      }
    },
    {
      "cell_type": "code",
      "source": [
        "df.dtypes"
      ],
      "metadata": {
        "colab": {
          "base_uri": "https://localhost:8080/"
        },
        "id": "AcurzgCDh1T3",
        "outputId": "e43eb7ff-9026-4d25-b984-10bf05e1aefc"
      },
      "execution_count": null,
      "outputs": [
        {
          "output_type": "execute_result",
          "data": {
            "text/plain": [
              "iddeputado          int64\n",
              "idspl               int64\n",
              "idua                int64\n",
              "situacao           object\n",
              "andar              object\n",
              "aniversario        object\n",
              "biografia          object\n",
              "email              object\n",
              "matricula           int64\n",
              "nomeparlamentar    object\n",
              "pathfoto           object\n",
              "sala               object\n",
              "partido            object\n",
              "telefone           object\n",
              "fax                object\n",
              "placaeiculo        object\n",
              "dtype: object"
            ]
          },
          "metadata": {},
          "execution_count": 33
        }
      ]
    },
    {
      "cell_type": "code",
      "source": [
        "#backup do dataframe original\n",
        "dfback = df.copy()"
      ],
      "metadata": {
        "id": "sQ26aVgph-0e"
      },
      "execution_count": null,
      "outputs": []
    },
    {
      "cell_type": "code",
      "source": [
        "df.head(1)"
      ],
      "metadata": {
        "colab": {
          "base_uri": "https://localhost:8080/",
          "height": 110
        },
        "id": "CX2bCjCniH5A",
        "outputId": "79969460-39ff-4db7-c8d1-d91b4e3e2e9e"
      },
      "execution_count": null,
      "outputs": [
        {
          "output_type": "execute_result",
          "data": {
            "text/plain": [
              "   iddeputado       idspl   idua situacao      andar  ... sala partido  \\\n",
              "0         549  1000000330  20377      EXE  3Âº andar  ...  305    PSDB   \n",
              "\n",
              "                telefone  fax placaeiculo  \n",
              "0  (11) 3886-6557 / 6559  NaN         NaN  \n",
              "\n",
              "[1 rows x 16 columns]"
            ],
            "text/html": [
              "\n",
              "  <div id=\"df-8f975367-8a78-4bc4-8fc5-40e09267a225\">\n",
              "    <div class=\"colab-df-container\">\n",
              "      <div>\n",
              "<style scoped>\n",
              "    .dataframe tbody tr th:only-of-type {\n",
              "        vertical-align: middle;\n",
              "    }\n",
              "\n",
              "    .dataframe tbody tr th {\n",
              "        vertical-align: top;\n",
              "    }\n",
              "\n",
              "    .dataframe thead th {\n",
              "        text-align: right;\n",
              "    }\n",
              "</style>\n",
              "<table border=\"1\" class=\"dataframe\">\n",
              "  <thead>\n",
              "    <tr style=\"text-align: right;\">\n",
              "      <th></th>\n",
              "      <th>iddeputado</th>\n",
              "      <th>idspl</th>\n",
              "      <th>idua</th>\n",
              "      <th>situacao</th>\n",
              "      <th>andar</th>\n",
              "      <th>...</th>\n",
              "      <th>sala</th>\n",
              "      <th>partido</th>\n",
              "      <th>telefone</th>\n",
              "      <th>fax</th>\n",
              "      <th>placaeiculo</th>\n",
              "    </tr>\n",
              "  </thead>\n",
              "  <tbody>\n",
              "    <tr>\n",
              "      <th>0</th>\n",
              "      <td>549</td>\n",
              "      <td>1000000330</td>\n",
              "      <td>20377</td>\n",
              "      <td>EXE</td>\n",
              "      <td>3Âº andar</td>\n",
              "      <td>...</td>\n",
              "      <td>305</td>\n",
              "      <td>PSDB</td>\n",
              "      <td>(11) 3886-6557 / 6559</td>\n",
              "      <td>NaN</td>\n",
              "      <td>NaN</td>\n",
              "    </tr>\n",
              "  </tbody>\n",
              "</table>\n",
              "<p>1 rows × 16 columns</p>\n",
              "</div>\n",
              "      <button class=\"colab-df-convert\" onclick=\"convertToInteractive('df-8f975367-8a78-4bc4-8fc5-40e09267a225')\"\n",
              "              title=\"Convert this dataframe to an interactive table.\"\n",
              "              style=\"display:none;\">\n",
              "        \n",
              "  <svg xmlns=\"http://www.w3.org/2000/svg\" height=\"24px\"viewBox=\"0 0 24 24\"\n",
              "       width=\"24px\">\n",
              "    <path d=\"M0 0h24v24H0V0z\" fill=\"none\"/>\n",
              "    <path d=\"M18.56 5.44l.94 2.06.94-2.06 2.06-.94-2.06-.94-.94-2.06-.94 2.06-2.06.94zm-11 1L8.5 8.5l.94-2.06 2.06-.94-2.06-.94L8.5 2.5l-.94 2.06-2.06.94zm10 10l.94 2.06.94-2.06 2.06-.94-2.06-.94-.94-2.06-.94 2.06-2.06.94z\"/><path d=\"M17.41 7.96l-1.37-1.37c-.4-.4-.92-.59-1.43-.59-.52 0-1.04.2-1.43.59L10.3 9.45l-7.72 7.72c-.78.78-.78 2.05 0 2.83L4 21.41c.39.39.9.59 1.41.59.51 0 1.02-.2 1.41-.59l7.78-7.78 2.81-2.81c.8-.78.8-2.07 0-2.86zM5.41 20L4 18.59l7.72-7.72 1.47 1.35L5.41 20z\"/>\n",
              "  </svg>\n",
              "      </button>\n",
              "      \n",
              "  <style>\n",
              "    .colab-df-container {\n",
              "      display:flex;\n",
              "      flex-wrap:wrap;\n",
              "      gap: 12px;\n",
              "    }\n",
              "\n",
              "    .colab-df-convert {\n",
              "      background-color: #E8F0FE;\n",
              "      border: none;\n",
              "      border-radius: 50%;\n",
              "      cursor: pointer;\n",
              "      display: none;\n",
              "      fill: #1967D2;\n",
              "      height: 32px;\n",
              "      padding: 0 0 0 0;\n",
              "      width: 32px;\n",
              "    }\n",
              "\n",
              "    .colab-df-convert:hover {\n",
              "      background-color: #E2EBFA;\n",
              "      box-shadow: 0px 1px 2px rgba(60, 64, 67, 0.3), 0px 1px 3px 1px rgba(60, 64, 67, 0.15);\n",
              "      fill: #174EA6;\n",
              "    }\n",
              "\n",
              "    [theme=dark] .colab-df-convert {\n",
              "      background-color: #3B4455;\n",
              "      fill: #D2E3FC;\n",
              "    }\n",
              "\n",
              "    [theme=dark] .colab-df-convert:hover {\n",
              "      background-color: #434B5C;\n",
              "      box-shadow: 0px 1px 3px 1px rgba(0, 0, 0, 0.15);\n",
              "      filter: drop-shadow(0px 1px 2px rgba(0, 0, 0, 0.3));\n",
              "      fill: #FFFFFF;\n",
              "    }\n",
              "  </style>\n",
              "\n",
              "      <script>\n",
              "        const buttonEl =\n",
              "          document.querySelector('#df-8f975367-8a78-4bc4-8fc5-40e09267a225 button.colab-df-convert');\n",
              "        buttonEl.style.display =\n",
              "          google.colab.kernel.accessAllowed ? 'block' : 'none';\n",
              "\n",
              "        async function convertToInteractive(key) {\n",
              "          const element = document.querySelector('#df-8f975367-8a78-4bc4-8fc5-40e09267a225');\n",
              "          const dataTable =\n",
              "            await google.colab.kernel.invokeFunction('convertToInteractive',\n",
              "                                                     [key], {});\n",
              "          if (!dataTable) return;\n",
              "\n",
              "          const docLinkHtml = 'Like what you see? Visit the ' +\n",
              "            '<a target=\"_blank\" href=https://colab.research.google.com/notebooks/data_table.ipynb>data table notebook</a>'\n",
              "            + ' to learn more about interactive tables.';\n",
              "          element.innerHTML = '';\n",
              "          dataTable['output_type'] = 'display_data';\n",
              "          await google.colab.output.renderOutput(dataTable, element);\n",
              "          const docLink = document.createElement('div');\n",
              "          docLink.innerHTML = docLinkHtml;\n",
              "          element.appendChild(docLink);\n",
              "        }\n",
              "      </script>\n",
              "    </div>\n",
              "  </div>\n",
              "  "
            ]
          },
          "metadata": {},
          "execution_count": 35
        }
      ]
    },
    {
      "cell_type": "code",
      "source": [
        "df.head()"
      ],
      "metadata": {
        "colab": {
          "base_uri": "https://localhost:8080/",
          "height": 235
        },
        "id": "ZqDcOL5hjHIS",
        "outputId": "d6c8afcb-f2e6-4c38-b972-e191437c8ed5"
      },
      "execution_count": null,
      "outputs": [
        {
          "output_type": "execute_result",
          "data": {
            "text/plain": [
              "   iddeputado       idspl   idua situacao      andar  ...   sala partido  \\\n",
              "0         549  1000000330  20377      EXE  3Âº andar  ...    305    PSDB   \n",
              "1         548  1000000332  20370      EXE    TÃ©rreo  ...  T. 45    AGIR   \n",
              "2         547  1000000335  20455      EXE  2Âº andar  ...    255      PL   \n",
              "3         128          39  20369      EXE        3Âº  ...    356  UNIÃO   \n",
              "4         546  1000000342  20399      EXE        1Âº  ...    173      PL   \n",
              "\n",
              "                telefone  fax placaeiculo  \n",
              "0  (11) 3886-6557 / 6559  NaN         NaN  \n",
              "1    (11) 3886-6567/8770  NaN         NaN  \n",
              "2     (11)3886-6052/6054  NaN         NaN  \n",
              "3         3886-6453/6454  NaN         NaN  \n",
              "4   (11)3886-6676 / 6677  NaN         NaN  \n",
              "\n",
              "[5 rows x 16 columns]"
            ],
            "text/html": [
              "\n",
              "  <div id=\"df-c82ca343-e730-41c4-afaf-75157dc258f2\">\n",
              "    <div class=\"colab-df-container\">\n",
              "      <div>\n",
              "<style scoped>\n",
              "    .dataframe tbody tr th:only-of-type {\n",
              "        vertical-align: middle;\n",
              "    }\n",
              "\n",
              "    .dataframe tbody tr th {\n",
              "        vertical-align: top;\n",
              "    }\n",
              "\n",
              "    .dataframe thead th {\n",
              "        text-align: right;\n",
              "    }\n",
              "</style>\n",
              "<table border=\"1\" class=\"dataframe\">\n",
              "  <thead>\n",
              "    <tr style=\"text-align: right;\">\n",
              "      <th></th>\n",
              "      <th>iddeputado</th>\n",
              "      <th>idspl</th>\n",
              "      <th>idua</th>\n",
              "      <th>situacao</th>\n",
              "      <th>andar</th>\n",
              "      <th>...</th>\n",
              "      <th>sala</th>\n",
              "      <th>partido</th>\n",
              "      <th>telefone</th>\n",
              "      <th>fax</th>\n",
              "      <th>placaeiculo</th>\n",
              "    </tr>\n",
              "  </thead>\n",
              "  <tbody>\n",
              "    <tr>\n",
              "      <th>0</th>\n",
              "      <td>549</td>\n",
              "      <td>1000000330</td>\n",
              "      <td>20377</td>\n",
              "      <td>EXE</td>\n",
              "      <td>3Âº andar</td>\n",
              "      <td>...</td>\n",
              "      <td>305</td>\n",
              "      <td>PSDB</td>\n",
              "      <td>(11) 3886-6557 / 6559</td>\n",
              "      <td>NaN</td>\n",
              "      <td>NaN</td>\n",
              "    </tr>\n",
              "    <tr>\n",
              "      <th>1</th>\n",
              "      <td>548</td>\n",
              "      <td>1000000332</td>\n",
              "      <td>20370</td>\n",
              "      <td>EXE</td>\n",
              "      <td>TÃ©rreo</td>\n",
              "      <td>...</td>\n",
              "      <td>T. 45</td>\n",
              "      <td>AGIR</td>\n",
              "      <td>(11) 3886-6567/8770</td>\n",
              "      <td>NaN</td>\n",
              "      <td>NaN</td>\n",
              "    </tr>\n",
              "    <tr>\n",
              "      <th>2</th>\n",
              "      <td>547</td>\n",
              "      <td>1000000335</td>\n",
              "      <td>20455</td>\n",
              "      <td>EXE</td>\n",
              "      <td>2Âº andar</td>\n",
              "      <td>...</td>\n",
              "      <td>255</td>\n",
              "      <td>PL</td>\n",
              "      <td>(11)3886-6052/6054</td>\n",
              "      <td>NaN</td>\n",
              "      <td>NaN</td>\n",
              "    </tr>\n",
              "    <tr>\n",
              "      <th>3</th>\n",
              "      <td>128</td>\n",
              "      <td>39</td>\n",
              "      <td>20369</td>\n",
              "      <td>EXE</td>\n",
              "      <td>3Âº</td>\n",
              "      <td>...</td>\n",
              "      <td>356</td>\n",
              "      <td>UNIÃO</td>\n",
              "      <td>3886-6453/6454</td>\n",
              "      <td>NaN</td>\n",
              "      <td>NaN</td>\n",
              "    </tr>\n",
              "    <tr>\n",
              "      <th>4</th>\n",
              "      <td>546</td>\n",
              "      <td>1000000342</td>\n",
              "      <td>20399</td>\n",
              "      <td>EXE</td>\n",
              "      <td>1Âº</td>\n",
              "      <td>...</td>\n",
              "      <td>173</td>\n",
              "      <td>PL</td>\n",
              "      <td>(11)3886-6676 / 6677</td>\n",
              "      <td>NaN</td>\n",
              "      <td>NaN</td>\n",
              "    </tr>\n",
              "  </tbody>\n",
              "</table>\n",
              "<p>5 rows × 16 columns</p>\n",
              "</div>\n",
              "      <button class=\"colab-df-convert\" onclick=\"convertToInteractive('df-c82ca343-e730-41c4-afaf-75157dc258f2')\"\n",
              "              title=\"Convert this dataframe to an interactive table.\"\n",
              "              style=\"display:none;\">\n",
              "        \n",
              "  <svg xmlns=\"http://www.w3.org/2000/svg\" height=\"24px\"viewBox=\"0 0 24 24\"\n",
              "       width=\"24px\">\n",
              "    <path d=\"M0 0h24v24H0V0z\" fill=\"none\"/>\n",
              "    <path d=\"M18.56 5.44l.94 2.06.94-2.06 2.06-.94-2.06-.94-.94-2.06-.94 2.06-2.06.94zm-11 1L8.5 8.5l.94-2.06 2.06-.94-2.06-.94L8.5 2.5l-.94 2.06-2.06.94zm10 10l.94 2.06.94-2.06 2.06-.94-2.06-.94-.94-2.06-.94 2.06-2.06.94z\"/><path d=\"M17.41 7.96l-1.37-1.37c-.4-.4-.92-.59-1.43-.59-.52 0-1.04.2-1.43.59L10.3 9.45l-7.72 7.72c-.78.78-.78 2.05 0 2.83L4 21.41c.39.39.9.59 1.41.59.51 0 1.02-.2 1.41-.59l7.78-7.78 2.81-2.81c.8-.78.8-2.07 0-2.86zM5.41 20L4 18.59l7.72-7.72 1.47 1.35L5.41 20z\"/>\n",
              "  </svg>\n",
              "      </button>\n",
              "      \n",
              "  <style>\n",
              "    .colab-df-container {\n",
              "      display:flex;\n",
              "      flex-wrap:wrap;\n",
              "      gap: 12px;\n",
              "    }\n",
              "\n",
              "    .colab-df-convert {\n",
              "      background-color: #E8F0FE;\n",
              "      border: none;\n",
              "      border-radius: 50%;\n",
              "      cursor: pointer;\n",
              "      display: none;\n",
              "      fill: #1967D2;\n",
              "      height: 32px;\n",
              "      padding: 0 0 0 0;\n",
              "      width: 32px;\n",
              "    }\n",
              "\n",
              "    .colab-df-convert:hover {\n",
              "      background-color: #E2EBFA;\n",
              "      box-shadow: 0px 1px 2px rgba(60, 64, 67, 0.3), 0px 1px 3px 1px rgba(60, 64, 67, 0.15);\n",
              "      fill: #174EA6;\n",
              "    }\n",
              "\n",
              "    [theme=dark] .colab-df-convert {\n",
              "      background-color: #3B4455;\n",
              "      fill: #D2E3FC;\n",
              "    }\n",
              "\n",
              "    [theme=dark] .colab-df-convert:hover {\n",
              "      background-color: #434B5C;\n",
              "      box-shadow: 0px 1px 3px 1px rgba(0, 0, 0, 0.15);\n",
              "      filter: drop-shadow(0px 1px 2px rgba(0, 0, 0, 0.3));\n",
              "      fill: #FFFFFF;\n",
              "    }\n",
              "  </style>\n",
              "\n",
              "      <script>\n",
              "        const buttonEl =\n",
              "          document.querySelector('#df-c82ca343-e730-41c4-afaf-75157dc258f2 button.colab-df-convert');\n",
              "        buttonEl.style.display =\n",
              "          google.colab.kernel.accessAllowed ? 'block' : 'none';\n",
              "\n",
              "        async function convertToInteractive(key) {\n",
              "          const element = document.querySelector('#df-c82ca343-e730-41c4-afaf-75157dc258f2');\n",
              "          const dataTable =\n",
              "            await google.colab.kernel.invokeFunction('convertToInteractive',\n",
              "                                                     [key], {});\n",
              "          if (!dataTable) return;\n",
              "\n",
              "          const docLinkHtml = 'Like what you see? Visit the ' +\n",
              "            '<a target=\"_blank\" href=https://colab.research.google.com/notebooks/data_table.ipynb>data table notebook</a>'\n",
              "            + ' to learn more about interactive tables.';\n",
              "          element.innerHTML = '';\n",
              "          dataTable['output_type'] = 'display_data';\n",
              "          await google.colab.output.renderOutput(dataTable, element);\n",
              "          const docLink = document.createElement('div');\n",
              "          docLink.innerHTML = docLinkHtml;\n",
              "          element.appendChild(docLink);\n",
              "        }\n",
              "      </script>\n",
              "    </div>\n",
              "  </div>\n",
              "  "
            ]
          },
          "metadata": {},
          "execution_count": 36
        }
      ]
    },
    {
      "cell_type": "code",
      "source": [
        "df.dtypes"
      ],
      "metadata": {
        "colab": {
          "base_uri": "https://localhost:8080/"
        },
        "id": "K8BoxLZ9j26H",
        "outputId": "73be88bf-7cfb-410a-a8d8-86e7be0eac5a"
      },
      "execution_count": null,
      "outputs": [
        {
          "output_type": "execute_result",
          "data": {
            "text/plain": [
              "iddeputado          int64\n",
              "idspl               int64\n",
              "idua                int64\n",
              "situacao           object\n",
              "andar              object\n",
              "aniversario        object\n",
              "biografia          object\n",
              "email              object\n",
              "matricula           int64\n",
              "nomeparlamentar    object\n",
              "pathfoto           object\n",
              "sala               object\n",
              "partido            object\n",
              "telefone           object\n",
              "fax                object\n",
              "placaeiculo        object\n",
              "dtype: object"
            ]
          },
          "metadata": {},
          "execution_count": 38
        }
      ]
    },
    {
      "cell_type": "markdown",
      "source": [
        "# Limpeza de Dados"
      ],
      "metadata": {
        "id": "18PJC9mnkK26"
      }
    },
    {
      "cell_type": "code",
      "source": [
        "pd.unique(df['ano'])"
      ],
      "metadata": {
        "id": "TWMIKUVBkR-y"
      },
      "execution_count": null,
      "outputs": []
    },
    {
      "cell_type": "code",
      "source": [
        "pd.unique(df['matricula'])"
      ],
      "metadata": {
        "colab": {
          "base_uri": "https://localhost:8080/"
        },
        "id": "Mhn-NhIzl3Xr",
        "outputId": "117e70c6-c82f-4325-e85c-213667aaec34"
      },
      "execution_count": null,
      "outputs": [
        {
          "output_type": "execute_result",
          "data": {
            "text/plain": [
              "array([300605, 300606, 300607, 300288, 300608, 300553, 300609, 300431,\n",
              "       300497, 300612, 300188, 300613, 300540, 300217, 300614, 300501,\n",
              "       300485, 300499, 300615, 300616, 300205, 300617, 300548, 300618,\n",
              "       300619, 300620, 300621, 300543, 300650, 300622, 300623, 300624,\n",
              "       300292, 300318, 300449, 300395, 300440, 300625, 300303, 300583,\n",
              "       300626, 300627, 300450, 300628, 300629, 300510, 300630, 300367,\n",
              "       300549, 300544, 300513, 300631, 300545, 300264, 300633, 300635,\n",
              "       300634, 300552, 300471, 300636, 300533, 300653, 300098, 300483,\n",
              "       300637, 300654, 300534, 300655, 300536, 300638, 300639, 300640,\n",
              "       300641, 300344, 300470, 300539, 300642, 300267, 300382, 300643,\n",
              "       300519, 300407, 300260, 300644, 300520, 300645, 300646, 300647,\n",
              "       300584, 300648, 300649, 300430, 300589])"
            ]
          },
          "metadata": {},
          "execution_count": 48
        }
      ]
    },
    {
      "cell_type": "code",
      "source": [
        "pd.unique(df['mes'])"
      ],
      "metadata": {
        "id": "XAbCg-Vrl8Tn"
      },
      "execution_count": null,
      "outputs": []
    },
    {
      "cell_type": "code",
      "source": [
        "pd.unique(df['valor'])"
      ],
      "metadata": {
        "id": "P9gPR7iRmCxR"
      },
      "execution_count": null,
      "outputs": []
    },
    {
      "cell_type": "code",
      "source": [
        "pd.unique(df['cnpj'])"
      ],
      "metadata": {
        "id": "mMYeln2mmKtv"
      },
      "execution_count": null,
      "outputs": []
    },
    {
      "cell_type": "code",
      "source": [
        "pd.unique(df['tipo'])"
      ],
      "metadata": {
        "id": "tWJHXxhtmS5m"
      },
      "execution_count": null,
      "outputs": []
    },
    {
      "cell_type": "code",
      "source": [
        "df.replace(['A - COMBUSTÃ\\x8dVEIS E LUBRIFICANTES'], ['a - combustiveis e lubrificantes'], inplace=True)\n"
      ],
      "metadata": {
        "id": "0p0znOUfnfp_"
      },
      "execution_count": null,
      "outputs": []
    },
    {
      "cell_type": "code",
      "source": [
        "df.replace(['C - MATERIAIS E SERVIÃOS DE MANUT E CONSERV DE VEÃCULOS ; PEDÃGIOS'], ['c - materiais e servicos de manut e conserv de conserv de veiculos, pedagios'], inplace=True )"
      ],
      "metadata": {
        "id": "33WBqoUBtaib"
      },
      "execution_count": null,
      "outputs": []
    },
    {
      "cell_type": "code",
      "source": [
        "df.replace(['PEDÃ\\x81GIOS'], ['pedagios'], inplace=True)"
      ],
      "metadata": {
        "id": "xpDLiVcusZJJ"
      },
      "execution_count": null,
      "outputs": []
    },
    {
      "cell_type": "code",
      "source": [
        "df.replace(['PEDÃGIO'], ['pedagios'], inplace=True)"
      ],
      "metadata": {
        "id": "ACRnQQv3sbnA"
      },
      "execution_count": null,
      "outputs": []
    },
    {
      "cell_type": "code",
      "source": [
        "df.replace(['D - MATERIAIS E SERVIÃ\\x87OS GRÃ\\x81FICOS, DE CÃ\\x93PIAS  E REPRODUÃ\\x87Ã\\x83O DE DOCS'],['d - materias e servicos graficos'], inplace=True)\n"
      ],
      "metadata": {
        "id": "QH2JlRGgsgdh"
      },
      "execution_count": null,
      "outputs": []
    },
    {
      "cell_type": "code",
      "source": [
        "df.replace(['E - MATERIAIS DE ESCRITÃ\\x93RIO E OUTROS MATERIAIS DE CONSUMO'], ['e - materiais de escritorio e outros materiais de consumo'], inplace=True)"
      ],
      "metadata": {
        "id": "LmRlgkx5tERo"
      },
      "execution_count": null,
      "outputs": []
    },
    {
      "cell_type": "code",
      "source": [
        "df.replace(['G - ASSINATURAS DE PERIÃ\\x93DICOS, PUBLICAÃ\\x87Ã\\x95ES, INTERNET E SOFTWARES'],['g- assinaturas periodicas, publicacoes, internet e softwares'], inplace=True)"
      ],
      "metadata": {
        "id": "AJsu7ACpt81Y"
      },
      "execution_count": null,
      "outputs": []
    },
    {
      "cell_type": "code",
      "source": [
        "df.replace(['H - SERV.UTIL.PÃ\\x9aBLICA (TELEF.MÃ\\x93VEL/FIXA, ENERGIA, Ã\\x81GUA, GÃ\\x81S ETC)'], ['h - servi.util.publica, telefone fixo, energia, agua, gas, etc'], inplace=True)"
      ],
      "metadata": {
        "id": "gHKUAtNzuvrC"
      },
      "execution_count": null,
      "outputs": []
    },
    {
      "cell_type": "code",
      "source": [
        "df.replace(['I - HOSPEDAGEM, ALIMENTAÃ\\x87Ã\\x83O E DESPESAS DE LOCOMOÃ\\x87Ã\\x83O'],['i - hospedagem, alimentacao e despesas de locomocao'], inplace=True)"
      ],
      "metadata": {
        "id": "Vl-5g_JdvQMZ"
      },
      "execution_count": null,
      "outputs": []
    },
    {
      "cell_type": "code",
      "source": [
        "df.replace(['J - SERVIÃ\\x87OS DE COMUNICAÃ\\x87Ã\\x83O'],['j- servicos de comunicacao'], inplace=True)"
      ],
      "metadata": {
        "id": "_burIvsDvs3t"
      },
      "execution_count": null,
      "outputs": []
    },
    {
      "cell_type": "code",
      "source": [
        "df.replace(['L - LOCAÃ\\x87Ã\\x83O DE BENS IMÃ\\x93VEIS'], ['l - locacao de bens imoveis'], inplace =True)"
      ],
      "metadata": {
        "id": "nfnQCndvv9so"
      },
      "execution_count": null,
      "outputs": []
    },
    {
      "cell_type": "code",
      "source": [
        "df.replace(['M - MANUTENÃ\\x87Ã\\x83O DE BENS MÃ\\x93VEIS,  IMÃ\\x93VEIS, CONDOMÃ\\x8dNIOS E OUTROS'], ['m - manutencao de bens moveis, imoveis, condominios e outros'], inplace=True)"
      ],
      "metadata": {
        "id": "Ng5cSVXqwOZJ"
      },
      "execution_count": null,
      "outputs": []
    },
    {
      "cell_type": "code",
      "source": [
        "df.replace(['N - MORADIA'],['n - moradia'], inplace=True)"
      ],
      "metadata": {
        "id": "GKHUb9HVwgtG"
      },
      "execution_count": null,
      "outputs": []
    },
    {
      "cell_type": "code",
      "source": [
        "df.replace(['F - SERVIÃ\\x87OS TÃ\\x89CNICOS PROFISSIONAIS (CONSULTORIA, PESQUISAS ETC)'],['f - servicos tecnicos profissionais(consultoria, pesquisas, etc)'], inplace=True)"
      ],
      "metadata": {
        "id": "mdh8Ejjvw-ec"
      },
      "execution_count": null,
      "outputs": []
    },
    {
      "cell_type": "code",
      "source": [
        "df.replace(['O - LOCAÃ\\x87Ã\\x83O DE VEÃ\\x8dCULO'], ['o - locacao de veiculos'], inplace=True)"
      ],
      "metadata": {
        "id": "WE86UaXGxQ9h"
      },
      "execution_count": null,
      "outputs": []
    },
    {
      "cell_type": "code",
      "source": [
        "df.replace(['P - DIVULGAÃ\\x87Ã\\x83O DA ATIVIDADE PARLAMENTAR'],['p - divulgacao da atividade parlamentar'], inplace=True)"
      ],
      "metadata": {
        "id": "GGY2wbTwxhdU"
      },
      "execution_count": null,
      "outputs": []
    },
    {
      "cell_type": "code",
      "source": [
        "df.replace(['K - LOCAÃ\\x87Ã\\x83O DE BENS MÃ\\x93VEIS'], ['k - locacao de bens materiais'], inplace=True)"
      ],
      "metadata": {
        "id": "axDcJz1Ex-0x"
      },
      "execution_count": null,
      "outputs": []
    },
    {
      "cell_type": "code",
      "source": [
        "df.head()"
      ],
      "metadata": {
        "id": "e6lPrS0zq8Ai"
      },
      "execution_count": null,
      "outputs": []
    },
    {
      "cell_type": "code",
      "source": [
        "filtro = df.tipo == 'c - materiais e servicos de manut e conserv de conserv de veiculos, pedagios'"
      ],
      "metadata": {
        "id": "SFnywpLo8EUz"
      },
      "execution_count": null,
      "outputs": []
    },
    {
      "cell_type": "code",
      "source": [
        "dped = df.loc[filtro]"
      ],
      "metadata": {
        "id": "R_mY9XMj8d0z"
      },
      "execution_count": null,
      "outputs": []
    },
    {
      "cell_type": "code",
      "source": [
        "dped"
      ],
      "metadata": {
        "id": "lDU17CyK8fPT"
      },
      "execution_count": null,
      "outputs": []
    },
    {
      "cell_type": "code",
      "source": [
        "filtro2 = dped.fornecedor.str.contains('PED|PEG')\n"
      ],
      "metadata": {
        "id": "GYf3V55w9Eps"
      },
      "execution_count": null,
      "outputs": []
    },
    {
      "cell_type": "markdown",
      "source": [
        "**negrito**# arrumando nomes dos fornecedores de pedagio\n"
      ],
      "metadata": {
        "id": "DVjxUiIT9w9U"
      }
    },
    {
      "cell_type": "code",
      "source": [
        "df.replace(['AUTOESTE VEÃCULOS E PEÃAS LTDA.'], ['autoeste veiculos e pneus ltda'], inplace=True)"
      ],
      "metadata": {
        "id": "Ph5bX6hX94eb"
      },
      "execution_count": null,
      "outputs": []
    },
    {
      "cell_type": "code",
      "source": [
        "df.head()"
      ],
      "metadata": {
        "id": "RqixawpX-L6C"
      },
      "execution_count": null,
      "outputs": []
    },
    {
      "cell_type": "code",
      "source": [
        "filtro = df.fornecedor == ''"
      ],
      "metadata": {
        "id": "jiWv2wKp9N2g"
      },
      "execution_count": null,
      "outputs": []
    },
    {
      "cell_type": "code",
      "source": [
        "pd.unique(df['fornecedor'])"
      ],
      "metadata": {
        "id": "2EIl_WJXmVt_"
      },
      "execution_count": null,
      "outputs": []
    },
    {
      "cell_type": "code",
      "source": [],
      "metadata": {
        "id": "bzOaQLGuyebq"
      },
      "execution_count": null,
      "outputs": []
    },
    {
      "cell_type": "code",
      "source": [
        "#consulta valores ausentes\n",
        "df.isna().sum()"
      ],
      "metadata": {
        "id": "LRD6PC1NnOKX"
      },
      "execution_count": null,
      "outputs": []
    },
    {
      "cell_type": "code",
      "source": [
        "#consulta dados \"válidos\"\n",
        "df.count()"
      ],
      "metadata": {
        "id": "jeQ8XlganSRA"
      },
      "execution_count": null,
      "outputs": []
    },
    {
      "cell_type": "markdown",
      "source": [
        "# Verificação dos dados "
      ],
      "metadata": {
        "id": "-xX1ZwEB3scO"
      }
    },
    {
      "cell_type": "code",
      "source": [
        "df.dtypes"
      ],
      "metadata": {
        "colab": {
          "base_uri": "https://localhost:8080/"
        },
        "id": "Rg1omvhe3paR",
        "outputId": "e5a5a2f8-fc22-4fd7-801e-21fdd866f48a"
      },
      "execution_count": null,
      "outputs": [
        {
          "output_type": "execute_result",
          "data": {
            "text/plain": [
              "ano             int64\n",
              "matricula       int64\n",
              "mes             int64\n",
              "valor         float64\n",
              "cnpj          float64\n",
              "tipo           object\n",
              "fornecedor     object\n",
              "dtype: object"
            ]
          },
          "metadata": {},
          "execution_count": 46
        }
      ]
    },
    {
      "cell_type": "code",
      "source": [
        "# Criação do schema de validação dos dados\n",
        "\n",
        "schema = pa.DataFrameSchema(\n",
        "    columns = {\n",
        "        'ano':pa.Column(pa.Int),\n",
        "        'matricula':pa.Column(pa.Int),\n",
        "        'mes':pa.Column(pa.Int),\n",
        "        'valor':pa.Column(pa.Float),\n",
        "        'cnpj':pa.Column(pa.Float, nullable=True),\n",
        "        'tipo':pa.Column(pa.String),\n",
        "        'fornecedor':pa.Column(pa.String)\n",
        "    }\n",
        "    \n",
        ")"
      ],
      "metadata": {
        "id": "uarP8s3A4Dgs"
      },
      "execution_count": null,
      "outputs": []
    },
    {
      "cell_type": "code",
      "source": [
        "#validador do DF\n",
        "schema.validate(df)"
      ],
      "metadata": {
        "id": "blNE-Q2168Th"
      },
      "execution_count": null,
      "outputs": []
    },
    {
      "cell_type": "code",
      "source": [
        "df.isna().sum()"
      ],
      "metadata": {
        "colab": {
          "base_uri": "https://localhost:8080/"
        },
        "id": "4e5gld0M7vTF",
        "outputId": "6664fdb1-05c3-4534-ac00-38b7a1dabea0"
      },
      "execution_count": null,
      "outputs": [
        {
          "output_type": "execute_result",
          "data": {
            "text/plain": [
              "iddeputado          0\n",
              "idspl               0\n",
              "idua                0\n",
              "situacao            0\n",
              "andar               1\n",
              "aniversario         0\n",
              "biografia           0\n",
              "email               0\n",
              "matricula           0\n",
              "nomeparlamentar     0\n",
              "pathfoto            0\n",
              "sala                0\n",
              "partido             0\n",
              "telefone            0\n",
              "fax                82\n",
              "placaeiculo        92\n",
              "dtype: int64"
            ]
          },
          "metadata": {},
          "execution_count": 55
        }
      ]
    },
    {
      "cell_type": "markdown",
      "source": [
        "# Filtros para tratamento\n"
      ],
      "metadata": {
        "id": "LamUiz1L8TRn"
      }
    },
    {
      "cell_type": "code",
      "source": [
        "#filtro par arrumar os nomes dos fornecadores\n",
        "filtroforne = df.fornecedor.isna()\n",
        "ftforne = df.fornecedor == 'SOFT ÃGUA MINERAL NATURAL LTDA. - ME'"
      ],
      "metadata": {
        "id": "4bqlOObv8ZjP"
      },
      "execution_count": null,
      "outputs": []
    },
    {
      "cell_type": "code",
      "source": [
        "df.loc[ftforne]"
      ],
      "metadata": {
        "id": "kYR_hDVV9jX8"
      },
      "execution_count": null,
      "outputs": []
    },
    {
      "cell_type": "markdown",
      "source": [
        "# Nomes fornecedores"
      ],
      "metadata": {
        "id": "W_671FJp-OFT"
      }
    },
    {
      "cell_type": "code",
      "source": [
        "df.replace(['ÃGUA E GELO COM DE REFRIGERAÃÃO LTDA. - ME'],['agua e gelo com refrigerante ltda - me'], inplace=True)"
      ],
      "metadata": {
        "id": "G8DfAfoc-R7F"
      },
      "execution_count": null,
      "outputs": []
    },
    {
      "cell_type": "code",
      "source": [
        "df.replace(['AUTO POSTO VANUTRE LTDA'],['auto posto vanutre ltda'], inplace=True)"
      ],
      "metadata": {
        "id": "HB4Ix0OI-r5n"
      },
      "execution_count": null,
      "outputs": []
    },
    {
      "cell_type": "code",
      "source": [
        "df.replace(['S.D.LUIZARI & CIA. LTDA.'],['s.d.luizardi e cia ltda'], inplace=True)"
      ],
      "metadata": {
        "id": "PXnhLvZX-9h4"
      },
      "execution_count": null,
      "outputs": []
    },
    {
      "cell_type": "code",
      "source": [
        "df.replace(['AUTO POSTO EXECUTIVO LTDA'],['auto posto executivo ltda'], inplace=True)"
      ],
      "metadata": {
        "id": "WoTp4Rsg_OJH"
      },
      "execution_count": null,
      "outputs": []
    },
    {
      "cell_type": "code",
      "source": [
        "df.replace(['CROMOGRAF GRAFICA DE PRESIDENTE PRUDENTE LTDA - EPP'],['cromograf grafica de presidente prudente ltda - epp'], inplace=True)"
      ],
      "metadata": {
        "id": "SHtq317O_nmB"
      },
      "execution_count": null,
      "outputs": []
    },
    {
      "cell_type": "code",
      "source": [
        "df.replace(['FYIVAS SOLUÃÃES EM TECNOLOGIA LTDA ME'],['fyivas solucoes em tecnologia ltda me'], inplace=True)"
      ],
      "metadata": {
        "id": "F_xDWKWr__zI"
      },
      "execution_count": null,
      "outputs": []
    },
    {
      "cell_type": "code",
      "source": [
        "df.replace(['MARIA INES SINISGALLI'],['maria ines sinisgalli'], inplace=True)"
      ],
      "metadata": {
        "id": "3L3CTdRLAYOB"
      },
      "execution_count": null,
      "outputs": []
    },
    {
      "cell_type": "code",
      "source": [
        "df.replace(['SECRETARIA MUNICIPAL DA FAZENDA'],['secretaria municipal da fazenda'], inplace=True)"
      ],
      "metadata": {
        "id": "Ouvm6Uk5An56"
      },
      "execution_count": null,
      "outputs": []
    },
    {
      "cell_type": "code",
      "source": [
        "df.replace(['CONDOMINIO EDIF IBIRAPUERA PLAZA CENTER'], ['condominio edif ibirapuera plaa center'], inplace=True)"
      ],
      "metadata": {
        "id": "9SINg6v6A--t"
      },
      "execution_count": null,
      "outputs": []
    },
    {
      "cell_type": "code",
      "source": [
        "df.replace(['UNIDAS VEÃCULOS ESPECIAIS S.A.'], ['unidas veiculos especiais s.a'], inplace=True)"
      ],
      "metadata": {
        "id": "S8fbqTS0BQqz"
      },
      "execution_count": null,
      "outputs": []
    },
    {
      "cell_type": "code",
      "source": [
        "df.replace(['B J COM DE COMBUSTIVEIS E LUBR DE OURINHOS LTDA'], ['b j com de combustiveis e lubr de outinhos ltda'], inplace=True)"
      ],
      "metadata": {
        "id": "5aFQwxeiBrhC"
      },
      "execution_count": null,
      "outputs": []
    },
    {
      "cell_type": "code",
      "source": [
        "df.replace(['CAIO COMERCIO DE EMBALAGENS LTDA - EPP'], ['caio comercia de embalagens ltda - epp'], inplace=True)"
      ],
      "metadata": {
        "id": "MMhFDUelB3Xr"
      },
      "execution_count": null,
      "outputs": []
    },
    {
      "cell_type": "code",
      "source": [
        "df.replace(['SORVECON PRODUTOS ALIMENTICIOS LTDA'], ['sorvecon produtos alimenticios ltda'], inplace=True)"
      ],
      "metadata": {
        "id": "IxzKJSy2CG1b"
      },
      "execution_count": null,
      "outputs": []
    },
    {
      "cell_type": "code",
      "source": [
        "df.replace(['M.J.FONSECA GUARDIA INFORMATICA LTDA'], ['m.j fonseca guardia informatica ltda'], inplace=True)"
      ],
      "metadata": {
        "id": "GRhYjswFCJq4"
      },
      "execution_count": null,
      "outputs": []
    },
    {
      "cell_type": "code",
      "source": [
        "df.replace(['GRÃFICA PRUDENTINA LTDA.'], ['gradica prudentina ltda'], inplace=True)"
      ],
      "metadata": {
        "id": "vZy4NVFCCLU7"
      },
      "execution_count": null,
      "outputs": []
    },
    {
      "cell_type": "code",
      "source": [
        "df.replace(['STETNET TELECOM LTDA-ME'], ['stetnet telecom ltda-me'], inplace=True)"
      ],
      "metadata": {
        "id": "KYxpRsD-CM2I"
      },
      "execution_count": null,
      "outputs": []
    },
    {
      "cell_type": "code",
      "source": [
        "df.replace(['TELEFONICA BRASIL S/A.'], ['telefonica brasil s-a'], inplace=True)"
      ],
      "metadata": {
        "id": "0Rimo_ONCOih"
      },
      "execution_count": null,
      "outputs": []
    },
    {
      "cell_type": "code",
      "source": [
        "df.replace(['ENERGISA SUL-SUDESTE - DISTRIBUIDORA DE ENERGIA S.A.'], ['energisa sul suldeste distr de energia s.a'], inplace=True)"
      ],
      "metadata": {
        "id": "QiDPQNMWCRxS"
      },
      "execution_count": null,
      "outputs": []
    },
    {
      "cell_type": "code",
      "source": [
        "df.replace(['EMBRATEL'], ['embratel'], inplace=True)"
      ],
      "metadata": {
        "id": "RD3LzsLLCUrp"
      },
      "execution_count": null,
      "outputs": []
    },
    {
      "cell_type": "code",
      "source": [
        "df.replace(['CIA. DE SANEAMENTO BÃSICO DO ESTADO DE SÃO PAULO - SABESP'], ['cia de saneamento basico do estado de sao paulo - sabesp'], inplace=True)"
      ],
      "metadata": {
        "id": "D_TXw2VaCcOr"
      },
      "execution_count": null,
      "outputs": []
    },
    {
      "cell_type": "code",
      "source": [
        "df.replace(['GOL LINHAS AREAS INTELIGENTES'], ['gol linhas areas inteligentes'], inplace=True)"
      ],
      "metadata": {
        "id": "aQ72IlABCcyY"
      },
      "execution_count": null,
      "outputs": []
    },
    {
      "cell_type": "code",
      "source": [
        "df.replace(['CHOPERIA E LANCHONETE H2 LTDA - EPP'], ['choperia e lanchonet h2 ltada - epp'], inplace=True)"
      ],
      "metadata": {
        "id": "GmMPZydtCexZ"
      },
      "execution_count": null,
      "outputs": []
    },
    {
      "cell_type": "code",
      "source": [
        "df.replace(['UBIRAJARA MOURÃO COELHO'], ['ubirajara mourao coelho'], inplace=True)"
      ],
      "metadata": {
        "id": "P-oMZkybCgbp"
      },
      "execution_count": null,
      "outputs": []
    },
    {
      "cell_type": "code",
      "source": [
        "df.replace(['TERESINHA BARRETO COIMBRA'], ['teresinha barreto coimbra'], inplace=True)"
      ],
      "metadata": {
        "id": "m5YBiJ0qCiBi"
      },
      "execution_count": null,
      "outputs": []
    },
    {
      "cell_type": "code",
      "source": [
        "df.replace(['MILTON KIYOSHI KANAWA'], ['milton kiyoshi kanawa'], inplace=True)"
      ],
      "metadata": {
        "id": "aHMvt-q3ClEh"
      },
      "execution_count": null,
      "outputs": []
    },
    {
      "cell_type": "code",
      "source": [
        "df.replace(['VEGASCOM TELECOM COM ASSIST TEC TEL P PTE LTDA ME'], ['vegascom telecom com assist tec tel p pte ltda me'], inplace=True)"
      ],
      "metadata": {
        "id": "RWGcXXE-Cm8w"
      },
      "execution_count": null,
      "outputs": []
    },
    {
      "cell_type": "code",
      "source": [
        "df.replace(['HOME SAFETY - EDISON GARANHANI EPP'], ['home safety - edison garanhani epp'], inplace=True)"
      ],
      "metadata": {
        "id": "9iQTaTmDCnYY"
      },
      "execution_count": null,
      "outputs": []
    },
    {
      "cell_type": "code",
      "source": [
        "df.replace(['A Z COMERCIO DE COMBUSTIVEIS LTDA'], ['a z comercio de combustiveis ltda'], inplace=True)"
      ],
      "metadata": {
        "id": "clgp1smCCpa8"
      },
      "execution_count": null,
      "outputs": []
    },
    {
      "cell_type": "code",
      "source": [
        "df.replace(['PREFEITURA MUNICIPAL DE PRESIDENTE PRUDENTE'], ['prefeitura municipal de presidente prudente'], inplace=True)"
      ],
      "metadata": {
        "id": "hlnni7ylCvsH"
      },
      "execution_count": null,
      "outputs": []
    },
    {
      "cell_type": "code",
      "source": [
        "df.replace(['RIFANE COM DE MATERIAIS HIDRAULICOS LTDA'], ['rifane com de materias hidraulicos ltda'], inplace=True)"
      ],
      "metadata": {
        "id": "2tX65i7cExwk"
      },
      "execution_count": null,
      "outputs": []
    },
    {
      "cell_type": "code",
      "source": [
        "df.replace(['SOFT ÃGUA MINERAL NATURAL LTDA. - ME'], ['soft agua mineral nat ltda me'], inplace=True)"
      ],
      "metadata": {
        "id": "LIwPUBdCE2QJ"
      },
      "execution_count": null,
      "outputs": []
    },
    {
      "cell_type": "code",
      "source": [
        "df.replace(['PAPELARIA E INFORMATICA MARROLIVER LTDA-MF'], ['papelaria e inform marroliver ltda-mf'], inplace=True)"
      ],
      "metadata": {
        "id": "tt9Dhf5RE4yV"
      },
      "execution_count": null,
      "outputs": []
    },
    {
      "cell_type": "code",
      "source": [
        "df.replace(['LEONICE APARECIDA DEMARQUE - ME'], ['leonice aparecida demarque me'], inplace=True)"
      ],
      "metadata": {
        "id": "MBrwy0TWE6ai"
      },
      "execution_count": null,
      "outputs": []
    },
    {
      "cell_type": "code",
      "source": [
        "df.replace(['KALUNGA COM. E IND. GRÃFICA LTDA.'], ['kalunga com e ind grafica ltda'], inplace=True)"
      ],
      "metadata": {
        "id": "piUGeMumE8F5"
      },
      "execution_count": null,
      "outputs": []
    },
    {
      "cell_type": "code",
      "source": [
        "df.replace(['INSTITUTO MENSAGEIROS'], ['instituto mensageiros'], inplace=True)"
      ],
      "metadata": {
        "id": "dGMaFM3SE-lA"
      },
      "execution_count": null,
      "outputs": []
    },
    {
      "cell_type": "code",
      "source": [
        "df.replace(['ECT - EMP.BRAS. DE CORREIOS E TELÃGRAFOS'], ['ect - emp.bras de correiros e telgrafos'], inplace=True)"
      ],
      "metadata": {
        "id": "ow2fx-OiFHBb"
      },
      "execution_count": null,
      "outputs": []
    },
    {
      "cell_type": "code",
      "source": [
        "df.replace(['J. L. AUTO ELÃTRICA LTDA. - ME'], ['j. l. auto eletrica ltda - me'], inplace=True)"
      ],
      "metadata": {
        "id": "0V_p5B8pFMYT"
      },
      "execution_count": null,
      "outputs": []
    },
    {
      "cell_type": "code",
      "source": [
        "df.replace(['SOFT ÃGUA MINERAL NATURAL LTDA. - ME'], ['soft agua mineral natural ltda'], inplace=True)"
      ],
      "metadata": {
        "id": "mNnlQ18eFhLs"
      },
      "execution_count": null,
      "outputs": []
    },
    {
      "cell_type": "code",
      "source": [
        "df.replace(['AUTO POSTO SANTA TEREZINHA DE AVARE LTDA'], ['auto posto santa terezinha de avare ltda'], inplace=True)"
      ],
      "metadata": {
        "id": "0NDYaMUdFh6k"
      },
      "execution_count": null,
      "outputs": []
    },
    {
      "cell_type": "code",
      "source": [
        "df.replace(['SOFT ÃGUA MINERAL NATURAL LTDA. - ME'], ['soft agua mineral natural ltda'], inplace=True)"
      ],
      "metadata": {
        "id": "ABNJPVa6HPmR"
      },
      "execution_count": null,
      "outputs": []
    },
    {
      "cell_type": "code",
      "source": [
        "POSTO SANTA LUZIA DE RANCHARIA LTDA df.replace(['SOFT ÃGUA MINERAL NATURAL LTDA. - ME'], ['soft agua mineral natural ltda'], inplace=True)"
      ],
      "metadata": {
        "id": "jadr92O6HRxA"
      },
      "execution_count": null,
      "outputs": []
    },
    {
      "cell_type": "code",
      "source": [
        "AUTO POSTO GD LTDA df.replace(['SOFT ÃGUA MINERAL NATURAL LTDA. - ME'], ['soft agua mineral natural ltda'], inplace=True)"
      ],
      "metadata": {
        "id": "v4lIRYoUHTSL"
      },
      "execution_count": null,
      "outputs": []
    },
    {
      "cell_type": "code",
      "source": [
        "AUTO ELETRICA SOARES E SILVA LTDA - EPP df.replace(['SOFT ÃGUA MINERAL NATURAL LTDA. - ME'], ['soft agua mineral natural ltda'], inplace=True)"
      ],
      "metadata": {
        "id": "OoSaT7tjHWNp"
      },
      "execution_count": null,
      "outputs": []
    },
    {
      "cell_type": "code",
      "source": [
        "EDITORA IMPRENSA LTDA df.replace(['SOFT ÃGUA MINERAL NATURAL LTDA. - ME'], ['soft agua mineral natural ltda'], inplace=True)"
      ],
      "metadata": {
        "id": "Eil58PjqHYWw"
      },
      "execution_count": null,
      "outputs": []
    },
    {
      "cell_type": "code",
      "source": [
        "RADIAL PNEUS CENTRO AUTOMOTIVO LTDA-ME df.replace(['SOFT ÃGUA MINERAL NATURAL LTDA. - ME'], ['soft agua mineral natural ltda'], inplace=True)"
      ],
      "metadata": {
        "id": "Fg43BPUjHbq5"
      },
      "execution_count": null,
      "outputs": []
    },
    {
      "cell_type": "code",
      "source": [
        "POSTO SANTA LUZIA DE RANCHARIA LTDA df.replace(['SOFT ÃGUA MINERAL NATURAL LTDA. - ME'], ['soft agua mineral natural ltda'], inplace=True)"
      ],
      "metadata": {
        "id": "Cue0H2ZuHdvS"
      },
      "execution_count": null,
      "outputs": []
    },
    {
      "cell_type": "code",
      "source": [
        "AUTO POSTO DOM ALIPIO DE PRES. EPITACIO LTDA df.replace(['SOFT ÃGUA MINERAL NATURAL LTDA. - ME'], ['soft agua mineral natural ltda'], inplace=True)"
      ],
      "metadata": {
        "id": "Lo2sXvtYHfcj"
      },
      "execution_count": null,
      "outputs": []
    },
    {
      "cell_type": "code",
      "source": [
        "\tAUTO POSTO BELETATO LTDA df.replace(['SOFT ÃGUA MINERAL NATURAL LTDA. - ME'], ['soft agua mineral natural ltda'], inplace=True)"
      ],
      "metadata": {
        "id": "FwLRJAk9HhER"
      },
      "execution_count": null,
      "outputs": []
    },
    {
      "cell_type": "code",
      "source": [
        "\tAUTO POSTO 3 AMIGOS LTDA df.replace(['SOFT ÃGUA MINERAL NATURAL LTDA. - ME'], ['soft agua mineral natural ltda'], inplace=True)"
      ],
      "metadata": {
        "id": "GKnovrPmHifK"
      },
      "execution_count": null,
      "outputs": []
    },
    {
      "cell_type": "code",
      "source": [
        "\tPOSTO DE SERVIÃO VENEZA LTDA df.replace(['SOFT ÃGUA MINERAL NATURAL LTDA. - ME'], ['soft agua mineral natural ltda'], inplace=True)"
      ],
      "metadata": {
        "id": "6gJvhhw9Hj2k"
      },
      "execution_count": null,
      "outputs": []
    },
    {
      "cell_type": "code",
      "source": [
        "POSTO RODOSERV STAR LTDA df.replace(['SOFT ÃGUA MINERAL NATURAL LTDA. - ME'], ['soft agua mineral natural ltda'], inplace=True)"
      ],
      "metadata": {
        "id": "v9Qr1UuaHleV"
      },
      "execution_count": null,
      "outputs": []
    },
    {
      "cell_type": "code",
      "source": [
        "\tAUTO POSTO MACEIO LTDA df.replace(['SOFT ÃGUA MINERAL NATURAL LTDA. - ME'], ['soft agua mineral natural ltda'], inplace=True)"
      ],
      "metadata": {
        "id": "sbYV2FIlHnK1"
      },
      "execution_count": null,
      "outputs": []
    },
    {
      "cell_type": "code",
      "source": [
        "\tTAXI df.replace(['SOFT ÃGUA MINERAL NATURAL LTDA. - ME'], ['soft agua mineral natural ltda'], inplace=True)"
      ],
      "metadata": {
        "id": "ovAs1DbMHoqR"
      },
      "execution_count": null,
      "outputs": []
    },
    {
      "cell_type": "code",
      "source": [
        "\tEMPRESA DE TRANSPORTES ANDORINHA S/A. df.replace(['SOFT ÃGUA MINERAL NATURAL LTDA. - ME'], ['soft agua mineral natural ltda'], inplace=True)"
      ],
      "metadata": {
        "id": "6GAMgv_iHqHc"
      },
      "execution_count": null,
      "outputs": []
    },
    {
      "cell_type": "code",
      "source": [],
      "metadata": {
        "id": "hr4bqC8GHtOh"
      },
      "execution_count": null,
      "outputs": []
    },
    {
      "cell_type": "code",
      "source": [
        "df"
      ],
      "metadata": {
        "colab": {
          "base_uri": "https://localhost:8080/",
          "height": 672
        },
        "id": "AZS8OrO3-iqS",
        "outputId": "b192bd83-d061-486b-ed8f-c26f53eccbb4"
      },
      "execution_count": null,
      "outputs": [
        {
          "output_type": "execute_result",
          "data": {
            "text/plain": [
              "         ano  matricula  mes    valor          cnpj  \\\n",
              "0       2013     300098    1   575.53  5.049700e+11   \n",
              "1       2013     300098    1  1650.76  4.881450e+13   \n",
              "2       2013     300098    1  1799.29  6.586291e+13   \n",
              "3       2013     300098    1    36.40           NaN   \n",
              "4       2013     300098    1  3100.00  9.904660e+11   \n",
              "...      ...        ...  ...      ...           ...   \n",
              "118412  2022     300655    9  1250.00  1.531481e+13   \n",
              "118413  2022     300655    9  2500.00  6.729494e+10   \n",
              "118414  2022     300655    9   599.29  4.639213e+13   \n",
              "118415  2022     300655    9  1836.13  6.106391e+13   \n",
              "118416  2022     300655    9  2835.90  2.491558e+12   \n",
              "\n",
              "                                                     tipo  \\\n",
              "0                        a - combustiveis e lubrificantes   \n",
              "1                        a - combustiveis e lubrificantes   \n",
              "2                        a - combustiveis e lubrificantes   \n",
              "3       c - materiais e servicos de manut e conserv de...   \n",
              "4                        d - materias e servicos graficos   \n",
              "...                                                   ...   \n",
              "118412                      k - locacao de bens materiais   \n",
              "118413                        l - locacao de bens imoveis   \n",
              "118414  m - manutencao de bens moveis, imoveis, condom...   \n",
              "118415  m - manutencao de bens moveis, imoveis, condom...   \n",
              "118416                            o - locacao de veiculos   \n",
              "\n",
              "                                               fornecedor  \n",
              "0                                 auto posto vanutre ltda  \n",
              "1                                 s.d.luizardi e cia ltda  \n",
              "2                               auto posto executivo ltda  \n",
              "3                                                pedagios  \n",
              "4       cromograf grafica de presidente prudente ltda ...  \n",
              "...                                                   ...  \n",
              "118412              fyivas solucoes em tecnologia ltda me  \n",
              "118413                              maria ines sinisgalli  \n",
              "118414                    secretaria municipal da fazenda  \n",
              "118415             condominio edif ibirapuera plaa center  \n",
              "118416                      unidas veiculos especiais s.a  \n",
              "\n",
              "[118417 rows x 7 columns]"
            ],
            "text/html": [
              "\n",
              "  <div id=\"df-0ccba6bb-fd45-404e-a00b-ee912f7ef90c\">\n",
              "    <div class=\"colab-df-container\">\n",
              "      <div>\n",
              "<style scoped>\n",
              "    .dataframe tbody tr th:only-of-type {\n",
              "        vertical-align: middle;\n",
              "    }\n",
              "\n",
              "    .dataframe tbody tr th {\n",
              "        vertical-align: top;\n",
              "    }\n",
              "\n",
              "    .dataframe thead th {\n",
              "        text-align: right;\n",
              "    }\n",
              "</style>\n",
              "<table border=\"1\" class=\"dataframe\">\n",
              "  <thead>\n",
              "    <tr style=\"text-align: right;\">\n",
              "      <th></th>\n",
              "      <th>ano</th>\n",
              "      <th>matricula</th>\n",
              "      <th>mes</th>\n",
              "      <th>valor</th>\n",
              "      <th>cnpj</th>\n",
              "      <th>tipo</th>\n",
              "      <th>fornecedor</th>\n",
              "    </tr>\n",
              "  </thead>\n",
              "  <tbody>\n",
              "    <tr>\n",
              "      <th>0</th>\n",
              "      <td>2013</td>\n",
              "      <td>300098</td>\n",
              "      <td>1</td>\n",
              "      <td>575.53</td>\n",
              "      <td>5.049700e+11</td>\n",
              "      <td>a - combustiveis e lubrificantes</td>\n",
              "      <td>auto posto vanutre ltda</td>\n",
              "    </tr>\n",
              "    <tr>\n",
              "      <th>1</th>\n",
              "      <td>2013</td>\n",
              "      <td>300098</td>\n",
              "      <td>1</td>\n",
              "      <td>1650.76</td>\n",
              "      <td>4.881450e+13</td>\n",
              "      <td>a - combustiveis e lubrificantes</td>\n",
              "      <td>s.d.luizardi e cia ltda</td>\n",
              "    </tr>\n",
              "    <tr>\n",
              "      <th>2</th>\n",
              "      <td>2013</td>\n",
              "      <td>300098</td>\n",
              "      <td>1</td>\n",
              "      <td>1799.29</td>\n",
              "      <td>6.586291e+13</td>\n",
              "      <td>a - combustiveis e lubrificantes</td>\n",
              "      <td>auto posto executivo ltda</td>\n",
              "    </tr>\n",
              "    <tr>\n",
              "      <th>3</th>\n",
              "      <td>2013</td>\n",
              "      <td>300098</td>\n",
              "      <td>1</td>\n",
              "      <td>36.40</td>\n",
              "      <td>NaN</td>\n",
              "      <td>c - materiais e servicos de manut e conserv de...</td>\n",
              "      <td>pedagios</td>\n",
              "    </tr>\n",
              "    <tr>\n",
              "      <th>4</th>\n",
              "      <td>2013</td>\n",
              "      <td>300098</td>\n",
              "      <td>1</td>\n",
              "      <td>3100.00</td>\n",
              "      <td>9.904660e+11</td>\n",
              "      <td>d - materias e servicos graficos</td>\n",
              "      <td>cromograf grafica de presidente prudente ltda ...</td>\n",
              "    </tr>\n",
              "    <tr>\n",
              "      <th>...</th>\n",
              "      <td>...</td>\n",
              "      <td>...</td>\n",
              "      <td>...</td>\n",
              "      <td>...</td>\n",
              "      <td>...</td>\n",
              "      <td>...</td>\n",
              "      <td>...</td>\n",
              "    </tr>\n",
              "    <tr>\n",
              "      <th>118412</th>\n",
              "      <td>2022</td>\n",
              "      <td>300655</td>\n",
              "      <td>9</td>\n",
              "      <td>1250.00</td>\n",
              "      <td>1.531481e+13</td>\n",
              "      <td>k - locacao de bens materiais</td>\n",
              "      <td>fyivas solucoes em tecnologia ltda me</td>\n",
              "    </tr>\n",
              "    <tr>\n",
              "      <th>118413</th>\n",
              "      <td>2022</td>\n",
              "      <td>300655</td>\n",
              "      <td>9</td>\n",
              "      <td>2500.00</td>\n",
              "      <td>6.729494e+10</td>\n",
              "      <td>l - locacao de bens imoveis</td>\n",
              "      <td>maria ines sinisgalli</td>\n",
              "    </tr>\n",
              "    <tr>\n",
              "      <th>118414</th>\n",
              "      <td>2022</td>\n",
              "      <td>300655</td>\n",
              "      <td>9</td>\n",
              "      <td>599.29</td>\n",
              "      <td>4.639213e+13</td>\n",
              "      <td>m - manutencao de bens moveis, imoveis, condom...</td>\n",
              "      <td>secretaria municipal da fazenda</td>\n",
              "    </tr>\n",
              "    <tr>\n",
              "      <th>118415</th>\n",
              "      <td>2022</td>\n",
              "      <td>300655</td>\n",
              "      <td>9</td>\n",
              "      <td>1836.13</td>\n",
              "      <td>6.106391e+13</td>\n",
              "      <td>m - manutencao de bens moveis, imoveis, condom...</td>\n",
              "      <td>condominio edif ibirapuera plaa center</td>\n",
              "    </tr>\n",
              "    <tr>\n",
              "      <th>118416</th>\n",
              "      <td>2022</td>\n",
              "      <td>300655</td>\n",
              "      <td>9</td>\n",
              "      <td>2835.90</td>\n",
              "      <td>2.491558e+12</td>\n",
              "      <td>o - locacao de veiculos</td>\n",
              "      <td>unidas veiculos especiais s.a</td>\n",
              "    </tr>\n",
              "  </tbody>\n",
              "</table>\n",
              "<p>118417 rows × 7 columns</p>\n",
              "</div>\n",
              "      <button class=\"colab-df-convert\" onclick=\"convertToInteractive('df-0ccba6bb-fd45-404e-a00b-ee912f7ef90c')\"\n",
              "              title=\"Convert this dataframe to an interactive table.\"\n",
              "              style=\"display:none;\">\n",
              "        \n",
              "  <svg xmlns=\"http://www.w3.org/2000/svg\" height=\"24px\"viewBox=\"0 0 24 24\"\n",
              "       width=\"24px\">\n",
              "    <path d=\"M0 0h24v24H0V0z\" fill=\"none\"/>\n",
              "    <path d=\"M18.56 5.44l.94 2.06.94-2.06 2.06-.94-2.06-.94-.94-2.06-.94 2.06-2.06.94zm-11 1L8.5 8.5l.94-2.06 2.06-.94-2.06-.94L8.5 2.5l-.94 2.06-2.06.94zm10 10l.94 2.06.94-2.06 2.06-.94-2.06-.94-.94-2.06-.94 2.06-2.06.94z\"/><path d=\"M17.41 7.96l-1.37-1.37c-.4-.4-.92-.59-1.43-.59-.52 0-1.04.2-1.43.59L10.3 9.45l-7.72 7.72c-.78.78-.78 2.05 0 2.83L4 21.41c.39.39.9.59 1.41.59.51 0 1.02-.2 1.41-.59l7.78-7.78 2.81-2.81c.8-.78.8-2.07 0-2.86zM5.41 20L4 18.59l7.72-7.72 1.47 1.35L5.41 20z\"/>\n",
              "  </svg>\n",
              "      </button>\n",
              "      \n",
              "  <style>\n",
              "    .colab-df-container {\n",
              "      display:flex;\n",
              "      flex-wrap:wrap;\n",
              "      gap: 12px;\n",
              "    }\n",
              "\n",
              "    .colab-df-convert {\n",
              "      background-color: #E8F0FE;\n",
              "      border: none;\n",
              "      border-radius: 50%;\n",
              "      cursor: pointer;\n",
              "      display: none;\n",
              "      fill: #1967D2;\n",
              "      height: 32px;\n",
              "      padding: 0 0 0 0;\n",
              "      width: 32px;\n",
              "    }\n",
              "\n",
              "    .colab-df-convert:hover {\n",
              "      background-color: #E2EBFA;\n",
              "      box-shadow: 0px 1px 2px rgba(60, 64, 67, 0.3), 0px 1px 3px 1px rgba(60, 64, 67, 0.15);\n",
              "      fill: #174EA6;\n",
              "    }\n",
              "\n",
              "    [theme=dark] .colab-df-convert {\n",
              "      background-color: #3B4455;\n",
              "      fill: #D2E3FC;\n",
              "    }\n",
              "\n",
              "    [theme=dark] .colab-df-convert:hover {\n",
              "      background-color: #434B5C;\n",
              "      box-shadow: 0px 1px 3px 1px rgba(0, 0, 0, 0.15);\n",
              "      filter: drop-shadow(0px 1px 2px rgba(0, 0, 0, 0.3));\n",
              "      fill: #FFFFFF;\n",
              "    }\n",
              "  </style>\n",
              "\n",
              "      <script>\n",
              "        const buttonEl =\n",
              "          document.querySelector('#df-0ccba6bb-fd45-404e-a00b-ee912f7ef90c button.colab-df-convert');\n",
              "        buttonEl.style.display =\n",
              "          google.colab.kernel.accessAllowed ? 'block' : 'none';\n",
              "\n",
              "        async function convertToInteractive(key) {\n",
              "          const element = document.querySelector('#df-0ccba6bb-fd45-404e-a00b-ee912f7ef90c');\n",
              "          const dataTable =\n",
              "            await google.colab.kernel.invokeFunction('convertToInteractive',\n",
              "                                                     [key], {});\n",
              "          if (!dataTable) return;\n",
              "\n",
              "          const docLinkHtml = 'Like what you see? Visit the ' +\n",
              "            '<a target=\"_blank\" href=https://colab.research.google.com/notebooks/data_table.ipynb>data table notebook</a>'\n",
              "            + ' to learn more about interactive tables.';\n",
              "          element.innerHTML = '';\n",
              "          dataTable['output_type'] = 'display_data';\n",
              "          await google.colab.output.renderOutput(dataTable, element);\n",
              "          const docLink = document.createElement('div');\n",
              "          docLink.innerHTML = docLinkHtml;\n",
              "          element.appendChild(docLink);\n",
              "        }\n",
              "      </script>\n",
              "    </div>\n",
              "  </div>\n",
              "  "
            ]
          },
          "metadata": {},
          "execution_count": 155
        },
        {
          "output_type": "stream",
          "name": "stdout",
          "text": [
            "Warning: total number of rows (118417) exceeds max_rows (20000). Limiting to first (20000) rows.\n"
          ]
        }
      ]
    }
  ]
}