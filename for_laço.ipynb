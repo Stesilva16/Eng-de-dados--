{
  "nbformat": 4,
  "nbformat_minor": 0,
  "metadata": {
    "colab": {
      "provenance": [],
      "include_colab_link": true
    },
    "kernelspec": {
      "name": "python3",
      "display_name": "Python 3"
    },
    "language_info": {
      "name": "python"
    }
  },
  "cells": [
    {
      "cell_type": "markdown",
      "metadata": {
        "id": "view-in-github",
        "colab_type": "text"
      },
      "source": [
        "<a href=\"https://colab.research.google.com/github/Stesilva16/Eng-de-dados--/blob/main/for_la%C3%A7o.ipynb\" target=\"_parent\"><img src=\"https://colab.research.google.com/assets/colab-badge.svg\" alt=\"Open In Colab\"/></a>"
      ]
    },
    {
      "cell_type": "code",
      "execution_count": null,
      "metadata": {
        "colab": {
          "base_uri": "https://localhost:8080/"
        },
        "id": "R6Tz3G3UoXWZ",
        "outputId": "0d7c3c27-bd7c-46e3-f876-74b4c3d5f12f"
      },
      "outputs": [
        {
          "output_type": "stream",
          "name": "stdout",
          "text": [
            "0\n",
            "1\n",
            "2\n",
            "3\n",
            "4\n",
            "5\n",
            "6\n",
            "7\n",
            "8\n",
            "9\n"
          ]
        }
      ],
      "source": [
        "# SINTAXE for contador in range(valor_inicial_do_contador,valor_de_parada_contador,\n",
        "# passo ou incremento ou decremento)\n",
        "\n",
        "for i in range(1, 11, 1):\n",
        "  print(i, end=' ')\n",
        "\n",
        "#Usando apenas um parâmetro no range\n",
        "\n",
        "for i in range(10): #por padrão valor_inicial = 0, passo = 1\n",
        "  print(i)\n",
        "\n",
        "#Usando apenas 2 parâmetros\n",
        "\n",
        "for i in range(1, 10):#por padrão passo = 1\n",
        "  print(i)\n",
        "\n",
        "for i in range (10):\n",
        "  print(i)"
      ]
    },
    {
      "cell_type": "code",
      "source": [
        "#1) Crie um programa em Python que escreva na tela os números de 250 a 120 em ordem decrescente.\n",
        "\n",
        "for i in range(250, 119, -1):\n",
        "  print(i, end=\" \")\n"
      ],
      "metadata": {
        "colab": {
          "base_uri": "https://localhost:8080/"
        },
        "id": "nNLi2nILqSET",
        "outputId": "c4106274-fb43-432a-c617-c862e80de663"
      },
      "execution_count": null,
      "outputs": [
        {
          "output_type": "stream",
          "name": "stdout",
          "text": [
            "250 249 248 247 246 245 244 243 242 241 240 239 238 237 236 235 234 233 232 231 230 229 228 227 226 225 224 223 222 221 220 219 218 217 216 215 214 213 212 211 210 209 208 207 206 205 204 203 202 201 200 199 198 197 196 195 194 193 192 191 190 189 188 187 186 185 184 183 182 181 180 179 178 177 176 175 174 173 172 171 170 169 168 167 166 165 164 163 162 161 160 159 158 157 156 155 154 153 152 151 150 149 148 147 146 145 144 143 142 141 140 139 138 137 136 135 134 133 132 131 130 129 128 127 126 125 124 123 122 121 120 "
          ]
        }
      ]
    },
    {
      "cell_type": "code",
      "source": [
        "#2) Crie um programa em Python que escreva na tela os números de 1000 a 1500 em ordem crescente.\n",
        "\n",
        "for i in range(100, 1501, 1):\n",
        "  print(i , end = ' ')\n"
      ],
      "metadata": {
        "colab": {
          "base_uri": "https://localhost:8080/"
        },
        "id": "IXdboqkzr2wr",
        "outputId": "23fefe60-d96a-45e5-9f62-0711c00cae04"
      },
      "execution_count": null,
      "outputs": [
        {
          "output_type": "stream",
          "name": "stdout",
          "text": [
            "100 101 102 103 104 105 106 107 108 109 110 111 112 113 114 115 116 117 118 119 120 121 122 123 124 125 126 127 128 129 130 131 132 133 134 135 136 137 138 139 140 141 142 143 144 145 146 147 148 149 150 151 152 153 154 155 156 157 158 159 160 161 162 163 164 165 166 167 168 169 170 171 172 173 174 175 176 177 178 179 180 181 182 183 184 185 186 187 188 189 190 191 192 193 194 195 196 197 198 199 200 201 202 203 204 205 206 207 208 209 210 211 212 213 214 215 216 217 218 219 220 221 222 223 224 225 226 227 228 229 230 231 232 233 234 235 236 237 238 239 240 241 242 243 244 245 246 247 248 249 250 251 252 253 254 255 256 257 258 259 260 261 262 263 264 265 266 267 268 269 270 271 272 273 274 275 276 277 278 279 280 281 282 283 284 285 286 287 288 289 290 291 292 293 294 295 296 297 298 299 300 301 302 303 304 305 306 307 308 309 310 311 312 313 314 315 316 317 318 319 320 321 322 323 324 325 326 327 328 329 330 331 332 333 334 335 336 337 338 339 340 341 342 343 344 345 346 347 348 349 350 351 352 353 354 355 356 357 358 359 360 361 362 363 364 365 366 367 368 369 370 371 372 373 374 375 376 377 378 379 380 381 382 383 384 385 386 387 388 389 390 391 392 393 394 395 396 397 398 399 400 401 402 403 404 405 406 407 408 409 410 411 412 413 414 415 416 417 418 419 420 421 422 423 424 425 426 427 428 429 430 431 432 433 434 435 436 437 438 439 440 441 442 443 444 445 446 447 448 449 450 451 452 453 454 455 456 457 458 459 460 461 462 463 464 465 466 467 468 469 470 471 472 473 474 475 476 477 478 479 480 481 482 483 484 485 486 487 488 489 490 491 492 493 494 495 496 497 498 499 500 501 502 503 504 505 506 507 508 509 510 511 512 513 514 515 516 517 518 519 520 521 522 523 524 525 526 527 528 529 530 531 532 533 534 535 536 537 538 539 540 541 542 543 544 545 546 547 548 549 550 551 552 553 554 555 556 557 558 559 560 561 562 563 564 565 566 567 568 569 570 571 572 573 574 575 576 577 578 579 580 581 582 583 584 585 586 587 588 589 590 591 592 593 594 595 596 597 598 599 600 601 602 603 604 605 606 607 608 609 610 611 612 613 614 615 616 617 618 619 620 621 622 623 624 625 626 627 628 629 630 631 632 633 634 635 636 637 638 639 640 641 642 643 644 645 646 647 648 649 650 651 652 653 654 655 656 657 658 659 660 661 662 663 664 665 666 667 668 669 670 671 672 673 674 675 676 677 678 679 680 681 682 683 684 685 686 687 688 689 690 691 692 693 694 695 696 697 698 699 700 701 702 703 704 705 706 707 708 709 710 711 712 713 714 715 716 717 718 719 720 721 722 723 724 725 726 727 728 729 730 731 732 733 734 735 736 737 738 739 740 741 742 743 744 745 746 747 748 749 750 751 752 753 754 755 756 757 758 759 760 761 762 763 764 765 766 767 768 769 770 771 772 773 774 775 776 777 778 779 780 781 782 783 784 785 786 787 788 789 790 791 792 793 794 795 796 797 798 799 800 801 802 803 804 805 806 807 808 809 810 811 812 813 814 815 816 817 818 819 820 821 822 823 824 825 826 827 828 829 830 831 832 833 834 835 836 837 838 839 840 841 842 843 844 845 846 847 848 849 850 851 852 853 854 855 856 857 858 859 860 861 862 863 864 865 866 867 868 869 870 871 872 873 874 875 876 877 878 879 880 881 882 883 884 885 886 887 888 889 890 891 892 893 894 895 896 897 898 899 900 901 902 903 904 905 906 907 908 909 910 911 912 913 914 915 916 917 918 919 920 921 922 923 924 925 926 927 928 929 930 931 932 933 934 935 936 937 938 939 940 941 942 943 944 945 946 947 948 949 950 951 952 953 954 955 956 957 958 959 960 961 962 963 964 965 966 967 968 969 970 971 972 973 974 975 976 977 978 979 980 981 982 983 984 985 986 987 988 989 990 991 992 993 994 995 996 997 998 999 1000 1001 1002 1003 1004 1005 1006 1007 1008 1009 1010 1011 1012 1013 1014 1015 1016 1017 1018 1019 1020 1021 1022 1023 1024 1025 1026 1027 1028 1029 1030 1031 1032 1033 1034 1035 1036 1037 1038 1039 1040 1041 1042 1043 1044 1045 1046 1047 1048 1049 1050 1051 1052 1053 1054 1055 1056 1057 1058 1059 1060 1061 1062 1063 1064 1065 1066 1067 1068 1069 1070 1071 1072 1073 1074 1075 1076 1077 1078 1079 1080 1081 1082 1083 1084 1085 1086 1087 1088 1089 1090 1091 1092 1093 1094 1095 1096 1097 1098 1099 1100 1101 1102 1103 1104 1105 1106 1107 1108 1109 1110 1111 1112 1113 1114 1115 1116 1117 1118 1119 1120 1121 1122 1123 1124 1125 1126 1127 1128 1129 1130 1131 1132 1133 1134 1135 1136 1137 1138 1139 1140 1141 1142 1143 1144 1145 1146 1147 1148 1149 1150 1151 1152 1153 1154 1155 1156 1157 1158 1159 1160 1161 1162 1163 1164 1165 1166 1167 1168 1169 1170 1171 1172 1173 1174 1175 1176 1177 1178 1179 1180 1181 1182 1183 1184 1185 1186 1187 1188 1189 1190 1191 1192 1193 1194 1195 1196 1197 1198 1199 1200 1201 1202 1203 1204 1205 1206 1207 1208 1209 1210 1211 1212 1213 1214 1215 1216 1217 1218 1219 1220 1221 1222 1223 1224 1225 1226 1227 1228 1229 1230 1231 1232 1233 1234 1235 1236 1237 1238 1239 1240 1241 1242 1243 1244 1245 1246 1247 1248 1249 1250 1251 1252 1253 1254 1255 1256 1257 1258 1259 1260 1261 1262 1263 1264 1265 1266 1267 1268 1269 1270 1271 1272 1273 1274 1275 1276 1277 1278 1279 1280 1281 1282 1283 1284 1285 1286 1287 1288 1289 1290 1291 1292 1293 1294 1295 1296 1297 1298 1299 1300 1301 1302 1303 1304 1305 1306 1307 1308 1309 1310 1311 1312 1313 1314 1315 1316 1317 1318 1319 1320 1321 1322 1323 1324 1325 1326 1327 1328 1329 1330 1331 1332 1333 1334 1335 1336 1337 1338 1339 1340 1341 1342 1343 1344 1345 1346 1347 1348 1349 1350 1351 1352 1353 1354 1355 1356 1357 1358 1359 1360 1361 1362 1363 1364 1365 1366 1367 1368 1369 1370 1371 1372 1373 1374 1375 1376 1377 1378 1379 1380 1381 1382 1383 1384 1385 1386 1387 1388 1389 1390 1391 1392 1393 1394 1395 1396 1397 1398 1399 1400 1401 1402 1403 1404 1405 1406 1407 1408 1409 1410 1411 1412 1413 1414 1415 1416 1417 1418 1419 1420 1421 1422 1423 1424 1425 1426 1427 1428 1429 1430 1431 1432 1433 1434 1435 1436 1437 1438 1439 1440 1441 1442 1443 1444 1445 1446 1447 1448 1449 1450 1451 1452 1453 1454 1455 1456 1457 1458 1459 1460 1461 1462 1463 1464 1465 1466 1467 1468 1469 1470 1471 1472 1473 1474 1475 1476 1477 1478 1479 1480 1481 1482 1483 1484 1485 1486 1487 1488 1489 1490 1491 1492 1493 1494 1495 1496 1497 1498 1499 1500 "
          ]
        }
      ]
    },
    {
      "cell_type": "code",
      "source": [
        "#3) Crie um programa em Python que escreva na tela os números de 150 a 1000 em ordem crescente que\n",
        "#são múltiplos de 3.\n",
        "\n",
        "for i in range(150, 1001, 3):\n",
        "  print(i, end = ' ')"
      ],
      "metadata": {
        "colab": {
          "base_uri": "https://localhost:8080/"
        },
        "id": "mj2rMIvZr409",
        "outputId": "e06206ca-86d9-43f1-de43-f6d97a9b966a"
      },
      "execution_count": null,
      "outputs": [
        {
          "output_type": "stream",
          "name": "stdout",
          "text": [
            "150 153 156 159 162 165 168 171 174 177 180 183 186 189 192 195 198 201 204 207 210 213 216 219 222 225 228 231 234 237 240 243 246 249 252 255 258 261 264 267 270 273 276 279 282 285 288 291 294 297 300 303 306 309 312 315 318 321 324 327 330 333 336 339 342 345 348 351 354 357 360 363 366 369 372 375 378 381 384 387 390 393 396 399 402 405 408 411 414 417 420 423 426 429 432 435 438 441 444 447 450 453 456 459 462 465 468 471 474 477 480 483 486 489 492 495 498 501 504 507 510 513 516 519 522 525 528 531 534 537 540 543 546 549 552 555 558 561 564 567 570 573 576 579 582 585 588 591 594 597 600 603 606 609 612 615 618 621 624 627 630 633 636 639 642 645 648 651 654 657 660 663 666 669 672 675 678 681 684 687 690 693 696 699 702 705 708 711 714 717 720 723 726 729 732 735 738 741 744 747 750 753 756 759 762 765 768 771 774 777 780 783 786 789 792 795 798 801 804 807 810 813 816 819 822 825 828 831 834 837 840 843 846 849 852 855 858 861 864 867 870 873 876 879 882 885 888 891 894 897 900 903 906 909 912 915 918 921 924 927 930 933 936 939 942 945 948 951 954 957 960 963 966 969 972 975 978 981 984 987 990 993 996 999 "
          ]
        }
      ]
    },
    {
      "cell_type": "code",
      "source": [
        "#4) Crie um programa em Python que escreva na tela os números de 10 a N, onde o N é informado pelo\n",
        "# usuário e deve ser maior que 10. Mostre na tela os múltiplos de 4 de 10 até N.\n",
        "\n",
        "n = int(input('Digite um numero maior que 10: '))\n",
        "while n <= 10:\n",
        "  n = int(input('Digite um número maior que 10: '))\n",
        "\n",
        "for i in range(10, n):\n",
        "  if i % 4 == 0:\n",
        "    print(i, end=' ')"
      ],
      "metadata": {
        "colab": {
          "base_uri": "https://localhost:8080/"
        },
        "id": "9nt-EEZKxAwG",
        "outputId": "4c8653b2-2e9b-4baa-d1f6-301ee024989d"
      },
      "execution_count": null,
      "outputs": [
        {
          "output_type": "stream",
          "name": "stdout",
          "text": [
            "Digite um numero maior que 10: 1\n",
            "Digite um número maior que 10: 5\n",
            "Digite um número maior que 10: 55\n",
            "12 16 20 24 28 32 36 40 44 48 52 "
          ]
        }
      ]
    },
    {
      "cell_type": "code",
      "source": [
        "#5) Em uma turma há 10 alunos. Cada aluno tem 2 notas.\n",
        "# Um professor precisa calcular a média das duas notas de cada aluno. \n",
        "#Crie um programa que resolva este problema.\n",
        "\n",
        "#aluno = 10\n",
        "#nota1 = float(input(' Digite a nota 1: '))\n",
        "#nota2 = float(input(' digite a nota 2: '))\n",
        "#soma = nota1 + nota2 \n",
        "#media = soma /2\n",
        "\n",
        "j=0\n",
        "\n",
        "for i in range(0, 10, 1):\n",
        "  #while i <= 10:\n",
        "  nota1 = float(input(f' Digite a nota 1 do aluno {i+1}º : '))\n",
        "  while nota1 < 0 or nota1 > 10:\n",
        "      nota1 = float(input(f' Nota Invalida! Digite Digite a nota 1 do aluno {i}: '))\n",
        "  nota2 = float(input(f' Digite a nota 2 do aluno {i+1}º  : '))\n",
        "  5while nota2 < 0 or nota2 > 10:\n",
        "      nota2 = float(input(f' Nota Invalida! Digite Digite a nota 2 do aluno {i}: '))\n",
        "  if j >= 0 and j <= 10:\n",
        "    print(f'A média do aluno {i} é : {(nota1+nota2)/2}')\n",
        "    i += 1\n",
        "  j += 1\n",
        "  #break\n",
        "  "
      ],
      "metadata": {
        "colab": {
          "base_uri": "https://localhost:8080/"
        },
        "id": "EmX6Tcpk2hOc",
        "outputId": "85846643-25d2-40c5-e47a-43700b69a3a5"
      },
      "execution_count": null,
      "outputs": [
        {
          "output_type": "stream",
          "name": "stdout",
          "text": [
            " Digite a nota 1 do aluno 1 : 5\n",
            " Digite a nota 2 do aluno 1 : 10\n",
            "A média do aluno 1 é : 7.5\n",
            " Digite a nota 1 do aluno 2 : 88\n",
            " Nota Invalida! Digite Digite a nota 1 do aluno 2: 888\n",
            " Nota Invalida! Digite Digite a nota 1 do aluno 2: 2\n",
            " Digite a nota 2 do aluno 2 : 5\n",
            "A média do aluno 2 é : 3.5\n",
            " Digite a nota 1 do aluno 3 : 5\n",
            " Digite a nota 2 do aluno 3 : 88\n",
            " Nota Invalida! Digite Digite a nota 2 do aluno 3: 5\n",
            "A média do aluno 3 é : 5.0\n",
            " Digite a nota 1 do aluno 4 : 5\n",
            " Digite a nota 2 do aluno 4 : 5\n",
            "A média do aluno 4 é : 5.0\n",
            " Digite a nota 1 do aluno 5 : 5\n",
            " Digite a nota 2 do aluno 5 : 5\n",
            "A média do aluno 5 é : 5.0\n",
            " Digite a nota 1 do aluno 6 : 5\n",
            " Digite a nota 2 do aluno 6 : 5\n",
            "A média do aluno 6 é : 5.0\n",
            " Digite a nota 1 do aluno 7 : 55\n",
            " Nota Invalida! Digite Digite a nota 1 do aluno 7: 5\n",
            " Digite a nota 2 do aluno 7 : 5\n",
            "A média do aluno 7 é : 5.0\n",
            " Digite a nota 1 do aluno 8 : 5\n",
            " Digite a nota 2 do aluno 8 : 5\n",
            "A média do aluno 8 é : 5.0\n",
            " Digite a nota 1 do aluno 9 : 5\n",
            " Digite a nota 2 do aluno 9 : 5\n",
            "A média do aluno 9 é : 5.0\n"
          ]
        }
      ]
    },
    {
      "cell_type": "code",
      "source": [
        "#5) Utilizando a estrutura de repetição for, faça um programa em Python que receba 10 números \n",
        "#e conte quantos deles estão no intervalo [10,20] e quantos deles estão fora do intervalo, \n",
        "#escrevendo estas informações.\n",
        "\n",
        "j=0\n",
        "soma = 0\n",
        "fora = 0\n",
        "\n",
        "for i in range (0, 11, 1):\n",
        "  while i <= 10:\n",
        "    n = int(input(' Digite um numero inteiro: '))\n",
        "    if soma >=10 and soma <= 20:\n",
        "      soma +=\n",
        "    if fora < 10 and fora > 20:\n",
        "      fora +=\n",
        "    if j == 0:\n",
        "    print('Você digitou um número negativo e encerrou o programa!')\n",
        "    break\n",
        "print(f'Existem {soma} no intervalo de [10,20]')\n",
        "print(f'Existem {fora} ')\n"
      ],
      "metadata": {
        "colab": {
          "base_uri": "https://localhost:8080/"
        },
        "id": "a2FUrWTH9WG8",
        "outputId": "1675fe15-5347-427a-a5ed-58c32d41b60f"
      },
      "execution_count": null,
      "outputs": [
        {
          "output_type": "stream",
          "name": "stdout",
          "text": [
            " Digite um numero 1 inteiro: 55\n",
            " Digite um numero 2 inteiro: 54\n",
            " Digite um numero 3 inteiro: 6\n",
            " Digite um numero 4 inteiro: 5\n",
            " Digite um numero 5 inteiro: 8\n",
            " Digite um numero 6 inteiro: 5\n",
            " Digite um numero 7 inteiro: 5\n",
            " Digite um numero 8 inteiro: 88\n",
            " Digite um numero 9 inteiro: 85\n",
            " Digite um numero 10 inteiro: 66\n",
            "Existem 5 no intervalo de [10,20]\n",
            "Existem 5 que está fora desse intervalo\n"
          ]
        }
      ]
    },
    {
      "cell_type": "code",
      "source": [
        "#7) Crie um programa em Python que leia N números (N digitado pelo usuário) e \n",
        "#mostre na tela a soma de todos os números lidos.\n",
        "\n",
        "n = int (input('Digite a quantidade de números que serão digitados: '))\n",
        "while n < 0:\n",
        "  n = int(input('Digite um número maior ou igual a 0: '))\n",
        "\n",
        "soma = 0\n",
        "\n",
        "for i in range(n):\n",
        "  num = float(input(f' Digite o {i+1}º número: '))\n",
        "  soma += num\n",
        "\n",
        "print(f'A soma dos numeros digitados foi: {soma} ')"
      ],
      "metadata": {
        "colab": {
          "base_uri": "https://localhost:8080/"
        },
        "id": "f60YkOrdI1Lv",
        "outputId": "51db33b8-798e-46d9-f4a0-2cf48096e812"
      },
      "execution_count": null,
      "outputs": [
        {
          "output_type": "stream",
          "name": "stdout",
          "text": [
            "Digite a quantidade de números que serão digitados: 5\n",
            " Digite o 1º número: 10\n",
            " Digite o 2º número: 5\n",
            " Digite o 3º número: 6\n",
            " Digite o 4º número: 69\n",
            " Digite o 5º número: 5\n",
            "A soma dos numeros digitados foi: 95.0 \n"
          ]
        }
      ]
    }
  ]
}