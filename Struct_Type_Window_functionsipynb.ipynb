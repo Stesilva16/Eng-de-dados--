{
  "nbformat": 4,
  "nbformat_minor": 0,
  "metadata": {
    "colab": {
      "provenance": [],
      "include_colab_link": true
    },
    "kernelspec": {
      "name": "python3",
      "display_name": "Python 3"
    },
    "language_info": {
      "name": "python"
    }
  },
  "cells": [
    {
      "cell_type": "markdown",
      "metadata": {
        "id": "view-in-github",
        "colab_type": "text"
      },
      "source": [
        "<a href=\"https://colab.research.google.com/github/Stesilva16/Eng-de-dados--/blob/main/Struct_Type_Window_functionsipynb.ipynb\" target=\"_parent\"><img src=\"https://colab.research.google.com/assets/colab-badge.svg\" alt=\"Open In Colab\"/></a>"
      ]
    },
    {
      "cell_type": "code",
      "execution_count": null,
      "metadata": {
        "id": "tna8awauXmOs"
      },
      "outputs": [],
      "source": [
        "#STRUCT TYPES"
      ]
    },
    {
      "cell_type": "code",
      "source": [
        "'''\n",
        "TIPOS BÁSICOS DE DADOS DO SPARK\n",
        "ByteType() - int\n",
        "ShortType() - int\n",
        "IntegerType() - int\n",
        "LongType() - int\n",
        "FloatType() - float\n",
        "DoubleType() - float\n",
        "StringType() - str\n",
        "BooleanType - bool\n",
        "DecimalType() - float\n",
        "NULL\n",
        "'''"
      ],
      "metadata": {
        "id": "em7tcfrtkvGX"
      },
      "execution_count": null,
      "outputs": []
    },
    {
      "cell_type": "code",
      "source": [
        "'''\n",
        "TIPOS COMPLEXOS DE DADOS\n",
        "TimestampType() - datetime\n",
        "DateType() - datetime\n",
        "ArrayType() - lista, tupla, array\n",
        "MapType() - dict\n",
        "StructType() - lista, tupla\n",
        "StructField() - Tipo do campo\n",
        "'''"
      ],
      "metadata": {
        "id": "pKYKEDAWmAz3"
      },
      "execution_count": null,
      "outputs": []
    },
    {
      "cell_type": "code",
      "source": [
        "!pip install pyspark"
      ],
      "metadata": {
        "colab": {
          "base_uri": "https://localhost:8080/"
        },
        "id": "l4Z_DnhvnqNE",
        "outputId": "ea3b1ca4-73c3-480d-d220-b154c3a75eb6"
      },
      "execution_count": null,
      "outputs": [
        {
          "output_type": "stream",
          "name": "stdout",
          "text": [
            "Looking in indexes: https://pypi.org/simple, https://us-python.pkg.dev/colab-wheels/public/simple/\n",
            "Collecting pyspark\n",
            "  Downloading pyspark-3.3.1.tar.gz (281.4 MB)\n",
            "\u001b[K     |████████████████████████████████| 281.4 MB 32 kB/s \n",
            "\u001b[?25hCollecting py4j==0.10.9.5\n",
            "  Downloading py4j-0.10.9.5-py2.py3-none-any.whl (199 kB)\n",
            "\u001b[K     |████████████████████████████████| 199 kB 45.5 MB/s \n",
            "\u001b[?25hBuilding wheels for collected packages: pyspark\n",
            "  Building wheel for pyspark (setup.py) ... \u001b[?25l\u001b[?25hdone\n",
            "  Created wheel for pyspark: filename=pyspark-3.3.1-py2.py3-none-any.whl size=281845512 sha256=8a5f7b2711b4fcd7ed0ad2dc15ad2dfbea367a9aae7c7c968b31fc6866211069\n",
            "  Stored in directory: /root/.cache/pip/wheels/43/dc/11/ec201cd671da62fa9c5cc77078235e40722170ceba231d7598\n",
            "Successfully built pyspark\n",
            "Installing collected packages: py4j, pyspark\n",
            "Successfully installed py4j-0.10.9.5 pyspark-3.3.1\n"
          ]
        }
      ]
    },
    {
      "cell_type": "code",
      "source": [
        "from pyspark.sql import SparkSession"
      ],
      "metadata": {
        "id": "i8wTJGEmoPqD"
      },
      "execution_count": null,
      "outputs": []
    },
    {
      "cell_type": "code",
      "source": [
        "spark = (\n",
        "    SparkSession.builder\n",
        "                .master('local')\n",
        "                .appName('structtype')\n",
        "                .config('spark.ui.port', '4050')\n",
        "                .getOrCreate()\n",
        ")"
      ],
      "metadata": {
        "id": "WZjY5lcqoT9f"
      },
      "execution_count": null,
      "outputs": []
    },
    {
      "cell_type": "code",
      "source": [
        "spark"
      ],
      "metadata": {
        "colab": {
          "base_uri": "https://localhost:8080/",
          "height": 219
        },
        "id": "Ml1J8yFaov3H",
        "outputId": "92fdc8bc-8b3c-45a3-8d1b-85c2feb84a64"
      },
      "execution_count": null,
      "outputs": [
        {
          "output_type": "execute_result",
          "data": {
            "text/plain": [
              "<pyspark.sql.session.SparkSession at 0x7f3e8c0301f0>"
            ],
            "text/html": [
              "\n",
              "            <div>\n",
              "                <p><b>SparkSession - in-memory</b></p>\n",
              "                \n",
              "        <div>\n",
              "            <p><b>SparkContext</b></p>\n",
              "\n",
              "            <p><a href=\"http://193c66990c45:4050\">Spark UI</a></p>\n",
              "\n",
              "            <dl>\n",
              "              <dt>Version</dt>\n",
              "                <dd><code>v3.3.1</code></dd>\n",
              "              <dt>Master</dt>\n",
              "                <dd><code>local</code></dd>\n",
              "              <dt>AppName</dt>\n",
              "                <dd><code>structtype</code></dd>\n",
              "            </dl>\n",
              "        </div>\n",
              "        \n",
              "            </div>\n",
              "        "
            ]
          },
          "metadata": {},
          "execution_count": 7
        }
      ]
    },
    {
      "cell_type": "code",
      "source": [
        "#IMPORTAR OS TIPOS DE VARIÁVEIS DO SPARK\n",
        "from pyspark.sql.types import *"
      ],
      "metadata": {
        "id": "tfJgsov8pLOT"
      },
      "execution_count": null,
      "outputs": []
    },
    {
      "cell_type": "code",
      "source": [
        "#AQUI VOCÊ IRÁ MONTAR O ESQUEMA DE COLUNAS CONTENDO OS TIPOS DE CADA COLUNA\n",
        "esquema = (\n",
        "    StructType([\n",
        "        StructField('id', StringType()),\n",
        "        StructField('nome_musica', StringType()),\n",
        "        StructField('popularidade', IntegerType()),\n",
        "        StructField('duracao_musica', IntegerType()),\n",
        "        StructField('acustica', StringType()),\n",
        "        StructField('danceabilidade', StringType()),\n",
        "        StructField('energia', FloatType()),\n",
        "        StructField('instrumentalidade', StringType()),\n",
        "        StructField('nota_musical', IntegerType()),\n",
        "        StructField('ao_vivo', FloatType()),\n",
        "        StructField('volume', FloatType()),\n",
        "        StructField('modo_de_audio', IntegerType()),\n",
        "        StructField('discurso', FloatType()),\n",
        "        StructField('ritmo', FloatType()),\n",
        "        StructField('assinatura de tempo', FloatType()),\n",
        "        StructField('valencia_de_audio', FloatType())\n",
        "    ])\n",
        ")"
      ],
      "metadata": {
        "id": "mPnhfEo7o4wz"
      },
      "execution_count": null,
      "outputs": []
    },
    {
      "cell_type": "code",
      "source": [
        "#AQUI IREMOS LER O DATAFRAME COLOCANDO INFERSCHEMA COMO FALSE PARA QUE O SPARK NÃO INFIRA O ESQUEMA\n",
        "# E ADICIONAMOS schema=esquema, PARA UTILIZARMOS O ESQUEMA QUE CRIAMOS ANTERIORMENTE\n",
        "df = (\n",
        "    spark.read.format('csv')\n",
        "              .option('header', 'true')\n",
        "              .option('inferschema', 'false')\n",
        "              .option('delimiter', ',')\n",
        "              .load('/content/drive/MyDrive/Datasets/spotify.csv', schema = esquema)\n",
        ")"
      ],
      "metadata": {
        "id": "iUgXDD8BuMGT"
      },
      "execution_count": null,
      "outputs": []
    },
    {
      "cell_type": "code",
      "source": [
        "#COMANDO PARA VERIFICAR O ESQUEMA DO DATAFRAME\n",
        "df.printSchema()"
      ],
      "metadata": {
        "colab": {
          "base_uri": "https://localhost:8080/"
        },
        "id": "pZcxTwwYu2Td",
        "outputId": "813d1a0e-5cdc-4d85-a47e-7f8a495f895f"
      },
      "execution_count": null,
      "outputs": [
        {
          "output_type": "stream",
          "name": "stdout",
          "text": [
            "root\n",
            " |-- id: integer (nullable = true)\n",
            " |-- nome_musica: string (nullable = true)\n",
            " |-- popularidade: integer (nullable = true)\n",
            " |-- duracao_musica: integer (nullable = true)\n",
            " |-- acustica: float (nullable = true)\n",
            " |-- danceabilidade: float (nullable = true)\n",
            " |-- energia: float (nullable = true)\n",
            " |-- instrumentalidade: string (nullable = true)\n",
            " |-- nota_musical: integer (nullable = true)\n",
            " |-- ao_vivo: float (nullable = true)\n",
            " |-- volume: float (nullable = true)\n",
            " |-- modo_de_audio: integer (nullable = true)\n",
            " |-- discurso: float (nullable = true)\n",
            " |-- ritmo: float (nullable = true)\n",
            " |-- assinatura de tempo: float (nullable = true)\n",
            " |-- valencia_de_audio: float (nullable = true)\n",
            "\n"
          ]
        }
      ]
    },
    {
      "cell_type": "code",
      "source": [
        "df.show(truncate=False)"
      ],
      "metadata": {
        "colab": {
          "base_uri": "https://localhost:8080/"
        },
        "id": "-m8naKcgvEyz",
        "outputId": "10092189-4b77-454c-a63f-ae9998a8e3c3"
      },
      "execution_count": null,
      "outputs": [
        {
          "output_type": "stream",
          "name": "stdout",
          "text": [
            "+---+--------------------------+------------+--------------+----------------------+-----------------------+-------+---------------------+------------+-------+------+-------------+--------+-------+-------------------+-----------------+\n",
            "|id |nome_musica               |popularidade|duracao_musica|acustica              |danceabilidade         |energia|instrumentalidade    |nota_musical|ao_vivo|volume|modo_de_audio|discurso|ritmo  |assinatura de tempo|valencia_de_audio|\n",
            "+---+--------------------------+------------+--------------+----------------------+-----------------------+-------+---------------------+------------+-------+------+-------------+--------+-------+-------------------+-----------------+\n",
            "|0  |Boulevard of Broken Dreams|73          |262333        |0.005520000000000001kg|0.496mol/L             |0.682  |2.94e-05             |8           |0.0589 |-4.095|1            |0.0294  |167.06 |4.0                |0.474            |\n",
            "|1  |In The End                |66          |216933        |0.0103kg              |0.542mol/L             |0.853  |0.0                  |3           |0.108  |-6.407|0            |0.0498  |105.256|4.0                |0.37             |\n",
            "|2  |Seven Nation Army         |76          |231733        |0.00817kg             |0.737mol/L             |0.463  |0.447                |0           |0.255  |-7.828|1            |0.0792  |123.881|4.0                |0.324            |\n",
            "|3  |By The Way                |74          |216933        |0.0264kg              |0.451mol/L             |0.97   |0.00355              |0           |0.102  |-4.938|1            |0.107   |122.444|4.0                |0.198            |\n",
            "|4  |How You Remind Me         |56          |223826        |0.000954kg            |0.447mol/L             |0.766  |0.0                  |10          |0.113  |-5.065|1            |0.0313  |172.011|4.0                |0.574            |\n",
            "|5  |Bring Me To Life          |80          |235893        |0.00895kg             |0.316mol/L             |0.945  |1.85e-06             |4           |0.396  |-3.169|0            |0.124   |189.931|4.0                |0.32             |\n",
            "|6  |Last Resort               |81          |199893        |0.000504kg            |0.581mol/L             |0.887  |0.00111              |4           |0.268  |-3.659|0            |0.0624  |90.578 |4.0                |0.724            |\n",
            "|7  |Are You Gonna Be My Girl  |76          |213800        |0.00148kg             |0.613mol/L             |0.953  |0.000582             |2           |0.152  |-3.435|1            |0.0855  |105.046|4.0                |0.537            |\n",
            "|8  |Mr. Brightside            |80          |222586        |0.00108kg             |0.33mol/L              |0.936  |0.0                  |1           |0.0926 |-3.66 |1            |0.0917  |148.112|4.0                |0.234            |\n",
            "|9  |Sex on Fire               |81          |203346        |0.00172kg             |0.542mol/L             |0.905  |0.0104               |9           |0.136  |-5.653|1            |0.054   |153.398|4.0                |0.374            |\n",
            "|10 |The Middle                |78          |168253        |0.0424kg              |0.629mol/L             |0.897  |0.0                  |2           |0.263  |-3.401|1            |0.0483  |161.944|4.0                |0.93             |\n",
            "|11 |Numb                      |63          |185586        |0.0046kg              |0.496mol/L             |0.863  |0.0                  |9           |0.639  |-4.153|1            |0.0381  |110.018|4.0                |0.243            |\n",
            "|12 |Smooth Criminal           |75          |209266        |0.00434kg             |0.647mol/L             |0.964  |0.0036               |9           |0.15   |-4.225|0            |0.06    |126.942|4.0                |0.875            |\n",
            "|13 |Can't Stop                |81          |269000        |0.0179kg              |0.618mol/L             |0.938  |0.0                  |9           |0.167  |-3.442|1            |0.0456  |91.455 |4.0                |0.875            |\n",
            "|14 |Chop Suey!                |69          |210240        |0.000353kg            |0.42mol/L              |0.929  |0.0007469999999999999|7           |0.122  |-3.899|0            |0.121   |127.204|4.0                |0.3              |\n",
            "|15 |Take Me Out               |77          |237026        |0.000423kg            |0.278mol/L             |0.676  |0.0008990000000000002|9           |0.136  |-8.821|1            |0.0371  |104.545|4.0                |0.494            |\n",
            "|16 |I Miss You                |71          |227240        |0.00136kg             |0.659mol/L             |0.778  |6.79e-06             |11          |0.0841 |-6.423|1            |0.0379  |110.022|4.0                |0.623            |\n",
            "|17 |Best of You               |62          |256600        |0.00701kg             |0.37mol/L              |0.944  |2.9e-06              |1           |0.135  |-4.979|0            |0.0767  |130.315|4.0                |0.345            |\n",
            "|18 |I Write Sins Not Tragedies|77          |187613        |0.0938kg              |0.5670000000000001mol/L|0.795  |0.0                  |9           |0.114  |-4.985|0            |0.134   |170.06 |4.0                |0.635            |\n",
            "|19 |Kryptonite                |79          |233933        |0.006640000000000001kg|0.545mol/L             |0.865  |1.12e-05             |11          |0.168  |-5.708|0            |0.0286  |99.01  |4.0                |0.543            |\n",
            "+---+--------------------------+------------+--------------+----------------------+-----------------------+-------+---------------------+------------+-------+------+-------------+--------+-------+-------------------+-----------------+\n",
            "only showing top 20 rows\n",
            "\n"
          ]
        }
      ]
    },
    {
      "cell_type": "code",
      "source": [
        "#WINDOW FUNCTIONS\n",
        "from pyspark.sql.window import Window\n",
        "import pyspark.sql.functions as F"
      ],
      "metadata": {
        "id": "dDyeleKQ2MyX"
      },
      "execution_count": null,
      "outputs": []
    },
    {
      "cell_type": "code",
      "source": [
        "schema = ['nome', 'departamento', 'estado', 'salario']\n",
        "\n",
        "dados = [('Anderson', 'vendas', 'SP', 9000),\n",
        "         ('Kennedy', 'vendas', 'RJ', 4500),\n",
        "         ('Luciana', 'vendas', 'SP', 4500),\n",
        "         ('Marta', 'vendas', 'SP', 4500),\n",
        "         ('João', 'vendas', 'SP', 4500),\n",
        "         ('Diego', 'vendas', 'SP', 4500),\n",
        "         ('Marilia', 'vendas', 'SP', 1200),\n",
        "         ('Gustavo', 'financeiro', 'AM', 8000),\n",
        "         ('Pedro', 'financeiro', 'AM', 2750),\n",
        "         ('Juliana', 'financeiro', 'MG', 3000),\n",
        "         ('Leticia', 'financeiro', 'RJ', 7500),\n",
        "         ('Oswaldo', 'marketing', 'RJ', 2450),\n",
        "         ('Denis', 'marketing', 'MG', 1300)\n",
        "         \n",
        "        ]"
      ],
      "metadata": {
        "id": "EFXmgcFI25Ox"
      },
      "execution_count": null,
      "outputs": []
    },
    {
      "cell_type": "code",
      "source": [
        "df2 = spark.createDataFrame(dados, schema)"
      ],
      "metadata": {
        "id": "AOK41b7I3Gdt"
      },
      "execution_count": null,
      "outputs": []
    },
    {
      "cell_type": "code",
      "source": [
        "df2.show()"
      ],
      "metadata": {
        "colab": {
          "base_uri": "https://localhost:8080/"
        },
        "id": "rtuq_K183LPL",
        "outputId": "69a1044d-3c5c-44f7-c9ea-d4029113db24"
      },
      "execution_count": null,
      "outputs": [
        {
          "output_type": "stream",
          "name": "stdout",
          "text": [
            "+--------+------------+------+-------+\n",
            "|    nome|departamento|estado|salario|\n",
            "+--------+------------+------+-------+\n",
            "|Anderson|      vendas|    SP|   9000|\n",
            "| Kennedy|      vendas|    RJ|   4500|\n",
            "| Luciana|      vendas|    SP|   4500|\n",
            "|   Marta|      vendas|    SP|   4500|\n",
            "|    João|      vendas|    SP|   4500|\n",
            "|   Diego|      vendas|    SP|   4500|\n",
            "| Marilia|      vendas|    SP|   1200|\n",
            "| Gustavo|  financeiro|    AM|   8000|\n",
            "|   Pedro|  financeiro|    AM|   2750|\n",
            "| Juliana|  financeiro|    MG|   3000|\n",
            "| Leticia|  financeiro|    RJ|   7500|\n",
            "| Oswaldo|   marketing|    RJ|   2450|\n",
            "|   Denis|   marketing|    MG|   1300|\n",
            "+--------+------------+------+-------+\n",
            "\n"
          ]
        }
      ]
    },
    {
      "cell_type": "code",
      "source": [
        "#CRIAR UMA PARTIÇÃO SOBRE O DATAFRAME PARA UTILIZAR ALGUM TIPO DE CLASSIFICAÇÃO\n",
        "w0 = Window.partitionBy(F.col('departamento')).orderBy(F.col('salario').desc())"
      ],
      "metadata": {
        "id": "Ax_M2nx74hfC"
      },
      "execution_count": null,
      "outputs": []
    },
    {
      "cell_type": "code",
      "source": [
        "# 1) ROW_NUMBER - RETORNA O NÚMERO DA LINHA DE ACORDO COM A PARTIÇÃO CRIADA\n",
        "df3 = df2.withColumn('numero_linha', F.row_number().over(w0))"
      ],
      "metadata": {
        "id": "C6w7-4Vu5q_e"
      },
      "execution_count": null,
      "outputs": []
    },
    {
      "cell_type": "code",
      "source": [
        "df3.show()"
      ],
      "metadata": {
        "colab": {
          "base_uri": "https://localhost:8080/"
        },
        "id": "H5cxCgyR6GN1",
        "outputId": "64f2300c-50d5-44a1-a0ea-00c7b6e4d985"
      },
      "execution_count": null,
      "outputs": [
        {
          "output_type": "stream",
          "name": "stdout",
          "text": [
            "+--------+------------+------+-------+------------+\n",
            "|    nome|departamento|estado|salario|numero_linha|\n",
            "+--------+------------+------+-------+------------+\n",
            "| Gustavo|  financeiro|    AM|   8000|           1|\n",
            "| Leticia|  financeiro|    RJ|   7500|           2|\n",
            "| Juliana|  financeiro|    MG|   3000|           3|\n",
            "|   Pedro|  financeiro|    AM|   2750|           4|\n",
            "| Oswaldo|   marketing|    RJ|   2450|           1|\n",
            "|   Denis|   marketing|    MG|   1300|           2|\n",
            "|Anderson|      vendas|    SP|   9000|           1|\n",
            "| Kennedy|      vendas|    RJ|   4500|           2|\n",
            "| Luciana|      vendas|    SP|   4500|           3|\n",
            "|   Marta|      vendas|    SP|   4500|           4|\n",
            "|    João|      vendas|    SP|   4500|           5|\n",
            "|   Diego|      vendas|    SP|   4500|           6|\n",
            "| Marilia|      vendas|    SP|   1200|           7|\n",
            "+--------+------------+------+-------+------------+\n",
            "\n"
          ]
        }
      ]
    },
    {
      "cell_type": "code",
      "source": [
        "#RANK\n",
        "df3 = df3.withColumn('rank', F.rank().over(w0))"
      ],
      "metadata": {
        "id": "OPl40JkH73Yq"
      },
      "execution_count": null,
      "outputs": []
    },
    {
      "cell_type": "code",
      "source": [
        "df3.show()"
      ],
      "metadata": {
        "colab": {
          "base_uri": "https://localhost:8080/"
        },
        "id": "vj1cjA8J8AWu",
        "outputId": "336096dc-6112-4737-bd87-3bff849287d6"
      },
      "execution_count": null,
      "outputs": [
        {
          "output_type": "stream",
          "name": "stdout",
          "text": [
            "+--------+------------+------+-------+------------+----+\n",
            "|    nome|departamento|estado|salario|numero_linha|rank|\n",
            "+--------+------------+------+-------+------------+----+\n",
            "| Gustavo|  financeiro|    AM|   8000|           1|   1|\n",
            "| Leticia|  financeiro|    RJ|   7500|           2|   2|\n",
            "| Juliana|  financeiro|    MG|   3000|           3|   3|\n",
            "|   Pedro|  financeiro|    AM|   2750|           4|   4|\n",
            "| Oswaldo|   marketing|    RJ|   2450|           1|   1|\n",
            "|   Denis|   marketing|    MG|   1300|           2|   2|\n",
            "|Anderson|      vendas|    SP|   9000|           1|   1|\n",
            "| Kennedy|      vendas|    RJ|   4500|           2|   2|\n",
            "| Luciana|      vendas|    SP|   4500|           3|   2|\n",
            "|   Marta|      vendas|    SP|   4500|           4|   2|\n",
            "|    João|      vendas|    SP|   4500|           5|   2|\n",
            "|   Diego|      vendas|    SP|   4500|           6|   2|\n",
            "| Marilia|      vendas|    SP|   1200|           7|   7|\n",
            "+--------+------------+------+-------+------------+----+\n",
            "\n"
          ]
        }
      ]
    },
    {
      "cell_type": "code",
      "source": [
        "#DENSE_RANK\n",
        "df3 = df3.withColumn('dense_rank', F.dense_rank().over(w0))"
      ],
      "metadata": {
        "id": "3yyIr-Qc9IQk"
      },
      "execution_count": null,
      "outputs": []
    },
    {
      "cell_type": "code",
      "source": [
        "df3.show()"
      ],
      "metadata": {
        "colab": {
          "base_uri": "https://localhost:8080/"
        },
        "id": "aJnouwSE9QFR",
        "outputId": "7e63f88e-fa2f-4eda-9229-478fd4701f74"
      },
      "execution_count": null,
      "outputs": [
        {
          "output_type": "stream",
          "name": "stdout",
          "text": [
            "+--------+------------+------+-------+------------+----+----------+\n",
            "|    nome|departamento|estado|salario|numero_linha|rank|dense_rank|\n",
            "+--------+------------+------+-------+------------+----+----------+\n",
            "| Gustavo|  financeiro|    AM|   8000|           1|   1|         1|\n",
            "| Leticia|  financeiro|    RJ|   7500|           2|   2|         2|\n",
            "| Juliana|  financeiro|    MG|   3000|           3|   3|         3|\n",
            "|   Pedro|  financeiro|    AM|   2750|           4|   4|         4|\n",
            "| Oswaldo|   marketing|    RJ|   2450|           1|   1|         1|\n",
            "|   Denis|   marketing|    MG|   1300|           2|   2|         2|\n",
            "|Anderson|      vendas|    SP|   9000|           1|   1|         1|\n",
            "| Kennedy|      vendas|    RJ|   4500|           2|   2|         2|\n",
            "| Luciana|      vendas|    SP|   4500|           3|   2|         2|\n",
            "|   Marta|      vendas|    SP|   4500|           4|   2|         2|\n",
            "|    João|      vendas|    SP|   4500|           5|   2|         2|\n",
            "|   Diego|      vendas|    SP|   4500|           6|   2|         2|\n",
            "| Marilia|      vendas|    SP|   1200|           7|   7|         3|\n",
            "+--------+------------+------+-------+------------+----+----------+\n",
            "\n"
          ]
        }
      ]
    },
    {
      "cell_type": "code",
      "source": [
        "#LAG\n",
        "df3 = df3.withColumn('lag', F.lag(\"salario\", 2).over(w0))"
      ],
      "metadata": {
        "id": "-9rDK7ZtQYDP"
      },
      "execution_count": null,
      "outputs": []
    },
    {
      "cell_type": "code",
      "source": [
        "df3.show()"
      ],
      "metadata": {
        "colab": {
          "base_uri": "https://localhost:8080/"
        },
        "id": "sCp9lKTYQrkx",
        "outputId": "fc17cd47-bfac-46ea-9f90-de97b2c34c61"
      },
      "execution_count": null,
      "outputs": [
        {
          "output_type": "stream",
          "name": "stdout",
          "text": [
            "+--------+------------+------+-------+------------+----+----------+----+\n",
            "|    nome|departamento|estado|salario|numero_linha|rank|dense_rank| lag|\n",
            "+--------+------------+------+-------+------------+----+----------+----+\n",
            "| Gustavo|  financeiro|    AM|   8000|           1|   1|         1|3000|\n",
            "| Leticia|  financeiro|    RJ|   7500|           2|   2|         2|2750|\n",
            "| Juliana|  financeiro|    MG|   3000|           3|   3|         3|null|\n",
            "|   Pedro|  financeiro|    AM|   2750|           4|   4|         4|null|\n",
            "| Oswaldo|   marketing|    RJ|   2450|           1|   1|         1|null|\n",
            "|   Denis|   marketing|    MG|   1300|           2|   2|         2|null|\n",
            "|Anderson|      vendas|    SP|   9000|           1|   1|         1|4500|\n",
            "| Kennedy|      vendas|    RJ|   4500|           2|   2|         2|4500|\n",
            "| Luciana|      vendas|    SP|   4500|           3|   2|         2|4500|\n",
            "|   Marta|      vendas|    SP|   4500|           4|   2|         2|4500|\n",
            "|    João|      vendas|    SP|   4500|           5|   2|         2|1200|\n",
            "|   Diego|      vendas|    SP|   4500|           6|   2|         2|null|\n",
            "| Marilia|      vendas|    SP|   1200|           7|   7|         3|null|\n",
            "+--------+------------+------+-------+------------+----+----------+----+\n",
            "\n"
          ]
        }
      ]
    },
    {
      "cell_type": "code",
      "source": [
        "#LEAD\n",
        "df3 = df3.withColumn('lag', F.lead(\"salario\", 2).over(w0))"
      ],
      "metadata": {
        "id": "LHMHoi_HR2MX"
      },
      "execution_count": null,
      "outputs": []
    },
    {
      "cell_type": "code",
      "source": [
        "df3.show()"
      ],
      "metadata": {
        "id": "8UBGQKAdR54c",
        "outputId": "66da40a5-1cf4-414d-b896-7a9ac8871ca4",
        "colab": {
          "base_uri": "https://localhost:8080/"
        }
      },
      "execution_count": null,
      "outputs": [
        {
          "output_type": "stream",
          "name": "stdout",
          "text": [
            "+--------+------------+------+-------+------------+----+----------+----+\n",
            "|    nome|departamento|estado|salario|numero_linha|rank|dense_rank| lag|\n",
            "+--------+------------+------+-------+------------+----+----------+----+\n",
            "| Gustavo|  financeiro|    AM|   8000|           1|   1|         1|3000|\n",
            "| Leticia|  financeiro|    RJ|   7500|           2|   2|         2|2750|\n",
            "| Juliana|  financeiro|    MG|   3000|           3|   3|         3|null|\n",
            "|   Pedro|  financeiro|    AM|   2750|           4|   4|         4|null|\n",
            "| Oswaldo|   marketing|    RJ|   2450|           1|   1|         1|null|\n",
            "|   Denis|   marketing|    MG|   1300|           2|   2|         2|null|\n",
            "|Anderson|      vendas|    SP|   9000|           1|   1|         1|4500|\n",
            "| Kennedy|      vendas|    RJ|   4500|           2|   2|         2|4500|\n",
            "| Luciana|      vendas|    SP|   4500|           3|   2|         2|4500|\n",
            "|   Marta|      vendas|    SP|   4500|           4|   2|         2|4500|\n",
            "|    João|      vendas|    SP|   4500|           5|   2|         2|1200|\n",
            "|   Diego|      vendas|    SP|   4500|           6|   2|         2|null|\n",
            "| Marilia|      vendas|    SP|   1200|           7|   7|         3|null|\n",
            "+--------+------------+------+-------+------------+----+----------+----+\n",
            "\n"
          ]
        }
      ]
    }
  ]
}