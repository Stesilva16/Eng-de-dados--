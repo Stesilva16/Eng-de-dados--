{
  "nbformat": 4,
  "nbformat_minor": 0,
  "metadata": {
    "colab": {
      "provenance": [],
      "include_colab_link": true
    },
    "kernelspec": {
      "name": "python3",
      "display_name": "Python 3"
    },
    "language_info": {
      "name": "python"
    }
  },
  "cells": [
    {
      "cell_type": "markdown",
      "metadata": {
        "id": "view-in-github",
        "colab_type": "text"
      },
      "source": [
        "<a href=\"https://colab.research.google.com/github/Stesilva16/Eng-de-dados--/blob/main/Struct_type_Windows_fuctions.ipynb\" target=\"_parent\"><img src=\"https://colab.research.google.com/assets/colab-badge.svg\" alt=\"Open In Colab\"/></a>"
      ]
    },
    {
      "cell_type": "markdown",
      "source": [
        "#### no spark a gente interfere schema, em que ele coloca o tipo de dado que ele veja que faça mais sentido, mas as vezes ele não interfere da maneira como nós desejamos;\n",
        "\n"
      ],
      "metadata": {
        "id": "-K7_a7zMkZiJ"
      }
    },
    {
      "cell_type": "markdown",
      "source": [
        "##TIPOS BÁSICOS DE DADOS DO SPARK;\n",
        "ByteType() - int;\n",
        "ShortType() - int;\n",
        "IntegerType() - int;\n",
        "LongType() - int;\n",
        "FloatType() - float;\n",
        "DoubleType() - float;\n",
        "Stringtype() - string;\n",
        "BooleanType - bool;\n",
        "DecimalType() - float;\n",
        "Null;\n"
      ],
      "metadata": {
        "id": "QYv7626lk2r5"
      }
    },
    {
      "cell_type": "markdown",
      "source": [
        "##Tipos Complexos de Dados;\n",
        "\n",
        "TimetampType() - datetime;\n",
        "DateType() - datetime;\n",
        "ArrayType() - lista, tupla, array;\n",
        "Maptype() - dict;\n",
        "StructType() - lista, tupla;\n",
        "StructField() - Tipo do Campo;"
      ],
      "metadata": {
        "id": "CHUqnIiXmJQ2"
      }
    },
    {
      "cell_type": "markdown",
      "source": [
        "#passo a passo:\n",
        "1 - instalar o pyspark!;\n",
        "2 - importar a pysparksession;\n",
        "3 - montar a sessão;\n",
        "4 - chamar o spark para ver se está okay "
      ],
      "metadata": {
        "id": "XZdrj7rAn0xs"
      }
    },
    {
      "cell_type": "code",
      "execution_count": null,
      "metadata": {
        "colab": {
          "base_uri": "https://localhost:8080/"
        },
        "id": "GF5ZqqWXciAV",
        "outputId": "89f50199-327f-4219-917b-2a7f38beca5c"
      },
      "outputs": [
        {
          "output_type": "stream",
          "name": "stdout",
          "text": [
            "Looking in indexes: https://pypi.org/simple, https://us-python.pkg.dev/colab-wheels/public/simple/\n",
            "Collecting pyspark\n",
            "  Downloading pyspark-3.3.1.tar.gz (281.4 MB)\n",
            "\u001b[K     |████████████████████████████████| 281.4 MB 45 kB/s \n",
            "\u001b[?25hCollecting py4j==0.10.9.5\n",
            "  Downloading py4j-0.10.9.5-py2.py3-none-any.whl (199 kB)\n",
            "\u001b[K     |████████████████████████████████| 199 kB 48.7 MB/s \n",
            "\u001b[?25hBuilding wheels for collected packages: pyspark\n",
            "  Building wheel for pyspark (setup.py) ... \u001b[?25l\u001b[?25hdone\n",
            "  Created wheel for pyspark: filename=pyspark-3.3.1-py2.py3-none-any.whl size=281845512 sha256=a849ffc2a5fa2a2570068989c7fd815aff0ba8a4dc2cae5967f1c7c7b472325a\n",
            "  Stored in directory: /root/.cache/pip/wheels/43/dc/11/ec201cd671da62fa9c5cc77078235e40722170ceba231d7598\n",
            "Successfully built pyspark\n",
            "Installing collected packages: py4j, pyspark\n",
            "Successfully installed py4j-0.10.9.5 pyspark-3.3.1\n"
          ]
        }
      ],
      "source": [
        "!pip install pyspark"
      ]
    },
    {
      "cell_type": "code",
      "source": [
        "from pyspark.sql import SparkSession"
      ],
      "metadata": {
        "id": "8l7oRRmzoU0g"
      },
      "execution_count": null,
      "outputs": []
    },
    {
      "cell_type": "code",
      "source": [
        "spark = (\n",
        "    SparkSession.builder\n",
        "      .master('local')\n",
        "      .appName('structtype')\n",
        "      .config('saprk.ui.port','4050')\n",
        "      .getOrCreate()\n",
        ")"
      ],
      "metadata": {
        "id": "3EWEN5UKogdW"
      },
      "execution_count": null,
      "outputs": []
    },
    {
      "cell_type": "code",
      "source": [
        "spark"
      ],
      "metadata": {
        "colab": {
          "base_uri": "https://localhost:8080/",
          "height": 219
        },
        "id": "cegrg4zypJGw",
        "outputId": "6004bec8-ee7f-42ea-bc2d-44cf75306675"
      },
      "execution_count": null,
      "outputs": [
        {
          "output_type": "execute_result",
          "data": {
            "text/plain": [
              "<pyspark.sql.session.SparkSession at 0x7fb2687f0970>"
            ],
            "text/html": [
              "\n",
              "            <div>\n",
              "                <p><b>SparkSession - in-memory</b></p>\n",
              "                \n",
              "        <div>\n",
              "            <p><b>SparkContext</b></p>\n",
              "\n",
              "            <p><a href=\"http://11ac507c987e:4040\">Spark UI</a></p>\n",
              "\n",
              "            <dl>\n",
              "              <dt>Version</dt>\n",
              "                <dd><code>v3.3.1</code></dd>\n",
              "              <dt>Master</dt>\n",
              "                <dd><code>local</code></dd>\n",
              "              <dt>AppName</dt>\n",
              "                <dd><code>structtype</code></dd>\n",
              "            </dl>\n",
              "        </div>\n",
              "        \n",
              "            </div>\n",
              "        "
            ]
          },
          "metadata": {},
          "execution_count": 4
        }
      ]
    },
    {
      "cell_type": "markdown",
      "source": [
        "#passo a passo:\n",
        "1) importar os tipos de variaveis do Spark; (quando eu coloco o * no final, significa que eu estou importando todos);\n",
        "2) montar o Schema;\n",
        "3) vamos usar o StructType;\n",
        "4) dentra da StructType, vamos criar o structfield, que ele vai ter a quantidade de colunas que temos dentro do arquivo; ( exe: esquema = (\n",
        "    StructType([StructField(),])\n",
        "5) dentro de cada structField, já vamos deixar do jeito que você deseja; \n",
        "6) você já pode alterar o nome e deixa-lo com o nome correto, porém ela deve estra na mesma sequencia;\n",
        "7) se der erro colocamos em string, para ver o porque e então colocamos ver onde está o erro e concertar;\n",
        "\n"
      ],
      "metadata": {
        "id": "GToSK74cpMOV"
      }
    },
    {
      "cell_type": "code",
      "source": [
        "#importar os tipos de variáveis do spark \n",
        "from pyspark.sql.types import *"
      ],
      "metadata": {
        "id": "jR4y7Ci2pZnu"
      },
      "execution_count": null,
      "outputs": []
    },
    {
      "cell_type": "code",
      "source": [
        "esquema = (\n",
        "    StructType([StructField('id', IntegerType()),\n",
        "                StructField('nome_musica', StringType()),\n",
        "                StructField('popularidade',IntegerType()),\n",
        "                StructField('duracao_musica', IntegerType()),\n",
        "                StructField('acustica', FloatType()),\n",
        "                StructField('danceabilidade', FloatType()),\n",
        "                StructField('energia', FloatType()),\n",
        "                StructField('instrumentabilidade', StringType()),\n",
        "                StructField('nota_musical', IntegerType()),\n",
        "                StructField('ao_vivo', FloatType()),\n",
        "                StructField('volume', FloatType()),\n",
        "                StructField('modo_de_audio', IntegerType()),\n",
        "                StructField('discurso', FloatType()),\n",
        "                StructField('ritmo', FloatType()),\n",
        "                StructField('assinatura_de_tempo', FloatType()),\n",
        "                StructField('valencia_de_audio', FloatType()),\n",
        "                ])\n",
        ")"
      ],
      "metadata": {
        "id": "Hc5WCzOMpr2e"
      },
      "execution_count": null,
      "outputs": []
    },
    {
      "cell_type": "markdown",
      "source": [
        "#passo a passo 2:\n",
        "1 ) criar um dataframe para mostrar;\n",
        "2) subir o arquivo;\n",
        "3) formatar;\n"
      ],
      "metadata": {
        "id": "lI15ALXRu7pc"
      }
    },
    {
      "cell_type": "code",
      "source": [
        "#AQUI IREMOS LER O DATAFRAME COLOCANDO INFERSCHEMA COMO FALSE PARA QUE O SPARK NÃO INFIRA O ESQUEMA\n",
        "# E ADICIONAMOS schema=esquema, PARA UTILIZARMOS O ESQUEMA QUE CRIAMOS ANTERIORMENTE\n",
        "df = (\n",
        "    spark.read.format('csv')\n",
        "              .option('inferschema', 'false')\n",
        "              .option('delimiter', ',')\n",
        "              .load('/content/spotify.csv', schema = esquema)\n",
        ")"
      ],
      "metadata": {
        "id": "SELW8sm5vdG1"
      },
      "execution_count": null,
      "outputs": []
    },
    {
      "cell_type": "code",
      "source": [
        "#COMANDO PARA VERIFICAR O ESQUEMA DO DATAFRAME\n",
        "df.printSchema()"
      ],
      "metadata": {
        "colab": {
          "base_uri": "https://localhost:8080/"
        },
        "id": "DZ_l0E9EvtEv",
        "outputId": "972a2112-6414-4595-db29-53486fd24f1b"
      },
      "execution_count": null,
      "outputs": [
        {
          "output_type": "stream",
          "name": "stdout",
          "text": [
            "root\n",
            " |-- id: integer (nullable = true)\n",
            " |-- nome_musica: string (nullable = true)\n",
            " |-- popularidade: integer (nullable = true)\n",
            " |-- duracao_musica: integer (nullable = true)\n",
            " |-- acustica: float (nullable = true)\n",
            " |-- danceabilidade: float (nullable = true)\n",
            " |-- energia: float (nullable = true)\n",
            " |-- instrumentabilidade: string (nullable = true)\n",
            " |-- nota_musical: integer (nullable = true)\n",
            " |-- ao_vivo: float (nullable = true)\n",
            " |-- volume: float (nullable = true)\n",
            " |-- modo_de_audio: integer (nullable = true)\n",
            " |-- discurso: float (nullable = true)\n",
            " |-- ritmo: float (nullable = true)\n",
            " |-- assinatura_de_tempo: float (nullable = true)\n",
            " |-- valencia_de_audio: float (nullable = true)\n",
            "\n"
          ]
        }
      ]
    },
    {
      "cell_type": "code",
      "source": [
        "df.show(truncate=False)"
      ],
      "metadata": {
        "colab": {
          "base_uri": "https://localhost:8080/"
        },
        "id": "x3w80muZwExD",
        "outputId": "c72b5741-4e91-47c6-b3a1-0fcf355a0c45"
      },
      "execution_count": null,
      "outputs": [
        {
          "output_type": "stream",
          "name": "stdout",
          "text": [
            "+----+--------------------------+------------+--------------+--------+--------------+-------+---------------------+------------+-------+------+-------------+--------+-------+-------------------+-----------------+\n",
            "|id  |nome_musica               |popularidade|duracao_musica|acustica|danceabilidade|energia|instrumentabilidade  |nota_musical|ao_vivo|volume|modo_de_audio|discurso|ritmo  |assinatura_de_tempo|valencia_de_audio|\n",
            "+----+--------------------------+------------+--------------+--------+--------------+-------+---------------------+------------+-------+------+-------------+--------+-------+-------------------+-----------------+\n",
            "|null|song_name                 |null        |null          |null    |null          |null   |instrumentalness     |null        |null   |null  |null         |null    |null   |null               |null             |\n",
            "|0   |Boulevard of Broken Dreams|73          |262333        |null    |null          |0.682  |2.94e-05             |8           |0.0589 |-4.095|1            |0.0294  |167.06 |4.0                |0.474            |\n",
            "|1   |In The End                |66          |216933        |null    |null          |0.853  |0.0                  |3           |0.108  |-6.407|0            |0.0498  |105.256|4.0                |0.37             |\n",
            "|2   |Seven Nation Army         |76          |231733        |null    |null          |0.463  |0.447                |0           |0.255  |-7.828|1            |0.0792  |123.881|4.0                |0.324            |\n",
            "|3   |By The Way                |74          |216933        |null    |null          |0.97   |0.00355              |0           |0.102  |-4.938|1            |0.107   |122.444|4.0                |0.198            |\n",
            "|4   |How You Remind Me         |56          |223826        |null    |null          |0.766  |0.0                  |10          |0.113  |-5.065|1            |0.0313  |172.011|4.0                |0.574            |\n",
            "|5   |Bring Me To Life          |80          |235893        |null    |null          |0.945  |1.85e-06             |4           |0.396  |-3.169|0            |0.124   |189.931|4.0                |0.32             |\n",
            "|6   |Last Resort               |81          |199893        |null    |null          |0.887  |0.00111              |4           |0.268  |-3.659|0            |0.0624  |90.578 |4.0                |0.724            |\n",
            "|7   |Are You Gonna Be My Girl  |76          |213800        |null    |null          |0.953  |0.000582             |2           |0.152  |-3.435|1            |0.0855  |105.046|4.0                |0.537            |\n",
            "|8   |Mr. Brightside            |80          |222586        |null    |null          |0.936  |0.0                  |1           |0.0926 |-3.66 |1            |0.0917  |148.112|4.0                |0.234            |\n",
            "|9   |Sex on Fire               |81          |203346        |null    |null          |0.905  |0.0104               |9           |0.136  |-5.653|1            |0.054   |153.398|4.0                |0.374            |\n",
            "|10  |The Middle                |78          |168253        |null    |null          |0.897  |0.0                  |2           |0.263  |-3.401|1            |0.0483  |161.944|4.0                |0.93             |\n",
            "|11  |Numb                      |63          |185586        |null    |null          |0.863  |0.0                  |9           |0.639  |-4.153|1            |0.0381  |110.018|4.0                |0.243            |\n",
            "|12  |Smooth Criminal           |75          |209266        |null    |null          |0.964  |0.0036               |9           |0.15   |-4.225|0            |0.06    |126.942|4.0                |0.875            |\n",
            "|13  |Can't Stop                |81          |269000        |null    |null          |0.938  |0.0                  |9           |0.167  |-3.442|1            |0.0456  |91.455 |4.0                |0.875            |\n",
            "|14  |Chop Suey!                |69          |210240        |null    |null          |0.929  |0.0007469999999999999|7           |0.122  |-3.899|0            |0.121   |127.204|4.0                |0.3              |\n",
            "|15  |Take Me Out               |77          |237026        |null    |null          |0.676  |0.0008990000000000002|9           |0.136  |-8.821|1            |0.0371  |104.545|4.0                |0.494            |\n",
            "|16  |I Miss You                |71          |227240        |null    |null          |0.778  |6.79e-06             |11          |0.0841 |-6.423|1            |0.0379  |110.022|4.0                |0.623            |\n",
            "|17  |Best of You               |62          |256600        |null    |null          |0.944  |2.9e-06              |1           |0.135  |-4.979|0            |0.0767  |130.315|4.0                |0.345            |\n",
            "|18  |I Write Sins Not Tragedies|77          |187613        |null    |null          |0.795  |0.0                  |9           |0.114  |-4.985|0            |0.134   |170.06 |4.0                |0.635            |\n",
            "+----+--------------------------+------------+--------------+--------+--------------+-------+---------------------+------------+-------+------+-------------+--------+-------+-------------------+-----------------+\n",
            "only showing top 20 rows\n",
            "\n"
          ]
        }
      ]
    },
    {
      "cell_type": "markdown",
      "source": [
        "#passo a passo:\n",
        "###O windows fuctions, ele serve para você colocar em ordem, como exemplo quem ganha mais, em uma empresa;\n",
        "\n",
        "1) instalar o windows fuction;\n",
        "1.1) importar o f de função do pyspark sql;\n",
        "2) criar um esquema ou chamar;\n",
        "3) como eu criei uma nova eu coloquei em uma dataframe;\n",
        "\n",
        "\n",
        "\n"
      ],
      "metadata": {
        "id": "OSoLqt7w27WC"
      }
    },
    {
      "cell_type": "code",
      "source": [
        "#Window Functions\n",
        "from pyspark.sql.window import Window\n",
        "import pyspark.sql.functions as F"
      ],
      "metadata": {
        "id": "vKkIqAcA3UQy"
      },
      "execution_count": null,
      "outputs": []
    },
    {
      "cell_type": "code",
      "source": [
        "schema = ['nome', 'departamento', 'estado', 'salario']\n",
        "\n",
        "dados = [('Anderson', 'vendas', 'SP', 9000),\n",
        "        ('Kennedy', 'vendas', 'RJ', 4500),\n",
        "        ('Luciana', 'vendas', 'SP', 4500),\n",
        "        ('Marta', 'vendas', 'SP', 4500),\n",
        "        ('João', 'vendas', 'SP', 4500),\n",
        "        ('Diego', 'vendas', 'SP', 4500),\n",
        "        ('Marilia', 'vendas', 'SP', 1200),\n",
        "        ('Gustavo', 'financeiro', 'AM', 8000),\n",
        "        ('Pedro', 'financeiro', 'AM', 2750),\n",
        "        ('Juliana', 'financeiro', 'MG', 3000),\n",
        "        ('Leticia', 'financeiro', 'RJ', 7500),\n",
        "        ('Oswaldo', 'marketing', 'RJ', 2450),\n",
        "        ('Denis', 'marketing', 'MG', 1300)\n",
        "         \n",
        "        ]\n"
      ],
      "metadata": {
        "id": "RGqmOAZo2m0R"
      },
      "execution_count": null,
      "outputs": []
    },
    {
      "cell_type": "code",
      "source": [
        "df2 = spark.createDataFrame(dados, schema)"
      ],
      "metadata": {
        "id": "bBQdDxM84C3j"
      },
      "execution_count": null,
      "outputs": []
    },
    {
      "cell_type": "code",
      "source": [
        "df2.show()"
      ],
      "metadata": {
        "colab": {
          "base_uri": "https://localhost:8080/"
        },
        "id": "RxJEqRPy4J8Z",
        "outputId": "de82dacb-06da-4b62-99a3-6bb252ce0acd"
      },
      "execution_count": null,
      "outputs": [
        {
          "output_type": "stream",
          "name": "stdout",
          "text": [
            "+--------+------------+------+-------+\n",
            "|    nome|departamento|estado|salario|\n",
            "+--------+------------+------+-------+\n",
            "|Anderson|      vendas|    SP|   9000|\n",
            "| Kennedy|      vendas|    RJ|   4500|\n",
            "| Luciana|      vendas|    SP|   4500|\n",
            "|   Marta|      vendas|    SP|   4500|\n",
            "|    João|      vendas|    SP|   4500|\n",
            "|   Diego|      vendas|    SP|   4500|\n",
            "| Marilia|      vendas|    SP|   1200|\n",
            "| Gustavo|  financeiro|    AM|   8000|\n",
            "|   Pedro|  financeiro|    AM|   2750|\n",
            "| Juliana|  financeiro|    MG|   3000|\n",
            "| Leticia|  financeiro|    RJ|   7500|\n",
            "| Oswaldo|   marketing|    RJ|   2450|\n",
            "|   Denis|   marketing|    MG|   1300|\n",
            "+--------+------------+------+-------+\n",
            "\n"
          ]
        }
      ]
    },
    {
      "cell_type": "markdown",
      "source": [
        "#Particion by\n",
        "vamos fazer uma particionby, ele faz uma função parecida como orderby, porém ele retorna sobre todas as linhas do grupo inteiro, de um por um não agrupa como gupoby, uma coisa só);\n",
        " - o grupBy ele soma todos e juntas;"
      ],
      "metadata": {
        "id": "2db72LnD4o81"
      }
    },
    {
      "cell_type": "markdown",
      "source": [
        "1) criar um window - que é tipo um ranking ;\n",
        "2) fuction, e você coloca qua é a coluna que você irá usar;\n",
        "3) w0 = Window.partitionBy(F.col('departamento')).orderBy(F.col('salario').desc()); - você pode colocar o descrecente no final para fazer outro tipo de ordenação;\n"
      ],
      "metadata": {
        "id": "V14cRdiw5tGt"
      }
    },
    {
      "cell_type": "code",
      "source": [
        "#CRIAR UMA PARTIÇÃO SOBRE O DATAFRAME PARA UTILIZAR ALGUM TIPO DE CLASSIFICAÇÃO\n",
        "w0 = Window.partitionBy(F.col('departamento')).orderBy(F.col('salario'))"
      ],
      "metadata": {
        "id": "_PGYuXH45L1_"
      },
      "execution_count": null,
      "outputs": []
    },
    {
      "cell_type": "code",
      "source": [
        "# 1) ROW_NUMBER - RETORNA O NÚMERO DA LINHA DE ACORDO COM A PARTIÇÃO CRIADA\n",
        "df3 = df2.withColumn('numero_linha', F.row_number().over(w0))"
      ],
      "metadata": {
        "id": "VUNxii4x6ShI"
      },
      "execution_count": null,
      "outputs": []
    },
    {
      "cell_type": "code",
      "source": [
        "df3.show()"
      ],
      "metadata": {
        "colab": {
          "base_uri": "https://localhost:8080/"
        },
        "id": "pU7JdTCq6Ur-",
        "outputId": "3da65859-0bf5-428f-d56a-102e4887e53b"
      },
      "execution_count": null,
      "outputs": [
        {
          "output_type": "stream",
          "name": "stdout",
          "text": [
            "+--------+------------+------+-------+------------+\n",
            "|    nome|departamento|estado|salario|numero_linha|\n",
            "+--------+------------+------+-------+------------+\n",
            "|   Pedro|  financeiro|    AM|   2750|           1|\n",
            "| Juliana|  financeiro|    MG|   3000|           2|\n",
            "| Leticia|  financeiro|    RJ|   7500|           3|\n",
            "| Gustavo|  financeiro|    AM|   8000|           4|\n",
            "|   Denis|   marketing|    MG|   1300|           1|\n",
            "| Oswaldo|   marketing|    RJ|   2450|           2|\n",
            "| Marilia|      vendas|    SP|   1200|           1|\n",
            "| Kennedy|      vendas|    RJ|   4500|           2|\n",
            "| Luciana|      vendas|    SP|   4500|           3|\n",
            "|   Marta|      vendas|    SP|   4500|           4|\n",
            "|    João|      vendas|    SP|   4500|           5|\n",
            "|   Diego|      vendas|    SP|   4500|           6|\n",
            "|Anderson|      vendas|    SP|   9000|           7|\n",
            "+--------+------------+------+-------+------------+\n",
            "\n"
          ]
        }
      ]
    },
    {
      "cell_type": "markdown",
      "source": [
        "#tipo Rankin\n",
        "1) podemos fazer tipo Raking; \n",
        "2) dense rank"
      ],
      "metadata": {
        "id": "6I2kdoSs77Te"
      }
    },
    {
      "cell_type": "code",
      "source": [
        "#rank\n",
        "df3 = df3.withColumn('rank', F.rank().over(w0))"
      ],
      "metadata": {
        "id": "CMkzqvLP8COC"
      },
      "execution_count": null,
      "outputs": []
    },
    {
      "cell_type": "code",
      "source": [
        "df3.show()"
      ],
      "metadata": {
        "colab": {
          "base_uri": "https://localhost:8080/"
        },
        "id": "ppbo3wKn8UVW",
        "outputId": "31f9ec61-3421-4c2a-9389-9ef296b140c6"
      },
      "execution_count": null,
      "outputs": [
        {
          "output_type": "stream",
          "name": "stdout",
          "text": [
            "+--------+------------+------+-------+------------+----+\n",
            "|    nome|departamento|estado|salario|numero_linha|rank|\n",
            "+--------+------------+------+-------+------------+----+\n",
            "|   Pedro|  financeiro|    AM|   2750|           1|   1|\n",
            "| Juliana|  financeiro|    MG|   3000|           2|   2|\n",
            "| Leticia|  financeiro|    RJ|   7500|           3|   3|\n",
            "| Gustavo|  financeiro|    AM|   8000|           4|   4|\n",
            "|   Denis|   marketing|    MG|   1300|           1|   1|\n",
            "| Oswaldo|   marketing|    RJ|   2450|           2|   2|\n",
            "| Marilia|      vendas|    SP|   1200|           1|   1|\n",
            "| Kennedy|      vendas|    RJ|   4500|           2|   2|\n",
            "| Luciana|      vendas|    SP|   4500|           3|   2|\n",
            "|   Marta|      vendas|    SP|   4500|           4|   2|\n",
            "|    João|      vendas|    SP|   4500|           5|   2|\n",
            "|   Diego|      vendas|    SP|   4500|           6|   2|\n",
            "|Anderson|      vendas|    SP|   9000|           7|   7|\n",
            "+--------+------------+------+-------+------------+----+\n",
            "\n"
          ]
        }
      ]
    },
    {
      "cell_type": "code",
      "source": [
        "#DENSE_RANK\n",
        "df3 = df3.withColumn('dense_rank', F.dense_rank().over(w0))"
      ],
      "metadata": {
        "id": "nBfODeTr9Nmn"
      },
      "execution_count": null,
      "outputs": []
    },
    {
      "cell_type": "code",
      "source": [
        "df3.show()"
      ],
      "metadata": {
        "colab": {
          "base_uri": "https://localhost:8080/"
        },
        "id": "vEFoVWBy9cW2",
        "outputId": "e9494128-3e47-4b65-de0b-cc96755ce5c6"
      },
      "execution_count": null,
      "outputs": [
        {
          "output_type": "stream",
          "name": "stdout",
          "text": [
            "+--------+------------+------+-------+------------+----+----------+\n",
            "|    nome|departamento|estado|salario|numero_linha|rank|dense_rank|\n",
            "+--------+------------+------+-------+------------+----+----------+\n",
            "|   Pedro|  financeiro|    AM|   2750|           1|   1|         1|\n",
            "| Juliana|  financeiro|    MG|   3000|           2|   2|         2|\n",
            "| Leticia|  financeiro|    RJ|   7500|           3|   3|         3|\n",
            "| Gustavo|  financeiro|    AM|   8000|           4|   4|         4|\n",
            "|   Denis|   marketing|    MG|   1300|           1|   1|         1|\n",
            "| Oswaldo|   marketing|    RJ|   2450|           2|   2|         2|\n",
            "| Marilia|      vendas|    SP|   1200|           1|   1|         1|\n",
            "| Kennedy|      vendas|    RJ|   4500|           2|   2|         2|\n",
            "| Luciana|      vendas|    SP|   4500|           3|   2|         2|\n",
            "|   Marta|      vendas|    SP|   4500|           4|   2|         2|\n",
            "|    João|      vendas|    SP|   4500|           5|   2|         2|\n",
            "|   Diego|      vendas|    SP|   4500|           6|   2|         2|\n",
            "|Anderson|      vendas|    SP|   9000|           7|   7|         3|\n",
            "+--------+------------+------+-------+------------+----+----------+\n",
            "\n"
          ]
        }
      ]
    },
    {
      "cell_type": "markdown",
      "source": [
        "#LAG\n",
        "Ela é usado para ver quais os valores na coluna dentro do \"departamento\" antes dele; "
      ],
      "metadata": {
        "id": "YSO9F-irQ3NI"
      }
    },
    {
      "cell_type": "code",
      "source": [
        "df3 = df3.withColumn('lag', F.lag(\"salario\", 2).over(w0))"
      ],
      "metadata": {
        "id": "9yuRPn4fRkAz"
      },
      "execution_count": null,
      "outputs": []
    },
    {
      "cell_type": "code",
      "source": [
        "df3.show()"
      ],
      "metadata": {
        "colab": {
          "base_uri": "https://localhost:8080/"
        },
        "id": "bonGmWeRR71n",
        "outputId": "8155ca9a-5e43-434c-95bf-031348b2151f"
      },
      "execution_count": null,
      "outputs": [
        {
          "output_type": "stream",
          "name": "stdout",
          "text": [
            "+--------+------------+------+-------+------------+----+----------+----+\n",
            "|    nome|departamento|estado|salario|numero_linha|rank|dense_rank| lag|\n",
            "+--------+------------+------+-------+------------+----+----------+----+\n",
            "|   Pedro|  financeiro|    AM|   2750|           1|   1|         1|null|\n",
            "| Juliana|  financeiro|    MG|   3000|           2|   2|         2|null|\n",
            "| Leticia|  financeiro|    RJ|   7500|           3|   3|         3|2750|\n",
            "| Gustavo|  financeiro|    AM|   8000|           4|   4|         4|3000|\n",
            "|   Denis|   marketing|    MG|   1300|           1|   1|         1|null|\n",
            "| Oswaldo|   marketing|    RJ|   2450|           2|   2|         2|null|\n",
            "| Marilia|      vendas|    SP|   1200|           1|   1|         1|null|\n",
            "| Kennedy|      vendas|    RJ|   4500|           2|   2|         2|null|\n",
            "| Luciana|      vendas|    SP|   4500|           3|   2|         2|1200|\n",
            "|   Marta|      vendas|    SP|   4500|           4|   2|         2|4500|\n",
            "|    João|      vendas|    SP|   4500|           5|   2|         2|4500|\n",
            "|   Diego|      vendas|    SP|   4500|           6|   2|         2|4500|\n",
            "|Anderson|      vendas|    SP|   9000|           7|   7|         3|4500|\n",
            "+--------+------------+------+-------+------------+----+----------+----+\n",
            "\n"
          ]
        }
      ]
    },
    {
      "cell_type": "markdown",
      "source": [
        "#LEAD\n",
        "Ela é usado para ver quais os valores na coluna dentro do \"departamento\" depois dele; \n"
      ],
      "metadata": {
        "id": "unGWkz9aSCs2"
      }
    },
    {
      "cell_type": "code",
      "source": [
        "df3 = df3.withColumn('lag', F.lead(\"salario\", 2).over(w0))"
      ],
      "metadata": {
        "id": "xJM0tcMCSOHN"
      },
      "execution_count": null,
      "outputs": []
    },
    {
      "cell_type": "code",
      "source": [
        "df3.show()"
      ],
      "metadata": {
        "colab": {
          "base_uri": "https://localhost:8080/"
        },
        "id": "tpuJL2JUSX_C",
        "outputId": "5ffcb418-bcbf-4a05-e047-83c280bb8152"
      },
      "execution_count": null,
      "outputs": [
        {
          "output_type": "stream",
          "name": "stdout",
          "text": [
            "+--------+------------+------+-------+------------+----+----------+----+\n",
            "|    nome|departamento|estado|salario|numero_linha|rank|dense_rank| lag|\n",
            "+--------+------------+------+-------+------------+----+----------+----+\n",
            "|   Pedro|  financeiro|    AM|   2750|           1|   1|         1|7500|\n",
            "| Juliana|  financeiro|    MG|   3000|           2|   2|         2|8000|\n",
            "| Leticia|  financeiro|    RJ|   7500|           3|   3|         3|null|\n",
            "| Gustavo|  financeiro|    AM|   8000|           4|   4|         4|null|\n",
            "|   Denis|   marketing|    MG|   1300|           1|   1|         1|null|\n",
            "| Oswaldo|   marketing|    RJ|   2450|           2|   2|         2|null|\n",
            "| Marilia|      vendas|    SP|   1200|           1|   1|         1|4500|\n",
            "| Kennedy|      vendas|    RJ|   4500|           2|   2|         2|4500|\n",
            "| Luciana|      vendas|    SP|   4500|           3|   2|         2|4500|\n",
            "|   Marta|      vendas|    SP|   4500|           4|   2|         2|4500|\n",
            "|    João|      vendas|    SP|   4500|           5|   2|         2|9000|\n",
            "|   Diego|      vendas|    SP|   4500|           6|   2|         2|null|\n",
            "|Anderson|      vendas|    SP|   9000|           7|   7|         3|null|\n",
            "+--------+------------+------+-------+------------+----+----------+----+\n",
            "\n"
          ]
        }
      ]
    }
  ]
}