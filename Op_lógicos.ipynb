{
  "nbformat": 4,
  "nbformat_minor": 0,
  "metadata": {
    "colab": {
      "provenance": [],
      "include_colab_link": true
    },
    "kernelspec": {
      "name": "python3",
      "display_name": "Python 3"
    },
    "language_info": {
      "name": "python"
    }
  },
  "cells": [
    {
      "cell_type": "markdown",
      "metadata": {
        "id": "view-in-github",
        "colab_type": "text"
      },
      "source": [
        "<a href=\"https://colab.research.google.com/github/Stesilva16/Eng-de-dados--/blob/main/Op_l%C3%B3gicos.ipynb\" target=\"_parent\"><img src=\"https://colab.research.google.com/assets/colab-badge.svg\" alt=\"Open In Colab\"/></a>"
      ]
    },
    {
      "cell_type": "code",
      "execution_count": null,
      "metadata": {
        "colab": {
          "base_uri": "https://localhost:8080/"
        },
        "id": "IYwRNgJTjBYB",
        "outputId": "995d28a9-9f64-439d-e323-394a2c44917f"
      },
      "outputs": [
        {
          "output_type": "execute_result",
          "data": {
            "text/plain": [
              "False"
            ]
          },
          "metadata": {},
          "execution_count": 2
        }
      ],
      "source": [
        "#OPERADOR AND\n",
        "idade = 25\n",
        "altura = 1.50\n",
        "\n",
        "idade <= 30 and altura >= 1.65"
      ]
    },
    {
      "cell_type": "code",
      "source": [
        "#OPERADOR OR\n",
        "\n",
        "cargo = 'Programador'\n",
        "tempo_empresa = 26\n",
        "\n",
        "cargo == 'Diretor' or tempo_empresa > 24\n"
      ],
      "metadata": {
        "id": "FLGQ1qkPkYOF"
      },
      "execution_count": null,
      "outputs": []
    },
    {
      "cell_type": "code",
      "source": [
        "#OPERADOR NOT\n",
        "paises_oitavas = ['Brasil', 'França', 'Inglaterra', 'Alemanha']\n",
        "\n",
        "'Brasil' not in paises_oitavas"
      ],
      "metadata": {
        "id": "AkFEJipW6YUy"
      },
      "execution_count": null,
      "outputs": []
    },
    {
      "cell_type": "code",
      "source": [
        "#Comando para entrada de dados\n",
        "nome = input('Digite o seu nome: ')\n",
        "idade = input('Digite a sua idade: ')\n",
        "\n",
        "print(type(nome))\n",
        "print(type(idade))"
      ],
      "metadata": {
        "colab": {
          "base_uri": "https://localhost:8080/"
        },
        "id": "E6DEcj4J70oS",
        "outputId": "0435fe82-57d8-410d-b9ec-017863244ecb"
      },
      "execution_count": null,
      "outputs": [
        {
          "output_type": "stream",
          "name": "stdout",
          "text": [
            "Digite o seu nome: Julio\n",
            "Digite a sua idade: 16\n",
            "<class 'str'>\n",
            "<class 'str'>\n"
          ]
        }
      ]
    },
    {
      "cell_type": "code",
      "source": [
        "#CASTING\n",
        "# idade2 = int(idade)\n",
        "# nota = float(nota)\n",
        "# idade = str(idade2)\n",
        "\n",
        "idade = int(input('Digite a sua idade: '))\n",
        "\n",
        "print(type(idade))"
      ],
      "metadata": {
        "colab": {
          "base_uri": "https://localhost:8080/"
        },
        "id": "YuAiDtFz9PpW",
        "outputId": "9064abc1-5d68-4459-cb55-9159883dd673"
      },
      "execution_count": null,
      "outputs": [
        {
          "output_type": "stream",
          "name": "stdout",
          "text": [
            "Digite a sua idade: 12\n",
            "<class 'int'>\n"
          ]
        }
      ]
    },
    {
      "cell_type": "code",
      "source": [
        "#FAÇA UM PROGRAMA QUE LEIA UM NOME E DOIS NÚMEROS\n",
        "#E IMPRIMA NA TELA O NOME LIDO E A SOMA DOS DOIS NÚMEROS\n",
        "nome = input(\"Digite o seu nome: \")\n",
        "n1 = int(input('Digite o primeiro número: '))\n",
        "n2 = int(input('Digite o segundo número: '))\n",
        "soma = n1 + n2\n",
        "print(\"O nome digitado foi \", nome)\n",
        "print(\"A soma dos números lidos foi \", soma)"
      ],
      "metadata": {
        "colab": {
          "base_uri": "https://localhost:8080/"
        },
        "id": "rcpK4MPf-Z9z",
        "outputId": "c0f8cf3b-295c-4783-8a3c-4a6d62334856"
      },
      "execution_count": null,
      "outputs": [
        {
          "output_type": "stream",
          "name": "stdout",
          "text": [
            "Digite o seu nome: João\n",
            "Digite o primeiro número: 5\n",
            "Digite o segundo número: 3\n",
            "O nome digitado foi  João\n",
            "A soma dos números lidos foi  8\n"
          ]
        }
      ]
    },
    {
      "cell_type": "code",
      "source": [
        "#FAÇA UM PROGRAMA QUE LEIA DOIS NÚMEROS E EXIBA NA TELA O PRODUTO DELES\n",
        "n1 = int(input(\"Digite o primeiro número: \"))\n",
        "n2 = int(input(\"Digite o segundo número: \"))\n",
        "print(\"O produto dos números lidos foi\" ,n1 * n2)"
      ],
      "metadata": {
        "colab": {
          "base_uri": "https://localhost:8080/"
        },
        "id": "VJFoWYup-0Ux",
        "outputId": "6e0437d5-3c70-4fc0-f92a-d35bbdb34b0e"
      },
      "execution_count": null,
      "outputs": [
        {
          "output_type": "stream",
          "name": "stdout",
          "text": [
            "Digite o primeiro número: 5\n",
            "Digite o segundo número: 6\n",
            "O produto dos números lidos foi 30\n"
          ]
        }
      ]
    },
    {
      "cell_type": "code",
      "source": [
        "#CONCATENAÇÃO\n",
        "nome = input('Digite o nome ')\n",
        "sobrenome = input('Digite o sobrenome ')\n",
        "\n",
        "print(nome,sobrenome)"
      ],
      "metadata": {
        "colab": {
          "base_uri": "https://localhost:8080/"
        },
        "id": "eKLjAZJlKh0k",
        "outputId": "5ac2acf9-ada0-4c90-ed2b-81b2e8ef85f3"
      },
      "execution_count": null,
      "outputs": [
        {
          "output_type": "stream",
          "name": "stdout",
          "text": [
            "Digite o nome André\n",
            "Digite o sobrenome Luis\n",
            "André Luis\n"
          ]
        }
      ]
    }
  ]
}