{
  "nbformat": 4,
  "nbformat_minor": 0,
  "metadata": {
    "colab": {
      "provenance": [],
      "include_colab_link": true
    },
    "kernelspec": {
      "name": "python3",
      "display_name": "Python 3"
    },
    "language_info": {
      "name": "python"
    }
  },
  "cells": [
    {
      "cell_type": "markdown",
      "metadata": {
        "id": "view-in-github",
        "colab_type": "text"
      },
      "source": [
        "<a href=\"https://colab.research.google.com/github/Stesilva16/Eng-de-dados--/blob/main/Strings_Python.ipynb\" target=\"_parent\"><img src=\"https://colab.research.google.com/assets/colab-badge.svg\" alt=\"Open In Colab\"/></a>"
      ]
    },
    {
      "cell_type": "markdown",
      "source": [
        "1) Crie um programa que compara duas strings e veja se elas são iguais.\n",
        "\n",
        "2) Faça um programa que leia um nome completo e imprima as 4 primeiras letras do nome.\n",
        "\n",
        "3) Com o mesmo nome da questão 2, agora verifique a quantidade de caracteres que contém o nome digitado.\n",
        "\n",
        "4) Leia uma frase qualquer e verifique se a pessoa digitou a palavra “cachorro” nessa frase (Não importa a maneira como a pessoa escreveu)\n",
        "\n",
        "5) Crie um programa que leia uma string e mostre a string de trás pra frente até o 6º caractere\n",
        "\n",
        "6) Faça um programa que conte o numero de 1’s que aparecem em um string. Exemplo: ´ 0011001 -> 3\n",
        "\n",
        "7) Escreva um programa que substitui as ocorrências de um caractere 0 em uma string por ˆ outro caractere 1.\n",
        "\n",
        "8) Faça um programa em que troque todas as ocorrências de uma letra L1 pela letra L2 em ˆ uma string. A string e as letras L1 e L2 devem ser fornecidas pelo usuario.\n",
        "\n",
        "9) Faça um programa que receba duas frases distintas e imprima de maneira invertida, trocando as letras A por *."
      ],
      "metadata": {
        "id": "CJiuW3EizZqg"
      }
    },
    {
      "cell_type": "code",
      "source": [
        "#Código 1\n",
        "str1 = input(\"Defina a string 1:\")\n",
        "str2 = input(\"Defina a string 2:\")\n",
        "print(\"Igual\") if str1 == str2 else print(\"Não é igual\")"
      ],
      "metadata": {
        "id": "GTkRg0Hn0OD_"
      },
      "execution_count": null,
      "outputs": []
    },
    {
      "cell_type": "code",
      "source": [
        "#Código 2\n",
        "nome = input(\"Escreva o nome completo:\")\n",
        "print(f'As primeiras 4 letras são: {nome[0:4:1]}')"
      ],
      "metadata": {
        "id": "aJY5fmux1DmS"
      },
      "execution_count": null,
      "outputs": []
    },
    {
      "cell_type": "code",
      "source": [
        "#Código 3\n",
        "nome = input(\"Escreva o nome completo:\")\n",
        "print(f'O nome tem: {len(nome)} Letras')"
      ],
      "metadata": {
        "id": "qU1J6dxr2W3s"
      },
      "execution_count": null,
      "outputs": []
    },
    {
      "cell_type": "code",
      "source": [
        "#Código 4\n",
        "frase = input(\"Escreva a frase:\").upper()\n",
        "if frase.count(\"CACHORRO\") != 0:\n",
        "  print(\"Tem cachorro !\")\n",
        "else :\n",
        "  print(\"não Tem cachorro !\")"
      ],
      "metadata": {
        "id": "t3CHCvyy2yiF"
      },
      "execution_count": null,
      "outputs": []
    },
    {
      "cell_type": "code",
      "source": [
        "#código 5\n",
        "str = input(\"Defina a string:\")\n",
        "print(str[:2:-1])"
      ],
      "metadata": {
        "id": "tTtwO3Ze36XZ"
      },
      "execution_count": null,
      "outputs": []
    },
    {
      "cell_type": "code",
      "source": [
        "#código 6\n",
        "str = input(\"Defina a string:\")\n",
        "print(f'A string tem {str.count(\"1\")} Númerons \"1\" ')"
      ],
      "metadata": {
        "id": "j_pt0WNs4_kc"
      },
      "execution_count": null,
      "outputs": []
    },
    {
      "cell_type": "code",
      "source": [
        "#código 7\n",
        "str = input(\"Defina a string:\")\n",
        "print(f'A string é {str.replace(\"0\",\"1\")} ')"
      ],
      "metadata": {
        "id": "rCdWhpbz5YuL"
      },
      "execution_count": null,
      "outputs": []
    },
    {
      "cell_type": "code",
      "source": [
        "#código 8\n",
        "str1 = input(\"Defina a string:\").upper()\n",
        "print(f'A string é {str1.replace(\"0\",\"1\")} ')"
      ],
      "metadata": {
        "id": "3JQItJXC55AJ"
      },
      "execution_count": null,
      "outputs": []
    },
    {
      "cell_type": "code",
      "source": [
        "str1 = input(\"Defina a string que será substituída:\")\n",
        "str2 = input(\"Defina a string que ficará no lugar:\")\n",
        "frase = input(\"Defina a frase\")\n",
        "print(f'A string é {frase.replace(str1,str2)} ')"
      ],
      "metadata": {
        "id": "_ACvXGuVHJ8z"
      },
      "execution_count": null,
      "outputs": []
    },
    {
      "cell_type": "code",
      "source": [
        "frase1 = input(\"Defina a frase 1:\").upper()\n",
        "frase2 = input(\"Defina a frase 2:\").upper()\n",
        "print(frase1[::-1].replace(\"A\",\"*\"))\n",
        "print(frase2[::-1].replace(\"A\",\"*\"))"
      ],
      "metadata": {
        "id": "3WemisMUJDIP"
      },
      "execution_count": null,
      "outputs": []
    },
    {
      "cell_type": "markdown",
      "source": [
        "1) Faça um algoritmo que imprima na tela uma sequência de 10 números pares a partir do 1.\n",
        "\n",
        "2) Faça um programa que apresente na tela os 10 primeiros números negativos.\n",
        "\n",
        "3) Faça um algoritmo que leia um número positivo e imprima na tela todos os divisores desse número\n",
        "\n",
        "4) Faça um programa que leia N notas e mostre na tela a média das notas lidas.\n",
        "\n",
        "5) Escreva um algoritmo que leia um valor inicial A e uma razão R e imprima uma seqüência em P.A. contendo 10 valores.\n",
        "\n",
        "6) Escrever um algoritmo que gera e escreve os números ímpares entre 100 e 200.\n",
        "\n",
        "7) Crie uma tabuada do 1 ao 10 utilizando o comando while. Ex de saída: 1 x 0 = 0 1 x 1 = 1 1 x 2 = … 1 x 10 = 10\n",
        "\n",
        "2 x 0 = 0 2 x 1 = 2 … 2 x 10 = 20\n",
        "\n",
        "….\n",
        "\n",
        "10 x 0 = 0 10 x 1 = 10 … 10 x 10 = 100\n",
        "\n",
        "8) Desenvolver um algoritmo que leia um número não determinado de valores e calcule e escreva a média aritmética dos valores lidos, a quantidade de valores positivos, a quantidade de valores negativos e o percentual de valores negativos e positivos.\n",
        "\n",
        "9) Escrever um algoritmo que leia uma quantidade desconhecida de números e conte quantos deles estão nos seguintes intervalos: [0-25], [26-50], [51-75] e [76-100]. A entrada de dados deve terminar quando for lido um número negativo.\n",
        "\n",
        "10) Escreva um algoritmo que leia um valor inicial A e imprima a seqüência de valores do cálculo de A! e o seu resultado. Ex: 5! = 5 X 4 X 3 X 2 X 1 = 120"
      ],
      "metadata": {
        "id": "F2lmZRhC6SZ7"
      }
    },
    {
      "cell_type": "code",
      "source": [
        "#código 1\n",
        "i = 2\n",
        "j = 0\n",
        "while j <= 9:\n",
        "  if i %2 == 0:\n",
        "    print(i)\n",
        "    j +=1\n",
        "  i += 1"
      ],
      "metadata": {
        "id": "XColx79R5QdC"
      },
      "execution_count": null,
      "outputs": []
    },
    {
      "cell_type": "code",
      "source": [
        "#código 2\n",
        "i = 1\n",
        "while i <= 10:\n",
        "  print(-i)\n",
        "  i += 1"
      ],
      "metadata": {
        "id": "zgc2nbIe7Ayl"
      },
      "execution_count": null,
      "outputs": []
    },
    {
      "cell_type": "code",
      "source": [
        "#código 3\n",
        "n = int(input(\"Defina o número: \"))\n",
        "i=1\n",
        "while i<=n:\n",
        "  if n % i == 0:\n",
        "    print(i)\n",
        "  i += 1"
      ],
      "metadata": {
        "id": "CItGpbyY7rnR"
      },
      "execution_count": null,
      "outputs": []
    },
    {
      "cell_type": "code",
      "source": [
        "#código 4\n",
        "nu_notas = int(input(\"Quantas notas ? \"))\n",
        "i=1\n",
        "n = 0\n",
        "notas = 0\n",
        "while i <= nu_notas:\n",
        "  notas = notas + n\n",
        "  n = float(input(f'Valor da nota {i} ? '))\n",
        "  i += 1\n",
        "print(f' A média é {notas/nu_notas}')"
      ],
      "metadata": {
        "id": "Yqwod9o686kf"
      },
      "execution_count": null,
      "outputs": []
    },
    {
      "cell_type": "code",
      "source": [
        "#código 5\n",
        "valor_i = float(input(\"Qual valor inicial ?  \"))\n",
        "razao = float(input(\"Qual a razão ?  \"))\n",
        "i=0\n",
        "while i <= 9: \n",
        "  print(valor_i)\n",
        "  valor_i += razao\n",
        "  i += 1"
      ],
      "metadata": {
        "id": "PTwzgssq_FRi"
      },
      "execution_count": null,
      "outputs": []
    },
    {
      "cell_type": "code",
      "source": [
        "#código 6 \n",
        "i=100\n",
        "while i <= 200 :\n",
        "  if i % 2 != 0:\n",
        "    print(i)\n",
        "  i += 1"
      ],
      "metadata": {
        "id": "F-cjKLwpApWW",
        "colab": {
          "base_uri": "https://localhost:8080/",
          "height": 130
        },
        "outputId": "c79c3037-a821-437a-e623-8d15b8a27d5d"
      },
      "execution_count": null,
      "outputs": [
        {
          "output_type": "error",
          "ename": "SyntaxError",
          "evalue": "ignored",
          "traceback": [
            "\u001b[0;36m  File \u001b[0;32m\"<ipython-input-6-382bc5ee5616>\"\u001b[0;36m, line \u001b[0;32m2\u001b[0m\n\u001b[0;31m    while i=100 <= 200 :\u001b[0m\n\u001b[0m           ^\u001b[0m\n\u001b[0;31mSyntaxError\u001b[0m\u001b[0;31m:\u001b[0m invalid syntax\n"
          ]
        }
      ]
    },
    {
      "cell_type": "code",
      "source": [
        "#Código 7 \n",
        "i=0\n",
        "j=1\n",
        "while j <= 10:\n",
        "  while i <= 10:\n",
        "    print(f'{j} x {i} = {j*i}')\n",
        "    i += 1\n",
        "  i=0\n",
        "  print(\"\")\n",
        "  j += 1"
      ],
      "metadata": {
        "id": "dmo1O6MNBL8A"
      },
      "execution_count": null,
      "outputs": []
    },
    {
      "cell_type": "code",
      "source": [
        "#código 8\n",
        "i=1\n",
        "notas = 0\n",
        "positivos = 0\n",
        "negativos = 0\n",
        "\n",
        "nu_notas = int(input(\"Quantas notas ? \"))\n",
        "\n",
        "while i <= nu_notas:\n",
        "  n = float(input(f'Defina a Nota {i} :'))\n",
        "  notas = notas + n\n",
        "  if n >= 0:\n",
        "    positivos +=1\n",
        "  else:\n",
        "    negativos +=1\n",
        "  i += 1\n",
        "\n",
        "print(f' A média foi {notas/nu_notas} houve {positivos} Notas positivas e {negativos} Notas negativas onde {(positivos/(negativos+positivos))*100}% são positivos e  {(negativos/(negativos+positivos))*100}% negativos')"
      ],
      "metadata": {
        "id": "cXKWrIp8Eq1W"
      },
      "execution_count": null,
      "outputs": []
    },
    {
      "cell_type": "code",
      "source": [
        "#Código 9\n",
        "c1 , c2 , c3 , c4 = 0 ,0 , 0, 0\n",
        "n , i = 1 , 1\n",
        "while n > 0 :\n",
        "  n = float(input(f'Defina o número {i} :'))\n",
        "  if  0 <= n <= 25:\n",
        "    c1+=1\n",
        "  elif  26 <= n <= 50:\n",
        "    c2+=1\n",
        "  elif  51 <= n <= 75:\n",
        "    c3+=1\n",
        "  elif  76 <= n <= 100:\n",
        "    c4+=1\n",
        "  i+=1\n",
        "print(f'{c1} Estão entre  [0-25] , {c2} Estão entre  [26-50] , {c3} Estão entre  [51-75] , {c4} Estão entre  [76-100] ')"
      ],
      "metadata": {
        "id": "aDDU1KZgLzur"
      },
      "execution_count": null,
      "outputs": []
    },
    {
      "cell_type": "code",
      "source": [
        "n = int(input(\"Defina o número : \"))\n",
        "n2 = n\n",
        "str1=\"\"\n",
        "resultado=1\n",
        "while n >=1 :\n",
        "  if n == 1:\n",
        "    str1 = str1 + str(n)\n",
        "    break\n",
        "  str1 = str1 + str(n) + \" X \"\n",
        "  resultado*=n\n",
        "  n-=1\n",
        "print(f'{n2}! é igual a {str1} = {resultado}')"
      ],
      "metadata": {
        "id": "iIIxxirJMQi_"
      },
      "execution_count": null,
      "outputs": []
    },
    {
      "cell_type": "code",
      "source": [
        "vidas = 3  #x\n",
        "moedas = 500\n",
        "i = 0\n",
        "\n",
        "while vidas > 0 or moedas < 1000:\n",
        "  vidas = vidas - 1\n",
        "  moedas = moedas*10\n",
        "  i = i+1\n",
        "\n",
        "print(i)"
      ],
      "metadata": {
        "colab": {
          "base_uri": "https://localhost:8080/"
        },
        "id": "B4C7fyaViqGg",
        "outputId": "27ace9d6-7caf-40bd-898d-eee429e02c19"
      },
      "execution_count": null,
      "outputs": [
        {
          "output_type": "stream",
          "name": "stdout",
          "text": [
            "3\n"
          ]
        }
      ]
    }
  ]
}