{
  "nbformat": 4,
  "nbformat_minor": 0,
  "metadata": {
    "colab": {
      "provenance": [],
      "include_colab_link": true
    },
    "kernelspec": {
      "name": "python3",
      "display_name": "Python 3"
    },
    "language_info": {
      "name": "python"
    }
  },
  "cells": [
    {
      "cell_type": "markdown",
      "metadata": {
        "id": "view-in-github",
        "colab_type": "text"
      },
      "source": [
        "<a href=\"https://colab.research.google.com/github/Stesilva16/Eng-de-dados--/blob/main/Manipulando_strings.ipynb\" target=\"_parent\"><img src=\"https://colab.research.google.com/assets/colab-badge.svg\" alt=\"Open In Colab\"/></a>"
      ]
    },
    {
      "cell_type": "code",
      "execution_count": null,
      "metadata": {
        "colab": {
          "base_uri": "https://localhost:8080/"
        },
        "id": "c2uDqwDBR8f3",
        "outputId": "4acbc3eb-2d06-4f4c-d871-bd7640b8f5ba"
      },
      "outputs": [
        {
          "output_type": "stream",
          "name": "stdout",
          "text": [
            "'Essa \"texto\" 'será' destacada'\n",
            "Bom dia! Tudo bom?\n"
          ]
        }
      ],
      "source": [
        "#UTILIZANDO ASPAS\n",
        "nome = \"joao\"\n",
        "nome = 'joao'\n",
        "\n",
        "# nome = \"joao'\n",
        "# nome = 'joao\" - Errado\n",
        "\n",
        "texto = 'Essa \"palavra\" será destacada'\n",
        "texto2= \"Essa 'palavra' será destacada\"\n",
        "\n",
        "texto3 = \"'Essa \\\"texto\\\" 'será' destacada'\"\n",
        "print(texto3)\n",
        "\n",
        "texto_em_varias_linhas = \"\"\"\n",
        "Essa é uma string\n",
        "em várias\n",
        "linhas\n",
        "\"\"\"\n",
        "texto5 = \"'Esse texto\\n 'será' em\\n outra linha'\"\n",
        "print('Bom dia!', end=' ')\n",
        "print('Tudo bom?')\n",
        "\n"
      ]
    },
    {
      "cell_type": "code",
      "source": [
        "fruta = 'Abacate'\n",
        "\n",
        "print(fruta[6])\n",
        "print(fruta[-1])\n",
        "\n",
        "print(fruta[0])\n",
        "print(fruta[-7])"
      ],
      "metadata": {
        "colab": {
          "base_uri": "https://localhost:8080/"
        },
        "id": "fbdgcH_5abUR",
        "outputId": "8cca842c-7d04-4900-dbed-0e2ff997d89b"
      },
      "execution_count": null,
      "outputs": [
        {
          "output_type": "stream",
          "name": "stdout",
          "text": [
            "e\n",
            "e\n",
            "A\n",
            "A\n"
          ]
        }
      ]
    },
    {
      "cell_type": "code",
      "source": [
        "frase = \"O rato roeu a roupa do Rei de Roma\"\n",
        "\n",
        "# if 'roeu' in frase:\n",
        "#   print('A palavra roeu está dentro da frase')\n",
        "\n",
        "# 'Brasil' not in frase\n",
        "\n",
        "# if 'Roeu' in frase:\n",
        "#   print('A palavra roeu está dentro da frase')\n",
        "\n",
        "frase_min = frase.lower()\n",
        "frase_mai = frase.upper()\n",
        "print(frase)\n",
        "print(frase_min)\n",
        "print(frase_mai)\n",
        "\n",
        "texto = input('Digite o seu nome')[0].lower()\n",
        "\n",
        "frase = \"O rato roeu a roupa do Rei de Roma\"\n",
        "if 'ROEU' in frase.upper():\n",
        "  print('A palavra roeu está dentro da frase')\n",
        "\n",
        "print(texto)"
      ],
      "metadata": {
        "colab": {
          "base_uri": "https://localhost:8080/"
        },
        "id": "idTPpc5ob8zr",
        "outputId": "3b06cd3d-67eb-496b-da08-f369a814fb62"
      },
      "execution_count": null,
      "outputs": [
        {
          "output_type": "stream",
          "name": "stdout",
          "text": [
            "O rato roeu a roupa do Rei de Roma\n",
            "o rato roeu a roupa do rei de roma\n",
            "O RATO ROEU A ROUPA DO REI DE ROMA\n",
            "Digite o seu nomeBeatriz\n",
            "A palavra roeu está dentro da frase\n",
            "b\n"
          ]
        }
      ]
    },
    {
      "cell_type": "code",
      "source": [
        "animal = 'Cachorro'\n",
        "\n",
        "animal[0] = 'D'\n",
        "\n",
        "print(animal)"
      ],
      "metadata": {
        "colab": {
          "base_uri": "https://localhost:8080/",
          "height": 236
        },
        "id": "cjnjNjGOfpL_",
        "outputId": "07d1b578-161b-49f3-887b-837e5ba999df"
      },
      "execution_count": null,
      "outputs": [
        {
          "output_type": "error",
          "ename": "TypeError",
          "evalue": "ignored",
          "traceback": [
            "\u001b[0;31m---------------------------------------------------------------------------\u001b[0m",
            "\u001b[0;31mTypeError\u001b[0m                                 Traceback (most recent call last)",
            "\u001b[0;32m<ipython-input-37-377f4900ce80>\u001b[0m in \u001b[0;36m<module>\u001b[0;34m\u001b[0m\n\u001b[1;32m      1\u001b[0m \u001b[0manimal\u001b[0m \u001b[0;34m=\u001b[0m \u001b[0;34m'Cachorro'\u001b[0m\u001b[0;34m\u001b[0m\u001b[0;34m\u001b[0m\u001b[0m\n\u001b[1;32m      2\u001b[0m \u001b[0;34m\u001b[0m\u001b[0m\n\u001b[0;32m----> 3\u001b[0;31m \u001b[0manimal\u001b[0m\u001b[0;34m[\u001b[0m\u001b[0;36m0\u001b[0m\u001b[0;34m]\u001b[0m \u001b[0;34m=\u001b[0m \u001b[0;34m'D'\u001b[0m\u001b[0;34m\u001b[0m\u001b[0;34m\u001b[0m\u001b[0m\n\u001b[0m\u001b[1;32m      4\u001b[0m \u001b[0;34m\u001b[0m\u001b[0m\n\u001b[1;32m      5\u001b[0m \u001b[0mprint\u001b[0m\u001b[0;34m(\u001b[0m\u001b[0manimal\u001b[0m\u001b[0;34m)\u001b[0m\u001b[0;34m\u001b[0m\u001b[0;34m\u001b[0m\u001b[0m\n",
            "\u001b[0;31mTypeError\u001b[0m: 'str' object does not support item assignment"
          ]
        }
      ]
    },
    {
      "cell_type": "code",
      "source": [
        "#Fatiamento de strings\n",
        "\n",
        "fruta = 'Abacate'\n",
        "\n",
        "fruta[0:4:1]\n",
        "fruta[2:6:1]\n",
        "\n",
        "fruta[5:-5]\n",
        "#fruta[pos_inicial:pos_final-1:passo]\n",
        "\n",
        "fruta[-5:5]\n",
        "\n",
        "fruta[0:]\n",
        "fruta[:7]\n",
        "fruta[::]\n",
        "fruta[::-1]\n",
        "fruta[5:-5:-1]\n",
        "\n",
        "fruta[-1:-4:-1]\n",
        "\n",
        "len(fruta)\n",
        "\n",
        "fruta[0:7:2]"
      ],
      "metadata": {
        "colab": {
          "base_uri": "https://localhost:8080/",
          "height": 35
        },
        "id": "seJkiFx7hRY0",
        "outputId": "f5c4cc72-eb5b-4603-96f9-4f830168c8f1"
      },
      "execution_count": null,
      "outputs": [
        {
          "output_type": "execute_result",
          "data": {
            "text/plain": [
              "'Aaae'"
            ],
            "application/vnd.google.colaboratory.intrinsic+json": {
              "type": "string"
            }
          },
          "metadata": {},
          "execution_count": 57
        }
      ]
    },
    {
      "cell_type": "code",
      "source": [
        "#Remove os espaços em branco do início e fim da string\n",
        "frase = '      Olá! Bom dia!         '\n",
        "\n",
        "frase.strip()"
      ],
      "metadata": {
        "colab": {
          "base_uri": "https://localhost:8080/",
          "height": 35
        },
        "id": "HC4Kdzl8qfEA",
        "outputId": "37dd4273-2706-42b9-c564-c76863febff7"
      },
      "execution_count": null,
      "outputs": [
        {
          "output_type": "execute_result",
          "data": {
            "text/plain": [
              "'Olá! Bom dia!'"
            ],
            "application/vnd.google.colaboratory.intrinsic+json": {
              "type": "string"
            }
          },
          "metadata": {},
          "execution_count": 59
        }
      ]
    },
    {
      "cell_type": "code",
      "source": [
        "#Alterar um conteúdo dentro de uma string\n",
        "frutas = \"Morango, Kiwi, Laramja, Goiaba, Morango\"\n",
        "\n",
        "frutas2 = frutas.replace(\"Morango\", \"Limão\")\n",
        "\n",
        "print(frutas)\n",
        "print(frutas2)"
      ],
      "metadata": {
        "colab": {
          "base_uri": "https://localhost:8080/"
        },
        "id": "UI-ZfoeDrNeJ",
        "outputId": "005e5feb-5cb7-4cc7-bbfe-8db55bee6d29"
      },
      "execution_count": null,
      "outputs": [
        {
          "output_type": "stream",
          "name": "stdout",
          "text": [
            "Morango, Kiwi, Laramja, Goiaba, Morango\n",
            "Limão, Kiwi, Laramja, Goiaba, Limão\n"
          ]
        }
      ]
    },
    {
      "cell_type": "code",
      "source": [
        "#Verificar quantidade de uma determinada palavra em uma string\n",
        "\n",
        "frutas.count('Morango')\n",
        "\n",
        "fruta = 'Morango'\n",
        "fruta2 = 'Laranja'\n",
        "\n",
        "fruta3 = fruta + fruta2\n",
        "\n",
        "print(fruta3)\n",
        "\n",
        "auxiliar = '10' + 10\n",
        "\n",
        "print(auxiliar)"
      ],
      "metadata": {
        "colab": {
          "base_uri": "https://localhost:8080/",
          "height": 253
        },
        "id": "Ad-qm6bnsL0I",
        "outputId": "62bcc5f7-c06e-4538-b04d-e3c5375e4b9c"
      },
      "execution_count": null,
      "outputs": [
        {
          "output_type": "stream",
          "name": "stdout",
          "text": [
            "MorangoLaranja\n"
          ]
        },
        {
          "output_type": "error",
          "ename": "TypeError",
          "evalue": "ignored",
          "traceback": [
            "\u001b[0;31m---------------------------------------------------------------------------\u001b[0m",
            "\u001b[0;31mTypeError\u001b[0m                                 Traceback (most recent call last)",
            "\u001b[0;32m<ipython-input-67-8b748bcaad81>\u001b[0m in \u001b[0;36m<module>\u001b[0;34m\u001b[0m\n\u001b[1;32m     10\u001b[0m \u001b[0mprint\u001b[0m\u001b[0;34m(\u001b[0m\u001b[0mfruta3\u001b[0m\u001b[0;34m)\u001b[0m\u001b[0;34m\u001b[0m\u001b[0;34m\u001b[0m\u001b[0m\n\u001b[1;32m     11\u001b[0m \u001b[0;34m\u001b[0m\u001b[0m\n\u001b[0;32m---> 12\u001b[0;31m \u001b[0mauxiliar\u001b[0m \u001b[0;34m=\u001b[0m \u001b[0;34m'10'\u001b[0m \u001b[0;34m+\u001b[0m \u001b[0;36m10\u001b[0m\u001b[0;34m\u001b[0m\u001b[0;34m\u001b[0m\u001b[0m\n\u001b[0m\u001b[1;32m     13\u001b[0m \u001b[0;34m\u001b[0m\u001b[0m\n\u001b[1;32m     14\u001b[0m \u001b[0mprint\u001b[0m\u001b[0;34m(\u001b[0m\u001b[0mauxiliar\u001b[0m\u001b[0;34m)\u001b[0m\u001b[0;34m\u001b[0m\u001b[0;34m\u001b[0m\u001b[0m\n",
            "\u001b[0;31mTypeError\u001b[0m: can only concatenate str (not \"int\") to str"
          ]
        }
      ]
    },
    {
      "cell_type": "code",
      "source": [
        "frutas = 'Morango'\n",
        "\n",
        "print(frutas)\n",
        "\n",
        "print(frutas.replace('Morango', 'Abacaxi'))\n",
        "\n",
        "print(frutas)\n"
      ],
      "metadata": {
        "colab": {
          "base_uri": "https://localhost:8080/",
          "height": 236
        },
        "id": "LYOtf7CBu0ls",
        "outputId": "080e3f84-b0a6-49fd-dc8a-b32da3868e7e"
      },
      "execution_count": null,
      "outputs": [
        {
          "output_type": "error",
          "ename": "TypeError",
          "evalue": "ignored",
          "traceback": [
            "\u001b[0;31m---------------------------------------------------------------------------\u001b[0m",
            "\u001b[0;31mTypeError\u001b[0m                                 Traceback (most recent call last)",
            "\u001b[0;32m<ipython-input-70-84dbcc587db0>\u001b[0m in \u001b[0;36m<module>\u001b[0;34m\u001b[0m\n\u001b[1;32m      1\u001b[0m \u001b[0mfrutas\u001b[0m \u001b[0;34m=\u001b[0m \u001b[0;34m'Morango'\u001b[0m\u001b[0;34m\u001b[0m\u001b[0;34m\u001b[0m\u001b[0m\n\u001b[0;32m----> 2\u001b[0;31m \u001b[0mfrutas\u001b[0m\u001b[0;34m[\u001b[0m\u001b[0;36m0\u001b[0m\u001b[0;34m]\u001b[0m \u001b[0;34m=\u001b[0m \u001b[0;34m''\u001b[0m\u001b[0;34m\u001b[0m\u001b[0;34m\u001b[0m\u001b[0m\n\u001b[0m\u001b[1;32m      3\u001b[0m \u001b[0mprint\u001b[0m\u001b[0;34m(\u001b[0m\u001b[0mfrutas\u001b[0m\u001b[0;34m)\u001b[0m\u001b[0;34m\u001b[0m\u001b[0;34m\u001b[0m\u001b[0m\n\u001b[1;32m      4\u001b[0m \u001b[0;34m\u001b[0m\u001b[0m\n\u001b[1;32m      5\u001b[0m \u001b[0mprint\u001b[0m\u001b[0;34m(\u001b[0m\u001b[0mfrutas\u001b[0m\u001b[0;34m.\u001b[0m\u001b[0mreplace\u001b[0m\u001b[0;34m(\u001b[0m\u001b[0;34m'Morango'\u001b[0m\u001b[0;34m,\u001b[0m \u001b[0;34m'Abacaxi'\u001b[0m\u001b[0;34m)\u001b[0m\u001b[0;34m)\u001b[0m\u001b[0;34m\u001b[0m\u001b[0;34m\u001b[0m\u001b[0m\n",
            "\u001b[0;31mTypeError\u001b[0m: 'str' object does not support item assignment"
          ]
        }
      ]
    },
    {
      "cell_type": "code",
      "source": [
        "#1) Crie um programa que compara duas strings e veja se elas são iguais.\n",
        "\n",
        "frase1 = input('Digite a primeira frase: ')\n",
        "frase2 = input('Digite a segunda frase: ')\n",
        "\n",
        "if frase1.lower() == frase2.lower():\n",
        "  print('As strings são iguais')\n",
        "else:\n",
        "  print('As strings são diferentes')"
      ],
      "metadata": {
        "colab": {
          "base_uri": "https://localhost:8080/"
        },
        "id": "2Wip_FSMwjnj",
        "outputId": "9a5790e0-450e-4abb-8f84-b07f5cfe8d7a"
      },
      "execution_count": null,
      "outputs": [
        {
          "output_type": "stream",
          "name": "stdout",
          "text": [
            "Digite a primeira frase: Olá, bom dia!\n",
            "Digite a segunda frase: olá, BOM DIA!\n",
            "As strings são iguais\n"
          ]
        }
      ]
    },
    {
      "cell_type": "code",
      "source": [
        "#2) Faça um programa que leia um nome completo e imprima as 4 primeiras letras do nome.\n",
        "nome = input(\"Digite o seu nome\")\n",
        "\n",
        "print(nome[:4])"
      ],
      "metadata": {
        "colab": {
          "base_uri": "https://localhost:8080/"
        },
        "id": "pKQsuaRGSip8",
        "outputId": "945893c8-6090-48a4-b5ff-a52c8743aeff"
      },
      "execution_count": null,
      "outputs": [
        {
          "output_type": "stream",
          "name": "stdout",
          "text": [
            "Digite o seu nomeWilliam\n",
            "Will\n"
          ]
        }
      ]
    },
    {
      "cell_type": "code",
      "source": [
        "#3) Com o mesmo nome da questão 2, \n",
        "#agora verifique a quantidade de caracteres que contém o nome digitado.\n",
        "len(nome)"
      ],
      "metadata": {
        "colab": {
          "base_uri": "https://localhost:8080/"
        },
        "id": "vWZ4Rzf2TICE",
        "outputId": "5f3559ee-9e43-4149-9580-3881a2384bda"
      },
      "execution_count": null,
      "outputs": [
        {
          "output_type": "execute_result",
          "data": {
            "text/plain": [
              "7"
            ]
          },
          "metadata": {},
          "execution_count": 76
        }
      ]
    },
    {
      "cell_type": "code",
      "source": [
        "#4) Leia uma frase qualquer e verifique se a pessoa digitou a palavra “cachorro” nessa frase\n",
        "# (Não importa a maneira como a pessoa escreveu)\n",
        "\n",
        "frase = input('Digite um frase qualquer')\n",
        "\n",
        "if \"CACHORRO\" in frase.upper():\n",
        "  print('Digitou cachorro!')\n",
        "else:\n",
        "  print('Não digitou cachorro!')"
      ],
      "metadata": {
        "colab": {
          "base_uri": "https://localhost:8080/"
        },
        "id": "s7KPj83LTjcT",
        "outputId": "7bb70f08-cb3c-4d3b-c1b9-7ec3c309a0db"
      },
      "execution_count": null,
      "outputs": [
        {
          "output_type": "stream",
          "name": "stdout",
          "text": [
            "Digite um frase qualquerCaCHoRRo\n",
            "Digitou cachorro!\n"
          ]
        }
      ]
    },
    {
      "cell_type": "code",
      "source": [
        "print('Bem-vindo ao programa verifique se a pessoa digitou a palavra “cachorro” nessa frase')\n",
        "\n",
        "frase = input('Digite uma FRASE: ')\n",
        "\n",
        "if 'cachorro' or 'CACHORRO' in frase:\n",
        "  print('SIM ESTÁ CONTIDO CACHORRO NA FRASE')\n",
        "else:\n",
        "  print('NÃO ESTÁ CONTIDO CACHORRO NA FRASE')"
      ],
      "metadata": {
        "colab": {
          "base_uri": "https://localhost:8080/"
        },
        "id": "UcRmai0cUhrg",
        "outputId": "53a65c90-704f-4808-aff5-ca945df2bdb3"
      },
      "execution_count": null,
      "outputs": [
        {
          "output_type": "stream",
          "name": "stdout",
          "text": [
            "Bem-vindo ao programa verifique se a pessoa digitou a palavra “cachorro” nessa frase\n",
            "Digite uma FRASE: CC\n",
            "SIM ESTÁ CONTIDO CACHORRO NA FRASE\n"
          ]
        }
      ]
    },
    {
      "cell_type": "code",
      "source": [
        "#5) Crie um programa que leia uma string e mostre a string de trás pra frente até o 6º caractere\n",
        "\n",
        "#palavra = input('Digite uma palavra ou frase')\n",
        "\n",
        "palavra = 'paralelepípedo'\n",
        "\n",
        "palavra[-1:-7:-1]\n",
        "print(palavra[-6::])\n",
        "print(palavra[8::])"
      ],
      "metadata": {
        "colab": {
          "base_uri": "https://localhost:8080/"
        },
        "id": "BG23JTCXU_rF",
        "outputId": "aa6d7b5e-ce3d-405d-8186-93fd2bc08f3b"
      },
      "execution_count": null,
      "outputs": [
        {
          "output_type": "stream",
          "name": "stdout",
          "text": [
            "pípedo\n",
            "pípedo\n"
          ]
        }
      ]
    },
    {
      "cell_type": "code",
      "source": [
        "#6) Faça um programa que conte o numero de 1’s que aparecem em um string. Exemplo: ´ 0011001 -> 3\n",
        "texto = '0011001'\n",
        "\n",
        "texto.count('1')"
      ],
      "metadata": {
        "colab": {
          "base_uri": "https://localhost:8080/"
        },
        "id": "xoQo4xB2XKiB",
        "outputId": "66c46dc0-3253-4394-b418-c7b2e87d6749"
      },
      "execution_count": null,
      "outputs": [
        {
          "output_type": "execute_result",
          "data": {
            "text/plain": [
              "3"
            ]
          },
          "metadata": {},
          "execution_count": 89
        }
      ]
    },
    {
      "cell_type": "code",
      "source": [
        "#7) Escreva um programa que substitui as ocorrências de um caractere 0 em uma string por ˆ outro caractere 1.\n",
        "texto = '0011001'\n",
        "\n",
        "texto2 = texto.replace('0', '1')\n",
        "\n",
        "print(texto)\n",
        "print(texto2)"
      ],
      "metadata": {
        "colab": {
          "base_uri": "https://localhost:8080/"
        },
        "id": "bQSd7ofjXYC5",
        "outputId": "af3a4f8b-90f4-4f12-b5c5-1afa2e876abf"
      },
      "execution_count": null,
      "outputs": [
        {
          "output_type": "stream",
          "name": "stdout",
          "text": [
            "0011001\n",
            "1111111\n"
          ]
        }
      ]
    },
    {
      "cell_type": "code",
      "source": [
        "#8)\n",
        "\n",
        "texto = input('Digite uma palavra qualquer')\n",
        "l1 = input('Digite uma letra para ser modificada')\n",
        "l2 = input('Digite a letra que irá substituir a letra anterior')\n",
        "\n",
        "texto2 = texto.replace(l1, l2)\n",
        "\n",
        "print(texto)\n",
        "print(texto2)"
      ],
      "metadata": {
        "colab": {
          "base_uri": "https://localhost:8080/"
        },
        "id": "kBvkCdUyXzcO",
        "outputId": "bd222d04-6031-480e-803f-294b62d623ba"
      },
      "execution_count": null,
      "outputs": [
        {
          "output_type": "stream",
          "name": "stdout",
          "text": [
            "Digite uma palavra qualquerBanana\n",
            "Digite uma letra para ser modificadan\n",
            "Digite a letra que irá substituir a letra anteriorM\n",
            "Banana\n",
            "BaMaMa\n"
          ]
        }
      ]
    },
    {
      "cell_type": "code",
      "source": [
        "#9) Faça um programa que receba duas frases distintas e imprima de maneira invertida, trocando as letras A por *.\n",
        "frase1 = input('Digite uma frase: ')\n",
        "frase2 = input('Digite outra frase: ')\n",
        "\n",
        "print(frase1[::-1].upper().replace('A', '*'))\n",
        "print(frase2[::-1].upper().replace('A', '*'))"
      ],
      "metadata": {
        "colab": {
          "base_uri": "https://localhost:8080/"
        },
        "id": "dUkqMWB3YwAp",
        "outputId": "bb49a157-f885-49ae-840b-be7be55544d7"
      },
      "execution_count": null,
      "outputs": [
        {
          "output_type": "stream",
          "name": "stdout",
          "text": [
            "Digite uma frase: Alho na PAnela\n",
            "Digite outra frase: aaaaAAA\n",
            "*LEN*P *N OHL*\n",
            "*******\n"
          ]
        }
      ]
    },
    {
      "cell_type": "markdown",
      "source": [
        "1) Crie um programa que compara duas strings e veja se elas são iguais.\n",
        "\n",
        "2) Faça um programa que leia um nome completo e imprima as 4 primeiras letras do nome.\n",
        "\n",
        "3) Com o mesmo nome da questão 2, agora verifique a quantidade de caracteres que contém o nome digitado.\n",
        "\n",
        "4) Leia uma frase qualquer e verifique se a pessoa digitou a palavra “cachorro” nessa frase (Não importa a maneira como a pessoa escreveu)\n",
        "\n",
        "5) Crie um programa que leia uma string e mostre a string de trás pra frente até o 6º caractere\n",
        "\n",
        "6) Faça um programa que conte o numero de 1’s que aparecem em um string. Exemplo: ´ 0011001 -> 3\n",
        "\n",
        "7) Escreva um programa que substitui as ocorrências de um caractere 0 em uma string por ˆ outro caractere 1.\n",
        "\n",
        "8) Faça um programa em que troque todas as ocorrências de uma letra L1 pela letra L2 em ˆ uma string. A string e as letras L1 e L2 devem ser fornecidas pelo usuario.\n",
        "\n",
        "9) Faça um programa que receba duas frases distintas e imprima de maneira invertida, trocando as letras A por *."
      ],
      "metadata": {
        "id": "CJiuW3EizZqg"
      }
    },
    {
      "cell_type": "code",
      "source": [
        "#split\n",
        "#isdigit\n",
        "#index\n",
        "#find\n",
        "#capitalize\n",
        "#title\n",
        "\n",
        "#SPLIT\n",
        "frutas = 'Laranja Morango Abacaxi Limão Abacate'\n",
        "\n",
        "lista_frutas = frutas.split(',')\n",
        "\n",
        "lista_frutas\n",
        "\n",
        "#ISDIGIT\n",
        "texto = '1234'\n",
        "texto2 = '1234abc'\n",
        "\n",
        "texto2.isdigit()\n",
        "\n",
        "#INDEX\n",
        "frutas = 'Laranja, Morango, Abacaxi, Limão, Abacate, Morango'\n",
        "frutas.index('Morango')\n",
        "\n",
        "#FIND\n",
        "frutas = 'Laranja, Morango, Abacaxi, Limão, Abacate, Morango'\n",
        "frutas.find('MorangO')\n",
        "\n",
        "#CAPITALIZE\n",
        "texto = 'eu vou aprender laços de repetição'\n",
        "texto2 = texto.capitalize()\n",
        "print(texto2)\n",
        "\n",
        "#TITLE\n",
        "texto = 'eu vou aprender laços de repetição'\n",
        "texto2 = texto.title()\n",
        "print(texto2)"
      ],
      "metadata": {
        "colab": {
          "base_uri": "https://localhost:8080/"
        },
        "id": "oVWYV0UyaAnw",
        "outputId": "ca41b267-f1a7-47eb-b9bc-ff2ca741ddf1"
      },
      "execution_count": null,
      "outputs": [
        {
          "output_type": "stream",
          "name": "stdout",
          "text": [
            "Eu vou aprender laços de repetição\n",
            "Eu Vou Aprender Laços De Repetição\n"
          ]
        }
      ]
    },
    {
      "cell_type": "code",
      "source": [
        "numero = '123456789'\n",
        "\n",
        "numero[5:0:-1]\n",
        "numero[0:5:1]"
      ],
      "metadata": {
        "colab": {
          "base_uri": "https://localhost:8080/",
          "height": 35
        },
        "id": "17MlG_pHemJk",
        "outputId": "d69e0103-aaeb-4aa5-aeb2-6e725dd82378"
      },
      "execution_count": null,
      "outputs": [
        {
          "output_type": "execute_result",
          "data": {
            "text/plain": [
              "'65432'"
            ],
            "application/vnd.google.colaboratory.intrinsic+json": {
              "type": "string"
            }
          },
          "metadata": {},
          "execution_count": 114
        }
      ]
    }
  ]
}