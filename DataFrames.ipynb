{
  "nbformat": 4,
  "nbformat_minor": 0,
  "metadata": {
    "colab": {
      "provenance": [],
      "include_colab_link": true
    },
    "kernelspec": {
      "name": "python3",
      "display_name": "Python 3"
    },
    "language_info": {
      "name": "python"
    }
  },
  "cells": [
    {
      "cell_type": "markdown",
      "metadata": {
        "id": "view-in-github",
        "colab_type": "text"
      },
      "source": [
        "<a href=\"https://colab.research.google.com/github/Stesilva16/Eng-de-dados--/blob/main/DataFrames.ipynb\" target=\"_parent\"><img src=\"https://colab.research.google.com/assets/colab-badge.svg\" alt=\"Open In Colab\"/></a>"
      ]
    },
    {
      "cell_type": "code",
      "source": [
        "#INSTALAR O PYSPARK\n",
        "!pip install pyspark"
      ],
      "metadata": {
        "colab": {
          "base_uri": "https://localhost:8080/"
        },
        "id": "Go962GeJrXlh",
        "outputId": "418e9844-0c98-496f-adeb-0c038af863b5"
      },
      "execution_count": null,
      "outputs": [
        {
          "output_type": "stream",
          "name": "stdout",
          "text": [
            "Looking in indexes: https://pypi.org/simple, https://us-python.pkg.dev/colab-wheels/public/simple/\n",
            "Collecting pyspark\n",
            "  Downloading pyspark-3.3.1.tar.gz (281.4 MB)\n",
            "\u001b[K     |████████████████████████████████| 281.4 MB 46 kB/s \n",
            "\u001b[?25hCollecting py4j==0.10.9.5\n",
            "  Downloading py4j-0.10.9.5-py2.py3-none-any.whl (199 kB)\n",
            "\u001b[K     |████████████████████████████████| 199 kB 54.3 MB/s \n",
            "\u001b[?25hBuilding wheels for collected packages: pyspark\n",
            "  Building wheel for pyspark (setup.py) ... \u001b[?25l\u001b[?25hdone\n",
            "  Created wheel for pyspark: filename=pyspark-3.3.1-py2.py3-none-any.whl size=281845512 sha256=c341cae4e3e4743c0cabe780949e6f8fc5083c18803fb3aa980760b34b54171b\n",
            "  Stored in directory: /root/.cache/pip/wheels/43/dc/11/ec201cd671da62fa9c5cc77078235e40722170ceba231d7598\n",
            "Successfully built pyspark\n",
            "Installing collected packages: py4j, pyspark\n",
            "Successfully installed py4j-0.10.9.5 pyspark-3.3.1\n"
          ]
        }
      ]
    },
    {
      "cell_type": "code",
      "source": [
        "#IMPORTAR AS BIBLIOTECAS NECESSÁRIAS\n",
        "\n",
        "from pyspark.sql import SparkSession\n",
        "import pyspark.sql.functions as F"
      ],
      "metadata": {
        "id": "etMRbl4vr-4-"
      },
      "execution_count": null,
      "outputs": []
    },
    {
      "cell_type": "code",
      "source": [
        "#CONFIGURAR A SPARK SESSION\n",
        "spark = (\n",
        "   SparkSession.builder\n",
        "               .master('local')\n",
        "               .appName('data-frames')\n",
        "               .config('spark.ui.port', '4050')\n",
        "               .getOrCreate()                \n",
        ")"
      ],
      "metadata": {
        "id": "8VfHloOtsoRV"
      },
      "execution_count": null,
      "outputs": []
    },
    {
      "cell_type": "code",
      "source": [
        "spark"
      ],
      "metadata": {
        "colab": {
          "base_uri": "https://localhost:8080/",
          "height": 219
        },
        "id": "5-bgY09Ju-QN",
        "outputId": "8f1507c8-c6bb-4305-cc14-2ae784e89918"
      },
      "execution_count": null,
      "outputs": [
        {
          "output_type": "execute_result",
          "data": {
            "text/plain": [
              "<pyspark.sql.session.SparkSession at 0x7f5a4add7940>"
            ],
            "text/html": [
              "\n",
              "            <div>\n",
              "                <p><b>SparkSession - in-memory</b></p>\n",
              "                \n",
              "        <div>\n",
              "            <p><b>SparkContext</b></p>\n",
              "\n",
              "            <p><a href=\"http://1278565eb724:4050\">Spark UI</a></p>\n",
              "\n",
              "            <dl>\n",
              "              <dt>Version</dt>\n",
              "                <dd><code>v3.3.1</code></dd>\n",
              "              <dt>Master</dt>\n",
              "                <dd><code>local</code></dd>\n",
              "              <dt>AppName</dt>\n",
              "                <dd><code>data-frames</code></dd>\n",
              "            </dl>\n",
              "        </div>\n",
              "        \n",
              "            </div>\n",
              "        "
            ]
          },
          "metadata": {},
          "execution_count": 4
        }
      ]
    },
    {
      "cell_type": "code",
      "source": [
        "#TRABALHAR COM OS DATAFRAMES\n",
        "df = (\n",
        "    spark.read\n",
        "         .format('csv')\n",
        "         .option('header', 'true')\n",
        "         .option('inferschema', 'true')\n",
        "         .option('delimiter', ';')\n",
        "         .load('/content/drive/MyDrive/Datasets/compras.csv')\n",
        ")"
      ],
      "metadata": {
        "id": "g_2faVvMvbp6"
      },
      "execution_count": null,
      "outputs": []
    },
    {
      "cell_type": "code",
      "source": [
        "df.printSchema()"
      ],
      "metadata": {
        "colab": {
          "base_uri": "https://localhost:8080/"
        },
        "id": "zgNgWuQfydVb",
        "outputId": "a760a720-4ef1-41d1-a741-467e9e1ec335"
      },
      "execution_count": null,
      "outputs": [
        {
          "output_type": "stream",
          "name": "stdout",
          "text": [
            "root\n",
            " |-- Username: string (nullable = true)\n",
            " |-- Nome: string (nullable = true)\n",
            " |-- Sexo: string (nullable = true)\n",
            " |-- Data_Nascimento: string (nullable = true)\n",
            " |-- Ocupação: string (nullable = true)\n",
            " |-- Assinatura: string (nullable = true)\n",
            " |-- Total_Gasto : double (nullable = true)\n",
            "\n"
          ]
        }
      ]
    },
    {
      "cell_type": "code",
      "source": [
        "df.show(truncate=False)"
      ],
      "metadata": {
        "colab": {
          "base_uri": "https://localhost:8080/"
        },
        "id": "p-ReTc0kykMC",
        "outputId": "60bff167-895b-4359-9e9d-5d5c0506ea65"
      },
      "execution_count": null,
      "outputs": [
        {
          "output_type": "stream",
          "name": "stdout",
          "text": [
            "+-------------+-------------------------+---------+---------------+-----------------------------------+----------+------------+\n",
            "|Username     |Nome                     |Sexo     |Data_Nascimento|Ocupação                           |Assinatura|Total_Gasto |\n",
            "+-------------+-------------------------+---------+---------------+-----------------------------------+----------+------------+\n",
            "|Neaude1978   |  Mr \\tbailey Glover     |masculino|01/12/1979     |Analista de Inteligência de Mercado|01/10/2021|1257.45     |\n",
            "|Maress39     |Mrs  \\t isabella   Fowler|feminino |04/08/1960     |Arquiteto de Dados                 |24/03/2020|771.99      |\n",
            "|Kehonell     | Mrs Chloe \\tKirby       |feminino |28/06/1949     |Analista de RH                     |07/06/2020|1021.77     |\n",
            "|Thimpay      | Mrs louise \\tClark      |feminino |07/01/1995     |Arquiteto de Dados                 |03/11/2020|234.76      |\n",
            "|Giall1985    |Mr Harrison \\t Bowen     |feminino |04/04/1987     |Engenheiro de Dados                |25/03/2020|628.07      |\n",
            "|Neave1959    |Mrs anna \\t     Sharp    |feminino |02/02/1970     |Engenheiro de Dados                |18/09/2020|140.04      |\n",
            "|Nicterims1993|  Mrs \\tDaisy Anderson   |masculino|05/07/1985     |Engenheiro de Dados                |29/01/2021|2417.81     |\n",
            "|Fouldlairity |Ms zoe \\tPeacock         |masculino|03/06/1964     |Analista Financeiro                |04/12/2020|51.95       |\n",
            "|Ancomettiody | Mrs Libby \\tWilliams    |feminino |04/09/1974     |Estatístico                        |21/11/2020|130.73      |\n",
            "|Onswis       |Ms Katie \\tMmtcalfe      |feminino |01/07/1983     |Engenheiro de Machine Learning     |27/02/2021|1778.72     |\n",
            "|Majeappre    |Mr Luca \\tVaughan        |feminino |03/01/1971     |Gerente de Tecnologia              |15/07/2022|1034.74     |\n",
            "|Theired      |Mr Henry \\tHaynes        |masculino|06/09/1951     |Analista de Inteligência de Mercado|23/12/2022|1320.04     |\n",
            "|Botter       |Mr Noah \\tWalton         |feminino |09/03/1991     |Web Designer                       |26/07/2022|3464.72     |\n",
            "+-------------+-------------------------+---------+---------------+-----------------------------------+----------+------------+\n",
            "\n"
          ]
        }
      ]
    },
    {
      "cell_type": "code",
      "source": [
        "#Mostrar apenas Username, Sexo, Ocupação e Total Gasto\n",
        "#df.select(F.col('Username'), F.col('Sexo'), F.col('Ocupação'), F.col('Total_Gasto ')).show()\n",
        "#df.select('Username', 'Sexo', 'Ocupação', 'Total_Gasto ').show()\n",
        "#lista_colunas = ['Username', 'Sexo', 'Ocupação', 'Total_Gasto ']\n",
        "#df.select(lista_colunas).show()"
      ],
      "metadata": {
        "id": "AGWONde90TsO"
      },
      "execution_count": null,
      "outputs": []
    },
    {
      "cell_type": "code",
      "source": [
        "#Mostrar apenas Username, Sexo, Ocupação e Total Gasto apenas quando o Total for maior que 1000\n",
        "df.select(F.col('Username'), F.col('Sexo'), F.col('Ocupação'), F.col('Total_Gasto ')).filter(F.col('Total_Gasto ') > 1000).show()"
      ],
      "metadata": {
        "colab": {
          "base_uri": "https://localhost:8080/"
        },
        "id": "KOwEevnW0gwp",
        "outputId": "d5fbb291-74c6-48c3-b24f-3d2a4e29be05"
      },
      "execution_count": null,
      "outputs": [
        {
          "output_type": "stream",
          "name": "stdout",
          "text": [
            "+-------------+---------+--------------------+------------+\n",
            "|     Username|     Sexo|            Ocupação|Total_Gasto |\n",
            "+-------------+---------+--------------------+------------+\n",
            "|   Neaude1978|masculino|Analista de Intel...|     1257.45|\n",
            "|     Kehonell| feminino|      Analista de RH|     1021.77|\n",
            "|Nicterims1993|masculino| Engenheiro de Dados|     2417.81|\n",
            "|       Onswis| feminino|Engenheiro de Mac...|     1778.72|\n",
            "|    Majeappre| feminino|Gerente de Tecnol...|     1034.74|\n",
            "|      Theired|masculino|Analista de Intel...|     1320.04|\n",
            "|       Botter| feminino|        Web Designer|     3464.72|\n",
            "+-------------+---------+--------------------+------------+\n",
            "\n"
          ]
        }
      ]
    },
    {
      "cell_type": "code",
      "source": [
        "#Mostrar apenas Username, Sexo, Ocupação e Total Gasto apenas quando o Total for maior que 1000 e menor que 2000\n",
        "df2 = ( df.select(F.col('Username'), F.col('Sexo'), F.col('Ocupação'), F.col('Total_Gasto '))\n",
        "          .filter(F.col('Total_Gasto ') > 1000)\n",
        "          .filter(F.col('Total_Gasto ') < 2000)\n",
        ")"
      ],
      "metadata": {
        "id": "Nvlhhg-B0l8_"
      },
      "execution_count": null,
      "outputs": []
    },
    {
      "cell_type": "code",
      "source": [
        "#Mostrar apenas Username, Sexo, Ocupação e Total Gasto apenas quando o Total for maior que 1000 e menor que 2000\n",
        "df3 = ( df.select(F.col('Username'), F.col('Sexo'), F.col('Ocupação'), F.col('Total_Gasto '))\n",
        "          .filter((F.col('Total_Gasto ') > 1000) & (F.col('Total_Gasto ') < 2000))\n",
        ")"
      ],
      "metadata": {
        "id": "0t9MCMvO4zUf"
      },
      "execution_count": null,
      "outputs": []
    },
    {
      "cell_type": "code",
      "source": [
        "df2.show()"
      ],
      "metadata": {
        "colab": {
          "base_uri": "https://localhost:8080/"
        },
        "id": "L_rO_VYJ4oOx",
        "outputId": "699b895d-118b-4964-fc07-e70866df8964"
      },
      "execution_count": null,
      "outputs": [
        {
          "output_type": "stream",
          "name": "stdout",
          "text": [
            "+----------+---------+--------------------+------------+\n",
            "|  Username|     Sexo|            Ocupação|Total_Gasto |\n",
            "+----------+---------+--------------------+------------+\n",
            "|Neaude1978|masculino|Analista de Intel...|     1257.45|\n",
            "|  Kehonell| feminino|      Analista de RH|     1021.77|\n",
            "|    Onswis| feminino|Engenheiro de Mac...|     1778.72|\n",
            "| Majeappre| feminino|Gerente de Tecnol...|     1034.74|\n",
            "|   Theired|masculino|Analista de Intel...|     1320.04|\n",
            "+----------+---------+--------------------+------------+\n",
            "\n"
          ]
        }
      ]
    },
    {
      "cell_type": "code",
      "source": [
        "df3.show()"
      ],
      "metadata": {
        "colab": {
          "base_uri": "https://localhost:8080/"
        },
        "id": "QO-HxIvx5COu",
        "outputId": "45768a80-681b-4251-c5ec-1d984b250797"
      },
      "execution_count": null,
      "outputs": [
        {
          "output_type": "stream",
          "name": "stdout",
          "text": [
            "+----------+---------+--------------------+------------+\n",
            "|  Username|     Sexo|            Ocupação|Total_Gasto |\n",
            "+----------+---------+--------------------+------------+\n",
            "|Neaude1978|masculino|Analista de Intel...|     1257.45|\n",
            "|  Kehonell| feminino|      Analista de RH|     1021.77|\n",
            "|    Onswis| feminino|Engenheiro de Mac...|     1778.72|\n",
            "| Majeappre| feminino|Gerente de Tecnol...|     1034.74|\n",
            "|   Theired|masculino|Analista de Intel...|     1320.04|\n",
            "+----------+---------+--------------------+------------+\n",
            "\n"
          ]
        }
      ]
    },
    {
      "cell_type": "code",
      "source": [
        "#OUTRA FORMA DE SE APLICAR FILTROS\n",
        "df.where(F.col('Total_Gasto ') > 1000).show(truncate=False)"
      ],
      "metadata": {
        "colab": {
          "base_uri": "https://localhost:8080/"
        },
        "id": "kR4gtTwK8VYz",
        "outputId": "a2c8ce8e-a044-4cb9-bd98-447c4b9dfe50"
      },
      "execution_count": null,
      "outputs": [
        {
          "output_type": "stream",
          "name": "stdout",
          "text": [
            "+-------------+------------------------+---------+---------------+-----------------------------------+----------+------------+\n",
            "|Username     |Nome                    |Sexo     |Data_Nascimento|Ocupação                           |Assinatura|Total_Gasto |\n",
            "+-------------+------------------------+---------+---------------+-----------------------------------+----------+------------+\n",
            "|Neaude1978   |  Mr \\tbailey Glover    |masculino|01/12/1979     |Analista de Inteligência de Mercado|01/10/2021|1257.45     |\n",
            "|Kehonell     | Mrs Chloe \\tKirby      |feminino |28/06/1949     |Analista de RH                     |07/06/2020|1021.77     |\n",
            "|Nicterims1993|  Mrs \\tDaisy Anderson  |masculino|05/07/1985     |Engenheiro de Dados                |29/01/2021|2417.81     |\n",
            "|Onswis       |Ms Katie \\tMmtcalfe     |feminino |01/07/1983     |Engenheiro de Machine Learning     |27/02/2021|1778.72     |\n",
            "|Majeappre    |Mr Luca \\tVaughan       |feminino |03/01/1971     |Gerente de Tecnologia              |15/07/2022|1034.74     |\n",
            "|Theired      |Mr Henry \\tHaynes       |masculino|06/09/1951     |Analista de Inteligência de Mercado|23/12/2022|1320.04     |\n",
            "|Botter       |Mr Noah \\tWalton        |feminino |09/03/1991     |Web Designer                       |26/07/2022|3464.72     |\n",
            "+-------------+------------------------+---------+---------------+-----------------------------------+----------+------------+\n",
            "\n"
          ]
        }
      ]
    },
    {
      "cell_type": "code",
      "source": [
        "#Renomear uma coluna no Pyspark\n",
        "df2 = ( df.withColumnRenamed('Ocupação', 'ocupacao')\n",
        "          .withColumnRenamed('Username', 'usuario')\n",
        "          .withColumnRenamed('Total_Gasto ', 'total_gasto')\n",
        ")"
      ],
      "metadata": {
        "id": "mDceYhRO9twY"
      },
      "execution_count": null,
      "outputs": []
    },
    {
      "cell_type": "code",
      "source": [
        "df2.show()"
      ],
      "metadata": {
        "colab": {
          "base_uri": "https://localhost:8080/"
        },
        "id": "yOgGZ6In-Chw",
        "outputId": "837ee94e-d0e1-4ef6-b301-ffde4f37e2ae"
      },
      "execution_count": null,
      "outputs": [
        {
          "output_type": "stream",
          "name": "stdout",
          "text": [
            "+-------------+--------------------+---------+---------------+--------------------+----------+-----------+\n",
            "|      usuario|                Nome|     Sexo|Data_Nascimento|            ocupacao|Assinatura|total_gasto|\n",
            "+-------------+--------------------+---------+---------------+--------------------+----------+-----------+\n",
            "|   Neaude1978|  Mr \\tbailey Glo...|masculino|     01/12/1979|Analista de Intel...|01/10/2021|    1257.45|\n",
            "|     Maress39|Mrs  \\t isabella ...| feminino|     04/08/1960|  Arquiteto de Dados|24/03/2020|     771.99|\n",
            "|     Kehonell| Mrs Chloe \\tKirby  | feminino|     28/06/1949|      Analista de RH|07/06/2020|    1021.77|\n",
            "|      Thimpay| Mrs louise \\tCla...| feminino|     07/01/1995|  Arquiteto de Dados|03/11/2020|     234.76|\n",
            "|    Giall1985|Mr Harrison \\t Bowen| feminino|     04/04/1987| Engenheiro de Dados|25/03/2020|     628.07|\n",
            "|    Neave1959|Mrs anna \\t     S...| feminino|     02/02/1970| Engenheiro de Dados|18/09/2020|     140.04|\n",
            "|Nicterims1993|  Mrs \\tDaisy And...|masculino|     05/07/1985| Engenheiro de Dados|29/01/2021|    2417.81|\n",
            "| Fouldlairity|    Ms zoe \\tPeacock|masculino|     03/06/1964| Analista Financeiro|04/12/2020|      51.95|\n",
            "| Ancomettiody| Mrs Libby \\tWill...| feminino|     04/09/1974|         Estatístico|21/11/2020|     130.73|\n",
            "|       Onswis| Ms Katie \\tMmtcalfe| feminino|     01/07/1983|Engenheiro de Mac...|27/02/2021|    1778.72|\n",
            "|    Majeappre|   Mr Luca \\tVaughan| feminino|     03/01/1971|Gerente de Tecnol...|15/07/2022|    1034.74|\n",
            "|      Theired|   Mr Henry \\tHaynes|masculino|     06/09/1951|Analista de Intel...|23/12/2022|    1320.04|\n",
            "|       Botter|    Mr Noah \\tWalton| feminino|     09/03/1991|        Web Designer|26/07/2022|    3464.72|\n",
            "+-------------+--------------------+---------+---------------+--------------------+----------+-----------+\n",
            "\n"
          ]
        }
      ]
    },
    {
      "cell_type": "code",
      "source": [
        "#FILTRAR POR OCUPAÇÃO QUE COMECE COM ANALISTA\n",
        "df2.filter('Ocupacao like \"Analista%\"').show()"
      ],
      "metadata": {
        "colab": {
          "base_uri": "https://localhost:8080/"
        },
        "id": "oeFL1TCX9Ai8",
        "outputId": "9987fde7-a66b-43cd-8291-083396f44b2d"
      },
      "execution_count": null,
      "outputs": [
        {
          "output_type": "stream",
          "name": "stdout",
          "text": [
            "+------------+--------------------+---------+---------------+--------------------+----------+-----------+\n",
            "|     usuario|                Nome|     Sexo|Data_Nascimento|            ocupacao|Assinatura|total_gasto|\n",
            "+------------+--------------------+---------+---------------+--------------------+----------+-----------+\n",
            "|  Neaude1978|  Mr \\tbailey Glo...|masculino|     01/12/1979|Analista de Intel...|01/10/2021|    1257.45|\n",
            "|    Kehonell| Mrs Chloe \\tKirby  | feminino|     28/06/1949|      Analista de RH|07/06/2020|    1021.77|\n",
            "|Fouldlairity|    Ms zoe \\tPeacock|masculino|     03/06/1964| Analista Financeiro|04/12/2020|      51.95|\n",
            "|     Theired|   Mr Henry \\tHaynes|masculino|     06/09/1951|Analista de Intel...|23/12/2022|    1320.04|\n",
            "+------------+--------------------+---------+---------------+--------------------+----------+-----------+\n",
            "\n"
          ]
        }
      ]
    },
    {
      "cell_type": "code",
      "source": [
        "#BUSCA POR OCUPAÇÃO QUE COMECE COM A PALAVRA Analista\n",
        "df2.filter(F.col('ocupacao').startswith('Analista')).show(truncate=False)"
      ],
      "metadata": {
        "colab": {
          "base_uri": "https://localhost:8080/"
        },
        "id": "DWpkqqQi_DTP",
        "outputId": "0176516f-213c-46cc-dd46-8dbc3e7cd6c5"
      },
      "execution_count": null,
      "outputs": [
        {
          "output_type": "stream",
          "name": "stdout",
          "text": [
            "+------------+----------------------+---------+---------------+-----------------------------------+----------+-----------+\n",
            "|usuario     |Nome                  |Sexo     |Data_Nascimento|ocupacao                           |Assinatura|total_gasto|\n",
            "+------------+----------------------+---------+---------------+-----------------------------------+----------+-----------+\n",
            "|Neaude1978  |  Mr \\tbailey Glover  |masculino|01/12/1979     |Analista de Inteligência de Mercado|01/10/2021|1257.45    |\n",
            "|Kehonell    | Mrs Chloe \\tKirby    |feminino |28/06/1949     |Analista de RH                     |07/06/2020|1021.77    |\n",
            "|Fouldlairity|Ms zoe \\tPeacock      |masculino|03/06/1964     |Analista Financeiro                |04/12/2020|51.95      |\n",
            "|Theired     |Mr Henry \\tHaynes     |masculino|06/09/1951     |Analista de Inteligência de Mercado|23/12/2022|1320.04    |\n",
            "+------------+----------------------+---------+---------------+-----------------------------------+----------+-----------+\n",
            "\n"
          ]
        }
      ]
    },
    {
      "cell_type": "code",
      "source": [
        "#BUSCA POR OCUPAÇÃO QUE TERMINE COM A PALAVRA Mercado\n",
        "df2.filter(F.col('ocupacao').endswith('Mercado')).show(truncate=False)"
      ],
      "metadata": {
        "colab": {
          "base_uri": "https://localhost:8080/"
        },
        "id": "cJVhYC8dAP-D",
        "outputId": "745098e4-d620-470e-e827-0ff0b2c7a4fb"
      },
      "execution_count": null,
      "outputs": [
        {
          "output_type": "stream",
          "name": "stdout",
          "text": [
            "+----------+----------------------+---------+---------------+-----------------------------------+----------+-----------+\n",
            "|usuario   |Nome                  |Sexo     |Data_Nascimento|ocupacao                           |Assinatura|total_gasto|\n",
            "+----------+----------------------+---------+---------------+-----------------------------------+----------+-----------+\n",
            "|Neaude1978|  Mr \\tbailey Glover  |masculino|01/12/1979     |Analista de Inteligência de Mercado|01/10/2021|1257.45    |\n",
            "|Theired   |Mr Henry \\tHaynes     |masculino|06/09/1951     |Analista de Inteligência de Mercado|23/12/2022|1320.04    |\n",
            "+----------+----------------------+---------+---------------+-----------------------------------+----------+-----------+\n",
            "\n"
          ]
        }
      ]
    },
    {
      "cell_type": "code",
      "source": [
        "#BUSCA POR OCUPAÇÃO QUE TENHA A PALAVRA Inteligência\n",
        "df2.filter(F.col('ocupacao').contains('Inteligência')).show()"
      ],
      "metadata": {
        "colab": {
          "base_uri": "https://localhost:8080/"
        },
        "id": "2HD8xG3AAsFk",
        "outputId": "916e63b1-ac21-45f7-e555-f3e43336e74d"
      },
      "execution_count": null,
      "outputs": [
        {
          "output_type": "stream",
          "name": "stdout",
          "text": [
            "+----------+--------------------+---------+---------------+--------------------+----------+-----------+\n",
            "|   usuario|                Nome|     Sexo|Data_Nascimento|            ocupacao|Assinatura|total_gasto|\n",
            "+----------+--------------------+---------+---------------+--------------------+----------+-----------+\n",
            "|Neaude1978|  Mr \\tbailey Glo...|masculino|     01/12/1979|Analista de Intel...|01/10/2021|    1257.45|\n",
            "|   Theired|   Mr Henry \\tHaynes|masculino|     06/09/1951|Analista de Intel...|23/12/2022|    1320.04|\n",
            "+----------+--------------------+---------+---------------+--------------------+----------+-----------+\n",
            "\n"
          ]
        }
      ]
    },
    {
      "cell_type": "code",
      "source": [
        "#BUSCA POR OCUPAÇÃO UTILIZANDO O LIKE\n",
        "df2.filter(F.col('ocupacao').like('Analista%')).show()"
      ],
      "metadata": {
        "colab": {
          "base_uri": "https://localhost:8080/"
        },
        "id": "IrMcs0N6A66t",
        "outputId": "15eb1944-8332-4ca4-f4ef-0667c4eb019c"
      },
      "execution_count": null,
      "outputs": [
        {
          "output_type": "stream",
          "name": "stdout",
          "text": [
            "+------------+--------------------+---------+---------------+--------------------+----------+-----------+\n",
            "|     usuario|                Nome|     Sexo|Data_Nascimento|            ocupacao|Assinatura|total_gasto|\n",
            "+------------+--------------------+---------+---------------+--------------------+----------+-----------+\n",
            "|  Neaude1978|  Mr \\tbailey Glo...|masculino|     01/12/1979|Analista de Intel...|01/10/2021|    1257.45|\n",
            "|    Kehonell| Mrs Chloe \\tKirby  | feminino|     28/06/1949|      Analista de RH|07/06/2020|    1021.77|\n",
            "|Fouldlairity|    Ms zoe \\tPeacock|masculino|     03/06/1964| Analista Financeiro|04/12/2020|      51.95|\n",
            "|     Theired|   Mr Henry \\tHaynes|masculino|     06/09/1951|Analista de Intel...|23/12/2022|    1320.04|\n",
            "+------------+--------------------+---------+---------------+--------------------+----------+-----------+\n",
            "\n"
          ]
        }
      ]
    },
    {
      "cell_type": "code",
      "source": [
        "#VERIFICAR QUANTIDADE DE LINHAS DO DATAFRAME\n",
        "df2.count()"
      ],
      "metadata": {
        "colab": {
          "base_uri": "https://localhost:8080/"
        },
        "id": "j5qD0MDrB06S",
        "outputId": "f05f0e92-e224-4bd8-dd1c-2144bbbfd1ff"
      },
      "execution_count": null,
      "outputs": [
        {
          "output_type": "execute_result",
          "data": {
            "text/plain": [
              "13"
            ]
          },
          "metadata": {},
          "execution_count": 22
        }
      ]
    },
    {
      "cell_type": "code",
      "source": [
        "#Criar uma nova coluna contendo 10% sobre o valor total gasto\n",
        "#df2.withColumn('total_desconto', F.col('Nova Coluna Criada')).show()\n",
        "#F.round(F.col('total_gasto'), 2)\n",
        "\n",
        "df3 = df2.withColumn('total_de_desconto', F.round(F.col('total_gasto') * 0.1, 2))\n",
        "df3.show()"
      ],
      "metadata": {
        "id": "4WFD_qSUCVc0",
        "colab": {
          "base_uri": "https://localhost:8080/"
        },
        "outputId": "352e80bd-d6c6-4424-cfc7-cb04a092a4ec"
      },
      "execution_count": null,
      "outputs": [
        {
          "output_type": "stream",
          "name": "stdout",
          "text": [
            "+-------------+--------------------+---------+---------------+--------------------+----------+-----------+-----------------+\n",
            "|      usuario|                Nome|     Sexo|Data_Nascimento|            ocupacao|Assinatura|total_gasto|total_de_desconto|\n",
            "+-------------+--------------------+---------+---------------+--------------------+----------+-----------+-----------------+\n",
            "|   Neaude1978|  Mr \\tbailey Glo...|masculino|     01/12/1979|Analista de Intel...|01/10/2021|    1257.45|           125.75|\n",
            "|     Maress39|Mrs  \\t isabella ...| feminino|     04/08/1960|  Arquiteto de Dados|24/03/2020|     771.99|             77.2|\n",
            "|     Kehonell| Mrs Chloe \\tKirby  | feminino|     28/06/1949|      Analista de RH|07/06/2020|    1021.77|           102.18|\n",
            "|      Thimpay| Mrs louise \\tCla...| feminino|     07/01/1995|  Arquiteto de Dados|03/11/2020|     234.76|            23.48|\n",
            "|    Giall1985|Mr Harrison \\t Bowen| feminino|     04/04/1987| Engenheiro de Dados|25/03/2020|     628.07|            62.81|\n",
            "|    Neave1959|Mrs anna \\t     S...| feminino|     02/02/1970| Engenheiro de Dados|18/09/2020|     140.04|             14.0|\n",
            "|Nicterims1993|  Mrs \\tDaisy And...|masculino|     05/07/1985| Engenheiro de Dados|29/01/2021|    2417.81|           241.78|\n",
            "| Fouldlairity|    Ms zoe \\tPeacock|masculino|     03/06/1964| Analista Financeiro|04/12/2020|      51.95|              5.2|\n",
            "| Ancomettiody| Mrs Libby \\tWill...| feminino|     04/09/1974|         Estatístico|21/11/2020|     130.73|            13.07|\n",
            "|       Onswis| Ms Katie \\tMmtcalfe| feminino|     01/07/1983|Engenheiro de Mac...|27/02/2021|    1778.72|           177.87|\n",
            "|    Majeappre|   Mr Luca \\tVaughan| feminino|     03/01/1971|Gerente de Tecnol...|15/07/2022|    1034.74|           103.47|\n",
            "|      Theired|   Mr Henry \\tHaynes|masculino|     06/09/1951|Analista de Intel...|23/12/2022|    1320.04|            132.0|\n",
            "|       Botter|    Mr Noah \\tWalton| feminino|     09/03/1991|        Web Designer|26/07/2022|    3464.72|           346.47|\n",
            "+-------------+--------------------+---------+---------------+--------------------+----------+-----------+-----------------+\n",
            "\n"
          ]
        }
      ]
    },
    {
      "cell_type": "code",
      "source": [
        "#Criar uma nova coluna contendo o valor total gasto - o desconto\n",
        "df3.withColumn('total_com_desconto', F.round(F.col('total_gasto') - F.col('total_de_desconto'), 2)).show()"
      ],
      "metadata": {
        "id": "8qNvx6sZCvpf",
        "colab": {
          "base_uri": "https://localhost:8080/"
        },
        "outputId": "e45e4634-58cf-44ff-c09f-6c122dc34afc"
      },
      "execution_count": null,
      "outputs": [
        {
          "output_type": "stream",
          "name": "stdout",
          "text": [
            "+-------------+--------------------+---------+---------------+--------------------+----------+-----------+-----------------+------------------+\n",
            "|      usuario|                Nome|     Sexo|Data_Nascimento|            ocupacao|Assinatura|total_gasto|total_de_desconto|total_com_desconto|\n",
            "+-------------+--------------------+---------+---------------+--------------------+----------+-----------+-----------------+------------------+\n",
            "|   Neaude1978|  Mr \\tbailey Glo...|masculino|     01/12/1979|Analista de Intel...|01/10/2021|    1257.45|           125.75|            1131.7|\n",
            "|     Maress39|Mrs  \\t isabella ...| feminino|     04/08/1960|  Arquiteto de Dados|24/03/2020|     771.99|             77.2|            694.79|\n",
            "|     Kehonell| Mrs Chloe \\tKirby  | feminino|     28/06/1949|      Analista de RH|07/06/2020|    1021.77|           102.18|            919.59|\n",
            "|      Thimpay| Mrs louise \\tCla...| feminino|     07/01/1995|  Arquiteto de Dados|03/11/2020|     234.76|            23.48|            211.28|\n",
            "|    Giall1985|Mr Harrison \\t Bowen| feminino|     04/04/1987| Engenheiro de Dados|25/03/2020|     628.07|            62.81|            565.26|\n",
            "|    Neave1959|Mrs anna \\t     S...| feminino|     02/02/1970| Engenheiro de Dados|18/09/2020|     140.04|             14.0|            126.04|\n",
            "|Nicterims1993|  Mrs \\tDaisy And...|masculino|     05/07/1985| Engenheiro de Dados|29/01/2021|    2417.81|           241.78|           2176.03|\n",
            "| Fouldlairity|    Ms zoe \\tPeacock|masculino|     03/06/1964| Analista Financeiro|04/12/2020|      51.95|              5.2|             46.75|\n",
            "| Ancomettiody| Mrs Libby \\tWill...| feminino|     04/09/1974|         Estatístico|21/11/2020|     130.73|            13.07|            117.66|\n",
            "|       Onswis| Ms Katie \\tMmtcalfe| feminino|     01/07/1983|Engenheiro de Mac...|27/02/2021|    1778.72|           177.87|           1600.85|\n",
            "|    Majeappre|   Mr Luca \\tVaughan| feminino|     03/01/1971|Gerente de Tecnol...|15/07/2022|    1034.74|           103.47|            931.27|\n",
            "|      Theired|   Mr Henry \\tHaynes|masculino|     06/09/1951|Analista de Intel...|23/12/2022|    1320.04|            132.0|           1188.04|\n",
            "|       Botter|    Mr Noah \\tWalton| feminino|     09/03/1991|        Web Designer|26/07/2022|    3464.72|           346.47|           3118.25|\n",
            "+-------------+--------------------+---------+---------------+--------------------+----------+-----------+-----------------+------------------+\n",
            "\n"
          ]
        }
      ]
    },
    {
      "cell_type": "code",
      "source": [
        "#Criar uma nova coluna contendo o valor total - 10% de desconto sobre o valor total gasto\n",
        "df4 = df2.withColumn('total_com_desconto', F.round(F.col('total_gasto') - F.col('total_gasto') * 0.1, 2))"
      ],
      "metadata": {
        "id": "mhpyIjjpC0tR"
      },
      "execution_count": null,
      "outputs": []
    },
    {
      "cell_type": "code",
      "source": [
        "df4.show(truncate=False)"
      ],
      "metadata": {
        "colab": {
          "base_uri": "https://localhost:8080/"
        },
        "id": "ZtkdP_h6OGtH",
        "outputId": "725b7f6d-5683-4f9d-f940-65cefcb0a1d5"
      },
      "execution_count": null,
      "outputs": [
        {
          "output_type": "stream",
          "name": "stdout",
          "text": [
            "+-------------+-------------------------+---------+---------------+-----------------------------------+----------+-----------+------------------+\n",
            "|usuario      |Nome                     |Sexo     |Data_Nascimento|ocupacao                           |Assinatura|total_gasto|total_com_desconto|\n",
            "+-------------+-------------------------+---------+---------------+-----------------------------------+----------+-----------+------------------+\n",
            "|Neaude1978   |  Mr \\tbailey Glover     |masculino|01/12/1979     |Analista de Inteligência de Mercado|01/10/2021|1257.45    |1131.71           |\n",
            "|Maress39     |Mrs  \\t isabella   Fowler|feminino |04/08/1960     |Arquiteto de Dados                 |24/03/2020|771.99     |694.79            |\n",
            "|Kehonell     | Mrs Chloe \\tKirby       |feminino |28/06/1949     |Analista de RH                     |07/06/2020|1021.77    |919.59            |\n",
            "|Thimpay      | Mrs louise \\tClark      |feminino |07/01/1995     |Arquiteto de Dados                 |03/11/2020|234.76     |211.28            |\n",
            "|Giall1985    |Mr Harrison \\t Bowen     |feminino |04/04/1987     |Engenheiro de Dados                |25/03/2020|628.07     |565.26            |\n",
            "|Neave1959    |Mrs anna \\t     Sharp    |feminino |02/02/1970     |Engenheiro de Dados                |18/09/2020|140.04     |126.04            |\n",
            "|Nicterims1993|  Mrs \\tDaisy Anderson   |masculino|05/07/1985     |Engenheiro de Dados                |29/01/2021|2417.81    |2176.03           |\n",
            "|Fouldlairity |Ms zoe \\tPeacock         |masculino|03/06/1964     |Analista Financeiro                |04/12/2020|51.95      |46.76             |\n",
            "|Ancomettiody | Mrs Libby \\tWilliams    |feminino |04/09/1974     |Estatístico                        |21/11/2020|130.73     |117.66            |\n",
            "|Onswis       |Ms Katie \\tMmtcalfe      |feminino |01/07/1983     |Engenheiro de Machine Learning     |27/02/2021|1778.72    |1600.85           |\n",
            "|Majeappre    |Mr Luca \\tVaughan        |feminino |03/01/1971     |Gerente de Tecnologia              |15/07/2022|1034.74    |931.27            |\n",
            "|Theired      |Mr Henry \\tHaynes        |masculino|06/09/1951     |Analista de Inteligência de Mercado|23/12/2022|1320.04    |1188.04           |\n",
            "|Botter       |Mr Noah \\tWalton         |feminino |09/03/1991     |Web Designer                       |26/07/2022|3464.72    |3118.25           |\n",
            "+-------------+-------------------------+---------+---------------+-----------------------------------+----------+-----------+------------------+\n",
            "\n"
          ]
        }
      ]
    },
    {
      "cell_type": "code",
      "source": [
        "#RETORNAR TODAS AS OCUPAÇÕES EXISTENTES, CADA UMA APARACENDO UMA ÚNICA VEZ\n",
        "df2.select('ocupacao').distinct().show(truncate=False)"
      ],
      "metadata": {
        "colab": {
          "base_uri": "https://localhost:8080/"
        },
        "id": "amJFNr6diHhm",
        "outputId": "7cb57574-af90-4ed1-ad91-801773413417"
      },
      "execution_count": null,
      "outputs": [
        {
          "output_type": "stream",
          "name": "stdout",
          "text": [
            "+-----------------------------------+\n",
            "|ocupacao                           |\n",
            "+-----------------------------------+\n",
            "|Engenheiro de Machine Learning     |\n",
            "|Arquiteto de Dados                 |\n",
            "|Estatístico                        |\n",
            "|Analista de RH                     |\n",
            "|Engenheiro de Dados                |\n",
            "|Analista Financeiro                |\n",
            "|Gerente de Tecnologia              |\n",
            "|Web Designer                       |\n",
            "|Analista de Inteligência de Mercado|\n",
            "+-----------------------------------+\n",
            "\n"
          ]
        }
      ]
    },
    {
      "cell_type": "code",
      "source": [
        "#RETORNAR usuário, data de nascimento e ocupação ordenado pelo usuário em ordem crescente (A-Z)\n",
        "df4.orderBy(F.col('usuario').asc()).show()\n",
        "df4.orderBy(F.col('Nome').asc(), F.col('data_nascimento').asc(), F.col('total_gasto').desc())"
      ],
      "metadata": {
        "colab": {
          "base_uri": "https://localhost:8080/"
        },
        "id": "wWUT5AmhkhqL",
        "outputId": "da01a8f3-296c-4389-c6a2-6f5ef9a3e724"
      },
      "execution_count": null,
      "outputs": [
        {
          "output_type": "stream",
          "name": "stdout",
          "text": [
            "+-------------+--------------------+---------+---------------+--------------------+----------+-----------+------------------+\n",
            "|      usuario|                Nome|     Sexo|Data_Nascimento|            ocupacao|Assinatura|total_gasto|total_com_desconto|\n",
            "+-------------+--------------------+---------+---------------+--------------------+----------+-----------+------------------+\n",
            "| Ancomettiody| Mrs Libby \\tWill...| feminino|     04/09/1974|         Estatístico|21/11/2020|     130.73|            117.66|\n",
            "|       Botter|    Mr Noah \\tWalton| feminino|     09/03/1991|        Web Designer|26/07/2022|    3464.72|           3118.25|\n",
            "| Fouldlairity|    Ms zoe \\tPeacock|masculino|     03/06/1964| Analista Financeiro|04/12/2020|      51.95|             46.76|\n",
            "|    Giall1985|Mr Harrison \\t Bowen| feminino|     04/04/1987| Engenheiro de Dados|25/03/2020|     628.07|            565.26|\n",
            "|     Kehonell| Mrs Chloe \\tKirby  | feminino|     28/06/1949|      Analista de RH|07/06/2020|    1021.77|            919.59|\n",
            "|    Majeappre|   Mr Luca \\tVaughan| feminino|     03/01/1971|Gerente de Tecnol...|15/07/2022|    1034.74|            931.27|\n",
            "|     Maress39|Mrs  \\t isabella ...| feminino|     04/08/1960|  Arquiteto de Dados|24/03/2020|     771.99|            694.79|\n",
            "|   Neaude1978|  Mr \\tbailey Glo...|masculino|     01/12/1979|Analista de Intel...|01/10/2021|    1257.45|           1131.71|\n",
            "|    Neave1959|Mrs anna \\t     S...| feminino|     02/02/1970| Engenheiro de Dados|18/09/2020|     140.04|            126.04|\n",
            "|Nicterims1993|  Mrs \\tDaisy And...|masculino|     05/07/1985| Engenheiro de Dados|29/01/2021|    2417.81|           2176.03|\n",
            "|       Onswis| Ms Katie \\tMmtcalfe| feminino|     01/07/1983|Engenheiro de Mac...|27/02/2021|    1778.72|           1600.85|\n",
            "|      Theired|   Mr Henry \\tHaynes|masculino|     06/09/1951|Analista de Intel...|23/12/2022|    1320.04|           1188.04|\n",
            "|      Thimpay| Mrs louise \\tCla...| feminino|     07/01/1995|  Arquiteto de Dados|03/11/2020|     234.76|            211.28|\n",
            "+-------------+--------------------+---------+---------------+--------------------+----------+-----------+------------------+\n",
            "\n"
          ]
        },
        {
          "output_type": "execute_result",
          "data": {
            "text/plain": [
              "DataFrame[usuario: string, Nome: string, Sexo: string, Data_Nascimento: string, ocupacao: string, Assinatura: string, total_gasto: double, total_com_desconto: double]"
            ]
          },
          "metadata": {},
          "execution_count": 28
        }
      ]
    },
    {
      "cell_type": "code",
      "source": [
        "#RETORNAR usuário, data de nascimento e ocupação ordenado pelo usuário em ordem crescente (A-Z)\n",
        "df4.select(F.col('usuario'), F.col('Data_Nascimento'), F.col('ocupacao')).orderBy(F.col('usuario').asc()).show()"
      ],
      "metadata": {
        "colab": {
          "base_uri": "https://localhost:8080/"
        },
        "id": "g44wjl_aoaNI",
        "outputId": "d92ff7bd-1ad9-41f2-bded-4ea350599b56"
      },
      "execution_count": null,
      "outputs": [
        {
          "output_type": "stream",
          "name": "stdout",
          "text": [
            "+-------------+---------------+--------------------+\n",
            "|      usuario|Data_Nascimento|            ocupacao|\n",
            "+-------------+---------------+--------------------+\n",
            "| Ancomettiody|     04/09/1974|         Estatístico|\n",
            "|       Botter|     09/03/1991|        Web Designer|\n",
            "| Fouldlairity|     03/06/1964| Analista Financeiro|\n",
            "|    Giall1985|     04/04/1987| Engenheiro de Dados|\n",
            "|     Kehonell|     28/06/1949|      Analista de RH|\n",
            "|    Majeappre|     03/01/1971|Gerente de Tecnol...|\n",
            "|     Maress39|     04/08/1960|  Arquiteto de Dados|\n",
            "|   Neaude1978|     01/12/1979|Analista de Intel...|\n",
            "|    Neave1959|     02/02/1970| Engenheiro de Dados|\n",
            "|Nicterims1993|     05/07/1985| Engenheiro de Dados|\n",
            "|       Onswis|     01/07/1983|Engenheiro de Mac...|\n",
            "|      Theired|     06/09/1951|Analista de Intel...|\n",
            "|      Thimpay|     07/01/1995|  Arquiteto de Dados|\n",
            "+-------------+---------------+--------------------+\n",
            "\n"
          ]
        }
      ]
    },
    {
      "cell_type": "code",
      "source": [
        "#Retornar nome, ocupação e total gasto ordenado pelo total gasto do menor para o maior\n",
        "df4.select(F.col('nome'), F.col('ocupacao'), F.col('total_gasto')).orderBy(F.col('total_gasto')).show()"
      ],
      "metadata": {
        "colab": {
          "base_uri": "https://localhost:8080/"
        },
        "id": "5p8fGCDMkuev",
        "outputId": "8035a19e-e4d8-4f43-f81b-c828a422e369"
      },
      "execution_count": null,
      "outputs": [
        {
          "output_type": "stream",
          "name": "stdout",
          "text": [
            "+--------------------+--------------------+-----------+\n",
            "|                nome|            ocupacao|total_gasto|\n",
            "+--------------------+--------------------+-----------+\n",
            "|    Ms zoe \\tPeacock| Analista Financeiro|      51.95|\n",
            "| Mrs Libby \\tWill...|         Estatístico|     130.73|\n",
            "|Mrs anna \\t     S...| Engenheiro de Dados|     140.04|\n",
            "| Mrs louise \\tCla...|  Arquiteto de Dados|     234.76|\n",
            "|Mr Harrison \\t Bowen| Engenheiro de Dados|     628.07|\n",
            "|Mrs  \\t isabella ...|  Arquiteto de Dados|     771.99|\n",
            "| Mrs Chloe \\tKirby  |      Analista de RH|    1021.77|\n",
            "|   Mr Luca \\tVaughan|Gerente de Tecnol...|    1034.74|\n",
            "|  Mr \\tbailey Glo...|Analista de Intel...|    1257.45|\n",
            "|   Mr Henry \\tHaynes|Analista de Intel...|    1320.04|\n",
            "| Ms Katie \\tMmtcalfe|Engenheiro de Mac...|    1778.72|\n",
            "|  Mrs \\tDaisy And...| Engenheiro de Dados|    2417.81|\n",
            "|    Mr Noah \\tWalton|        Web Designer|    3464.72|\n",
            "+--------------------+--------------------+-----------+\n",
            "\n"
          ]
        }
      ]
    },
    {
      "cell_type": "code",
      "source": [
        "#Retornar nome, ocupação e total gasto ordenado pelo total gasto do maior para o menor\n",
        "#df4.select(F.col('nome'), F.col('ocupacao'), F.col('total_gasto')).orderBy(F.col('total_gasto').desc()).show()\n",
        "df4.orderBy(F.col('usuario').desc()).show()\n",
        "\n",
        "#PODEMOS UTILIZAR PARA A ORDENAÇÃO O COMANDO SORT, QUE TERÁ O MESMO RESULTADO\n",
        "df4.sort(F.col('usuario').desc()).show()"
      ],
      "metadata": {
        "colab": {
          "base_uri": "https://localhost:8080/"
        },
        "id": "uH9GcEqDk3mE",
        "outputId": "1c6e45e2-ebb0-476a-ce5e-2b8ab0ebb503"
      },
      "execution_count": null,
      "outputs": [
        {
          "output_type": "stream",
          "name": "stdout",
          "text": [
            "+-------------+--------------------+---------+---------------+--------------------+----------+-----------+------------------+\n",
            "|      usuario|                Nome|     Sexo|Data_Nascimento|            ocupacao|Assinatura|total_gasto|total_com_desconto|\n",
            "+-------------+--------------------+---------+---------------+--------------------+----------+-----------+------------------+\n",
            "|      Thimpay| Mrs louise \\tCla...| feminino|     07/01/1995|  Arquiteto de Dados|03/11/2020|     234.76|            211.28|\n",
            "|      Theired|   Mr Henry \\tHaynes|masculino|     06/09/1951|Analista de Intel...|23/12/2022|    1320.04|           1188.04|\n",
            "|       Onswis| Ms Katie \\tMmtcalfe| feminino|     01/07/1983|Engenheiro de Mac...|27/02/2021|    1778.72|           1600.85|\n",
            "|Nicterims1993|  Mrs \\tDaisy And...|masculino|     05/07/1985| Engenheiro de Dados|29/01/2021|    2417.81|           2176.03|\n",
            "|    Neave1959|Mrs anna \\t     S...| feminino|     02/02/1970| Engenheiro de Dados|18/09/2020|     140.04|            126.04|\n",
            "|   Neaude1978|  Mr \\tbailey Glo...|masculino|     01/12/1979|Analista de Intel...|01/10/2021|    1257.45|           1131.71|\n",
            "|     Maress39|Mrs  \\t isabella ...| feminino|     04/08/1960|  Arquiteto de Dados|24/03/2020|     771.99|            694.79|\n",
            "|    Majeappre|   Mr Luca \\tVaughan| feminino|     03/01/1971|Gerente de Tecnol...|15/07/2022|    1034.74|            931.27|\n",
            "|     Kehonell| Mrs Chloe \\tKirby  | feminino|     28/06/1949|      Analista de RH|07/06/2020|    1021.77|            919.59|\n",
            "|    Giall1985|Mr Harrison \\t Bowen| feminino|     04/04/1987| Engenheiro de Dados|25/03/2020|     628.07|            565.26|\n",
            "| Fouldlairity|    Ms zoe \\tPeacock|masculino|     03/06/1964| Analista Financeiro|04/12/2020|      51.95|             46.76|\n",
            "|       Botter|    Mr Noah \\tWalton| feminino|     09/03/1991|        Web Designer|26/07/2022|    3464.72|           3118.25|\n",
            "| Ancomettiody| Mrs Libby \\tWill...| feminino|     04/09/1974|         Estatístico|21/11/2020|     130.73|            117.66|\n",
            "+-------------+--------------------+---------+---------------+--------------------+----------+-----------+------------------+\n",
            "\n",
            "+-------------+--------------------+---------+---------------+--------------------+----------+-----------+------------------+\n",
            "|      usuario|                Nome|     Sexo|Data_Nascimento|            ocupacao|Assinatura|total_gasto|total_com_desconto|\n",
            "+-------------+--------------------+---------+---------------+--------------------+----------+-----------+------------------+\n",
            "|      Thimpay| Mrs louise \\tCla...| feminino|     07/01/1995|  Arquiteto de Dados|03/11/2020|     234.76|            211.28|\n",
            "|      Theired|   Mr Henry \\tHaynes|masculino|     06/09/1951|Analista de Intel...|23/12/2022|    1320.04|           1188.04|\n",
            "|       Onswis| Ms Katie \\tMmtcalfe| feminino|     01/07/1983|Engenheiro de Mac...|27/02/2021|    1778.72|           1600.85|\n",
            "|Nicterims1993|  Mrs \\tDaisy And...|masculino|     05/07/1985| Engenheiro de Dados|29/01/2021|    2417.81|           2176.03|\n",
            "|    Neave1959|Mrs anna \\t     S...| feminino|     02/02/1970| Engenheiro de Dados|18/09/2020|     140.04|            126.04|\n",
            "|   Neaude1978|  Mr \\tbailey Glo...|masculino|     01/12/1979|Analista de Intel...|01/10/2021|    1257.45|           1131.71|\n",
            "|     Maress39|Mrs  \\t isabella ...| feminino|     04/08/1960|  Arquiteto de Dados|24/03/2020|     771.99|            694.79|\n",
            "|    Majeappre|   Mr Luca \\tVaughan| feminino|     03/01/1971|Gerente de Tecnol...|15/07/2022|    1034.74|            931.27|\n",
            "|     Kehonell| Mrs Chloe \\tKirby  | feminino|     28/06/1949|      Analista de RH|07/06/2020|    1021.77|            919.59|\n",
            "|    Giall1985|Mr Harrison \\t Bowen| feminino|     04/04/1987| Engenheiro de Dados|25/03/2020|     628.07|            565.26|\n",
            "| Fouldlairity|    Ms zoe \\tPeacock|masculino|     03/06/1964| Analista Financeiro|04/12/2020|      51.95|             46.76|\n",
            "|       Botter|    Mr Noah \\tWalton| feminino|     09/03/1991|        Web Designer|26/07/2022|    3464.72|           3118.25|\n",
            "| Ancomettiody| Mrs Libby \\tWill...| feminino|     04/09/1974|         Estatístico|21/11/2020|     130.73|            117.66|\n",
            "+-------------+--------------------+---------+---------------+--------------------+----------+-----------+------------------+\n",
            "\n"
          ]
        }
      ]
    },
    {
      "cell_type": "code",
      "source": [
        "df4.show()"
      ],
      "metadata": {
        "colab": {
          "base_uri": "https://localhost:8080/"
        },
        "id": "iHMK-vIwueWx",
        "outputId": "64b44f92-97d4-4c09-ed8b-726cbc635c1e"
      },
      "execution_count": null,
      "outputs": [
        {
          "output_type": "stream",
          "name": "stdout",
          "text": [
            "+-------------+--------------------+---------+---------------+--------------------+----------+-----------+------------------+\n",
            "|      usuario|                Nome|     Sexo|Data_Nascimento|            ocupacao|Assinatura|total_gasto|total_com_desconto|\n",
            "+-------------+--------------------+---------+---------------+--------------------+----------+-----------+------------------+\n",
            "|   Neaude1978|  Mr \\tbailey Glo...|masculino|     01/12/1979|Analista de Intel...|01/10/2021|    1257.45|           1131.71|\n",
            "|     Maress39|Mrs  \\t isabella ...| feminino|     04/08/1960|  Arquiteto de Dados|24/03/2020|     771.99|            694.79|\n",
            "|     Kehonell| Mrs Chloe \\tKirby  | feminino|     28/06/1949|      Analista de RH|07/06/2020|    1021.77|            919.59|\n",
            "|      Thimpay| Mrs louise \\tCla...| feminino|     07/01/1995|  Arquiteto de Dados|03/11/2020|     234.76|            211.28|\n",
            "|    Giall1985|Mr Harrison \\t Bowen| feminino|     04/04/1987| Engenheiro de Dados|25/03/2020|     628.07|            565.26|\n",
            "|    Neave1959|Mrs anna \\t     S...| feminino|     02/02/1970| Engenheiro de Dados|18/09/2020|     140.04|            126.04|\n",
            "|Nicterims1993|  Mrs \\tDaisy And...|masculino|     05/07/1985| Engenheiro de Dados|29/01/2021|    2417.81|           2176.03|\n",
            "| Fouldlairity|    Ms zoe \\tPeacock|masculino|     03/06/1964| Analista Financeiro|04/12/2020|      51.95|             46.76|\n",
            "| Ancomettiody| Mrs Libby \\tWill...| feminino|     04/09/1974|         Estatístico|21/11/2020|     130.73|            117.66|\n",
            "|       Onswis| Ms Katie \\tMmtcalfe| feminino|     01/07/1983|Engenheiro de Mac...|27/02/2021|    1778.72|           1600.85|\n",
            "|    Majeappre|   Mr Luca \\tVaughan| feminino|     03/01/1971|Gerente de Tecnol...|15/07/2022|    1034.74|            931.27|\n",
            "|      Theired|   Mr Henry \\tHaynes|masculino|     06/09/1951|Analista de Intel...|23/12/2022|    1320.04|           1188.04|\n",
            "|       Botter|    Mr Noah \\tWalton| feminino|     09/03/1991|        Web Designer|26/07/2022|    3464.72|           3118.25|\n",
            "+-------------+--------------------+---------+---------------+--------------------+----------+-----------+------------------+\n",
            "\n"
          ]
        }
      ]
    },
    {
      "cell_type": "code",
      "source": [
        "#RETORNAR A QUANTIDADE DE PESSOAS POR SEXO\n",
        "df4.filter(F.col('sexo').contains('feminino')).count()\n",
        "df4.filter(F.col('sexo').contains('masculino')).count()"
      ],
      "metadata": {
        "colab": {
          "base_uri": "https://localhost:8080/"
        },
        "id": "cck7zmCiuhNw",
        "outputId": "d7f25855-4e29-4104-f8ee-7b7c74d9676e"
      },
      "execution_count": null,
      "outputs": [
        {
          "output_type": "execute_result",
          "data": {
            "text/plain": [
              "4"
            ]
          },
          "metadata": {},
          "execution_count": 33
        }
      ]
    },
    {
      "cell_type": "code",
      "source": [
        "#RETORNAR A QUANTIDADE DE PESSOAS POR SEXO\n",
        "df4.groupBy('sexo').count().show()"
      ],
      "metadata": {
        "colab": {
          "base_uri": "https://localhost:8080/"
        },
        "id": "yUT0FUTowijP",
        "outputId": "5911470e-97ce-4a79-ea6e-c841ff6d56f2"
      },
      "execution_count": null,
      "outputs": [
        {
          "output_type": "stream",
          "name": "stdout",
          "text": [
            "+---------+-----+\n",
            "|     sexo|count|\n",
            "+---------+-----+\n",
            "|masculino|    4|\n",
            "| feminino|    9|\n",
            "+---------+-----+\n",
            "\n"
          ]
        }
      ]
    },
    {
      "cell_type": "code",
      "source": [
        "#RETORNAR A QUANTIDADE DE PESSOAS POR OCUPAÇÃO\n",
        "df4.groupBy('ocupacao').count().show(truncate=False)"
      ],
      "metadata": {
        "colab": {
          "base_uri": "https://localhost:8080/"
        },
        "id": "xVh5WtcSuuSg",
        "outputId": "3c41d35a-7b91-4cec-8967-aa6ccc944061"
      },
      "execution_count": null,
      "outputs": [
        {
          "output_type": "stream",
          "name": "stdout",
          "text": [
            "+-----------------------------------+-----+\n",
            "|ocupacao                           |count|\n",
            "+-----------------------------------+-----+\n",
            "|Engenheiro de Machine Learning     |1    |\n",
            "|Arquiteto de Dados                 |2    |\n",
            "|Estatístico                        |1    |\n",
            "|Analista de RH                     |1    |\n",
            "|Engenheiro de Dados                |3    |\n",
            "|Analista Financeiro                |1    |\n",
            "|Gerente de Tecnologia              |1    |\n",
            "|Web Designer                       |1    |\n",
            "|Analista de Inteligência de Mercado|2    |\n",
            "+-----------------------------------+-----+\n",
            "\n"
          ]
        }
      ]
    },
    {
      "cell_type": "code",
      "source": [
        "#RETORNAR O VALOR TOTAL GASTO POR SEXO \n",
        "df4.groupBy('sexo').sum('total_gasto').show()"
      ],
      "metadata": {
        "colab": {
          "base_uri": "https://localhost:8080/"
        },
        "id": "i96-eh3rxa-A",
        "outputId": "de0ad63c-a2f0-47ce-99f7-046c192663ee"
      },
      "execution_count": null,
      "outputs": [
        {
          "output_type": "stream",
          "name": "stdout",
          "text": [
            "+---------+-----------------+\n",
            "|     sexo| sum(total_gasto)|\n",
            "+---------+-----------------+\n",
            "|masculino|          5047.25|\n",
            "| feminino|9205.539999999999|\n",
            "+---------+-----------------+\n",
            "\n"
          ]
        }
      ]
    },
    {
      "cell_type": "code",
      "source": [
        "df4.schema"
      ],
      "metadata": {
        "colab": {
          "base_uri": "https://localhost:8080/"
        },
        "id": "h2GQgYX04ZqI",
        "outputId": "59f0f264-9d57-4d71-b81c-94bc27086bf2"
      },
      "execution_count": null,
      "outputs": [
        {
          "output_type": "execute_result",
          "data": {
            "text/plain": [
              "StructType([StructField('usuario', StringType(), True), StructField('Nome', StringType(), True), StructField('Sexo', StringType(), True), StructField('Data_Nascimento', StringType(), True), StructField('ocupacao', StringType(), True), StructField('Assinatura', StringType(), True), StructField('total_gasto', DoubleType(), True), StructField('total_com_desconto', DoubleType(), True)])"
            ]
          },
          "metadata": {},
          "execution_count": 37
        }
      ]
    },
    {
      "cell_type": "code",
      "source": [
        "#RETORNAR O VALOR TOTAL GASTO POR SEXO E O VALOR MÍNIMO E MÁXIMO GASTOS POR CADA SEXO\n",
        "df5 = (df4.select(F.col('sexo'), F.col('total_gasto')).groupBy('sexo').agg(F.round(F.sum('total_gasto')).alias('Total por Sexo'),\n",
        "                                                    F.min('total_gasto').alias('Valor mínimo'),\n",
        "                                                    F.max('total_gasto').alias('Valor máximo'))\n",
        ")"
      ],
      "metadata": {
        "id": "0E8uQYKB3O6h"
      },
      "execution_count": null,
      "outputs": []
    },
    {
      "cell_type": "code",
      "source": [
        "df5.show()"
      ],
      "metadata": {
        "colab": {
          "base_uri": "https://localhost:8080/"
        },
        "id": "NtpvKEqd47Cs",
        "outputId": "6a5b8848-d157-4e2d-b9ef-e009b62f967d"
      },
      "execution_count": null,
      "outputs": [
        {
          "output_type": "stream",
          "name": "stdout",
          "text": [
            "+---------+--------------+------------+------------+\n",
            "|     sexo|Total por Sexo|Valor mínimo|Valor máximo|\n",
            "+---------+--------------+------------+------------+\n",
            "|masculino|        5047.0|       51.95|     2417.81|\n",
            "| feminino|        9206.0|      130.73|     3464.72|\n",
            "+---------+--------------+------------+------------+\n",
            "\n"
          ]
        }
      ]
    },
    {
      "cell_type": "code",
      "source": [
        "#RETORNAR O VALOR TOTAL GASTO POR OCUPAÇÃO\n",
        "df4.groupBy('ocupacao').sum('total_gasto').show(truncate=False)"
      ],
      "metadata": {
        "colab": {
          "base_uri": "https://localhost:8080/"
        },
        "id": "BfQ8RoH6xlpZ",
        "outputId": "e510d455-884c-4e79-e49e-aa10e0736777"
      },
      "execution_count": null,
      "outputs": [
        {
          "output_type": "stream",
          "name": "stdout",
          "text": [
            "+-----------------------------------+----------------+\n",
            "|ocupacao                           |sum(total_gasto)|\n",
            "+-----------------------------------+----------------+\n",
            "|Engenheiro de Machine Learning     |1778.72         |\n",
            "|Arquiteto de Dados                 |1006.75         |\n",
            "|Estatístico                        |130.73          |\n",
            "|Analista de RH                     |1021.77         |\n",
            "|Engenheiro de Dados                |3185.92         |\n",
            "|Analista Financeiro                |51.95           |\n",
            "|Gerente de Tecnologia              |1034.74         |\n",
            "|Web Designer                       |3464.72         |\n",
            "|Analista de Inteligência de Mercado|2577.49         |\n",
            "+-----------------------------------+----------------+\n",
            "\n"
          ]
        }
      ]
    },
    {
      "cell_type": "code",
      "source": [
        "#CRIAR UMA NOVA COLUNA CONTENDO O NÚMERO 1 PARA O SEXO MASCULINO E 2 PARA O SEXO FEMININO\n",
        "#AGORA EU TENHO UMA CONDIÇÃO - WHEN - OTHERWISE\n",
        "( df4.select('sexo').withColumn('id_sexo', \n",
        "                                F.when(F.col('sexo') == 'masculino',F.lit(1))\n",
        "                                .otherwise(F.lit(2)))\n",
        "                                .show()\n",
        ")"
      ],
      "metadata": {
        "colab": {
          "base_uri": "https://localhost:8080/"
        },
        "id": "5rfwWkEq6Rs8",
        "outputId": "6460552e-0b0c-45a4-e07c-e494404207ec"
      },
      "execution_count": null,
      "outputs": [
        {
          "output_type": "stream",
          "name": "stdout",
          "text": [
            "+---------+-------+\n",
            "|     sexo|id_sexo|\n",
            "+---------+-------+\n",
            "|masculino|      1|\n",
            "| feminino|      2|\n",
            "| feminino|      2|\n",
            "| feminino|      2|\n",
            "| feminino|      2|\n",
            "| feminino|      2|\n",
            "|masculino|      1|\n",
            "|masculino|      1|\n",
            "| feminino|      2|\n",
            "| feminino|      2|\n",
            "| feminino|      2|\n",
            "|masculino|      1|\n",
            "| feminino|      2|\n",
            "+---------+-------+\n",
            "\n"
          ]
        }
      ]
    },
    {
      "cell_type": "code",
      "source": [
        "df4.select('data_nascimento').show()"
      ],
      "metadata": {
        "colab": {
          "base_uri": "https://localhost:8080/"
        },
        "id": "_uMttrE6CasV",
        "outputId": "9c024f56-19d7-4b4e-9c0f-a05040a03df7"
      },
      "execution_count": null,
      "outputs": [
        {
          "output_type": "stream",
          "name": "stdout",
          "text": [
            "+---------------+\n",
            "|data_nascimento|\n",
            "+---------------+\n",
            "|     01/12/1979|\n",
            "|     04/08/1960|\n",
            "|     28/06/1949|\n",
            "|     07/01/1995|\n",
            "|     04/04/1987|\n",
            "|     02/02/1970|\n",
            "|     05/07/1985|\n",
            "|     03/06/1964|\n",
            "|     04/09/1974|\n",
            "|     01/07/1983|\n",
            "|     03/01/1971|\n",
            "|     06/09/1951|\n",
            "|     09/03/1991|\n",
            "+---------------+\n",
            "\n"
          ]
        }
      ]
    },
    {
      "cell_type": "code",
      "source": [
        "df4.select('data_nascimento').show()\n",
        "\n",
        "F.substring(coluna, posição_inicial, tamanho)\n",
        "F.substring()"
      ],
      "metadata": {
        "id": "MfgExjGtBY-I",
        "colab": {
          "base_uri": "https://localhost:8080/",
          "height": 531
        },
        "outputId": "6b8cb7ca-696c-463c-eb03-7604b50e2a70"
      },
      "execution_count": null,
      "outputs": [
        {
          "output_type": "stream",
          "name": "stdout",
          "text": [
            "+---------------+\n",
            "|data_nascimento|\n",
            "+---------------+\n",
            "|     01/12/1979|\n",
            "|     04/08/1960|\n",
            "|     28/06/1949|\n",
            "|     07/01/1995|\n",
            "|     04/04/1987|\n",
            "|     02/02/1970|\n",
            "|     05/07/1985|\n",
            "|     03/06/1964|\n",
            "|     04/09/1974|\n",
            "|     01/07/1983|\n",
            "|     03/01/1971|\n",
            "|     06/09/1951|\n",
            "|     09/03/1991|\n",
            "+---------------+\n",
            "\n"
          ]
        },
        {
          "output_type": "error",
          "ename": "NameError",
          "evalue": "ignored",
          "traceback": [
            "\u001b[0;31m---------------------------------------------------------------------------\u001b[0m",
            "\u001b[0;31mNameError\u001b[0m                                 Traceback (most recent call last)",
            "\u001b[0;32m<ipython-input-43-13f351560926>\u001b[0m in \u001b[0;36m<module>\u001b[0;34m\u001b[0m\n\u001b[1;32m      1\u001b[0m \u001b[0mdf4\u001b[0m\u001b[0;34m.\u001b[0m\u001b[0mselect\u001b[0m\u001b[0;34m(\u001b[0m\u001b[0;34m'data_nascimento'\u001b[0m\u001b[0;34m)\u001b[0m\u001b[0;34m.\u001b[0m\u001b[0mshow\u001b[0m\u001b[0;34m(\u001b[0m\u001b[0;34m)\u001b[0m\u001b[0;34m\u001b[0m\u001b[0;34m\u001b[0m\u001b[0m\n\u001b[1;32m      2\u001b[0m \u001b[0;34m\u001b[0m\u001b[0m\n\u001b[0;32m----> 3\u001b[0;31m \u001b[0mF\u001b[0m\u001b[0;34m.\u001b[0m\u001b[0msubstring\u001b[0m\u001b[0;34m(\u001b[0m\u001b[0mcoluna\u001b[0m\u001b[0;34m,\u001b[0m \u001b[0mposição_inicial\u001b[0m\u001b[0;34m,\u001b[0m \u001b[0mtamanho\u001b[0m\u001b[0;34m)\u001b[0m\u001b[0;34m\u001b[0m\u001b[0;34m\u001b[0m\u001b[0m\n\u001b[0m\u001b[1;32m      4\u001b[0m \u001b[0mF\u001b[0m\u001b[0;34m.\u001b[0m\u001b[0msubstring\u001b[0m\u001b[0;34m(\u001b[0m\u001b[0;34m)\u001b[0m\u001b[0;34m\u001b[0m\u001b[0;34m\u001b[0m\u001b[0m\n",
            "\u001b[0;31mNameError\u001b[0m: name 'coluna' is not defined"
          ]
        }
      ]
    },
    {
      "cell_type": "code",
      "source": [
        "#SEPARAR O DIA, MÊS E ANO EM 3 COLUNAS DIFERENTES\n",
        "df_data_separada = ( df4.select('data_nascimento')\n",
        "     .withColumn('dia', F.substring(F.col('data_nascimento'), 1, 2))\n",
        "     .withColumn('mes', F.substring(F.col('data_nascimento'), 4, 2))\n",
        "     .withColumn('ano', F.substring(F.col('data_nascimento'), 7, 4))\n",
        ")"
      ],
      "metadata": {
        "id": "r1wPlBKoB64f"
      },
      "execution_count": null,
      "outputs": []
    },
    {
      "cell_type": "code",
      "source": [
        "df_data_separada.show(2)"
      ],
      "metadata": {
        "id": "9Ooc5jWCIKyU",
        "colab": {
          "base_uri": "https://localhost:8080/"
        },
        "outputId": "d458074d-0cdd-431d-c053-357c68041678"
      },
      "execution_count": null,
      "outputs": [
        {
          "output_type": "stream",
          "name": "stdout",
          "text": [
            "+---------------+---+---+----+\n",
            "|data_nascimento|dia|mes| ano|\n",
            "+---------------+---+---+----+\n",
            "|     01/12/1979| 01| 12|1979|\n",
            "|     04/08/1960| 04| 08|1960|\n",
            "+---------------+---+---+----+\n",
            "only showing top 2 rows\n",
            "\n"
          ]
        }
      ]
    },
    {
      "cell_type": "code",
      "source": [
        "df_data_separada.printSchema()"
      ],
      "metadata": {
        "id": "jhazrlIUITKB",
        "colab": {
          "base_uri": "https://localhost:8080/"
        },
        "outputId": "41f481ea-a2e8-4cba-c310-2e27553108a8"
      },
      "execution_count": null,
      "outputs": [
        {
          "output_type": "stream",
          "name": "stdout",
          "text": [
            "root\n",
            " |-- data_nascimento: string (nullable = true)\n",
            " |-- dia: string (nullable = true)\n",
            " |-- mes: string (nullable = true)\n",
            " |-- ano: string (nullable = true)\n",
            "\n"
          ]
        }
      ]
    },
    {
      "cell_type": "code",
      "source": [
        "df4.show()"
      ],
      "metadata": {
        "colab": {
          "base_uri": "https://localhost:8080/"
        },
        "id": "Csn7rCuHPqWS",
        "outputId": "bce1d517-4612-479c-8a55-5d786cf77d1a"
      },
      "execution_count": null,
      "outputs": [
        {
          "output_type": "stream",
          "name": "stdout",
          "text": [
            "+-------------+--------------------+---------+---------------+--------------------+----------+-----------+------------------+\n",
            "|      usuario|                Nome|     Sexo|Data_Nascimento|            ocupacao|Assinatura|total_gasto|total_com_desconto|\n",
            "+-------------+--------------------+---------+---------------+--------------------+----------+-----------+------------------+\n",
            "|   Neaude1978|  Mr \\tbailey Glo...|masculino|     01/12/1979|Analista de Intel...|01/10/2021|    1257.45|           1131.71|\n",
            "|     Maress39|Mrs  \\t isabella ...| feminino|     04/08/1960|  Arquiteto de Dados|24/03/2020|     771.99|            694.79|\n",
            "|     Kehonell| Mrs Chloe \\tKirby  | feminino|     28/06/1949|      Analista de RH|07/06/2020|    1021.77|            919.59|\n",
            "|      Thimpay| Mrs louise \\tCla...| feminino|     07/01/1995|  Arquiteto de Dados|03/11/2020|     234.76|            211.28|\n",
            "|    Giall1985|Mr Harrison \\t Bowen| feminino|     04/04/1987| Engenheiro de Dados|25/03/2020|     628.07|            565.26|\n",
            "|    Neave1959|Mrs anna \\t     S...| feminino|     02/02/1970| Engenheiro de Dados|18/09/2020|     140.04|            126.04|\n",
            "|Nicterims1993|  Mrs \\tDaisy And...|masculino|     05/07/1985| Engenheiro de Dados|29/01/2021|    2417.81|           2176.03|\n",
            "| Fouldlairity|    Ms zoe \\tPeacock|masculino|     03/06/1964| Analista Financeiro|04/12/2020|      51.95|             46.76|\n",
            "| Ancomettiody| Mrs Libby \\tWill...| feminino|     04/09/1974|         Estatístico|21/11/2020|     130.73|            117.66|\n",
            "|       Onswis| Ms Katie \\tMmtcalfe| feminino|     01/07/1983|Engenheiro de Mac...|27/02/2021|    1778.72|           1600.85|\n",
            "|    Majeappre|   Mr Luca \\tVaughan| feminino|     03/01/1971|Gerente de Tecnol...|15/07/2022|    1034.74|            931.27|\n",
            "|      Theired|   Mr Henry \\tHaynes|masculino|     06/09/1951|Analista de Intel...|23/12/2022|    1320.04|           1188.04|\n",
            "|       Botter|    Mr Noah \\tWalton| feminino|     09/03/1991|        Web Designer|26/07/2022|    3464.72|           3118.25|\n",
            "+-------------+--------------------+---------+---------------+--------------------+----------+-----------+------------------+\n",
            "\n"
          ]
        }
      ]
    },
    {
      "cell_type": "code",
      "source": [
        "from pyspark.sql.types import NullType\n",
        "#FUNÇÃO PARA ALTERAR VALORES DENTRO DE UMA COLUNA\n",
        "df7 = ( df4.withColumn('sexo', F.when(F.col('sexo') == 'masculino', F.regexp_replace(F.col('sexo'), 'masculino', 'm'))\n",
        "                                .when(F.col('sexo') == 'feminino', F.regexp_replace(F.col('sexo'), 'feminino', 'f'))\n",
        "                                .otherwise('Nao informado')    \n",
        "                       )\n",
        ")"
      ],
      "metadata": {
        "id": "RkS1Iv9ZVnG5"
      },
      "execution_count": null,
      "outputs": []
    },
    {
      "cell_type": "code",
      "source": [
        "df7.show()"
      ],
      "metadata": {
        "colab": {
          "base_uri": "https://localhost:8080/"
        },
        "id": "y0HOJxOadmTg",
        "outputId": "f1f5c156-1b90-4fdf-9dae-46d4aa069db5"
      },
      "execution_count": null,
      "outputs": [
        {
          "output_type": "stream",
          "name": "stdout",
          "text": [
            "+-------------+--------------------+----+---------------+--------------------+----------+-----------+------------------+\n",
            "|      usuario|                Nome|sexo|Data_Nascimento|            ocupacao|Assinatura|total_gasto|total_com_desconto|\n",
            "+-------------+--------------------+----+---------------+--------------------+----------+-----------+------------------+\n",
            "|   Neaude1978|  Mr \\tbailey Glo...|   m|     01/12/1979|Analista de Intel...|01/10/2021|    1257.45|           1131.71|\n",
            "|     Maress39|Mrs  \\t isabella ...|   f|     04/08/1960|  Arquiteto de Dados|24/03/2020|     771.99|            694.79|\n",
            "|     Kehonell| Mrs Chloe \\tKirby  |   f|     28/06/1949|      Analista de RH|07/06/2020|    1021.77|            919.59|\n",
            "|      Thimpay| Mrs louise \\tCla...|   f|     07/01/1995|  Arquiteto de Dados|03/11/2020|     234.76|            211.28|\n",
            "|    Giall1985|Mr Harrison \\t Bowen|   f|     04/04/1987| Engenheiro de Dados|25/03/2020|     628.07|            565.26|\n",
            "|    Neave1959|Mrs anna \\t     S...|   f|     02/02/1970| Engenheiro de Dados|18/09/2020|     140.04|            126.04|\n",
            "|Nicterims1993|  Mrs \\tDaisy And...|   m|     05/07/1985| Engenheiro de Dados|29/01/2021|    2417.81|           2176.03|\n",
            "| Fouldlairity|    Ms zoe \\tPeacock|   m|     03/06/1964| Analista Financeiro|04/12/2020|      51.95|             46.76|\n",
            "| Ancomettiody| Mrs Libby \\tWill...|   f|     04/09/1974|         Estatístico|21/11/2020|     130.73|            117.66|\n",
            "|       Onswis| Ms Katie \\tMmtcalfe|   f|     01/07/1983|Engenheiro de Mac...|27/02/2021|    1778.72|           1600.85|\n",
            "|    Majeappre|   Mr Luca \\tVaughan|   f|     03/01/1971|Gerente de Tecnol...|15/07/2022|    1034.74|            931.27|\n",
            "|      Theired|   Mr Henry \\tHaynes|   m|     06/09/1951|Analista de Intel...|23/12/2022|    1320.04|           1188.04|\n",
            "|       Botter|    Mr Noah \\tWalton|   f|     09/03/1991|        Web Designer|26/07/2022|    3464.72|           3118.25|\n",
            "+-------------+--------------------+----+---------------+--------------------+----------+-----------+------------------+\n",
            "\n"
          ]
        }
      ]
    },
    {
      "cell_type": "code",
      "source": [
        "#REMOVER LINHAS DUPLICADAS NO DATAFRAME\n",
        "df7.dropDuplicates()\n",
        "total_linhas = df7.count()\n",
        "total_linhas_distintas = df7.distinct().count()\n",
        "\n",
        "print(total_linhas - total_linhas_distintas)"
      ],
      "metadata": {
        "id": "BEqfkpuUaaRy"
      },
      "execution_count": null,
      "outputs": []
    },
    {
      "cell_type": "code",
      "source": [
        "df7.summary().show()"
      ],
      "metadata": {
        "id": "2n0uQP7eg_ZA"
      },
      "execution_count": null,
      "outputs": []
    },
    {
      "cell_type": "code",
      "source": [
        "import pandas as pd"
      ],
      "metadata": {
        "id": "DdKzQYcwh_uy"
      },
      "execution_count": null,
      "outputs": []
    },
    {
      "cell_type": "code",
      "source": [
        "#REMOVER UMA COLUNA NO DATAFRAME\n",
        "df7.drop(F.col('usuario')).show()\n",
        "\n",
        "df_pandas = df7.toPandas()\n",
        "\n",
        "df_pandas.head(10)"
      ],
      "metadata": {
        "colab": {
          "base_uri": "https://localhost:8080/",
          "height": 945
        },
        "id": "V6c9-2-Ba6It",
        "outputId": "ad765055-c827-457d-c4fe-9e228eed91ba"
      },
      "execution_count": null,
      "outputs": [
        {
          "output_type": "stream",
          "name": "stdout",
          "text": [
            "+--------------------+----+---------------+--------------------+----------+-----------+------------------+\n",
            "|                Nome|sexo|Data_Nascimento|            ocupacao|Assinatura|total_gasto|total_com_desconto|\n",
            "+--------------------+----+---------------+--------------------+----------+-----------+------------------+\n",
            "|  Mr \\tbailey Glo...|   m|     01/12/1979|Analista de Intel...|01/10/2021|    1257.45|           1131.71|\n",
            "|Mrs  \\t isabella ...|   f|     04/08/1960|  Arquiteto de Dados|24/03/2020|     771.99|            694.79|\n",
            "| Mrs Chloe \\tKirby  |   f|     28/06/1949|      Analista de RH|07/06/2020|    1021.77|            919.59|\n",
            "| Mrs louise \\tCla...|   f|     07/01/1995|  Arquiteto de Dados|03/11/2020|     234.76|            211.28|\n",
            "|Mr Harrison \\t Bowen|   f|     04/04/1987| Engenheiro de Dados|25/03/2020|     628.07|            565.26|\n",
            "|Mrs anna \\t     S...|   f|     02/02/1970| Engenheiro de Dados|18/09/2020|     140.04|            126.04|\n",
            "|  Mrs \\tDaisy And...|   m|     05/07/1985| Engenheiro de Dados|29/01/2021|    2417.81|           2176.03|\n",
            "|    Ms zoe \\tPeacock|   m|     03/06/1964| Analista Financeiro|04/12/2020|      51.95|             46.76|\n",
            "| Mrs Libby \\tWill...|   f|     04/09/1974|         Estatístico|21/11/2020|     130.73|            117.66|\n",
            "| Ms Katie \\tMmtcalfe|   f|     01/07/1983|Engenheiro de Mac...|27/02/2021|    1778.72|           1600.85|\n",
            "|   Mr Luca \\tVaughan|   f|     03/01/1971|Gerente de Tecnol...|15/07/2022|    1034.74|            931.27|\n",
            "|   Mr Henry \\tHaynes|   m|     06/09/1951|Analista de Intel...|23/12/2022|    1320.04|           1188.04|\n",
            "|    Mr Noah \\tWalton|   f|     09/03/1991|        Web Designer|26/07/2022|    3464.72|           3118.25|\n",
            "+--------------------+----+---------------+--------------------+----------+-----------+------------------+\n",
            "\n"
          ]
        },
        {
          "output_type": "execute_result",
          "data": {
            "text/plain": [
              "         usuario                       Nome sexo Data_Nascimento  \\\n",
              "0     Neaude1978       Mr \\tbailey Glover      m      01/12/1979   \n",
              "1       Maress39  Mrs  \\t isabella   Fowler    f      04/08/1960   \n",
              "2       Kehonell        Mrs Chloe \\tKirby      f      28/06/1949   \n",
              "3        Thimpay       Mrs louise \\tClark      f      07/01/1995   \n",
              "4      Giall1985       Mr Harrison \\t Bowen    f      04/04/1987   \n",
              "5      Neave1959      Mrs anna \\t     Sharp    f      02/02/1970   \n",
              "6  Nicterims1993     Mrs \\tDaisy Anderson      m      05/07/1985   \n",
              "7   Fouldlairity           Ms zoe \\tPeacock    m      03/06/1964   \n",
              "8   Ancomettiody     Mrs Libby \\tWilliams      f      04/09/1974   \n",
              "9         Onswis        Ms Katie \\tMmtcalfe    f      01/07/1983   \n",
              "\n",
              "                              ocupacao  Assinatura  total_gasto  \\\n",
              "0  Analista de Inteligência de Mercado  01/10/2021      1257.45   \n",
              "1                   Arquiteto de Dados  24/03/2020       771.99   \n",
              "2                       Analista de RH  07/06/2020      1021.77   \n",
              "3                   Arquiteto de Dados  03/11/2020       234.76   \n",
              "4                  Engenheiro de Dados  25/03/2020       628.07   \n",
              "5                  Engenheiro de Dados  18/09/2020       140.04   \n",
              "6                  Engenheiro de Dados  29/01/2021      2417.81   \n",
              "7                  Analista Financeiro  04/12/2020        51.95   \n",
              "8                          Estatístico  21/11/2020       130.73   \n",
              "9       Engenheiro de Machine Learning  27/02/2021      1778.72   \n",
              "\n",
              "   total_com_desconto  \n",
              "0             1131.71  \n",
              "1              694.79  \n",
              "2              919.59  \n",
              "3              211.28  \n",
              "4              565.26  \n",
              "5              126.04  \n",
              "6             2176.03  \n",
              "7               46.76  \n",
              "8              117.66  \n",
              "9             1600.85  "
            ],
            "text/html": [
              "\n",
              "  <div id=\"df-3d7dc92b-6535-4b30-bc97-6da684978b7f\">\n",
              "    <div class=\"colab-df-container\">\n",
              "      <div>\n",
              "<style scoped>\n",
              "    .dataframe tbody tr th:only-of-type {\n",
              "        vertical-align: middle;\n",
              "    }\n",
              "\n",
              "    .dataframe tbody tr th {\n",
              "        vertical-align: top;\n",
              "    }\n",
              "\n",
              "    .dataframe thead th {\n",
              "        text-align: right;\n",
              "    }\n",
              "</style>\n",
              "<table border=\"1\" class=\"dataframe\">\n",
              "  <thead>\n",
              "    <tr style=\"text-align: right;\">\n",
              "      <th></th>\n",
              "      <th>usuario</th>\n",
              "      <th>Nome</th>\n",
              "      <th>sexo</th>\n",
              "      <th>Data_Nascimento</th>\n",
              "      <th>ocupacao</th>\n",
              "      <th>Assinatura</th>\n",
              "      <th>total_gasto</th>\n",
              "      <th>total_com_desconto</th>\n",
              "    </tr>\n",
              "  </thead>\n",
              "  <tbody>\n",
              "    <tr>\n",
              "      <th>0</th>\n",
              "      <td>Neaude1978</td>\n",
              "      <td>Mr \\tbailey Glover</td>\n",
              "      <td>m</td>\n",
              "      <td>01/12/1979</td>\n",
              "      <td>Analista de Inteligência de Mercado</td>\n",
              "      <td>01/10/2021</td>\n",
              "      <td>1257.45</td>\n",
              "      <td>1131.71</td>\n",
              "    </tr>\n",
              "    <tr>\n",
              "      <th>1</th>\n",
              "      <td>Maress39</td>\n",
              "      <td>Mrs  \\t isabella   Fowler</td>\n",
              "      <td>f</td>\n",
              "      <td>04/08/1960</td>\n",
              "      <td>Arquiteto de Dados</td>\n",
              "      <td>24/03/2020</td>\n",
              "      <td>771.99</td>\n",
              "      <td>694.79</td>\n",
              "    </tr>\n",
              "    <tr>\n",
              "      <th>2</th>\n",
              "      <td>Kehonell</td>\n",
              "      <td>Mrs Chloe \\tKirby</td>\n",
              "      <td>f</td>\n",
              "      <td>28/06/1949</td>\n",
              "      <td>Analista de RH</td>\n",
              "      <td>07/06/2020</td>\n",
              "      <td>1021.77</td>\n",
              "      <td>919.59</td>\n",
              "    </tr>\n",
              "    <tr>\n",
              "      <th>3</th>\n",
              "      <td>Thimpay</td>\n",
              "      <td>Mrs louise \\tClark</td>\n",
              "      <td>f</td>\n",
              "      <td>07/01/1995</td>\n",
              "      <td>Arquiteto de Dados</td>\n",
              "      <td>03/11/2020</td>\n",
              "      <td>234.76</td>\n",
              "      <td>211.28</td>\n",
              "    </tr>\n",
              "    <tr>\n",
              "      <th>4</th>\n",
              "      <td>Giall1985</td>\n",
              "      <td>Mr Harrison \\t Bowen</td>\n",
              "      <td>f</td>\n",
              "      <td>04/04/1987</td>\n",
              "      <td>Engenheiro de Dados</td>\n",
              "      <td>25/03/2020</td>\n",
              "      <td>628.07</td>\n",
              "      <td>565.26</td>\n",
              "    </tr>\n",
              "    <tr>\n",
              "      <th>5</th>\n",
              "      <td>Neave1959</td>\n",
              "      <td>Mrs anna \\t     Sharp</td>\n",
              "      <td>f</td>\n",
              "      <td>02/02/1970</td>\n",
              "      <td>Engenheiro de Dados</td>\n",
              "      <td>18/09/2020</td>\n",
              "      <td>140.04</td>\n",
              "      <td>126.04</td>\n",
              "    </tr>\n",
              "    <tr>\n",
              "      <th>6</th>\n",
              "      <td>Nicterims1993</td>\n",
              "      <td>Mrs \\tDaisy Anderson</td>\n",
              "      <td>m</td>\n",
              "      <td>05/07/1985</td>\n",
              "      <td>Engenheiro de Dados</td>\n",
              "      <td>29/01/2021</td>\n",
              "      <td>2417.81</td>\n",
              "      <td>2176.03</td>\n",
              "    </tr>\n",
              "    <tr>\n",
              "      <th>7</th>\n",
              "      <td>Fouldlairity</td>\n",
              "      <td>Ms zoe \\tPeacock</td>\n",
              "      <td>m</td>\n",
              "      <td>03/06/1964</td>\n",
              "      <td>Analista Financeiro</td>\n",
              "      <td>04/12/2020</td>\n",
              "      <td>51.95</td>\n",
              "      <td>46.76</td>\n",
              "    </tr>\n",
              "    <tr>\n",
              "      <th>8</th>\n",
              "      <td>Ancomettiody</td>\n",
              "      <td>Mrs Libby \\tWilliams</td>\n",
              "      <td>f</td>\n",
              "      <td>04/09/1974</td>\n",
              "      <td>Estatístico</td>\n",
              "      <td>21/11/2020</td>\n",
              "      <td>130.73</td>\n",
              "      <td>117.66</td>\n",
              "    </tr>\n",
              "    <tr>\n",
              "      <th>9</th>\n",
              "      <td>Onswis</td>\n",
              "      <td>Ms Katie \\tMmtcalfe</td>\n",
              "      <td>f</td>\n",
              "      <td>01/07/1983</td>\n",
              "      <td>Engenheiro de Machine Learning</td>\n",
              "      <td>27/02/2021</td>\n",
              "      <td>1778.72</td>\n",
              "      <td>1600.85</td>\n",
              "    </tr>\n",
              "  </tbody>\n",
              "</table>\n",
              "</div>\n",
              "      <button class=\"colab-df-convert\" onclick=\"convertToInteractive('df-3d7dc92b-6535-4b30-bc97-6da684978b7f')\"\n",
              "              title=\"Convert this dataframe to an interactive table.\"\n",
              "              style=\"display:none;\">\n",
              "        \n",
              "  <svg xmlns=\"http://www.w3.org/2000/svg\" height=\"24px\"viewBox=\"0 0 24 24\"\n",
              "       width=\"24px\">\n",
              "    <path d=\"M0 0h24v24H0V0z\" fill=\"none\"/>\n",
              "    <path d=\"M18.56 5.44l.94 2.06.94-2.06 2.06-.94-2.06-.94-.94-2.06-.94 2.06-2.06.94zm-11 1L8.5 8.5l.94-2.06 2.06-.94-2.06-.94L8.5 2.5l-.94 2.06-2.06.94zm10 10l.94 2.06.94-2.06 2.06-.94-2.06-.94-.94-2.06-.94 2.06-2.06.94z\"/><path d=\"M17.41 7.96l-1.37-1.37c-.4-.4-.92-.59-1.43-.59-.52 0-1.04.2-1.43.59L10.3 9.45l-7.72 7.72c-.78.78-.78 2.05 0 2.83L4 21.41c.39.39.9.59 1.41.59.51 0 1.02-.2 1.41-.59l7.78-7.78 2.81-2.81c.8-.78.8-2.07 0-2.86zM5.41 20L4 18.59l7.72-7.72 1.47 1.35L5.41 20z\"/>\n",
              "  </svg>\n",
              "      </button>\n",
              "      \n",
              "  <style>\n",
              "    .colab-df-container {\n",
              "      display:flex;\n",
              "      flex-wrap:wrap;\n",
              "      gap: 12px;\n",
              "    }\n",
              "\n",
              "    .colab-df-convert {\n",
              "      background-color: #E8F0FE;\n",
              "      border: none;\n",
              "      border-radius: 50%;\n",
              "      cursor: pointer;\n",
              "      display: none;\n",
              "      fill: #1967D2;\n",
              "      height: 32px;\n",
              "      padding: 0 0 0 0;\n",
              "      width: 32px;\n",
              "    }\n",
              "\n",
              "    .colab-df-convert:hover {\n",
              "      background-color: #E2EBFA;\n",
              "      box-shadow: 0px 1px 2px rgba(60, 64, 67, 0.3), 0px 1px 3px 1px rgba(60, 64, 67, 0.15);\n",
              "      fill: #174EA6;\n",
              "    }\n",
              "\n",
              "    [theme=dark] .colab-df-convert {\n",
              "      background-color: #3B4455;\n",
              "      fill: #D2E3FC;\n",
              "    }\n",
              "\n",
              "    [theme=dark] .colab-df-convert:hover {\n",
              "      background-color: #434B5C;\n",
              "      box-shadow: 0px 1px 3px 1px rgba(0, 0, 0, 0.15);\n",
              "      filter: drop-shadow(0px 1px 2px rgba(0, 0, 0, 0.3));\n",
              "      fill: #FFFFFF;\n",
              "    }\n",
              "  </style>\n",
              "\n",
              "      <script>\n",
              "        const buttonEl =\n",
              "          document.querySelector('#df-3d7dc92b-6535-4b30-bc97-6da684978b7f button.colab-df-convert');\n",
              "        buttonEl.style.display =\n",
              "          google.colab.kernel.accessAllowed ? 'block' : 'none';\n",
              "\n",
              "        async function convertToInteractive(key) {\n",
              "          const element = document.querySelector('#df-3d7dc92b-6535-4b30-bc97-6da684978b7f');\n",
              "          const dataTable =\n",
              "            await google.colab.kernel.invokeFunction('convertToInteractive',\n",
              "                                                     [key], {});\n",
              "          if (!dataTable) return;\n",
              "\n",
              "          const docLinkHtml = 'Like what you see? Visit the ' +\n",
              "            '<a target=\"_blank\" href=https://colab.research.google.com/notebooks/data_table.ipynb>data table notebook</a>'\n",
              "            + ' to learn more about interactive tables.';\n",
              "          element.innerHTML = '';\n",
              "          dataTable['output_type'] = 'display_data';\n",
              "          await google.colab.output.renderOutput(dataTable, element);\n",
              "          const docLink = document.createElement('div');\n",
              "          docLink.innerHTML = docLinkHtml;\n",
              "          element.appendChild(docLink);\n",
              "        }\n",
              "      </script>\n",
              "    </div>\n",
              "  </div>\n",
              "  "
            ]
          },
          "metadata": {},
          "execution_count": 51
        }
      ]
    },
    {
      "cell_type": "code",
      "source": [
        "#SUBSTITUIÇÃO DE VALORES NULOS\n",
        "df7.fillna('NA', subset=['Nome', 'sexo', 'data_nascimento'])"
      ],
      "metadata": {
        "id": "oRcX31nSbDy-",
        "colab": {
          "base_uri": "https://localhost:8080/"
        },
        "outputId": "dd49e70d-9dcc-497e-d6b4-aaab444222e5"
      },
      "execution_count": null,
      "outputs": [
        {
          "output_type": "execute_result",
          "data": {
            "text/plain": [
              "DataFrame[usuario: string, Nome: string, sexo: string, Data_Nascimento: string, ocupacao: string, Assinatura: string, total_gasto: double, total_com_desconto: double]"
            ]
          },
          "metadata": {},
          "execution_count": 52
        }
      ]
    },
    {
      "cell_type": "code",
      "source": [
        "df.schema"
      ],
      "metadata": {
        "colab": {
          "base_uri": "https://localhost:8080/"
        },
        "id": "qAnRvuNykeNT",
        "outputId": "f5324544-1f35-46f3-eb67-ad399e9361e5"
      },
      "execution_count": null,
      "outputs": [
        {
          "output_type": "execute_result",
          "data": {
            "text/plain": [
              "StructType([StructField('Username', StringType(), True), StructField('Nome', StringType(), True), StructField('Sexo', StringType(), True), StructField('Data_Nascimento', StringType(), True), StructField('Ocupação', StringType(), True), StructField('Assinatura', StringType(), True), StructField('Total_Gasto ', DoubleType(), True)])"
            ]
          },
          "metadata": {},
          "execution_count": 54
        }
      ]
    },
    {
      "cell_type": "code",
      "source": [
        "df.select('data_nascimento').show()"
      ],
      "metadata": {
        "colab": {
          "base_uri": "https://localhost:8080/"
        },
        "id": "UIdXCMEnqU_Q",
        "outputId": "84e7c2d6-04b0-42a9-c29d-d5c40eef16a2"
      },
      "execution_count": null,
      "outputs": [
        {
          "output_type": "stream",
          "name": "stdout",
          "text": [
            "+---------------+\n",
            "|data_nascimento|\n",
            "+---------------+\n",
            "|     01/12/1979|\n",
            "|     04/08/1960|\n",
            "|     28/06/1949|\n",
            "|     07/01/1995|\n",
            "|     04/04/1987|\n",
            "|     02/02/1970|\n",
            "|     05/07/1985|\n",
            "|     03/06/1964|\n",
            "|     04/09/1974|\n",
            "|     01/07/1983|\n",
            "|     03/01/1971|\n",
            "|     06/09/1951|\n",
            "|     09/03/1991|\n",
            "+---------------+\n",
            "\n"
          ]
        }
      ]
    },
    {
      "cell_type": "code",
      "source": [
        "#CONVERTER UMA DATA DO FORMATO STRING PARA O FORMATO DATE - yyyy-MM-dd\n",
        "df8 = df.withColumn('data_tipo_date', F.to_date(F.col('Data_nascimento'), 'dd/MM/yyyy'))\n",
        "df8 = df.withColumn('Data_Nascimento', F.to_date(F.col('Data_nascimento'), 'dd/MM/yyyy'))\n"
      ],
      "metadata": {
        "id": "YoXIj9WvqhA6"
      },
      "execution_count": null,
      "outputs": []
    },
    {
      "cell_type": "code",
      "source": [
        "df8.dtypes"
      ],
      "metadata": {
        "colab": {
          "base_uri": "https://localhost:8080/"
        },
        "id": "Mm_gQlyYrWTN",
        "outputId": "1d1f376e-35c3-49c9-f3b2-e6aa23fa99fa"
      },
      "execution_count": null,
      "outputs": [
        {
          "output_type": "execute_result",
          "data": {
            "text/plain": [
              "[('Username', 'string'),\n",
              " ('Nome', 'string'),\n",
              " ('Sexo', 'string'),\n",
              " ('Data_Nascimento', 'string'),\n",
              " ('Ocupação', 'string'),\n",
              " ('Assinatura', 'string'),\n",
              " ('Total_Gasto ', 'double'),\n",
              " ('data_tipo_date', 'date')]"
            ]
          },
          "metadata": {},
          "execution_count": 60
        }
      ]
    },
    {
      "cell_type": "code",
      "source": [
        "#CONVERTER A DATA DO TIPO DATE QUE A GENTE CRIOU PARA STRING\n",
        "df8.withColumn('DATA_STRING', F.date_format(F.col('data_tipo_date'), 'dd/MM/yyyy')).show()\n",
        "#F.date_format(coluna_do_tipo_date, 'dd/MM/yyyy')"
      ],
      "metadata": {
        "colab": {
          "base_uri": "https://localhost:8080/"
        },
        "id": "d4IewyD7sgP7",
        "outputId": "7d73ebee-4b99-47b8-cdc4-81d02a8886ec"
      },
      "execution_count": null,
      "outputs": [
        {
          "output_type": "stream",
          "name": "stdout",
          "text": [
            "+-------------+--------------------+---------+---------------+--------------------+----------+------------+--------------+-----------+\n",
            "|     Username|                Nome|     Sexo|Data_Nascimento|            Ocupação|Assinatura|Total_Gasto |data_tipo_date|DATA_STRING|\n",
            "+-------------+--------------------+---------+---------------+--------------------+----------+------------+--------------+-----------+\n",
            "|   Neaude1978|  Mr \\tbailey Glo...|masculino|     01/12/1979|Analista de Intel...|01/10/2021|     1257.45|    1979-12-01| 01/12/1979|\n",
            "|     Maress39|Mrs  \\t isabella ...| feminino|     04/08/1960|  Arquiteto de Dados|24/03/2020|      771.99|    1960-08-04| 04/08/1960|\n",
            "|     Kehonell| Mrs Chloe \\tKirby  | feminino|     28/06/1949|      Analista de RH|07/06/2020|     1021.77|    1949-06-28| 28/06/1949|\n",
            "|      Thimpay| Mrs louise \\tCla...| feminino|     07/01/1995|  Arquiteto de Dados|03/11/2020|      234.76|    1995-01-07| 07/01/1995|\n",
            "|    Giall1985|Mr Harrison \\t Bowen| feminino|     04/04/1987| Engenheiro de Dados|25/03/2020|      628.07|    1987-04-04| 04/04/1987|\n",
            "|    Neave1959|Mrs anna \\t     S...| feminino|     02/02/1970| Engenheiro de Dados|18/09/2020|      140.04|    1970-02-02| 02/02/1970|\n",
            "|Nicterims1993|  Mrs \\tDaisy And...|masculino|     05/07/1985| Engenheiro de Dados|29/01/2021|     2417.81|    1985-07-05| 05/07/1985|\n",
            "| Fouldlairity|    Ms zoe \\tPeacock|masculino|     03/06/1964| Analista Financeiro|04/12/2020|       51.95|    1964-06-03| 03/06/1964|\n",
            "| Ancomettiody| Mrs Libby \\tWill...| feminino|     04/09/1974|         Estatístico|21/11/2020|      130.73|    1974-09-04| 04/09/1974|\n",
            "|       Onswis| Ms Katie \\tMmtcalfe| feminino|     01/07/1983|Engenheiro de Mac...|27/02/2021|     1778.72|    1983-07-01| 01/07/1983|\n",
            "|    Majeappre|   Mr Luca \\tVaughan| feminino|     03/01/1971|Gerente de Tecnol...|15/07/2022|     1034.74|    1971-01-03| 03/01/1971|\n",
            "|      Theired|   Mr Henry \\tHaynes|masculino|     06/09/1951|Analista de Intel...|23/12/2022|     1320.04|    1951-09-06| 06/09/1951|\n",
            "|       Botter|    Mr Noah \\tWalton| feminino|     09/03/1991|        Web Designer|26/07/2022|     3464.72|    1991-03-09| 09/03/1991|\n",
            "+-------------+--------------------+---------+---------------+--------------------+----------+------------+--------------+-----------+\n",
            "\n"
          ]
        }
      ]
    },
    {
      "cell_type": "code",
      "source": [
        "# 1) F.datediff (data_final, data_inicial) - Retorna a diferença em dias entre duas datas\n",
        "# 2) F.months_between (data_final, data_inicial) - Retorna a diferença em meses entre duas datas\n",
        "# 3) year(), month(), next_day(), weekofyear()\n",
        "# 4) dayofweek, dayofmonth(), dayofyear()"
      ],
      "metadata": {
        "id": "Lp-US878uwsB"
      },
      "execution_count": null,
      "outputs": []
    },
    {
      "cell_type": "code",
      "source": [
        "#CONVERTER DATA_NASCIMENTO E ASSINATURA PARA DATE E APLICAR AS DUAS FUNÇÕES ACIMA\n",
        "df9 = ( df8.select('Data_Nascimento', 'Assinatura')\n",
        "     .withColumn('nasc_date', F.to_date(F.col('data_nascimento'), 'dd/MM/yyyy'))\n",
        "     .withColumn('assinatura_date', F.to_date(F.col('Assinatura'), 'dd/MM/yyyy'))\n",
        ")"
      ],
      "metadata": {
        "id": "zux591hmxpDE"
      },
      "execution_count": null,
      "outputs": []
    },
    {
      "cell_type": "code",
      "source": [
        "df9.withColumn('Dif_Dias', F.datediff(F.col('nasc_date'), F.col('assinatura_date'))).show()"
      ],
      "metadata": {
        "colab": {
          "base_uri": "https://localhost:8080/"
        },
        "id": "bSmfozwi6cH-",
        "outputId": "61e17282-a2eb-4274-bf47-26fb5adcb41c"
      },
      "execution_count": null,
      "outputs": [
        {
          "output_type": "stream",
          "name": "stdout",
          "text": [
            "+---------------+----------+----------+---------------+--------+\n",
            "|Data_Nascimento|Assinatura| nasc_date|assinatura_date|Dif_Dias|\n",
            "+---------------+----------+----------+---------------+--------+\n",
            "|     01/12/1979|01/10/2021|1979-12-01|     2021-10-01|  -15280|\n",
            "|     04/08/1960|24/03/2020|1960-08-04|     2020-03-24|  -21782|\n",
            "|     28/06/1949|07/06/2020|1949-06-28|     2020-06-07|  -25912|\n",
            "|     07/01/1995|03/11/2020|1995-01-07|     2020-11-03|   -9432|\n",
            "|     04/04/1987|25/03/2020|1987-04-04|     2020-03-25|  -12044|\n",
            "|     02/02/1970|18/09/2020|1970-02-02|     2020-09-18|  -18491|\n",
            "|     05/07/1985|29/01/2021|1985-07-05|     2021-01-29|  -12992|\n",
            "|     03/06/1964|04/12/2020|1964-06-03|     2020-12-04|  -20638|\n",
            "|     04/09/1974|21/11/2020|1974-09-04|     2020-11-21|  -16880|\n",
            "|     01/07/1983|27/02/2021|1983-07-01|     2021-02-27|  -13756|\n",
            "|     03/01/1971|15/07/2022|1971-01-03|     2022-07-15|  -18821|\n",
            "|     06/09/1951|23/12/2022|1951-09-06|     2022-12-23|  -26041|\n",
            "|     09/03/1991|26/07/2022|1991-03-09|     2022-07-26|  -11462|\n",
            "+---------------+----------+----------+---------------+--------+\n",
            "\n"
          ]
        }
      ]
    },
    {
      "cell_type": "code",
      "source": [
        "df9.withColumn('Dif_meses', F.months_between(F.col('nasc_date'), F.col('assinatura_date'))).show()"
      ],
      "metadata": {
        "colab": {
          "base_uri": "https://localhost:8080/"
        },
        "id": "D51NWsJh7Cb0",
        "outputId": "cc808113-f445-4920-ad9e-79c649fd6191"
      },
      "execution_count": null,
      "outputs": [
        {
          "output_type": "stream",
          "name": "stdout",
          "text": [
            "+---------------+----------+----------+---------------+-------------+\n",
            "|Data_Nascimento|Assinatura| nasc_date|assinatura_date|    Dif_meses|\n",
            "+---------------+----------+----------+---------------+-------------+\n",
            "|     01/12/1979|01/10/2021|1979-12-01|     2021-10-01|       -502.0|\n",
            "|     04/08/1960|24/03/2020|1960-08-04|     2020-03-24|-715.64516129|\n",
            "|     28/06/1949|07/06/2020|1949-06-28|     2020-06-07|-851.32258065|\n",
            "|     07/01/1995|03/11/2020|1995-01-07|     2020-11-03|-309.87096774|\n",
            "|     04/04/1987|25/03/2020|1987-04-04|     2020-03-25|-395.67741935|\n",
            "|     02/02/1970|18/09/2020|1970-02-02|     2020-09-18|-607.51612903|\n",
            "|     05/07/1985|29/01/2021|1985-07-05|     2021-01-29|-426.77419355|\n",
            "|     03/06/1964|04/12/2020|1964-06-03|     2020-12-04|-678.03225806|\n",
            "|     04/09/1974|21/11/2020|1974-09-04|     2020-11-21| -554.5483871|\n",
            "|     01/07/1983|27/02/2021|1983-07-01|     2021-02-27|-451.83870968|\n",
            "|     03/01/1971|15/07/2022|1971-01-03|     2022-07-15|-618.38709677|\n",
            "|     06/09/1951|23/12/2022|1951-09-06|     2022-12-23| -855.5483871|\n",
            "|     09/03/1991|26/07/2022|1991-03-09|     2022-07-26| -376.5483871|\n",
            "+---------------+----------+----------+---------------+-------------+\n",
            "\n"
          ]
        }
      ]
    },
    {
      "cell_type": "code",
      "source": [
        "#JOINS\n",
        "schema = ['id', 'nome', 'salario']\n",
        "\n",
        "dados = [\n",
        "         (1, 'João', 2000),\n",
        "         (2, 'Maria', 5000),\n",
        "         (3, 'Pedro', 8300),\n",
        "         (4, 'Gustavo', 1200),\n",
        "         (5, 'Ana', 10000),\n",
        "         (6, 'Vitoria', 7500),\n",
        "         (7, 'Carlos', 4800),\n",
        "         (8, 'Claudia', 4300),\n",
        "         (9, 'Andre', 2400),\n",
        "]\n",
        "\n",
        "df10 = spark.createDataFrame(dados, schema)"
      ],
      "metadata": {
        "id": "zjB7RctYyh8t"
      },
      "execution_count": null,
      "outputs": []
    },
    {
      "cell_type": "code",
      "source": [
        "schema = ['id', 'cidade', 'estado']\n",
        "\n",
        "dados = [\n",
        "         (1, 'São Paulo', 'SP'),\n",
        "         (2, 'Curitiba', 'PR'),\n",
        "         (3, 'Fortaleza', 'CE'),\n",
        "         (4, 'Ribeirão Preto', 'SP'),\n",
        "         (8, 'Belo Horizonte', 'MG'),\n",
        "         (9, 'Goiania', 'GO'),\n",
        "         (10, 'Sobral', 'CE'),\n",
        "         (11, 'Salvador', 'BA'),\n",
        "         (12, 'São Luis', 'MA'),\n",
        "]\n",
        "df11 = spark.createDataFrame(dados, schema)"
      ],
      "metadata": {
        "id": "p3WSfXyNC4Kr"
      },
      "execution_count": null,
      "outputs": []
    },
    {
      "cell_type": "code",
      "source": [
        "df10.show()\n",
        "df11.show()"
      ],
      "metadata": {
        "colab": {
          "base_uri": "https://localhost:8080/"
        },
        "id": "T8m_jKRLDKnJ",
        "outputId": "c0053768-5356-4b35-b027-53ab11ed606e"
      },
      "execution_count": null,
      "outputs": [
        {
          "output_type": "stream",
          "name": "stdout",
          "text": [
            "+---+-------+-------+\n",
            "| id|   nome|salario|\n",
            "+---+-------+-------+\n",
            "|  1|   João|   2000|\n",
            "|  2|  Maria|   5000|\n",
            "|  3|  Pedro|   8300|\n",
            "|  4|Gustavo|   1200|\n",
            "|  5|    Ana|  10000|\n",
            "|  6|Vitoria|   7500|\n",
            "|  7| Carlos|   4800|\n",
            "|  8|Claudia|   4300|\n",
            "|  9|  Andre|   2400|\n",
            "+---+-------+-------+\n",
            "\n",
            "+---+--------------+------+\n",
            "| id|        cidade|estado|\n",
            "+---+--------------+------+\n",
            "|  1|     São Paulo|    SP|\n",
            "|  2|      Curitiba|    PR|\n",
            "|  3|     Fortaleza|    CE|\n",
            "|  4|Ribeirão Preto|    SP|\n",
            "|  8|Belo Horizonte|    MG|\n",
            "|  9|       Goiania|    GO|\n",
            "| 10|        Sobral|    CE|\n",
            "| 11|      Salvador|    BA|\n",
            "| 12|      São Luis|    MA|\n",
            "+---+--------------+------+\n",
            "\n"
          ]
        }
      ]
    },
    {
      "cell_type": "code",
      "source": [
        "#INNER JOIN\n",
        "df_inner = df10.join(df11, on=['id'], how='inner')\n",
        "df_inner.show()\n",
        "\n",
        "df_inner = df10.join(df11, df10.id == df11.id_endereco, how='inner')"
      ],
      "metadata": {
        "colab": {
          "base_uri": "https://localhost:8080/"
        },
        "id": "3E8AYEf1Dgxn",
        "outputId": "3ed30a1c-2696-4fb1-cc29-1d07b72efd19"
      },
      "execution_count": null,
      "outputs": [
        {
          "output_type": "stream",
          "name": "stdout",
          "text": [
            "+---+-------+-------+--------------+------+\n",
            "| id|   nome|salario|        cidade|estado|\n",
            "+---+-------+-------+--------------+------+\n",
            "|  1|   João|   2000|     São Paulo|    SP|\n",
            "|  2|  Maria|   5000|      Curitiba|    PR|\n",
            "|  3|  Pedro|   8300|     Fortaleza|    CE|\n",
            "|  4|Gustavo|   1200|Ribeirão Preto|    SP|\n",
            "|  8|Claudia|   4300|Belo Horizonte|    MG|\n",
            "|  9|  Andre|   2400|       Goiania|    GO|\n",
            "+---+-------+-------+--------------+------+\n",
            "\n"
          ]
        }
      ]
    },
    {
      "cell_type": "code",
      "source": [
        "#LEFT JOIN\n",
        "df_left = df10.join(df11, on=['id'], how='left')\n",
        "df_left.orderBy('id').show()"
      ],
      "metadata": {
        "colab": {
          "base_uri": "https://localhost:8080/"
        },
        "id": "cEYvoxgiGYrb",
        "outputId": "f174adb2-33af-47a6-9945-b937b7583f54"
      },
      "execution_count": null,
      "outputs": [
        {
          "output_type": "stream",
          "name": "stdout",
          "text": [
            "+---+-------+-------+--------------+------+\n",
            "| id|   nome|salario|        cidade|estado|\n",
            "+---+-------+-------+--------------+------+\n",
            "|  1|   João|   2000|     São Paulo|    SP|\n",
            "|  2|  Maria|   5000|      Curitiba|    PR|\n",
            "|  3|  Pedro|   8300|     Fortaleza|    CE|\n",
            "|  4|Gustavo|   1200|Ribeirão Preto|    SP|\n",
            "|  5|    Ana|  10000|          null|  null|\n",
            "|  6|Vitoria|   7500|          null|  null|\n",
            "|  7| Carlos|   4800|          null|  null|\n",
            "|  8|Claudia|   4300|Belo Horizonte|    MG|\n",
            "|  9|  Andre|   2400|       Goiania|    GO|\n",
            "+---+-------+-------+--------------+------+\n",
            "\n"
          ]
        }
      ]
    },
    {
      "cell_type": "code",
      "source": [
        "#RIGHT JOIN\n",
        "df_right = df10.join(df11, on=['id'], how='right')\n",
        "df_right.orderBy('id').show()"
      ],
      "metadata": {
        "colab": {
          "base_uri": "https://localhost:8080/"
        },
        "id": "arZNRC-tHM5e",
        "outputId": "66a0b816-975b-46da-f399-d013da3a9754"
      },
      "execution_count": null,
      "outputs": [
        {
          "output_type": "stream",
          "name": "stdout",
          "text": [
            "+---+-------+-------+--------------+------+\n",
            "| id|   nome|salario|        cidade|estado|\n",
            "+---+-------+-------+--------------+------+\n",
            "|  1|   João|   2000|     São Paulo|    SP|\n",
            "|  2|  Maria|   5000|      Curitiba|    PR|\n",
            "|  3|  Pedro|   8300|     Fortaleza|    CE|\n",
            "|  4|Gustavo|   1200|Ribeirão Preto|    SP|\n",
            "|  8|Claudia|   4300|Belo Horizonte|    MG|\n",
            "|  9|  Andre|   2400|       Goiania|    GO|\n",
            "| 10|   null|   null|        Sobral|    CE|\n",
            "| 11|   null|   null|      Salvador|    BA|\n",
            "| 12|   null|   null|      São Luis|    MA|\n",
            "+---+-------+-------+--------------+------+\n",
            "\n"
          ]
        }
      ]
    },
    {
      "cell_type": "code",
      "source": [
        "#FULL\n",
        "df_full = df10.join(df11, on=['id'], how='full')\n",
        "df_full.orderBy('id').show()"
      ],
      "metadata": {
        "colab": {
          "base_uri": "https://localhost:8080/"
        },
        "id": "fYt8EzJVHrzM",
        "outputId": "4788e1f5-df74-47c4-cc03-55f8e05ca295"
      },
      "execution_count": null,
      "outputs": [
        {
          "output_type": "stream",
          "name": "stdout",
          "text": [
            "+---+-------+-------+--------------+------+\n",
            "| id|   nome|salario|        cidade|estado|\n",
            "+---+-------+-------+--------------+------+\n",
            "|  1|   João|   2000|     São Paulo|    SP|\n",
            "|  2|  Maria|   5000|      Curitiba|    PR|\n",
            "|  3|  Pedro|   8300|     Fortaleza|    CE|\n",
            "|  4|Gustavo|   1200|Ribeirão Preto|    SP|\n",
            "|  5|    Ana|  10000|          null|  null|\n",
            "|  6|Vitoria|   7500|          null|  null|\n",
            "|  7| Carlos|   4800|          null|  null|\n",
            "|  8|Claudia|   4300|Belo Horizonte|    MG|\n",
            "|  9|  Andre|   2400|       Goiania|    GO|\n",
            "| 10|   null|   null|        Sobral|    CE|\n",
            "| 11|   null|   null|      Salvador|    BA|\n",
            "| 12|   null|   null|      São Luis|    MA|\n",
            "+---+-------+-------+--------------+------+\n",
            "\n"
          ]
        }
      ]
    },
    {
      "cell_type": "code",
      "source": [
        "df10.show()\n",
        "df11.show()"
      ],
      "metadata": {
        "id": "Y1-8q4hJJen0",
        "outputId": "8d19dbd5-3946-46e6-b1a4-141bd74d0e80",
        "colab": {
          "base_uri": "https://localhost:8080/"
        }
      },
      "execution_count": null,
      "outputs": [
        {
          "output_type": "stream",
          "name": "stdout",
          "text": [
            "+---+-------+-------+\n",
            "| id|   nome|salario|\n",
            "+---+-------+-------+\n",
            "|  1|   João|   2000|\n",
            "|  2|  Maria|   5000|\n",
            "|  3|  Pedro|   8300|\n",
            "|  4|Gustavo|   1200|\n",
            "|  5|    Ana|  10000|\n",
            "|  6|Vitoria|   7500|\n",
            "|  7| Carlos|   4800|\n",
            "|  8|Claudia|   4300|\n",
            "|  9|  Andre|   2400|\n",
            "+---+-------+-------+\n",
            "\n",
            "+---+--------------+------+\n",
            "| id|        cidade|estado|\n",
            "+---+--------------+------+\n",
            "|  1|     São Paulo|    SP|\n",
            "|  2|      Curitiba|    PR|\n",
            "|  3|     Fortaleza|    CE|\n",
            "|  4|Ribeirão Preto|    SP|\n",
            "|  8|Belo Horizonte|    MG|\n",
            "|  9|       Goiania|    GO|\n",
            "| 10|        Sobral|    CE|\n",
            "| 11|      Salvador|    BA|\n",
            "| 12|      São Luis|    MA|\n",
            "+---+--------------+------+\n",
            "\n"
          ]
        }
      ]
    },
    {
      "cell_type": "code",
      "source": [
        "#SALVAR\n",
        "df9.write.format('csv').mode('overwrite').save('caminho')\n",
        "df9.write.format('parquet').save('caminho')\n",
        "df9.write.format('json').save('caminho')\n",
        "df9.write.format('orc').save('caminho')"
      ],
      "metadata": {
        "id": "Fsov14qRyjFg"
      },
      "execution_count": null,
      "outputs": []
    },
    {
      "cell_type": "code",
      "source": [
        "#LEITURA\n",
        "df_csv = spark.read.format('csv').load('caminho')\n",
        "df_csv = spark.read.format('parquet').load('caminho')\n",
        "df_csv = spark.read.format('json').load('caminho')\n",
        "df_csv = spark.read.format('orc').load('caminho')"
      ],
      "metadata": {
        "id": "UvvL5bfeA9xc"
      },
      "execution_count": null,
      "outputs": []
    }
  ]
}