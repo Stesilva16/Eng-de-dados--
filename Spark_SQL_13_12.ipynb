{
  "nbformat": 4,
  "nbformat_minor": 0,
  "metadata": {
    "colab": {
      "provenance": [],
      "include_colab_link": true
    },
    "kernelspec": {
      "name": "python3",
      "display_name": "Python 3"
    },
    "language_info": {
      "name": "python"
    }
  },
  "cells": [
    {
      "cell_type": "markdown",
      "metadata": {
        "id": "view-in-github",
        "colab_type": "text"
      },
      "source": [
        "<a href=\"https://colab.research.google.com/github/Stesilva16/Eng-de-dados--/blob/main/Spark_SQL_13_12.ipynb\" target=\"_parent\"><img src=\"https://colab.research.google.com/assets/colab-badge.svg\" alt=\"Open In Colab\"/></a>"
      ]
    },
    {
      "cell_type": "markdown",
      "source": [
        "#instalação pyspark;\n",
        "e as bibliotecas;"
      ],
      "metadata": {
        "id": "Ie-MFsmEYns4"
      }
    },
    {
      "cell_type": "code",
      "execution_count": null,
      "metadata": {
        "colab": {
          "base_uri": "https://localhost:8080/"
        },
        "id": "mecdB55aTCuh",
        "outputId": "893a357c-3194-4915-c0aa-9c47736b7861"
      },
      "outputs": [
        {
          "output_type": "stream",
          "name": "stdout",
          "text": [
            "Looking in indexes: https://pypi.org/simple, https://us-python.pkg.dev/colab-wheels/public/simple/\n",
            "Collecting pyspark\n",
            "  Downloading pyspark-3.3.1.tar.gz (281.4 MB)\n",
            "\u001b[K     |████████████████████████████████| 281.4 MB 43 kB/s \n",
            "\u001b[?25hCollecting py4j==0.10.9.5\n",
            "  Downloading py4j-0.10.9.5-py2.py3-none-any.whl (199 kB)\n",
            "\u001b[K     |████████████████████████████████| 199 kB 56.0 MB/s \n",
            "\u001b[?25hBuilding wheels for collected packages: pyspark\n",
            "  Building wheel for pyspark (setup.py) ... \u001b[?25l\u001b[?25hdone\n",
            "  Created wheel for pyspark: filename=pyspark-3.3.1-py2.py3-none-any.whl size=281845512 sha256=37321404d724cc576e7239a1f602439a2ceed11b18b3e63629fdc6f1c0db1479\n",
            "  Stored in directory: /root/.cache/pip/wheels/43/dc/11/ec201cd671da62fa9c5cc77078235e40722170ceba231d7598\n",
            "Successfully built pyspark\n",
            "Installing collected packages: py4j, pyspark\n",
            "Successfully installed py4j-0.10.9.5 pyspark-3.3.1\n"
          ]
        }
      ],
      "source": [
        "!pip install pyspark"
      ]
    },
    {
      "cell_type": "code",
      "source": [
        "from pyspark.sql import SparkSession"
      ],
      "metadata": {
        "id": "Uut_TPWmTM12"
      },
      "execution_count": null,
      "outputs": []
    },
    {
      "cell_type": "markdown",
      "source": [
        "#criar a spark Session"
      ],
      "metadata": {
        "id": "4Ch2BBrCY2CZ"
      }
    },
    {
      "cell_type": "code",
      "source": [
        "spark = (\n",
        "    SparkSession.builder\n",
        "    .master('local')\n",
        "    .appName('sparkSQL')\n",
        "    .config('spark.ui.port', '4050')\n",
        "    .getOrCreate()\n",
        ")"
      ],
      "metadata": {
        "id": "Q4DJZsgGTS55"
      },
      "execution_count": null,
      "outputs": []
    },
    {
      "cell_type": "markdown",
      "source": [
        "#criar o dataframe"
      ],
      "metadata": {
        "id": "yCZxeBM0Y5IE"
      }
    },
    {
      "cell_type": "code",
      "source": [
        "df = (\n",
        "    spark.read.format('csv')\n",
        "              .option('header', 'true')\n",
        "              .option('inferschema', 'true')\n",
        "              .option('delimiter', ',')\n",
        "              .load('/content/spotify.csv')\n",
        ")"
      ],
      "metadata": {
        "id": "uUVywcxXTzrd"
      },
      "execution_count": null,
      "outputs": []
    },
    {
      "cell_type": "code",
      "source": [
        "df.show()"
      ],
      "metadata": {
        "colab": {
          "base_uri": "https://localhost:8080/"
        },
        "id": "ymrXS19rUVGW",
        "outputId": "6c71b75a-773c-4842-8389-e5ebd9663eca"
      },
      "execution_count": null,
      "outputs": [
        {
          "output_type": "stream",
          "name": "stdout",
          "text": [
            "+---+--------------------+---------------+----------------+--------------------+--------------------+------------------+--------------------+----+-------------------+-------------------+----------+--------------------+-------+--------------+------------------+\n",
            "|_c0|           song_name|song_popularity|song_duration_ms|        acousticness|        danceability|            energy|    instrumentalness| key|           liveness|           loudness|audio_mode|         speechiness|  tempo|time_signature|     audio_valence|\n",
            "+---+--------------------+---------------+----------------+--------------------+--------------------+------------------+--------------------+----+-------------------+-------------------+----------+--------------------+-------+--------------+------------------+\n",
            "|  0|Boulevard of Brok...|             73|          262333|0.005520000000000...|          0.496mol/L|             0.682|            2.94e-05| 8.0|             0.0589|             -4.095|         1|              0.0294| 167.06|             4|             0.474|\n",
            "|  1|          In The End|             66|          216933|            0.0103kg|          0.542mol/L|             0.853|                 0.0| 3.0|              0.108|             -6.407|         0|              0.0498|105.256|             4|              0.37|\n",
            "|  2|   Seven Nation Army|             76|          231733|           0.00817kg|          0.737mol/L|             0.463|               0.447| 0.0|              0.255|-7.8279999999999985|         1|              0.0792|123.881|             4|             0.324|\n",
            "|  3|          By The Way|             74|          216933|            0.0264kg|          0.451mol/L|              0.97|             0.00355| 0.0|              0.102|             -4.938|         1|               0.107|122.444|             4|             0.198|\n",
            "|  4|   How You Remind Me|             56|          223826|          0.000954kg|          0.447mol/L|0.7659999999999999|                 0.0|10.0|              0.113|             -5.065|         1|              0.0313|172.011|             4|             0.574|\n",
            "|  5|    Bring Me To Life|             80|          235893|           0.00895kg|          0.316mol/L|             0.945|            1.85e-06| 4.0|              0.396|             -3.169|         0|               0.124|189.931|             4|              0.32|\n",
            "|  6|         Last Resort|             81|          199893|          0.000504kg|          0.581mol/L|             0.887|             0.00111| 4.0|              0.268|             -3.659|         0|              0.0624| 90.578|             4|0.7240000000000001|\n",
            "|  7|Are You Gonna Be ...|             76|          213800|           0.00148kg|          0.613mol/L|             0.953|            0.000582| 2.0|              0.152|             -3.435|         1|              0.0855|105.046|             4|             0.537|\n",
            "|  8|      Mr. Brightside|             80|          222586|           0.00108kg|           0.33mol/L|             0.936|                 0.0| 1.0|             0.0926|              -3.66|         1|              0.0917|148.112|             4|             0.234|\n",
            "|  9|         Sex on Fire|             81|          203346|           0.00172kg|          0.542mol/L|             0.905|              0.0104| 9.0|              0.136|             -5.653|         1|0.054000000000000006|153.398|             4|             0.374|\n",
            "| 10|          The Middle|             78|          168253|            0.0424kg|          0.629mol/L|             0.897|                 0.0| 2.0|              0.263|             -3.401|         1|              0.0483|161.944|             4|              0.93|\n",
            "| 11|                Numb|             63|          185586|            0.0046kg|          0.496mol/L|             0.863|                 0.0| 9.0|              0.639|-4.1530000000000005|         1|              0.0381|110.018|             4|             0.243|\n",
            "| 12|     Smooth Criminal|             75|          209266|           0.00434kg|          0.647mol/L|             0.964|              0.0036| 9.0|               0.15|             -4.225|         0|                0.06|126.942|             4|             0.875|\n",
            "| 13|          Can't Stop|             81|          269000|            0.0179kg|          0.618mol/L|             0.938|                 0.0| 9.0|0.16699999999999998|             -3.442|         1|              0.0456| 91.455|             4|             0.875|\n",
            "| 14|          Chop Suey!|             69|          210240|          0.000353kg|           0.42mol/L|             0.929|0.000746999999999...| 7.0|              0.122|             -3.899|         0|               0.121|127.204|             4|               0.3|\n",
            "| 15|         Take Me Out|             77|          237026|          0.000423kg|          0.278mol/L|0.6759999999999999|0.000899000000000...| 9.0|              0.136|             -8.821|         1|              0.0371|104.545|             4|             0.494|\n",
            "| 16|          I Miss You|             71|          227240|           0.00136kg|          0.659mol/L|             0.778|            6.79e-06|11.0|             0.0841| -6.422999999999999|         1|              0.0379|110.022|             4|             0.623|\n",
            "| 17|         Best of You|             62|          256600|           0.00701kg|           0.37mol/L|             0.944|             2.9e-06| 1.0|              0.135|             -4.979|         0|              0.0767|130.315|             4|             0.345|\n",
            "| 18|I Write Sins Not ...|             77|          187613|            0.0938kg|0.567000000000000...|             0.795|                 0.0| 9.0|              0.114|             -4.985|         0|               0.134| 170.06|             4|             0.635|\n",
            "| 19|          Kryptonite|             79|          233933|0.006640000000000...|          0.545mol/L|             0.865|            1.12e-05|11.0|              0.168| -5.707999999999998|         0|              0.0286|  99.01|             4|0.5429999999999999|\n",
            "+---+--------------------+---------------+----------------+--------------------+--------------------+------------------+--------------------+----+-------------------+-------------------+----------+--------------------+-------+--------------+------------------+\n",
            "only showing top 20 rows\n",
            "\n"
          ]
        }
      ]
    },
    {
      "cell_type": "markdown",
      "source": [
        "#spark e sql"
      ],
      "metadata": {
        "id": "rF0qZ0KtY_SK"
      }
    },
    {
      "cell_type": "code",
      "source": [
        "spark.sql('show databases').show()"
      ],
      "metadata": {
        "colab": {
          "base_uri": "https://localhost:8080/"
        },
        "id": "-nfzh4kbUnfm",
        "outputId": "fac8650c-de67-458f-f912-49fd6d8371ec"
      },
      "execution_count": null,
      "outputs": [
        {
          "output_type": "stream",
          "name": "stdout",
          "text": [
            "+---------+\n",
            "|namespace|\n",
            "+---------+\n",
            "|  default|\n",
            "+---------+\n",
            "\n"
          ]
        }
      ]
    },
    {
      "cell_type": "markdown",
      "source": [
        "#toda vez que eu quiser utilizar o sql no spark usamos o sql;\n",
        "\n",
        "todos os comandos () e dentro das ' ' são os comandos do sql (:;"
      ],
      "metadata": {
        "id": "1TILv3V4Uw-l"
      }
    },
    {
      "cell_type": "code",
      "source": [
        "spark.sql('create database aula_sparkSQL').show()"
      ],
      "metadata": {
        "colab": {
          "base_uri": "https://localhost:8080/"
        },
        "id": "KmUQwdlCUttv",
        "outputId": "ca62acaf-671c-4a60-eaed-6eb62b6be328"
      },
      "execution_count": null,
      "outputs": [
        {
          "output_type": "stream",
          "name": "stdout",
          "text": [
            "++\n",
            "||\n",
            "++\n",
            "++\n",
            "\n"
          ]
        }
      ]
    },
    {
      "cell_type": "code",
      "source": [
        "spark.sql('show databases').show()"
      ],
      "metadata": {
        "colab": {
          "base_uri": "https://localhost:8080/"
        },
        "id": "vPc706RSVHhk",
        "outputId": "efa33bcf-d078-4f31-c458-d583ad28afce"
      },
      "execution_count": null,
      "outputs": [
        {
          "output_type": "stream",
          "name": "stdout",
          "text": [
            "+-------------+\n",
            "|    namespace|\n",
            "+-------------+\n",
            "|aula_sparksql|\n",
            "|      default|\n",
            "+-------------+\n",
            "\n"
          ]
        }
      ]
    },
    {
      "cell_type": "markdown",
      "source": [],
      "metadata": {
        "id": "3w3Y7l0QYm3T"
      }
    },
    {
      "cell_type": "code",
      "source": [
        "spark.sql('use aula_sparksql')"
      ],
      "metadata": {
        "colab": {
          "base_uri": "https://localhost:8080/"
        },
        "id": "Y1J_m0FAVKhN",
        "outputId": "f287f072-f956-45de-fe25-c3cd83c4bcb5"
      },
      "execution_count": null,
      "outputs": [
        {
          "output_type": "execute_result",
          "data": {
            "text/plain": [
              "DataFrame[]"
            ]
          },
          "metadata": {},
          "execution_count": 9
        }
      ]
    },
    {
      "cell_type": "code",
      "source": [
        "spark.sql('show tables').show()"
      ],
      "metadata": {
        "colab": {
          "base_uri": "https://localhost:8080/"
        },
        "id": "c3cX8SprVbFW",
        "outputId": "369edf50-6934-41b1-bee6-7bb064333477"
      },
      "execution_count": null,
      "outputs": [
        {
          "output_type": "stream",
          "name": "stdout",
          "text": [
            "+---------+---------+-----------+\n",
            "|namespace|tableName|isTemporary|\n",
            "+---------+---------+-----------+\n",
            "+---------+---------+-----------+\n",
            "\n"
          ]
        }
      ]
    },
    {
      "cell_type": "markdown",
      "source": [
        "#escrever uma nova tabela e salvar;\n",
        "\n",
        "dentro do parenstes é o nome da tabela ;\n"
      ],
      "metadata": {
        "id": "zatRo2QtVxnb"
      }
    },
    {
      "cell_type": "code",
      "source": [
        "df.write.saveAsTable('spotify')"
      ],
      "metadata": {
        "id": "6H0-JT7uVqlg"
      },
      "execution_count": null,
      "outputs": []
    },
    {
      "cell_type": "markdown",
      "source": [
        "ver se deu certo;"
      ],
      "metadata": {
        "id": "no97b2esWSqT"
      }
    },
    {
      "cell_type": "code",
      "source": [
        "spark.sql('show tables').show()"
      ],
      "metadata": {
        "colab": {
          "base_uri": "https://localhost:8080/"
        },
        "id": "3h7djqbDWH_M",
        "outputId": "1c0a47d7-20de-487c-851f-2514edc66180"
      },
      "execution_count": null,
      "outputs": [
        {
          "output_type": "stream",
          "name": "stdout",
          "text": [
            "+-------------+---------+-----------+\n",
            "|    namespace|tableName|isTemporary|\n",
            "+-------------+---------+-----------+\n",
            "|aula_sparksql|  spotify|      false|\n",
            "+-------------+---------+-----------+\n",
            "\n"
          ]
        }
      ]
    },
    {
      "cell_type": "markdown",
      "source": [
        "mostrar a tabela; "
      ],
      "metadata": {
        "id": "_UOLu2YLWWdk"
      }
    },
    {
      "cell_type": "code",
      "source": [
        "spark.sql('select * from spotify').show()"
      ],
      "metadata": {
        "colab": {
          "base_uri": "https://localhost:8080/"
        },
        "id": "lAjIpfOFWPCG",
        "outputId": "644b3650-a2db-4f8f-e881-03f2241708ec"
      },
      "execution_count": null,
      "outputs": [
        {
          "output_type": "stream",
          "name": "stdout",
          "text": [
            "+---+--------------------+---------------+----------------+--------------------+--------------------+------------------+--------------------+----+-------------------+-------------------+----------+--------------------+-------+--------------+------------------+\n",
            "|_c0|           song_name|song_popularity|song_duration_ms|        acousticness|        danceability|            energy|    instrumentalness| key|           liveness|           loudness|audio_mode|         speechiness|  tempo|time_signature|     audio_valence|\n",
            "+---+--------------------+---------------+----------------+--------------------+--------------------+------------------+--------------------+----+-------------------+-------------------+----------+--------------------+-------+--------------+------------------+\n",
            "|  0|Boulevard of Brok...|             73|          262333|0.005520000000000...|          0.496mol/L|             0.682|            2.94e-05| 8.0|             0.0589|             -4.095|         1|              0.0294| 167.06|             4|             0.474|\n",
            "|  1|          In The End|             66|          216933|            0.0103kg|          0.542mol/L|             0.853|                 0.0| 3.0|              0.108|             -6.407|         0|              0.0498|105.256|             4|              0.37|\n",
            "|  2|   Seven Nation Army|             76|          231733|           0.00817kg|          0.737mol/L|             0.463|               0.447| 0.0|              0.255|-7.8279999999999985|         1|              0.0792|123.881|             4|             0.324|\n",
            "|  3|          By The Way|             74|          216933|            0.0264kg|          0.451mol/L|              0.97|             0.00355| 0.0|              0.102|             -4.938|         1|               0.107|122.444|             4|             0.198|\n",
            "|  4|   How You Remind Me|             56|          223826|          0.000954kg|          0.447mol/L|0.7659999999999999|                 0.0|10.0|              0.113|             -5.065|         1|              0.0313|172.011|             4|             0.574|\n",
            "|  5|    Bring Me To Life|             80|          235893|           0.00895kg|          0.316mol/L|             0.945|            1.85e-06| 4.0|              0.396|             -3.169|         0|               0.124|189.931|             4|              0.32|\n",
            "|  6|         Last Resort|             81|          199893|          0.000504kg|          0.581mol/L|             0.887|             0.00111| 4.0|              0.268|             -3.659|         0|              0.0624| 90.578|             4|0.7240000000000001|\n",
            "|  7|Are You Gonna Be ...|             76|          213800|           0.00148kg|          0.613mol/L|             0.953|            0.000582| 2.0|              0.152|             -3.435|         1|              0.0855|105.046|             4|             0.537|\n",
            "|  8|      Mr. Brightside|             80|          222586|           0.00108kg|           0.33mol/L|             0.936|                 0.0| 1.0|             0.0926|              -3.66|         1|              0.0917|148.112|             4|             0.234|\n",
            "|  9|         Sex on Fire|             81|          203346|           0.00172kg|          0.542mol/L|             0.905|              0.0104| 9.0|              0.136|             -5.653|         1|0.054000000000000006|153.398|             4|             0.374|\n",
            "| 10|          The Middle|             78|          168253|            0.0424kg|          0.629mol/L|             0.897|                 0.0| 2.0|              0.263|             -3.401|         1|              0.0483|161.944|             4|              0.93|\n",
            "| 11|                Numb|             63|          185586|            0.0046kg|          0.496mol/L|             0.863|                 0.0| 9.0|              0.639|-4.1530000000000005|         1|              0.0381|110.018|             4|             0.243|\n",
            "| 12|     Smooth Criminal|             75|          209266|           0.00434kg|          0.647mol/L|             0.964|              0.0036| 9.0|               0.15|             -4.225|         0|                0.06|126.942|             4|             0.875|\n",
            "| 13|          Can't Stop|             81|          269000|            0.0179kg|          0.618mol/L|             0.938|                 0.0| 9.0|0.16699999999999998|             -3.442|         1|              0.0456| 91.455|             4|             0.875|\n",
            "| 14|          Chop Suey!|             69|          210240|          0.000353kg|           0.42mol/L|             0.929|0.000746999999999...| 7.0|              0.122|             -3.899|         0|               0.121|127.204|             4|               0.3|\n",
            "| 15|         Take Me Out|             77|          237026|          0.000423kg|          0.278mol/L|0.6759999999999999|0.000899000000000...| 9.0|              0.136|             -8.821|         1|              0.0371|104.545|             4|             0.494|\n",
            "| 16|          I Miss You|             71|          227240|           0.00136kg|          0.659mol/L|             0.778|            6.79e-06|11.0|             0.0841| -6.422999999999999|         1|              0.0379|110.022|             4|             0.623|\n",
            "| 17|         Best of You|             62|          256600|           0.00701kg|           0.37mol/L|             0.944|             2.9e-06| 1.0|              0.135|             -4.979|         0|              0.0767|130.315|             4|             0.345|\n",
            "| 18|I Write Sins Not ...|             77|          187613|            0.0938kg|0.567000000000000...|             0.795|                 0.0| 9.0|              0.114|             -4.985|         0|               0.134| 170.06|             4|             0.635|\n",
            "| 19|          Kryptonite|             79|          233933|0.006640000000000...|          0.545mol/L|             0.865|            1.12e-05|11.0|              0.168| -5.707999999999998|         0|              0.0286|  99.01|             4|0.5429999999999999|\n",
            "+---+--------------------+---------------+----------------+--------------------+--------------------+------------------+--------------------+----+-------------------+-------------------+----------+--------------------+-------+--------------+------------------+\n",
            "only showing top 20 rows\n",
            "\n"
          ]
        }
      ]
    }
  ]
}