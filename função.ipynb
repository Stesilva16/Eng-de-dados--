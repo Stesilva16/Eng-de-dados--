{
  "nbformat": 4,
  "nbformat_minor": 0,
  "metadata": {
    "colab": {
      "provenance": [],
      "include_colab_link": true
    },
    "kernelspec": {
      "name": "python3",
      "display_name": "Python 3"
    },
    "language_info": {
      "name": "python"
    }
  },
  "cells": [
    {
      "cell_type": "markdown",
      "metadata": {
        "id": "view-in-github",
        "colab_type": "text"
      },
      "source": [
        "<a href=\"https://colab.research.google.com/github/Stesilva16/Eng-de-dados--/blob/main/fun%C3%A7%C3%A3o.ipynb\" target=\"_parent\"><img src=\"https://colab.research.google.com/assets/colab-badge.svg\" alt=\"Open In Colab\"/></a>"
      ]
    },
    {
      "cell_type": "code",
      "execution_count": null,
      "metadata": {
        "id": "Hn4ahPxjQErO"
      },
      "outputs": [],
      "source": [
        "\n"
      ]
    },
    {
      "cell_type": "code",
      "source": [
        "#1) Faça um programa, com uma função que necessite de três argumentos, e que forneça a multiplicação desses três argumentos.\n",
        "\n",
        "def mult(num1, num2, num3):\n",
        "  return f' a multiplicação dos {num1} x {num2} x {num1} = {num1*num2*num3}'\n",
        "\n",
        "resul = mult(2, 3, 4)\n",
        "\n",
        "print(resul)"
      ],
      "metadata": {
        "colab": {
          "base_uri": "https://localhost:8080/"
        },
        "id": "6eH3DQFwQX92",
        "outputId": "05685337-7cab-411d-fb57-53d91dbd3854"
      },
      "execution_count": null,
      "outputs": [
        {
          "output_type": "stream",
          "name": "stdout",
          "text": [
            " a multiplicação dos 2 x 3 x 2 = 24\n"
          ]
        }
      ]
    },
    {
      "cell_type": "code",
      "source": [
        "#2) Faça um programa que tenha uma função que necessite de um argumento que receba um número inteiro e imprima na tela a lista de divisores desse número.\n",
        "\n",
        "num_div = []\n",
        "def div (num):\n",
        "  for i in range(1, num +1):\n",
        "    if num % i == 0:\n",
        "      num_div.append(i)\n",
        "  return num_div\n",
        "\n",
        "num = int(input('Digite um numero inteiro: '))\n",
        "\n",
        "div(num)\n"
      ],
      "metadata": {
        "colab": {
          "base_uri": "https://localhost:8080/"
        },
        "id": "irtpEIvlRqH1",
        "outputId": "7fcde2d2-c015-4e75-a848-48734bca6ee4"
      },
      "execution_count": null,
      "outputs": [
        {
          "name": "stdout",
          "output_type": "stream",
          "text": [
            "Digite um numero inteiro: 55\n"
          ]
        },
        {
          "output_type": "execute_result",
          "data": {
            "text/plain": [
              "[1, 5, 11, 55]"
            ]
          },
          "metadata": {},
          "execution_count": 1
        }
      ]
    },
    {
      "cell_type": "code",
      "source": [
        "#3) Faça um programa que receba 3 notas por parâmetros, calcule a media e retorne o valor da média para o programa principal. Em seguida, verifique se o aluno foi aprovado por média. (Média >= 7)\n",
        "\n",
        "def media (num1, num2, num3):\n",
        "  media = (num1 + num2 + num3) /3\n",
        "  return media\n",
        "\n",
        "\n",
        "\n",
        "num1 = float(input('Qual é a nota? '))\n",
        "num2 = float(input('Qual é a nota? '))\n",
        "num3 = float(input('Qual é a nota? '))\n",
        "\n",
        "m = media(num1, num2 , num3)\n",
        "\n",
        "if m >= 7:\n",
        "  print(f'Aluno aprovado com média {m} ')\n",
        "else:\n",
        "  print(f'Aluno não foi aprovado com média {m} ')\n"
      ],
      "metadata": {
        "colab": {
          "base_uri": "https://localhost:8080/"
        },
        "id": "kv2pL1oaTdwW",
        "outputId": "af6d04ed-dd1f-4774-aa94-2c37d70d8f91"
      },
      "execution_count": null,
      "outputs": [
        {
          "output_type": "stream",
          "name": "stdout",
          "text": [
            "Qual é a nota? 8\n",
            "Qual é a nota? 9\n",
            "Qual é a nota? 8\n",
            "Aluno aprovado com média 8.333333333333334 \n"
          ]
        }
      ]
    },
    {
      "cell_type": "code",
      "source": [
        "#4) Faça uma função que recebe, por parâmetro, a altura (alt) e o sexo de uma pessoa e retorna o seu peso ideal. Para homens, calcular o peso ideal usando a fórmula peso ideal = 72.7 x alt - 58 e, para mulheres, peso ideal = 62.1 x alt - 44.7.\n",
        "\n",
        "def peso_ideal( alt, sexo):\n",
        "  if sexo == 'f':\n",
        "    print(f'Seu peso ideal peso ideal {62.1 * alt - 44.7}')\n",
        "  else:\n",
        "    print(f'peso ideal = {72.7 * alt - 58}')\n",
        "\n",
        "sexo = input(f'Qual é o o sexo? ').lower()\n",
        "alt = float(input(f'Qual é a altura? '))\n",
        "\n",
        "peso_ideal(alt,sexo)  \n"
      ],
      "metadata": {
        "colab": {
          "base_uri": "https://localhost:8080/"
        },
        "id": "KnkNUw54h683",
        "outputId": "84dd39bb-8fe3-4926-f3d2-f05df2b9e11e"
      },
      "execution_count": null,
      "outputs": [
        {
          "output_type": "stream",
          "name": "stdout",
          "text": [
            "Qual é o o sexo? m\n",
            "Qual é a altura? 1.75\n",
            "peso ideal = 69.22500000000001\n"
          ]
        }
      ]
    },
    {
      "cell_type": "code",
      "source": [
        "#5) Faça um programa que leia um número n e imprima a seguinte saída na tela:\n",
        "#1 2 2 3 3 3 4 4 4 4 5 5 5 5 5 n n n n n ...... n\n",
        "\n",
        "\n",
        "def leia_num(n):\n",
        "  for i in range(1, n+1):\n",
        "    cont = 1\n",
        "    while True:\n",
        "      print(i, end = ' ')\n",
        "      if cont == i:\n",
        "        break\n",
        "      cont += 1\n",
        "    print()\n",
        "\n",
        "\n",
        "n = int(input('Digite um numero: '))\n",
        "\n",
        "leia_num(n)"
      ],
      "metadata": {
        "colab": {
          "base_uri": "https://localhost:8080/"
        },
        "id": "yURMZBu5h8d8",
        "outputId": "f5718f90-32ec-4829-b72c-0bc0139f7298"
      },
      "execution_count": null,
      "outputs": [
        {
          "output_type": "stream",
          "name": "stdout",
          "text": [
            "Digite um numero: 5\n",
            "1 \n",
            "2 2 \n",
            "3 3 3 \n",
            "4 4 4 4 \n",
            "5 5 5 5 5 \n"
          ]
        }
      ]
    },
    {
      "cell_type": "code",
      "source": [
        "#6) Faça um programa que leia um número n e imprima a seguinte saída na tela:\n",
        "#1 1 2 1 2 3 1 2 3 4 1 2 3 4 5 n n n n n ...... n\n",
        "\n",
        "def leia_num2(n):\n",
        "  for i in range(1, n+1):\n",
        "    for x in range(1, i+1):\n",
        "        print(x, end = ' ')\n",
        "    print()\n",
        "\n",
        "\n",
        "n = int(input('Digite um numero: '))\n",
        "leia_num2(n)"
      ],
      "metadata": {
        "colab": {
          "base_uri": "https://localhost:8080/"
        },
        "id": "okC2ldt-iC6P",
        "outputId": "9635503c-a611-4c50-8b86-e2c27f6661a1"
      },
      "execution_count": null,
      "outputs": [
        {
          "output_type": "stream",
          "name": "stdout",
          "text": [
            "Digite um numero: 3\n",
            "1 \n",
            "1 2 \n",
            "1 2 3 \n"
          ]
        }
      ]
    },
    {
      "cell_type": "code",
      "source": [
        "#7) Faça um programa que use a função valorPagamento para determinar o valor a ser pago por uma prestação de uma conta. O programa deverá solicitar ao usuário o valor da prestação e o número de dias em atraso e passar estes valores para a função valorPagamento, que calculará o valor a ser pago e devolverá este valor ao programa que a chamou. O programa deverá então exibir o valor a ser pago na tela. Após a execução o programa deverá voltar a pedir outro valor de prestação e assim continuar até que seja informado um valor igual a zero para a prestação. Neste momento o programa deverá ser encerrado, exibindo o relatório do dia, que conterá a quantidade e o valor total de prestações pagas no dia. O cálculo do valor a ser pago é feito da seguinte forma. Para pagamentos sem atraso, cobrar o valor da prestação. Quando houver atraso, cobrar 3% de multa, mais 0,1% de juros por dia de atraso.\n",
        "def valorPagamento(vp, da):\n",
        "\n",
        "        if da < 1:\n",
        "\n",
        "                valor = vp\n",
        "\n",
        "                print(valor)\n",
        "\n",
        "                return valor\n",
        "\n",
        "        else:\n",
        "\n",
        "                valor = (vp + vp * 0.03 + 0.01 * da)\n",
        "\n",
        "                print(valor)\n",
        "\n",
        "                return valor\n",
        "\n",
        "valor = []\n",
        "\n",
        "vp = 0\n",
        "\n",
        "da = 0\n",
        "\n",
        "qp = 0\n",
        "\n",
        "valortotal = 0\n",
        "\n",
        "while True:\n",
        "\n",
        "        qp += 1\n",
        "\n",
        "        vp = float(input())\n",
        "\n",
        "        da = int(input())\n",
        "\n",
        "        if vp == 0:\n",
        "\n",
        "                break\n",
        "\n",
        "        valor.append(valorPagamento(vp, da))\n",
        "\n",
        "qp -= 1\n",
        "\n",
        "for i in range(qp):\n",
        "\n",
        "    valortotal += valor[i]\n",
        "\n",
        "print(qp, valor)\n",
        "\n",
        "print(valortotal)\n",
        "\n",
        "def main():\n",
        "\n",
        "    valor = float(input())\n",
        "\n",
        "    dias = int(input())\n",
        "\n",
        "    print(valorPagamento(valor,dias))\n",
        "\n",
        "main()\n",
        "\n"
      ],
      "metadata": {
        "id": "VHX8sGJDw9tI"
      },
      "execution_count": null,
      "outputs": []
    },
    {
      "cell_type": "code",
      "source": [
        "def main( ):\n",
        "\tv = float(input(\"Valor: \"))\n",
        "\td = int(input(\"Dias: \"))\n",
        "\tprint(f\"O valor total a ser pago será R${payValue(v, d)}\")\n",
        "\t\n",
        "def payValue(vp, da):\n",
        "\tprest = vp\n",
        "\tif da == 0:\n",
        "\t\treturn prest\n",
        "\telse:\n",
        "\t\tdia_atr = da\n",
        "\t\tmt = prest * 0.03 #valor da multa\n",
        "\t\tjr_atr = (dia_atr * (0.1/100)) * prest #valor juros/dia\n",
        "\t\ttot = prest + mt + jr_atr\n",
        "\t\treturn tot\n",
        "\t\t\n",
        "main( )"
      ],
      "metadata": {
        "id": "oyaSH6ox8VED",
        "colab": {
          "base_uri": "https://localhost:8080/"
        },
        "outputId": "b7ac95e0-ee8d-4c08-da74-64837049fad7"
      },
      "execution_count": null,
      "outputs": [
        {
          "output_type": "stream",
          "name": "stdout",
          "text": [
            "Valor: 100\n",
            "Dias: 5\n",
            "O valor total a ser pago será R$103.5\n"
          ]
        }
      ]
    },
    {
      "cell_type": "code",
      "source": [
        "#1) As maçãs custam R 0,30cadaseforemcompradasmenosdoqueumadúzia,eR 0,25 se forem compradas pelo menos doze. Escreva um programa que leia o número de maçãs compradas, calcule e escreva o valor total da compra.\n",
        "\n",
        "2) Escreva um programa para ler 3 valores inteiros (considere que não serão lidos valores iguais) e escrevê-los em ordem crescente.\n",
        "\n",
        "3) Escreva um programa para ler 20 valores inteiros e escrever o maior deles. Considere que o usuário não informará valores iguais.\n",
        "\n",
        "#4) Faça um programa que peça ao usuário um número entre 12 e 20. Se a pessoa digitar um número diferente, mostrar a mensagem \"entrada inválida\" e solicitar o número novamente. Se digitar correto mostrar o número digitado.\n",
        "\n",
        "5) Crie um programa que leia um número do teclado até que encontre um número igual a zero. No final, mostre a soma dos números digitados\n",
        "\n",
        "#6) Faça um programa que receba dois números inteiros e gere os números inteiros que estão no intervalo compreendido por eles.\n",
        "\n",
        "7) Foi feita uma pesquisa entre os habitantes de uma região. Foram coletados os dados de idade, sexo (M/F) e salário. Faça um programa que calcule e mostre:\n",
        "\n",
        "a) A média dos salários do grupo; b) A maior e a menor idade do grupo; c) A quantidade de mulheres na região; d) A idade e o sexo da pessoa que possui o menor salário;\n",
        "\n",
        "Finalize a entrada de dados ao ser digitada uma idade negativa.\n",
        "\n",
        "8) Faça um programa que peça para n pessoas a sua idade, ao final o programa deverá verificar se a média de idade da turma varia entre 0 e 25,26 e 60 e maior que 60; e então, dizer se a turma é jovem, adulta ou idosa, conforme a média calculada\n",
        "\n",
        "9) Faça um Programa que leia uma lista de 10 caracteres, e diga quantas consoantes foram lidas. Imprima as consoantes.\n",
        "\n",
        "10) Faça um Programa que leia dois lista com 10 elementos cada. Gere um terceiro lista de 20 elementos, cujos valores deverão ser compostos pelos elementos intercalados das duas outras listas."
      ],
      "metadata": {
        "id": "jlfJsAwBqTTr"
      },
      "execution_count": null,
      "outputs": []
    },
    {
      "cell_type": "code",
      "source": [
        "#1) As maçãs custam R 0,30cadaseforemcompradasmenosdoqueumadúzia,eR 0,25 se forem compradas pelo menos doze. \n",
        "#Escreva um programa que leia o número de maçãs compradas, calcule e escreva o valor total da compra.\n",
        "\n",
        "qtd_maca = int(input('Quantas maças você comprou? '))\n",
        "\n",
        "for i in range(qtd_maca):\n",
        "  if qtd_maca >= 12:\n",
        "    valor = qtd_maca * 0.25\n",
        "  else:\n",
        "    valor = qtd_maca * 0.30\n",
        "\n",
        "print(f'Você comprou {n} maçãs e o valor total R$ {valor}')\n"
      ],
      "metadata": {
        "colab": {
          "base_uri": "https://localhost:8080/"
        },
        "id": "SHFzXdhHqqAg",
        "outputId": "7b065f6a-2930-41d1-bfac-e6aa0ef72794"
      },
      "execution_count": null,
      "outputs": [
        {
          "output_type": "stream",
          "name": "stdout",
          "text": [
            "Quantas maças você comprou? 12\n",
            "Você comprou 5 maçãs e o valor total R$ 3.0\n"
          ]
        }
      ]
    },
    {
      "cell_type": "code",
      "source": [
        "#2) Escreva um programa para ler 3 valores inteiros (considere que não serão lidos valores iguais) e escrevê-los em ordem crescente.\n",
        "\n",
        "lista = []\n",
        "\n",
        "for i in range(3):\n",
        "  num = int(input(f'Digite um numero {i+1}º inteiro: '))\n",
        "  while True:\n",
        "    num = int(input(f'Digite um numero {i+1}º inteiro: '))\n",
        "  if num(i)!= num:\n",
        "    break\n",
        "  lista.append(num)\n",
        "XXx"
      ],
      "metadata": {
        "id": "cRwa1RtUxclz"
      },
      "execution_count": null,
      "outputs": []
    },
    {
      "cell_type": "code",
      "source": [
        "#3) Escreva um programa para ler 20 valores inteiros e escrever o maior deles. Considere que o usuário não informará valores iguais.\n"
      ],
      "metadata": {
        "id": "kutv3daOxe9J"
      },
      "execution_count": null,
      "outputs": []
    },
    {
      "cell_type": "code",
      "source": [
        "#4) Faça um programa que peça ao usuário um número entre 12 e 20. \n",
        "#Se a pessoa digitar um número diferente, mostrar a mensagem \"entrada inválida\" e solicitar o número novamente. Se digitar correto mostrar o número digitado.\n",
        "\n",
        "num = int(input(' Digite um numero entre 12 e 20 :'))\n",
        "while True:\n",
        "  if num < 12 or num > 20:\n",
        "    print('Entrada Invalida!')\n",
        "    num = int(input(' Digite um numero entre 12 e 20 :'))\n",
        "  else:\n",
        "    break\n",
        "\n",
        "print(f'O numero digitado foi {num}')\n",
        "\n"
      ],
      "metadata": {
        "colab": {
          "base_uri": "https://localhost:8080/"
        },
        "id": "XXBK-3Un1fDx",
        "outputId": "f9d76851-4115-423a-ff7c-9d2eecb6fafa"
      },
      "execution_count": null,
      "outputs": [
        {
          "output_type": "stream",
          "name": "stdout",
          "text": [
            " Digite um numero entre 12 e 20 :25\n",
            "Entrada Invalida!\n",
            " Digite um numero entre 12 e 20 :25\n",
            "Entrada Invalida!\n",
            " Digite um numero entre 12 e 20 :25\n",
            "Entrada Invalida!\n",
            " Digite um numero entre 12 e 20 :25\n",
            "Entrada Invalida!\n",
            " Digite um numero entre 12 e 20 :8\n",
            "Entrada Invalida!\n",
            " Digite um numero entre 12 e 20 :8\n",
            "Entrada Invalida!\n",
            " Digite um numero entre 12 e 20 :8\n",
            "Entrada Invalida!\n",
            " Digite um numero entre 12 e 20 :10\n",
            "Entrada Invalida!\n",
            " Digite um numero entre 12 e 20 :15\n",
            "O numero digitado foi 15\n"
          ]
        }
      ]
    },
    {
      "cell_type": "code",
      "source": [
        "#5) Crie um programa que leia um número do teclado até que encontre um número igual a zero. \n",
        "#No final, mostre a soma dos números digitados\n",
        "\n",
        "lista = []\n",
        "\n",
        "numero = lista.append(int(input('Digite um numero inteiro:')))\n",
        "\n",
        "while True:\n",
        "  if numero != 0:\n",
        "    numero = lista.append(int(input('Digite um numero inteiro:')))\n",
        "  else:\n",
        "    break\n",
        "    \n",
        "\n",
        "#soma = 0\n",
        "#for x in lista:\n",
        "#  soma+= x\n",
        "\n",
        "#print(f'A soma {soma}')\n"
      ],
      "metadata": {
        "id": "J9cj5A-Y9aLF"
      },
      "execution_count": null,
      "outputs": []
    },
    {
      "cell_type": "code",
      "source": [
        "#6) Faça um programa que receba dois números inteiros e gere os números inteiros que estão no intervalo compreendido por eles.\n",
        "\n",
        "num1 = int(input('Digite um número 1 inteiro: '))\n",
        "num2 = int(input('Digite um número 2 inteiro: '))\n",
        "\n",
        "if num1 > num2: \n",
        "  soma = 0\n",
        "  for i in range(num2, num1+1,):\n",
        "    print(i, end = ', ')\n",
        "    soma += 1\n",
        "if num1 < num2: \n",
        "  soma = 0\n",
        "  for i in range(num1, num2+1,):\n",
        "    print(i, end = ', ')\n",
        "    soma += 1\n",
        "\n",
        "  \n"
      ],
      "metadata": {
        "colab": {
          "base_uri": "https://localhost:8080/"
        },
        "id": "Im_KUjN2Bs8D",
        "outputId": "10d60131-0859-4a54-ca13-458037678547"
      },
      "execution_count": null,
      "outputs": [
        {
          "output_type": "stream",
          "name": "stdout",
          "text": [
            "Digite um número 1 inteiro: 1\n",
            "Digite um número 2 inteiro: 10\n",
            "1, 2, 3, 4, 5, 6, 7, 8, 9, 10, "
          ]
        }
      ]
    }
  ]
}