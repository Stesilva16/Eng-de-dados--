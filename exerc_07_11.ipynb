{
  "nbformat": 4,
  "nbformat_minor": 0,
  "metadata": {
    "colab": {
      "provenance": [],
      "include_colab_link": true
    },
    "kernelspec": {
      "name": "python3",
      "display_name": "Python 3"
    },
    "language_info": {
      "name": "python"
    }
  },
  "cells": [
    {
      "cell_type": "markdown",
      "metadata": {
        "id": "view-in-github",
        "colab_type": "text"
      },
      "source": [
        "<a href=\"https://colab.research.google.com/github/Stesilva16/Eng-de-dados--/blob/main/exerc_07_11.ipynb\" target=\"_parent\"><img src=\"https://colab.research.google.com/assets/colab-badge.svg\" alt=\"Open In Colab\"/></a>"
      ]
    },
    {
      "cell_type": "code",
      "execution_count": null,
      "metadata": {
        "colab": {
          "base_uri": "https://localhost:8080/"
        },
        "id": "PK-dbhh_-yra",
        "outputId": "5a8b409d-ac6c-4d21-cadb-957e6e23c981"
      },
      "outputs": [
        {
          "output_type": "stream",
          "name": "stdout",
          "text": [
            "Digite o seu nome:Ste\n",
            "Digite o primeiro número: 1\n",
            "Digite o segundo número: 2\n",
            "Ste\n",
            "3\n"
          ]
        }
      ],
      "source": [
        "#Faça um programa que Leia um nome e dois numeros\n",
        "#E Imprima na Tela o nome Lido e a Soma dos dois\n",
        "\n",
        "nome = input('Digite o seu nome:')\n",
        "num1 = int(input('Digite o primeiro número: '))\n",
        "num2 = int(input('Digite o segundo número: '))\n",
        "soma = num1 + num2\n",
        "\n",
        "print(nome)\n",
        "print(soma)"
      ]
    },
    {
      "cell_type": "code",
      "source": [],
      "metadata": {
        "id": "zWIAa5p3_kb-"
      },
      "execution_count": null,
      "outputs": []
    },
    {
      "cell_type": "code",
      "source": [
        "#Faça Um programa que leia dois numeros e Exiba na Tela o Produtos deles\n",
        "\n",
        "num1 = int(input('Digite o primeiro número: '))\n",
        "num2 = int(input('Digite o segundo número: '))\n",
        "prod = num1 * num2\n",
        "\n",
        "print('O Produtos da multiplicação dos numeros:', prod)"
      ],
      "metadata": {
        "colab": {
          "base_uri": "https://localhost:8080/"
        },
        "id": "-3uds4Ka-35R",
        "outputId": "ac878c70-43cc-4bc8-bce3-ec03bbf8acf5"
      },
      "execution_count": null,
      "outputs": [
        {
          "output_type": "stream",
          "name": "stdout",
          "text": [
            "Digite o primeiro número: 5\n",
            "Digite o segundo número: 2\n",
            "O Produtos da multiplicação dos numeros: 10\n"
          ]
        }
      ]
    },
    {
      "cell_type": "code",
      "source": [
        "# Faça um algoritimo que leia um numero inteiro e diga se ele é maior, menor ou igual a 10:\n",
        "\n",
        "num = int(input('Digite o primeiro número: '))\n",
        "\n",
        "\n",
        "if num == 10:\n",
        "  print('Esse numero é igual a 10!')\n",
        "if num < 10:\n",
        "  print('Esse numero é menor que 10')\n",
        "if num > 10:\n",
        "  print('Esse numero é maior que 10')\n",
        "  "
      ],
      "metadata": {
        "id": "agD6grid_FRf"
      },
      "execution_count": null,
      "outputs": []
    },
    {
      "cell_type": "code",
      "source": [
        "# faça um programa que leia dois numeros diferentes e print o maior \n",
        "\n",
        "num1 = int(input('Digite o primeiro número: '))\n",
        "num2 = int(input('Digite o segundo número: '))\n",
        "\n",
        "if num1 > num2:\n",
        "  print(num1, 'é maior que o numero', num2)\n",
        "else:\n",
        "  print(num2,'é maior que o numero', num1 )\n",
        "  \n"
      ],
      "metadata": {
        "colab": {
          "base_uri": "https://localhost:8080/"
        },
        "id": "23VAn4gFdhCD",
        "outputId": "c8a04690-e013-471d-e797-b76c8a3efd4a"
      },
      "execution_count": null,
      "outputs": [
        {
          "output_type": "stream",
          "name": "stdout",
          "text": [
            "Digite o primeiro número: 5\n",
            "Digite o segundo número: 8\n",
            "8 é maior que o numero 5\n"
          ]
        }
      ]
    },
    {
      "cell_type": "markdown",
      "source": [],
      "metadata": {
        "id": "PvDJHYBzUuSv"
      }
    },
    {
      "cell_type": "code",
      "source": [
        "0# Faça um programa que leia dois floats e calcule 4 operçãoes basicas\n",
        "\n",
        "num1 = float(input('Digite o primeiro número: '))\n",
        "num2 = float(input('Digite o segundo número: '))\n",
        "soma = num1 + num2\n",
        "sub = num1 - num2\n",
        "mult = num1 * num2\n",
        "\n",
        "print('O resultados das operações entre os dois numeros são: Soma :', soma, ', Subtração: ' , sub, 'e a  Multiplicação: ', mult)\n",
        "\n",
        "if num2 ==0:\n",
        "  print('Não é possivel fazer a divisão por 0!')\n",
        "else:\n",
        "  print('a Divisão: ',  num1 / num2)"
      ],
      "metadata": {
        "colab": {
          "base_uri": "https://localhost:8080/"
        },
        "id": "piNDidMJen9c",
        "outputId": "d86b65a7-ee2b-41b3-eb86-193cf4578321"
      },
      "execution_count": null,
      "outputs": [
        {
          "output_type": "stream",
          "name": "stdout",
          "text": [
            "Digite o primeiro número: 5\n",
            "Digite o segundo número: 1\n",
            "O resultados das operações entre os dois numeros são: Soma : 6.0 , Subtração:  4.0 e a  Multiplicação:  5.0\n",
            "a Divisão:  5.0\n"
          ]
        }
      ]
    },
    {
      "cell_type": "code",
      "source": [
        "#faça um programa que leia o numero inteiro e diga se é par ou impar\n",
        "\n",
        "num = int(input('Digite um número inteiro: '))\n",
        "\n",
        "\n",
        "if (num % 2) == 0:\n",
        "  print('Esse numero é Par!')\n",
        "else:\n",
        "  print('Esse numero é Impar!')\n"
      ],
      "metadata": {
        "colab": {
          "base_uri": "https://localhost:8080/"
        },
        "id": "iOk_2l6YgnsV",
        "outputId": "c9847c2a-ea7a-461d-c0e1-d263461d9aad"
      },
      "execution_count": null,
      "outputs": [
        {
          "output_type": "stream",
          "name": "stdout",
          "text": [
            "Digite um número inteiro: 0\n",
            "Esse numero é Par!\n"
          ]
        }
      ]
    },
    {
      "cell_type": "code",
      "source": [],
      "metadata": {
        "id": "r7WgoLpRz5qR"
      },
      "execution_count": null,
      "outputs": []
    },
    {
      "cell_type": "markdown",
      "source": [],
      "metadata": {
        "id": "sxJ0OgOZhNps"
      }
    }
  ]
}