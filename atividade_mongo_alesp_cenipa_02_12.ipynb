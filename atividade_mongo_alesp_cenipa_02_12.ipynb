{
  "nbformat": 4,
  "nbformat_minor": 0,
  "metadata": {
    "colab": {
      "provenance": [],
      "include_colab_link": true
    },
    "kernelspec": {
      "name": "python3",
      "display_name": "Python 3"
    },
    "language_info": {
      "name": "python"
    }
  },
  "cells": [
    {
      "cell_type": "markdown",
      "metadata": {
        "id": "view-in-github",
        "colab_type": "text"
      },
      "source": [
        "<a href=\"https://colab.research.google.com/github/Stesilva16/Eng-de-dados--/blob/main/atividade_mongo_alesp_cenipa_02_12.ipynb\" target=\"_parent\"><img src=\"https://colab.research.google.com/assets/colab-badge.svg\" alt=\"Open In Colab\"/></a>"
      ]
    },
    {
      "cell_type": "code",
      "execution_count": null,
      "metadata": {
        "id": "3JnLwBzY768v"
      },
      "outputs": [],
      "source": [
        "import pymongo\n",
        "from pymongo import MongoClient\n",
        "import pandas as pd\n",
        "import numpy as np"
      ]
    },
    {
      "cell_type": "markdown",
      "source": [
        "conector mongo"
      ],
      "metadata": {
        "id": "16NXkhJdg6AW"
      }
    },
    {
      "cell_type": "code",
      "execution_count": null,
      "metadata": {
        "id": "O3AHrJNK8VbK"
      },
      "outputs": [],
      "source": [
        "uri = \"mongodb+srv://enc02422.5t449hk.mongodb.net/?authSource=%24external&authMechanism=MONGODB-X509&retryWrites=true&w=majority\"\n",
        "client = MongoClient(uri,tls=True,tlsCertificateKeyFile='/content/X509-cert-929144618399453349.pem')\n",
        "\n",
        "db = client['alesp_cadastro_02_12']\n",
        "colecao = db['cadastro_alesp']"
      ]
    },
    {
      "cell_type": "markdown",
      "source": [
        "verificar coleção"
      ],
      "metadata": {
        "id": "YCKDiyuahKjX"
      }
    },
    {
      "cell_type": "code",
      "source": [
        "colecao.count_documents({})"
      ],
      "metadata": {
        "colab": {
          "base_uri": "https://localhost:8080/"
        },
        "id": "WFqPbDw8g0s7",
        "outputId": "4af121ca-ed17-47aa-d872-057481cb8f29"
      },
      "execution_count": null,
      "outputs": [
        {
          "output_type": "execute_result",
          "data": {
            "text/plain": [
              "0"
            ]
          },
          "metadata": {},
          "execution_count": 4
        }
      ]
    },
    {
      "cell_type": "markdown",
      "source": [
        "arquivo cadastro alesp"
      ],
      "metadata": {
        "id": "oLsmXjAwhoGG"
      }
    },
    {
      "cell_type": "code",
      "source": [
        "df1 = pd.read_csv('https://storage.googleapis.com/mongo02-02-22/cadastro_alesp.csv',sep=',')"
      ],
      "metadata": {
        "id": "mkO3lDrphnri"
      },
      "execution_count": null,
      "outputs": []
    },
    {
      "cell_type": "markdown",
      "source": [
        "visualizando df"
      ],
      "metadata": {
        "id": "QQO7U3wyjGBI"
      }
    },
    {
      "cell_type": "code",
      "source": [
        "df1.head(5)"
      ],
      "metadata": {
        "id": "y0Oqg9jsi5AU"
      },
      "execution_count": null,
      "outputs": []
    },
    {
      "cell_type": "markdown",
      "source": [
        "enviar/apontar mongo - dados brutos"
      ],
      "metadata": {
        "id": "tkUk4QOojJN1"
      }
    },
    {
      "cell_type": "code",
      "source": [
        "db2 = client['alesp_cadastro_02_12']\n",
        "cadastro_alesp = db2['cadastro_alesp']\n",
        "cadastro_alesp.count_documents({})"
      ],
      "metadata": {
        "colab": {
          "base_uri": "https://localhost:8080/"
        },
        "id": "kgFdEqHDjJdQ",
        "outputId": "e3a2509f-f3fd-4d23-ce70-a9bb2ce0d390"
      },
      "execution_count": null,
      "outputs": [
        {
          "output_type": "execute_result",
          "data": {
            "text/plain": [
              "0"
            ]
          },
          "metadata": {},
          "execution_count": 16
        }
      ]
    },
    {
      "cell_type": "markdown",
      "source": [
        "envia os dados para o mongo- dados brutos"
      ],
      "metadata": {
        "id": "6_QVmmuYrw3E"
      }
    },
    {
      "cell_type": "code",
      "source": [
        "df_dict = df1.to_dict(\"records\")\n",
        "\n",
        "cadastro_alesp.insert_many(df_dict)"
      ],
      "metadata": {
        "colab": {
          "base_uri": "https://localhost:8080/"
        },
        "id": "U81mr3OKrWZD",
        "outputId": "16aeff0f-2574-43f7-8518-9a012ad33ce4"
      },
      "execution_count": null,
      "outputs": [
        {
          "output_type": "execute_result",
          "data": {
            "text/plain": [
              "<pymongo.results.InsertManyResult at 0x7f5d24d08e80>"
            ]
          },
          "metadata": {},
          "execution_count": 17
        }
      ]
    },
    {
      "cell_type": "markdown",
      "source": [
        "contagem da coleção"
      ],
      "metadata": {
        "id": "dbR3-m-xr8G7"
      }
    },
    {
      "cell_type": "code",
      "source": [
        "cadastro_alesp.count_documents({})"
      ],
      "metadata": {
        "colab": {
          "base_uri": "https://localhost:8080/"
        },
        "id": "2KYndGtqrnxn",
        "outputId": "6673f189-b41e-4c41-f3ac-197633508715"
      },
      "execution_count": null,
      "outputs": [
        {
          "output_type": "execute_result",
          "data": {
            "text/plain": [
              "93"
            ]
          },
          "metadata": {},
          "execution_count": 18
        }
      ]
    },
    {
      "cell_type": "markdown",
      "source": [
        "arquivo ocorrencia"
      ],
      "metadata": {
        "id": "_YWZeVCatUZY"
      }
    },
    {
      "cell_type": "code",
      "source": [
        "df2 = pd.read_csv('https://storage.googleapis.com/mongo02-02-22/ocorrencia.csv',sep=';',encoding = 'ISO-8859-1')"
      ],
      "metadata": {
        "id": "mjVFEIjdthZ7"
      },
      "execution_count": null,
      "outputs": []
    },
    {
      "cell_type": "markdown",
      "source": [
        "verificando"
      ],
      "metadata": {
        "id": "TcaUFVHQuTJs"
      }
    },
    {
      "cell_type": "code",
      "source": [
        "df2.head(5)"
      ],
      "metadata": {
        "id": "TLgcGTGzuTW8"
      },
      "execution_count": null,
      "outputs": []
    },
    {
      "cell_type": "markdown",
      "source": [
        "enviar/apontar mongo - dados brutos"
      ],
      "metadata": {
        "id": "EQE3FqV3udhA"
      }
    },
    {
      "cell_type": "code",
      "source": [
        "db2 = client['cenipa_02_12']\n",
        "ocorrencia_cenipa = db2['ocorrencia_cenipa']\n",
        "ocorrencia_cenipa.count_documents({})"
      ],
      "metadata": {
        "colab": {
          "base_uri": "https://localhost:8080/"
        },
        "id": "q9b0XRNNueSG",
        "outputId": "2c89f876-0ab8-4e8c-b196-90d4789dfde3"
      },
      "execution_count": null,
      "outputs": [
        {
          "output_type": "execute_result",
          "data": {
            "text/plain": [
              "0"
            ]
          },
          "metadata": {},
          "execution_count": 22
        }
      ]
    },
    {
      "cell_type": "markdown",
      "source": [
        "envia os dados para o mongo- dados brutos"
      ],
      "metadata": {
        "id": "A6FO3taiu-66"
      }
    },
    {
      "cell_type": "code",
      "source": [
        "df_dict = df2.to_dict(\"records\")\n",
        "\n",
        "ocorrencia_cenipa.insert_many(df_dict)"
      ],
      "metadata": {
        "colab": {
          "base_uri": "https://localhost:8080/"
        },
        "id": "e0rRiZF-u_KR",
        "outputId": "3c5651c8-e1e1-46ee-a005-d7fdb497da2d"
      },
      "execution_count": null,
      "outputs": [
        {
          "output_type": "execute_result",
          "data": {
            "text/plain": [
              "<pymongo.results.InsertManyResult at 0x7f5d24d08520>"
            ]
          },
          "metadata": {},
          "execution_count": 23
        }
      ]
    },
    {
      "cell_type": "markdown",
      "source": [
        "contagem da coleção"
      ],
      "metadata": {
        "id": "_n32BqSXxmbN"
      }
    },
    {
      "cell_type": "code",
      "source": [
        "ocorrencia_cenipa.count_documents({})"
      ],
      "metadata": {
        "colab": {
          "base_uri": "https://localhost:8080/"
        },
        "id": "ZjRuhIwnxnE5",
        "outputId": "8f4492be-82c9-4bb5-a843-a45f32942db3"
      },
      "execution_count": null,
      "outputs": [
        {
          "output_type": "execute_result",
          "data": {
            "text/plain": [
              "6769"
            ]
          },
          "metadata": {},
          "execution_count": 31
        }
      ]
    },
    {
      "cell_type": "markdown",
      "source": [
        "arquivo  despesa_alesp"
      ],
      "metadata": {
        "id": "5Uy6WcEIwNyN"
      }
    },
    {
      "cell_type": "code",
      "source": [
        "df3 = pd.read_csv('https://storage.googleapis.com/mongo02-02-22/despesa_alesp.csv',sep=',')"
      ],
      "metadata": {
        "id": "Gjd03D8vwXRD"
      },
      "execution_count": null,
      "outputs": []
    },
    {
      "cell_type": "markdown",
      "source": [
        "verificando"
      ],
      "metadata": {
        "id": "B8QrOhZQwlZk"
      }
    },
    {
      "cell_type": "code",
      "source": [
        "df3.head(3)"
      ],
      "metadata": {
        "id": "Lxx8N9lWwpW2"
      },
      "execution_count": null,
      "outputs": []
    },
    {
      "cell_type": "markdown",
      "source": [
        "enviar/apontar mongo - dados brutos"
      ],
      "metadata": {
        "id": "Sj8KXji2wtJd"
      }
    },
    {
      "cell_type": "code",
      "source": [
        "db3 = client['alesp2_02_12']\n",
        "despesa_alesp = db2['despesa_alesp']\n",
        "despesa_alesp.count_documents({})"
      ],
      "metadata": {
        "colab": {
          "base_uri": "https://localhost:8080/"
        },
        "id": "iX8kyaqrwwUQ",
        "outputId": "c4ab71bb-a3e1-4473-9aa3-0ed8526ed5f6"
      },
      "execution_count": null,
      "outputs": [
        {
          "output_type": "execute_result",
          "data": {
            "text/plain": [
              "0"
            ]
          },
          "metadata": {},
          "execution_count": 27
        }
      ]
    },
    {
      "cell_type": "markdown",
      "source": [
        "envia os dados para o mongo- dados brutos"
      ],
      "metadata": {
        "id": "IigxajAkxAlH"
      }
    },
    {
      "cell_type": "code",
      "source": [
        "df_dict = df3.to_dict(\"records\")\n",
        "\n",
        "despesa_alesp.insert_many(df_dict)"
      ],
      "metadata": {
        "colab": {
          "base_uri": "https://localhost:8080/"
        },
        "id": "MwLOll-DxEvQ",
        "outputId": "afc1e80e-2e0e-4ac4-9c70-df560aeea14d"
      },
      "execution_count": null,
      "outputs": [
        {
          "output_type": "execute_result",
          "data": {
            "text/plain": [
              "<pymongo.results.InsertManyResult at 0x7f5d24cba670>"
            ]
          },
          "metadata": {},
          "execution_count": 28
        }
      ]
    },
    {
      "cell_type": "markdown",
      "source": [
        "contagem da coleção"
      ],
      "metadata": {
        "id": "3sBMurOOxbID"
      }
    },
    {
      "cell_type": "code",
      "source": [
        "despesa_alesp.count_documents({})"
      ],
      "metadata": {
        "colab": {
          "base_uri": "https://localhost:8080/"
        },
        "id": "QFJVSu-Sxb3z",
        "outputId": "2caf4a67-96a0-447f-f367-a93aabb9abf8"
      },
      "execution_count": null,
      "outputs": [
        {
          "output_type": "execute_result",
          "data": {
            "text/plain": [
              "118417"
            ]
          },
          "metadata": {},
          "execution_count": 29
        }
      ]
    }
  ]
}