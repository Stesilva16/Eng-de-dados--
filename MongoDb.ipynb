{
  "nbformat": 4,
  "nbformat_minor": 0,
  "metadata": {
    "colab": {
      "provenance": [],
      "include_colab_link": true
    },
    "kernelspec": {
      "name": "python3",
      "display_name": "Python 3"
    },
    "language_info": {
      "name": "python"
    }
  },
  "cells": [
    {
      "cell_type": "markdown",
      "metadata": {
        "id": "view-in-github",
        "colab_type": "text"
      },
      "source": [
        "<a href=\"https://colab.research.google.com/github/Stesilva16/Eng-de-dados--/blob/main/MongoDb.ipynb\" target=\"_parent\"><img src=\"https://colab.research.google.com/assets/colab-badge.svg\" alt=\"Open In Colab\"/></a>"
      ]
    },
    {
      "cell_type": "markdown",
      "source": [
        "#Importar Bibliotecas"
      ],
      "metadata": {
        "id": "8L7buZsm7mAB"
      }
    },
    {
      "cell_type": "code",
      "source": [
        "#pip install pymongo[srv] #caso der algum erro\n",
        "import pymongo\n",
        "from pymongo import MongoClient\n",
        "import numpy as np"
      ],
      "metadata": {
        "id": "8hwZveyg7liK"
      },
      "execution_count": null,
      "outputs": []
    },
    {
      "cell_type": "markdown",
      "source": [
        "#Conector do Mongo Atlas"
      ],
      "metadata": {
        "id": "viPA7MlY70La"
      }
    },
    {
      "cell_type": "code",
      "execution_count": null,
      "metadata": {
        "id": "ou67G_I0calO"
      },
      "outputs": [],
      "source": [
        "uri = \"mongodb+srv://stefany-soulcode.kg0uoaf.mongodb.net/?authSource=%24external&authMechanism=MONGODB-X509&retryWrites=true&w=majority\"\n",
        "client = MongoClient(uri,\n",
        "                     tls=True,\n",
        "                     tlsCertificateKeyFile='/content/certificado_mongodb.pem')\n",
        "db = client['Aula1']\n",
        "colecao = db['primeira']\n",
        "\n",
        "#print(doc_count)"
      ]
    },
    {
      "cell_type": "code",
      "source": [
        "#verificar conexão/Qtd. docuemtnos da coleção ( se é novo tem que estar zerado )\n",
        "colecao.count_documents({})"
      ],
      "metadata": {
        "colab": {
          "base_uri": "https://localhost:8080/"
        },
        "id": "64fD0isU4Evk",
        "outputId": "b980cc5d-1895-4486-909a-9f9e01e20b88"
      },
      "execution_count": null,
      "outputs": [
        {
          "output_type": "execute_result",
          "data": {
            "text/plain": [
              "63"
            ]
          },
          "metadata": {},
          "execution_count": 69
        }
      ]
    },
    {
      "cell_type": "markdown",
      "source": [
        "#Create\n",
        "###popular, de forma atualizada"
      ],
      "metadata": {
        "id": "qhEaFD0BBXsJ"
      }
    },
    {
      "cell_type": "code",
      "source": [
        "colecao.insert_one({'nome':'Igor Godin','idade':33, 'salario': 1200})"
      ],
      "metadata": {
        "colab": {
          "base_uri": "https://localhost:8080/"
        },
        "id": "A9MbgpCeBeaA",
        "outputId": "8e9021ef-38b2-4845-f587-87b12038427b"
      },
      "execution_count": null,
      "outputs": [
        {
          "output_type": "execute_result",
          "data": {
            "text/plain": [
              "<pymongo.results.InsertOneResult at 0x7f068500e490>"
            ]
          },
          "metadata": {},
          "execution_count": 70
        }
      ]
    },
    {
      "cell_type": "code",
      "source": [
        "colecao.insert_many([{'nome':'Franscico Conto','idade':36, 'salario':3500},{'nome':'Alerrandro', 'idade':44, 'salario':1500},{'nome':'Marcia Gomes','idade':33, 'Salario': 1880},{'nome':'Marcia Aurelio','idade':25}])"
      ],
      "metadata": {
        "colab": {
          "base_uri": "https://localhost:8080/"
        },
        "id": "mJM9ypgMN6Fc",
        "outputId": "b36869d0-3873-459c-9ea7-de4233c0b58d"
      },
      "execution_count": null,
      "outputs": [
        {
          "output_type": "execute_result",
          "data": {
            "text/plain": [
              "<pymongo.results.InsertManyResult at 0x7f06858610a0>"
            ]
          },
          "metadata": {},
          "execution_count": 71
        }
      ]
    },
    {
      "cell_type": "code",
      "source": [
        "#Retorna o id\n",
        "dados = {'nome':'Paulo Alura','idade':45}\n",
        "info = colecao.insert_one(dados)\n",
        "print(info.inserted_id)"
      ],
      "metadata": {
        "colab": {
          "base_uri": "https://localhost:8080/"
        },
        "id": "CkmBSviiWDNY",
        "outputId": "b0fcb698-8fba-4e46-a773-b0bc04f194a2"
      },
      "execution_count": null,
      "outputs": [
        {
          "output_type": "stream",
          "name": "stdout",
          "text": [
            "638a0b10c2e873f37dd3a856\n"
          ]
        }
      ]
    },
    {
      "cell_type": "code",
      "source": [
        "n = 10\n",
        "y = 20\n",
        "\n",
        "while n < 50:\n",
        "  dados = {'nome' : ' cliente' + str(y), 'idade':n}\n",
        "  i = colecao.insert_one(dados)\n",
        "  n+=1\n",
        "  y-=1\n",
        "  print(i.inserted_id)"
      ],
      "metadata": {
        "colab": {
          "base_uri": "https://localhost:8080/"
        },
        "id": "-vncDAv7XVxM",
        "outputId": "1a3efdc4-c07e-422a-8653-424848416700"
      },
      "execution_count": null,
      "outputs": [
        {
          "output_type": "stream",
          "name": "stdout",
          "text": [
            "638a0b12c2e873f37dd3a857\n",
            "638a0b12c2e873f37dd3a858\n",
            "638a0b12c2e873f37dd3a859\n",
            "638a0b12c2e873f37dd3a85a\n",
            "638a0b12c2e873f37dd3a85b\n",
            "638a0b12c2e873f37dd3a85c\n",
            "638a0b12c2e873f37dd3a85d\n",
            "638a0b13c2e873f37dd3a85e\n",
            "638a0b13c2e873f37dd3a85f\n",
            "638a0b13c2e873f37dd3a860\n",
            "638a0b13c2e873f37dd3a861\n",
            "638a0b13c2e873f37dd3a862\n",
            "638a0b13c2e873f37dd3a863\n",
            "638a0b13c2e873f37dd3a864\n",
            "638a0b13c2e873f37dd3a865\n",
            "638a0b14c2e873f37dd3a866\n",
            "638a0b14c2e873f37dd3a867\n",
            "638a0b14c2e873f37dd3a868\n",
            "638a0b14c2e873f37dd3a869\n",
            "638a0b14c2e873f37dd3a86a\n",
            "638a0b14c2e873f37dd3a86b\n",
            "638a0b14c2e873f37dd3a86c\n",
            "638a0b14c2e873f37dd3a86d\n",
            "638a0b15c2e873f37dd3a86e\n",
            "638a0b15c2e873f37dd3a86f\n",
            "638a0b15c2e873f37dd3a870\n",
            "638a0b15c2e873f37dd3a871\n",
            "638a0b15c2e873f37dd3a872\n",
            "638a0b15c2e873f37dd3a873\n",
            "638a0b15c2e873f37dd3a874\n",
            "638a0b15c2e873f37dd3a875\n",
            "638a0b16c2e873f37dd3a876\n",
            "638a0b16c2e873f37dd3a877\n",
            "638a0b16c2e873f37dd3a878\n",
            "638a0b16c2e873f37dd3a879\n",
            "638a0b16c2e873f37dd3a87a\n",
            "638a0b16c2e873f37dd3a87b\n",
            "638a0b16c2e873f37dd3a87c\n",
            "638a0b16c2e873f37dd3a87d\n",
            "638a0b16c2e873f37dd3a87e\n"
          ]
        }
      ]
    },
    {
      "cell_type": "markdown",
      "source": [
        "#READ"
      ],
      "metadata": {
        "id": "XORutfnWKNYA"
      }
    },
    {
      "cell_type": "code",
      "source": [
        "#Buscar arquivos em toda a coleção\n",
        "for x in colecao.find():\n",
        "  print(x)"
      ],
      "metadata": {
        "id": "4leeUaR2KQp3",
        "colab": {
          "base_uri": "https://localhost:8080/"
        },
        "outputId": "a5633cd8-43df-4139-8168-e6f181a497fe"
      },
      "execution_count": null,
      "outputs": [
        {
          "output_type": "stream",
          "name": "stdout",
          "text": [
            "{'_id': ObjectId('6389028b91e0366640f4fe30'), 'nome': 'Ste Gracy', 'idade': 28, 'salario': 3500, 'emancipado': 'SIM'}\n",
            "{'_id': ObjectId('6389029b91e0366640f4fe31'), 'nome': 'Gu Meni', 'idade': 33, 'salario': 5500, 'emancipado': 'SIM'}\n",
            "{'_id': ObjectId('638902d691e0366640f4fe32'), 'nome': 'Noah Kg', 'idade': 22, 'salario': 1500, 'emancipado': 'SIM'}\n",
            "{'_id': ObjectId('6389035591e0366640f4fe33'), 'nome': 'Leo Santana', 'idade': 28, 'salario': 1250, 'emancipado': 'SIM'}\n",
            "{'_id': ObjectId('6389036a91e0366640f4fe34'), 'nome': 'lisa', 'idade': 25, 'salario': 1200, 'emancipado': 'SIM'}\n",
            "{'_id': ObjectId('6389052991e0366640f4fe35'), 'nome': 'Suzana', 'idade': 31, 'emancipado': 'SIM'}\n",
            "{'_id': ObjectId('6389052991e0366640f4fe36'), 'nome': 'Ana Paula', 'idade': 26, 'emancipado': 'SIM'}\n",
            "{'_id': ObjectId('638907f491e0366640f4fe37'), 'nome': 'Fe Martins', 'idade': 28, 'salario': 3500, 'Nacionalidade': 'brasileira', 'emancipado': 'SIM'}\n",
            "{'_id': ObjectId('638907f491e0366640f4fe38'), 'nome': 'Maria José', 'idade': 36, 'salario': 1000, 'emancipado': 'SIM'}\n",
            "{'_id': ObjectId('638907f491e0366640f4fe39'), 'nome': 'Joana Freire', 'idade': 45, 'Salario': 880, 'emancipado': 'SIM'}\n",
            "{'_id': ObjectId('63890a9c91e0366640f4fe3a'), 'nome': 'Thiago Martins', 'idade': 38, 'salario': 1500, 'Nacionalidade': 'Uruguai', 'emancipado': 'SIM'}\n",
            "{'_id': ObjectId('63890a9c91e0366640f4fe3b'), 'nome': 'João Marcos', 'idade': 27, 'salario': 4000, 'emancipado': 'SIM'}\n",
            "{'_id': ObjectId('63890a9c91e0366640f4fe3c'), 'nome': 'Mauricio Freire', 'idade': 35, 'Salario': 8280, 'emancipado': 'SIM'}\n",
            "{'_id': ObjectId('63890a9c91e0366640f4fe3d'), 'nome': 'Mauricio Freire', 'idade': 35, 'emancipado': 'SIM'}\n",
            "{'_id': ObjectId('63890b7a91e0366640f4fe3e'), 'nome': 'Richarlison Dutra', 'idade': 26, 'salario': 4500, 'emancipado': 'SIM'}\n",
            "{'_id': ObjectId('63890b7a91e0366640f4fe3f'), 'nome': 'Josef', 'idade': 24, 'salario': 9000, 'nacionalidade': 'Francesa', 'emancipado': 'SIM'}\n",
            "{'_id': ObjectId('63890b7a91e0366640f4fe40'), 'nome': 'Murilo Gomes', 'idade': 33, 'Salario': 1880, 'emancipado': 'SIM'}\n",
            "{'_id': ObjectId('63890b7a91e0366640f4fe41'), 'nome': 'Marcos Aurelio', 'idade': 25, 'emancipado': 'SIM'}\n",
            "{'_id': ObjectId('63890bd591e0366640f4fe42'), 'nome': 'Franscico Conto', 'idade': 36, 'salario': 3500, 'emancipado': 'SIM'}\n",
            "{'_id': ObjectId('63890bd591e0366640f4fe43'), 'nome': 'Alerrandro', 'idade': 44, 'salario': 1500, 'emancipado': 'SIM'}\n",
            "{'_id': ObjectId('63890bd591e0366640f4fe44'), 'nome': 'Marcia Gomes', 'idade': 33, 'Salario': 1880, 'emancipado': 'SIM'}\n",
            "{'_id': ObjectId('63890bd591e0366640f4fe45'), 'nome': 'Marcia Aurelio', 'idade': 25, 'emancipado': 'SIM'}\n",
            "{'_id': ObjectId('63890cc691e0366640f4fe46'), 'nome': 'Paulo Alura', 'idade': 45, 'emancipado': 'SIM'}\n",
            "{'_id': ObjectId('63890ec391e0366640f4fe47'), 'nome': ' cliente20', 'idade': 10, 'emancipado': 'NAO'}\n",
            "{'_id': ObjectId('63890ec391e0366640f4fe48'), 'nome': ' cliente19', 'idade': 11, 'emancipado': 'NAO'}\n",
            "{'_id': ObjectId('63890ec391e0366640f4fe49'), 'nome': ' cliente18', 'idade': 12, 'emancipado': 'NAO'}\n",
            "{'_id': ObjectId('63890ec491e0366640f4fe4a'), 'nome': ' cliente17', 'idade': 13, 'emancipado': 'NAO'}\n",
            "{'_id': ObjectId('63890ec491e0366640f4fe4b'), 'nome': ' cliente16', 'idade': 14, 'emancipado': 'NAO'}\n",
            "{'_id': ObjectId('63890ec491e0366640f4fe4c'), 'nome': ' cliente15', 'idade': 15, 'emancipado': 'NAO'}\n",
            "{'_id': ObjectId('63890ec491e0366640f4fe4d'), 'nome': ' cliente14', 'idade': 16, 'emancipado': 'NAO'}\n",
            "{'_id': ObjectId('63890ec491e0366640f4fe4e'), 'nome': ' cliente13', 'idade': 17, 'emancipado': 'NAO'}\n",
            "{'_id': ObjectId('63890ec491e0366640f4fe4f'), 'nome': ' cliente12', 'idade': 18, 'emancipado': 'SIM'}\n",
            "{'_id': ObjectId('63890ec591e0366640f4fe50'), 'nome': ' cliente11', 'idade': 19, 'emancipado': 'SIM'}\n",
            "{'_id': ObjectId('63890ec591e0366640f4fe51'), 'nome': ' cliente10', 'idade': 20, 'emancipado': 'SIM'}\n",
            "{'_id': ObjectId('63890ec591e0366640f4fe52'), 'nome': ' cliente9', 'idade': 21, 'emancipado': 'SIM'}\n",
            "{'_id': ObjectId('63890ec591e0366640f4fe53'), 'nome': ' cliente8', 'idade': 22, 'emancipado': 'SIM'}\n",
            "{'_id': ObjectId('63890ec591e0366640f4fe54'), 'nome': ' cliente7', 'idade': 23, 'emancipado': 'SIM'}\n",
            "{'_id': ObjectId('63890ec691e0366640f4fe55'), 'nome': ' cliente6', 'idade': 24, 'emancipado': 'SIM'}\n",
            "{'_id': ObjectId('63890ec691e0366640f4fe56'), 'nome': ' cliente5', 'idade': 25, 'emancipado': 'SIM'}\n",
            "{'_id': ObjectId('63890ec691e0366640f4fe57'), 'nome': ' cliente4', 'idade': 26, 'emancipado': 'SIM'}\n",
            "{'_id': ObjectId('63890ec691e0366640f4fe58'), 'nome': ' cliente3', 'idade': 27, 'emancipado': 'SIM'}\n",
            "{'_id': ObjectId('63890ec691e0366640f4fe59'), 'nome': ' cliente2', 'idade': 28, 'emancipado': 'SIM'}\n",
            "{'_id': ObjectId('63890ec691e0366640f4fe5a'), 'nome': ' cliente1', 'idade': 29, 'emancipado': 'SIM'}\n",
            "{'_id': ObjectId('63890ec791e0366640f4fe5b'), 'nome': ' cliente0', 'idade': 30, 'emancipado': 'SIM'}\n",
            "{'_id': ObjectId('63890ec791e0366640f4fe5c'), 'nome': ' cliente-1', 'idade': 31, 'emancipado': 'SIM'}\n",
            "{'_id': ObjectId('63890ec791e0366640f4fe5d'), 'nome': ' cliente-2', 'idade': 32, 'emancipado': 'SIM'}\n",
            "{'_id': ObjectId('63890ec791e0366640f4fe5e'), 'nome': ' cliente-3', 'idade': 33, 'emancipado': 'SIM'}\n",
            "{'_id': ObjectId('63890ec791e0366640f4fe5f'), 'nome': ' cliente-4', 'idade': 34, 'emancipado': 'SIM'}\n",
            "{'_id': ObjectId('63890ec891e0366640f4fe60'), 'nome': ' cliente-5', 'idade': 35, 'emancipado': 'SIM'}\n",
            "{'_id': ObjectId('63890ec891e0366640f4fe61'), 'nome': ' cliente-6', 'idade': 36, 'emancipado': 'SIM'}\n",
            "{'_id': ObjectId('63890ec891e0366640f4fe62'), 'nome': ' cliente-7', 'idade': 37, 'emancipado': 'SIM'}\n",
            "{'_id': ObjectId('63890ec891e0366640f4fe63'), 'nome': ' cliente-8', 'idade': 38, 'emancipado': 'SIM'}\n",
            "{'_id': ObjectId('63890ec891e0366640f4fe64'), 'nome': ' cliente-9', 'idade': 39, 'emancipado': 'SIM'}\n",
            "{'_id': ObjectId('63890ec891e0366640f4fe65'), 'nome': ' cliente-10', 'idade': 40, 'emancipado': 'SIM'}\n",
            "{'_id': ObjectId('63890ec991e0366640f4fe66'), 'nome': ' cliente-11', 'idade': 41, 'emancipado': 'SIM'}\n",
            "{'_id': ObjectId('63890ec991e0366640f4fe67'), 'nome': ' cliente-12', 'idade': 42, 'emancipado': 'SIM'}\n",
            "{'_id': ObjectId('63890ec991e0366640f4fe68'), 'nome': ' cliente-13', 'idade': 43, 'emancipado': 'SIM'}\n",
            "{'_id': ObjectId('63890ec991e0366640f4fe69'), 'nome': ' cliente-14', 'idade': 44, 'emancipado': 'SIM'}\n",
            "{'_id': ObjectId('63890ec991e0366640f4fe6a'), 'nome': ' cliente-15', 'idade': 45, 'emancipado': 'SIM'}\n",
            "{'_id': ObjectId('63890eca91e0366640f4fe6b'), 'nome': ' cliente-16', 'idade': 46, 'emancipado': 'SIM'}\n",
            "{'_id': ObjectId('63890eca91e0366640f4fe6c'), 'nome': ' cliente-17', 'idade': 47, 'emancipado': 'SIM'}\n",
            "{'_id': ObjectId('63890eca91e0366640f4fe6d'), 'nome': ' cliente-18', 'idade': 48, 'emancipado': 'SIM'}\n",
            "{'_id': ObjectId('63890eca91e0366640f4fe6e'), 'nome': ' cliente-19', 'idade': 49, 'emancipado': 'SIM'}\n",
            "{'_id': ObjectId('638a0b0dc2e873f37dd3a851'), 'nome': 'Igor Godin', 'idade': 33, 'salario': 1200}\n",
            "{'_id': ObjectId('638a0b0fc2e873f37dd3a852'), 'nome': 'Franscico Conto', 'idade': 36, 'salario': 3500}\n",
            "{'_id': ObjectId('638a0b0fc2e873f37dd3a853'), 'nome': 'Alerrandro', 'idade': 44, 'salario': 1500}\n",
            "{'_id': ObjectId('638a0b0fc2e873f37dd3a854'), 'nome': 'Marcia Gomes', 'idade': 33, 'Salario': 1880}\n",
            "{'_id': ObjectId('638a0b0fc2e873f37dd3a855'), 'nome': 'Marcia Aurelio', 'idade': 25}\n",
            "{'_id': ObjectId('638a0b10c2e873f37dd3a856'), 'nome': 'Paulo Alura', 'idade': 45}\n",
            "{'_id': ObjectId('638a0b12c2e873f37dd3a857'), 'nome': ' cliente20', 'idade': 10}\n",
            "{'_id': ObjectId('638a0b12c2e873f37dd3a858'), 'nome': ' cliente19', 'idade': 11}\n",
            "{'_id': ObjectId('638a0b12c2e873f37dd3a859'), 'nome': ' cliente18', 'idade': 12}\n",
            "{'_id': ObjectId('638a0b12c2e873f37dd3a85a'), 'nome': ' cliente17', 'idade': 13}\n",
            "{'_id': ObjectId('638a0b12c2e873f37dd3a85b'), 'nome': ' cliente16', 'idade': 14}\n",
            "{'_id': ObjectId('638a0b12c2e873f37dd3a85c'), 'nome': ' cliente15', 'idade': 15}\n",
            "{'_id': ObjectId('638a0b12c2e873f37dd3a85d'), 'nome': ' cliente14', 'idade': 16}\n",
            "{'_id': ObjectId('638a0b13c2e873f37dd3a85e'), 'nome': ' cliente13', 'idade': 17}\n",
            "{'_id': ObjectId('638a0b13c2e873f37dd3a85f'), 'nome': ' cliente12', 'idade': 18}\n",
            "{'_id': ObjectId('638a0b13c2e873f37dd3a860'), 'nome': ' cliente11', 'idade': 19}\n",
            "{'_id': ObjectId('638a0b13c2e873f37dd3a861'), 'nome': ' cliente10', 'idade': 20}\n",
            "{'_id': ObjectId('638a0b13c2e873f37dd3a862'), 'nome': ' cliente9', 'idade': 21}\n",
            "{'_id': ObjectId('638a0b13c2e873f37dd3a863'), 'nome': ' cliente8', 'idade': 22}\n",
            "{'_id': ObjectId('638a0b13c2e873f37dd3a864'), 'nome': ' cliente7', 'idade': 23}\n",
            "{'_id': ObjectId('638a0b13c2e873f37dd3a865'), 'nome': ' cliente6', 'idade': 24}\n",
            "{'_id': ObjectId('638a0b14c2e873f37dd3a866'), 'nome': ' cliente5', 'idade': 25}\n",
            "{'_id': ObjectId('638a0b14c2e873f37dd3a867'), 'nome': ' cliente4', 'idade': 26}\n",
            "{'_id': ObjectId('638a0b14c2e873f37dd3a868'), 'nome': ' cliente3', 'idade': 27}\n",
            "{'_id': ObjectId('638a0b14c2e873f37dd3a869'), 'nome': ' cliente2', 'idade': 28}\n",
            "{'_id': ObjectId('638a0b14c2e873f37dd3a86a'), 'nome': ' cliente1', 'idade': 29}\n",
            "{'_id': ObjectId('638a0b14c2e873f37dd3a86b'), 'nome': ' cliente0', 'idade': 30}\n",
            "{'_id': ObjectId('638a0b14c2e873f37dd3a86c'), 'nome': ' cliente-1', 'idade': 31}\n",
            "{'_id': ObjectId('638a0b14c2e873f37dd3a86d'), 'nome': ' cliente-2', 'idade': 32}\n",
            "{'_id': ObjectId('638a0b15c2e873f37dd3a86e'), 'nome': ' cliente-3', 'idade': 33}\n",
            "{'_id': ObjectId('638a0b15c2e873f37dd3a86f'), 'nome': ' cliente-4', 'idade': 34}\n",
            "{'_id': ObjectId('638a0b15c2e873f37dd3a870'), 'nome': ' cliente-5', 'idade': 35}\n",
            "{'_id': ObjectId('638a0b15c2e873f37dd3a871'), 'nome': ' cliente-6', 'idade': 36}\n",
            "{'_id': ObjectId('638a0b15c2e873f37dd3a872'), 'nome': ' cliente-7', 'idade': 37}\n",
            "{'_id': ObjectId('638a0b15c2e873f37dd3a873'), 'nome': ' cliente-8', 'idade': 38}\n",
            "{'_id': ObjectId('638a0b15c2e873f37dd3a874'), 'nome': ' cliente-9', 'idade': 39}\n",
            "{'_id': ObjectId('638a0b15c2e873f37dd3a875'), 'nome': ' cliente-10', 'idade': 40}\n",
            "{'_id': ObjectId('638a0b16c2e873f37dd3a876'), 'nome': ' cliente-11', 'idade': 41}\n",
            "{'_id': ObjectId('638a0b16c2e873f37dd3a877'), 'nome': ' cliente-12', 'idade': 42}\n",
            "{'_id': ObjectId('638a0b16c2e873f37dd3a878'), 'nome': ' cliente-13', 'idade': 43}\n",
            "{'_id': ObjectId('638a0b16c2e873f37dd3a879'), 'nome': ' cliente-14', 'idade': 44}\n",
            "{'_id': ObjectId('638a0b16c2e873f37dd3a87a'), 'nome': ' cliente-15', 'idade': 45}\n",
            "{'_id': ObjectId('638a0b16c2e873f37dd3a87b'), 'nome': ' cliente-16', 'idade': 46}\n",
            "{'_id': ObjectId('638a0b16c2e873f37dd3a87c'), 'nome': ' cliente-17', 'idade': 47}\n",
            "{'_id': ObjectId('638a0b16c2e873f37dd3a87d'), 'nome': ' cliente-18', 'idade': 48}\n",
            "{'_id': ObjectId('638a0b16c2e873f37dd3a87e'), 'nome': ' cliente-19', 'idade': 49}\n"
          ]
        }
      ]
    },
    {
      "cell_type": "markdown",
      "source": [
        "lt=Menorque| gt = maior que |  lte=Menorigual| gte = Maior e igual | $ne = Diferente"
      ],
      "metadata": {
        "id": "JOCsC_FHcdsr"
      }
    },
    {
      "cell_type": "code",
      "source": [
        "#Localizar por parametro\n",
        "busca = {'idade':{'$gte':30}}\n",
        "\n",
        "doc = colecao.find(busca)\n",
        "\n",
        "for x in doc:\n",
        "  print(x)"
      ],
      "metadata": {
        "colab": {
          "base_uri": "https://localhost:8080/"
        },
        "id": "5Ml1AjGTZAhl",
        "outputId": "fa9ac5cf-f439-4f38-80b2-b29953176c9f"
      },
      "execution_count": null,
      "outputs": [
        {
          "output_type": "stream",
          "name": "stdout",
          "text": [
            "{'_id': ObjectId('6389029b91e0366640f4fe31'), 'nome': 'Gu Meni', 'idade': 33, 'salario': 5500, 'emancipado': 'SIM'}\n",
            "{'_id': ObjectId('6389052991e0366640f4fe35'), 'nome': 'Suzana', 'idade': 31, 'emancipado': 'SIM'}\n",
            "{'_id': ObjectId('638907f491e0366640f4fe38'), 'nome': 'Maria José', 'idade': 36, 'salario': 1000, 'emancipado': 'SIM'}\n",
            "{'_id': ObjectId('638907f491e0366640f4fe39'), 'nome': 'Joana Freire', 'idade': 45, 'Salario': 880, 'emancipado': 'SIM'}\n",
            "{'_id': ObjectId('63890a9c91e0366640f4fe3a'), 'nome': 'Thiago Martins', 'idade': 38, 'salario': 1500, 'Nacionalidade': 'Uruguai', 'emancipado': 'SIM'}\n",
            "{'_id': ObjectId('63890a9c91e0366640f4fe3c'), 'nome': 'Mauricio Freire', 'idade': 35, 'Salario': 8280, 'emancipado': 'SIM'}\n",
            "{'_id': ObjectId('63890a9c91e0366640f4fe3d'), 'nome': 'Mauricio Freire', 'idade': 35, 'emancipado': 'SIM'}\n",
            "{'_id': ObjectId('63890b7a91e0366640f4fe40'), 'nome': 'Murilo Gomes', 'idade': 33, 'Salario': 1880, 'emancipado': 'SIM'}\n",
            "{'_id': ObjectId('63890bd591e0366640f4fe42'), 'nome': 'Franscico Conto', 'idade': 36, 'salario': 3500, 'emancipado': 'SIM'}\n",
            "{'_id': ObjectId('63890bd591e0366640f4fe43'), 'nome': 'Alerrandro', 'idade': 44, 'salario': 1500, 'emancipado': 'SIM'}\n",
            "{'_id': ObjectId('63890bd591e0366640f4fe44'), 'nome': 'Marcia Gomes', 'idade': 33, 'Salario': 1880, 'emancipado': 'SIM'}\n",
            "{'_id': ObjectId('63890cc691e0366640f4fe46'), 'nome': 'Paulo Alura', 'idade': 45, 'emancipado': 'SIM'}\n",
            "{'_id': ObjectId('63890ec791e0366640f4fe5b'), 'nome': ' cliente0', 'idade': 30, 'emancipado': 'SIM'}\n",
            "{'_id': ObjectId('63890ec791e0366640f4fe5c'), 'nome': ' cliente-1', 'idade': 31, 'emancipado': 'SIM'}\n",
            "{'_id': ObjectId('63890ec791e0366640f4fe5d'), 'nome': ' cliente-2', 'idade': 32, 'emancipado': 'SIM'}\n",
            "{'_id': ObjectId('63890ec791e0366640f4fe5e'), 'nome': ' cliente-3', 'idade': 33, 'emancipado': 'SIM'}\n",
            "{'_id': ObjectId('63890ec791e0366640f4fe5f'), 'nome': ' cliente-4', 'idade': 34, 'emancipado': 'SIM'}\n",
            "{'_id': ObjectId('63890ec891e0366640f4fe60'), 'nome': ' cliente-5', 'idade': 35, 'emancipado': 'SIM'}\n",
            "{'_id': ObjectId('63890ec891e0366640f4fe61'), 'nome': ' cliente-6', 'idade': 36, 'emancipado': 'SIM'}\n",
            "{'_id': ObjectId('63890ec891e0366640f4fe62'), 'nome': ' cliente-7', 'idade': 37, 'emancipado': 'SIM'}\n",
            "{'_id': ObjectId('63890ec891e0366640f4fe63'), 'nome': ' cliente-8', 'idade': 38, 'emancipado': 'SIM'}\n",
            "{'_id': ObjectId('63890ec891e0366640f4fe64'), 'nome': ' cliente-9', 'idade': 39, 'emancipado': 'SIM'}\n",
            "{'_id': ObjectId('63890ec891e0366640f4fe65'), 'nome': ' cliente-10', 'idade': 40, 'emancipado': 'SIM'}\n",
            "{'_id': ObjectId('63890ec991e0366640f4fe66'), 'nome': ' cliente-11', 'idade': 41, 'emancipado': 'SIM'}\n",
            "{'_id': ObjectId('63890ec991e0366640f4fe67'), 'nome': ' cliente-12', 'idade': 42, 'emancipado': 'SIM'}\n",
            "{'_id': ObjectId('63890ec991e0366640f4fe68'), 'nome': ' cliente-13', 'idade': 43, 'emancipado': 'SIM'}\n",
            "{'_id': ObjectId('63890ec991e0366640f4fe69'), 'nome': ' cliente-14', 'idade': 44, 'emancipado': 'SIM'}\n",
            "{'_id': ObjectId('63890ec991e0366640f4fe6a'), 'nome': ' cliente-15', 'idade': 45, 'emancipado': 'SIM'}\n",
            "{'_id': ObjectId('63890eca91e0366640f4fe6b'), 'nome': ' cliente-16', 'idade': 46, 'emancipado': 'SIM'}\n",
            "{'_id': ObjectId('63890eca91e0366640f4fe6c'), 'nome': ' cliente-17', 'idade': 47, 'emancipado': 'SIM'}\n",
            "{'_id': ObjectId('63890eca91e0366640f4fe6d'), 'nome': ' cliente-18', 'idade': 48, 'emancipado': 'SIM'}\n",
            "{'_id': ObjectId('63890eca91e0366640f4fe6e'), 'nome': ' cliente-19', 'idade': 49, 'emancipado': 'SIM'}\n",
            "{'_id': ObjectId('638a0b0dc2e873f37dd3a851'), 'nome': 'Igor Godin', 'idade': 33, 'salario': 1200}\n",
            "{'_id': ObjectId('638a0b0fc2e873f37dd3a852'), 'nome': 'Franscico Conto', 'idade': 36, 'salario': 3500}\n",
            "{'_id': ObjectId('638a0b0fc2e873f37dd3a853'), 'nome': 'Alerrandro', 'idade': 44, 'salario': 1500}\n",
            "{'_id': ObjectId('638a0b0fc2e873f37dd3a854'), 'nome': 'Marcia Gomes', 'idade': 33, 'Salario': 1880}\n",
            "{'_id': ObjectId('638a0b10c2e873f37dd3a856'), 'nome': 'Paulo Alura', 'idade': 45}\n",
            "{'_id': ObjectId('638a0b14c2e873f37dd3a86b'), 'nome': ' cliente0', 'idade': 30}\n",
            "{'_id': ObjectId('638a0b14c2e873f37dd3a86c'), 'nome': ' cliente-1', 'idade': 31}\n",
            "{'_id': ObjectId('638a0b14c2e873f37dd3a86d'), 'nome': ' cliente-2', 'idade': 32}\n",
            "{'_id': ObjectId('638a0b15c2e873f37dd3a86e'), 'nome': ' cliente-3', 'idade': 33}\n",
            "{'_id': ObjectId('638a0b15c2e873f37dd3a86f'), 'nome': ' cliente-4', 'idade': 34}\n",
            "{'_id': ObjectId('638a0b15c2e873f37dd3a870'), 'nome': ' cliente-5', 'idade': 35}\n",
            "{'_id': ObjectId('638a0b15c2e873f37dd3a871'), 'nome': ' cliente-6', 'idade': 36}\n",
            "{'_id': ObjectId('638a0b15c2e873f37dd3a872'), 'nome': ' cliente-7', 'idade': 37}\n",
            "{'_id': ObjectId('638a0b15c2e873f37dd3a873'), 'nome': ' cliente-8', 'idade': 38}\n",
            "{'_id': ObjectId('638a0b15c2e873f37dd3a874'), 'nome': ' cliente-9', 'idade': 39}\n",
            "{'_id': ObjectId('638a0b15c2e873f37dd3a875'), 'nome': ' cliente-10', 'idade': 40}\n",
            "{'_id': ObjectId('638a0b16c2e873f37dd3a876'), 'nome': ' cliente-11', 'idade': 41}\n",
            "{'_id': ObjectId('638a0b16c2e873f37dd3a877'), 'nome': ' cliente-12', 'idade': 42}\n",
            "{'_id': ObjectId('638a0b16c2e873f37dd3a878'), 'nome': ' cliente-13', 'idade': 43}\n",
            "{'_id': ObjectId('638a0b16c2e873f37dd3a879'), 'nome': ' cliente-14', 'idade': 44}\n",
            "{'_id': ObjectId('638a0b16c2e873f37dd3a87a'), 'nome': ' cliente-15', 'idade': 45}\n",
            "{'_id': ObjectId('638a0b16c2e873f37dd3a87b'), 'nome': ' cliente-16', 'idade': 46}\n",
            "{'_id': ObjectId('638a0b16c2e873f37dd3a87c'), 'nome': ' cliente-17', 'idade': 47}\n",
            "{'_id': ObjectId('638a0b16c2e873f37dd3a87d'), 'nome': ' cliente-18', 'idade': 48}\n",
            "{'_id': ObjectId('638a0b16c2e873f37dd3a87e'), 'nome': ' cliente-19', 'idade': 49}\n"
          ]
        }
      ]
    },
    {
      "cell_type": "code",
      "source": [
        "#para fazer uma busca especifica de varios \n",
        "\n",
        "busca = {'idade':{'$in' : [18, 22]}}\n",
        "\n",
        "doc = colecao.find(busca)\n",
        "\n",
        "for x in doc:\n",
        "  print(x)"
      ],
      "metadata": {
        "colab": {
          "base_uri": "https://localhost:8080/"
        },
        "id": "Zelj1PXRo8-X",
        "outputId": "2595f5a9-dd60-4fad-9b4b-c11d56ac05ff"
      },
      "execution_count": null,
      "outputs": [
        {
          "output_type": "stream",
          "name": "stdout",
          "text": [
            "{'_id': ObjectId('638902d691e0366640f4fe32'), 'nome': 'Noah Kg', 'idade': 22, 'salario': 1500, 'emancipado': 'SIM'}\n",
            "{'_id': ObjectId('63890ec491e0366640f4fe4f'), 'nome': ' cliente12', 'idade': 18, 'emancipado': 'SIM'}\n",
            "{'_id': ObjectId('63890ec591e0366640f4fe53'), 'nome': ' cliente8', 'idade': 22, 'emancipado': 'SIM'}\n",
            "{'_id': ObjectId('638a0b13c2e873f37dd3a85f'), 'nome': ' cliente12', 'idade': 18}\n",
            "{'_id': ObjectId('638a0b13c2e873f37dd3a863'), 'nome': ' cliente8', 'idade': 22}\n"
          ]
        }
      ]
    },
    {
      "cell_type": "code",
      "source": [
        "#para usar com intervalo \n",
        "#busca = {'$nor':[{'idade':{'$lte':20}},{'idade':{'$gte':25}}]}\n",
        "busca = {'idade':{'$gt':20,'$lt':25}}\n",
        "\n",
        "doc = colecao.find(busca)\n",
        "\n",
        "for x in doc:\n",
        "  print(x)"
      ],
      "metadata": {
        "colab": {
          "base_uri": "https://localhost:8080/"
        },
        "id": "hn2yC8_Ju1fc",
        "outputId": "441e69e3-cea5-4ae1-9863-6a6e2254ebfa"
      },
      "execution_count": null,
      "outputs": [
        {
          "output_type": "stream",
          "name": "stdout",
          "text": [
            "{'_id': ObjectId('638902d691e0366640f4fe32'), 'nome': 'Noah Kg', 'idade': 22, 'salario': 1500, 'emancipado': 'SIM'}\n",
            "{'_id': ObjectId('63890b7a91e0366640f4fe3f'), 'nome': 'Josef', 'idade': 24, 'salario': 9000, 'nacionalidade': 'Francesa', 'emancipado': 'SIM'}\n",
            "{'_id': ObjectId('63890ec591e0366640f4fe52'), 'nome': ' cliente9', 'idade': 21, 'emancipado': 'SIM'}\n",
            "{'_id': ObjectId('63890ec591e0366640f4fe53'), 'nome': ' cliente8', 'idade': 22, 'emancipado': 'SIM'}\n",
            "{'_id': ObjectId('63890ec591e0366640f4fe54'), 'nome': ' cliente7', 'idade': 23, 'emancipado': 'SIM'}\n",
            "{'_id': ObjectId('63890ec691e0366640f4fe55'), 'nome': ' cliente6', 'idade': 24, 'emancipado': 'SIM'}\n",
            "{'_id': ObjectId('638a0b13c2e873f37dd3a862'), 'nome': ' cliente9', 'idade': 21}\n",
            "{'_id': ObjectId('638a0b13c2e873f37dd3a863'), 'nome': ' cliente8', 'idade': 22}\n",
            "{'_id': ObjectId('638a0b13c2e873f37dd3a864'), 'nome': ' cliente7', 'idade': 23}\n",
            "{'_id': ObjectId('638a0b13c2e873f37dd3a865'), 'nome': ' cliente6', 'idade': 24}\n"
          ]
        }
      ]
    },
    {
      "cell_type": "code",
      "source": [
        "busca = {'$or':[{'idade':{'$gt':20}},{'idade':{'$lt':25}}]}"
      ],
      "metadata": {
        "id": "pPn9fmfYyw-k"
      },
      "execution_count": null,
      "outputs": []
    },
    {
      "cell_type": "markdown",
      "source": [
        "#Update | Atualização"
      ],
      "metadata": {
        "id": "Xr6YtBG-1sGa"
      }
    },
    {
      "cell_type": "code",
      "source": [
        "#ele acrescentou o que são emacipados maiores que 18\n",
        "busca = {'idade':{'$gte':18}}\n",
        "\n",
        "modifica = {'$set':{'emancipado':'SIM'}}\n",
        "\n",
        "colecao.update_many(busca , modifica)"
      ],
      "metadata": {
        "colab": {
          "base_uri": "https://localhost:8080/"
        },
        "id": "EckGiZaB1q8U",
        "outputId": "d4d349ea-fbd6-48a8-e363-2cc7a93f794a"
      },
      "execution_count": null,
      "outputs": [
        {
          "output_type": "execute_result",
          "data": {
            "text/plain": [
              "<pymongo.results.UpdateResult at 0x7f06850a9910>"
            ]
          },
          "metadata": {},
          "execution_count": 79
        }
      ]
    },
    {
      "cell_type": "code",
      "source": [
        "busca = {'idade':{'$lt':18}}\n",
        "\n",
        "modifica = {'$set':{'emancipado':'NAO'}}\n",
        "\n",
        "colecao.update_many(busca , modifica)"
      ],
      "metadata": {
        "colab": {
          "base_uri": "https://localhost:8080/"
        },
        "id": "fjnJVKZ83B37",
        "outputId": "de5d380c-c753-44fa-ca8a-6aaeb2b9c723"
      },
      "execution_count": null,
      "outputs": [
        {
          "output_type": "execute_result",
          "data": {
            "text/plain": [
              "<pymongo.results.UpdateResult at 0x7f068500ebb0>"
            ]
          },
          "metadata": {},
          "execution_count": 80
        }
      ]
    },
    {
      "cell_type": "code",
      "source": [
        "busca = {'idade':{'$lte':18}}\n",
        "\n",
        "doc = colecao.find(busca)\n",
        "\n",
        "for x in doc:\n",
        "  print(x)"
      ],
      "metadata": {
        "colab": {
          "base_uri": "https://localhost:8080/"
        },
        "id": "s0uGBy5i3D26",
        "outputId": "a7d86393-b78f-4f90-ef33-330b58a65449"
      },
      "execution_count": null,
      "outputs": [
        {
          "output_type": "stream",
          "name": "stdout",
          "text": [
            "{'_id': ObjectId('63890ec391e0366640f4fe47'), 'nome': ' cliente20', 'idade': 10, 'emancipado': 'NAO'}\n",
            "{'_id': ObjectId('63890ec391e0366640f4fe48'), 'nome': ' cliente19', 'idade': 11, 'emancipado': 'NAO'}\n",
            "{'_id': ObjectId('63890ec391e0366640f4fe49'), 'nome': ' cliente18', 'idade': 12, 'emancipado': 'NAO'}\n",
            "{'_id': ObjectId('63890ec491e0366640f4fe4a'), 'nome': ' cliente17', 'idade': 13, 'emancipado': 'NAO'}\n",
            "{'_id': ObjectId('63890ec491e0366640f4fe4b'), 'nome': ' cliente16', 'idade': 14, 'emancipado': 'NAO'}\n",
            "{'_id': ObjectId('63890ec491e0366640f4fe4c'), 'nome': ' cliente15', 'idade': 15, 'emancipado': 'NAO'}\n",
            "{'_id': ObjectId('63890ec491e0366640f4fe4d'), 'nome': ' cliente14', 'idade': 16, 'emancipado': 'NAO'}\n",
            "{'_id': ObjectId('63890ec491e0366640f4fe4e'), 'nome': ' cliente13', 'idade': 17, 'emancipado': 'NAO'}\n",
            "{'_id': ObjectId('63890ec491e0366640f4fe4f'), 'nome': ' cliente12', 'idade': 18, 'emancipado': 'SIM'}\n",
            "{'_id': ObjectId('638a0b12c2e873f37dd3a857'), 'nome': ' cliente20', 'idade': 10, 'emancipado': 'NAO'}\n",
            "{'_id': ObjectId('638a0b12c2e873f37dd3a858'), 'nome': ' cliente19', 'idade': 11, 'emancipado': 'NAO'}\n",
            "{'_id': ObjectId('638a0b12c2e873f37dd3a859'), 'nome': ' cliente18', 'idade': 12, 'emancipado': 'NAO'}\n",
            "{'_id': ObjectId('638a0b12c2e873f37dd3a85a'), 'nome': ' cliente17', 'idade': 13, 'emancipado': 'NAO'}\n",
            "{'_id': ObjectId('638a0b12c2e873f37dd3a85b'), 'nome': ' cliente16', 'idade': 14, 'emancipado': 'NAO'}\n",
            "{'_id': ObjectId('638a0b12c2e873f37dd3a85c'), 'nome': ' cliente15', 'idade': 15, 'emancipado': 'NAO'}\n",
            "{'_id': ObjectId('638a0b12c2e873f37dd3a85d'), 'nome': ' cliente14', 'idade': 16, 'emancipado': 'NAO'}\n",
            "{'_id': ObjectId('638a0b13c2e873f37dd3a85e'), 'nome': ' cliente13', 'idade': 17, 'emancipado': 'NAO'}\n",
            "{'_id': ObjectId('638a0b13c2e873f37dd3a85f'), 'nome': ' cliente12', 'idade': 18, 'emancipado': 'SIM'}\n"
          ]
        }
      ]
    },
    {
      "cell_type": "markdown",
      "source": [
        "#Delete | Apagar ou deletar\n"
      ],
      "metadata": {
        "id": "jpBB8o4l45Vp"
      }
    },
    {
      "cell_type": "code",
      "source": [
        "#o mongo não tem back-up ele, então apagamos um por por um e usamos one. \n",
        "colecao.delete_one({'nome':'IGOR GONDIM'})"
      ],
      "metadata": {
        "colab": {
          "base_uri": "https://localhost:8080/"
        },
        "id": "rVTT6CfZ431E",
        "outputId": "05f2c9b5-2a4a-4942-908a-75ee0f4d3bbf"
      },
      "execution_count": null,
      "outputs": [
        {
          "output_type": "execute_result",
          "data": {
            "text/plain": [
              "<pymongo.results.DeleteResult at 0x7f0684f832b0>"
            ]
          },
          "metadata": {},
          "execution_count": 82
        }
      ]
    },
    {
      "cell_type": "code",
      "source": [
        "busca = {'idade':{'$gte':18}}\n",
        "\n",
        "doc = colecao.find(busca)\n",
        "\n",
        "for x in doc:\n",
        "  print(x)"
      ],
      "metadata": {
        "colab": {
          "base_uri": "https://localhost:8080/"
        },
        "id": "kEu50SCd6d0B",
        "outputId": "60e39935-99a8-4d07-bacc-f0e6164dda2a"
      },
      "execution_count": null,
      "outputs": [
        {
          "output_type": "stream",
          "name": "stdout",
          "text": [
            "{'_id': ObjectId('6389028b91e0366640f4fe30'), 'nome': 'Ste Gracy', 'idade': 28, 'salario': 3500, 'emancipado': 'SIM'}\n",
            "{'_id': ObjectId('6389029b91e0366640f4fe31'), 'nome': 'Gu Meni', 'idade': 33, 'salario': 5500, 'emancipado': 'SIM'}\n",
            "{'_id': ObjectId('638902d691e0366640f4fe32'), 'nome': 'Noah Kg', 'idade': 22, 'salario': 1500, 'emancipado': 'SIM'}\n",
            "{'_id': ObjectId('6389035591e0366640f4fe33'), 'nome': 'Leo Santana', 'idade': 28, 'salario': 1250, 'emancipado': 'SIM'}\n",
            "{'_id': ObjectId('6389036a91e0366640f4fe34'), 'nome': 'lisa', 'idade': 25, 'salario': 1200, 'emancipado': 'SIM'}\n",
            "{'_id': ObjectId('6389052991e0366640f4fe35'), 'nome': 'Suzana', 'idade': 31, 'emancipado': 'SIM'}\n",
            "{'_id': ObjectId('6389052991e0366640f4fe36'), 'nome': 'Ana Paula', 'idade': 26, 'emancipado': 'SIM'}\n",
            "{'_id': ObjectId('638907f491e0366640f4fe37'), 'nome': 'Fe Martins', 'idade': 28, 'salario': 3500, 'Nacionalidade': 'brasileira', 'emancipado': 'SIM'}\n",
            "{'_id': ObjectId('638907f491e0366640f4fe38'), 'nome': 'Maria José', 'idade': 36, 'salario': 1000, 'emancipado': 'SIM'}\n",
            "{'_id': ObjectId('638907f491e0366640f4fe39'), 'nome': 'Joana Freire', 'idade': 45, 'Salario': 880, 'emancipado': 'SIM'}\n",
            "{'_id': ObjectId('63890a9c91e0366640f4fe3a'), 'nome': 'Thiago Martins', 'idade': 38, 'salario': 1500, 'Nacionalidade': 'Uruguai', 'emancipado': 'SIM'}\n",
            "{'_id': ObjectId('63890a9c91e0366640f4fe3b'), 'nome': 'João Marcos', 'idade': 27, 'salario': 4000, 'emancipado': 'SIM'}\n",
            "{'_id': ObjectId('63890a9c91e0366640f4fe3c'), 'nome': 'Mauricio Freire', 'idade': 35, 'Salario': 8280, 'emancipado': 'SIM'}\n",
            "{'_id': ObjectId('63890a9c91e0366640f4fe3d'), 'nome': 'Mauricio Freire', 'idade': 35, 'emancipado': 'SIM'}\n",
            "{'_id': ObjectId('63890b7a91e0366640f4fe3e'), 'nome': 'Richarlison Dutra', 'idade': 26, 'salario': 4500, 'emancipado': 'SIM'}\n",
            "{'_id': ObjectId('63890b7a91e0366640f4fe3f'), 'nome': 'Josef', 'idade': 24, 'salario': 9000, 'nacionalidade': 'Francesa', 'emancipado': 'SIM'}\n",
            "{'_id': ObjectId('63890b7a91e0366640f4fe40'), 'nome': 'Murilo Gomes', 'idade': 33, 'Salario': 1880, 'emancipado': 'SIM'}\n",
            "{'_id': ObjectId('63890b7a91e0366640f4fe41'), 'nome': 'Marcos Aurelio', 'idade': 25, 'emancipado': 'SIM'}\n",
            "{'_id': ObjectId('63890bd591e0366640f4fe42'), 'nome': 'Franscico Conto', 'idade': 36, 'salario': 3500, 'emancipado': 'SIM'}\n",
            "{'_id': ObjectId('63890bd591e0366640f4fe43'), 'nome': 'Alerrandro', 'idade': 44, 'salario': 1500, 'emancipado': 'SIM'}\n",
            "{'_id': ObjectId('63890bd591e0366640f4fe44'), 'nome': 'Marcia Gomes', 'idade': 33, 'Salario': 1880, 'emancipado': 'SIM'}\n",
            "{'_id': ObjectId('63890bd591e0366640f4fe45'), 'nome': 'Marcia Aurelio', 'idade': 25, 'emancipado': 'SIM'}\n",
            "{'_id': ObjectId('63890cc691e0366640f4fe46'), 'nome': 'Paulo Alura', 'idade': 45, 'emancipado': 'SIM'}\n",
            "{'_id': ObjectId('63890ec491e0366640f4fe4f'), 'nome': ' cliente12', 'idade': 18, 'emancipado': 'SIM'}\n",
            "{'_id': ObjectId('63890ec591e0366640f4fe50'), 'nome': ' cliente11', 'idade': 19, 'emancipado': 'SIM'}\n",
            "{'_id': ObjectId('63890ec591e0366640f4fe51'), 'nome': ' cliente10', 'idade': 20, 'emancipado': 'SIM'}\n",
            "{'_id': ObjectId('63890ec591e0366640f4fe52'), 'nome': ' cliente9', 'idade': 21, 'emancipado': 'SIM'}\n",
            "{'_id': ObjectId('63890ec591e0366640f4fe53'), 'nome': ' cliente8', 'idade': 22, 'emancipado': 'SIM'}\n",
            "{'_id': ObjectId('63890ec591e0366640f4fe54'), 'nome': ' cliente7', 'idade': 23, 'emancipado': 'SIM'}\n",
            "{'_id': ObjectId('63890ec691e0366640f4fe55'), 'nome': ' cliente6', 'idade': 24, 'emancipado': 'SIM'}\n",
            "{'_id': ObjectId('63890ec691e0366640f4fe56'), 'nome': ' cliente5', 'idade': 25, 'emancipado': 'SIM'}\n",
            "{'_id': ObjectId('63890ec691e0366640f4fe57'), 'nome': ' cliente4', 'idade': 26, 'emancipado': 'SIM'}\n",
            "{'_id': ObjectId('63890ec691e0366640f4fe58'), 'nome': ' cliente3', 'idade': 27, 'emancipado': 'SIM'}\n",
            "{'_id': ObjectId('63890ec691e0366640f4fe59'), 'nome': ' cliente2', 'idade': 28, 'emancipado': 'SIM'}\n",
            "{'_id': ObjectId('63890ec691e0366640f4fe5a'), 'nome': ' cliente1', 'idade': 29, 'emancipado': 'SIM'}\n",
            "{'_id': ObjectId('63890ec791e0366640f4fe5b'), 'nome': ' cliente0', 'idade': 30, 'emancipado': 'SIM'}\n",
            "{'_id': ObjectId('63890ec791e0366640f4fe5c'), 'nome': ' cliente-1', 'idade': 31, 'emancipado': 'SIM'}\n",
            "{'_id': ObjectId('63890ec791e0366640f4fe5d'), 'nome': ' cliente-2', 'idade': 32, 'emancipado': 'SIM'}\n",
            "{'_id': ObjectId('63890ec791e0366640f4fe5e'), 'nome': ' cliente-3', 'idade': 33, 'emancipado': 'SIM'}\n",
            "{'_id': ObjectId('63890ec791e0366640f4fe5f'), 'nome': ' cliente-4', 'idade': 34, 'emancipado': 'SIM'}\n",
            "{'_id': ObjectId('63890ec891e0366640f4fe60'), 'nome': ' cliente-5', 'idade': 35, 'emancipado': 'SIM'}\n",
            "{'_id': ObjectId('63890ec891e0366640f4fe61'), 'nome': ' cliente-6', 'idade': 36, 'emancipado': 'SIM'}\n",
            "{'_id': ObjectId('63890ec891e0366640f4fe62'), 'nome': ' cliente-7', 'idade': 37, 'emancipado': 'SIM'}\n",
            "{'_id': ObjectId('63890ec891e0366640f4fe63'), 'nome': ' cliente-8', 'idade': 38, 'emancipado': 'SIM'}\n",
            "{'_id': ObjectId('63890ec891e0366640f4fe64'), 'nome': ' cliente-9', 'idade': 39, 'emancipado': 'SIM'}\n",
            "{'_id': ObjectId('63890ec891e0366640f4fe65'), 'nome': ' cliente-10', 'idade': 40, 'emancipado': 'SIM'}\n",
            "{'_id': ObjectId('63890ec991e0366640f4fe66'), 'nome': ' cliente-11', 'idade': 41, 'emancipado': 'SIM'}\n",
            "{'_id': ObjectId('63890ec991e0366640f4fe67'), 'nome': ' cliente-12', 'idade': 42, 'emancipado': 'SIM'}\n",
            "{'_id': ObjectId('63890ec991e0366640f4fe68'), 'nome': ' cliente-13', 'idade': 43, 'emancipado': 'SIM'}\n",
            "{'_id': ObjectId('63890ec991e0366640f4fe69'), 'nome': ' cliente-14', 'idade': 44, 'emancipado': 'SIM'}\n",
            "{'_id': ObjectId('63890ec991e0366640f4fe6a'), 'nome': ' cliente-15', 'idade': 45, 'emancipado': 'SIM'}\n",
            "{'_id': ObjectId('63890eca91e0366640f4fe6b'), 'nome': ' cliente-16', 'idade': 46, 'emancipado': 'SIM'}\n",
            "{'_id': ObjectId('63890eca91e0366640f4fe6c'), 'nome': ' cliente-17', 'idade': 47, 'emancipado': 'SIM'}\n",
            "{'_id': ObjectId('63890eca91e0366640f4fe6d'), 'nome': ' cliente-18', 'idade': 48, 'emancipado': 'SIM'}\n",
            "{'_id': ObjectId('63890eca91e0366640f4fe6e'), 'nome': ' cliente-19', 'idade': 49, 'emancipado': 'SIM'}\n",
            "{'_id': ObjectId('638a0b0dc2e873f37dd3a851'), 'nome': 'Igor Godin', 'idade': 33, 'salario': 1200, 'emancipado': 'SIM'}\n",
            "{'_id': ObjectId('638a0b0fc2e873f37dd3a852'), 'nome': 'Franscico Conto', 'idade': 36, 'salario': 3500, 'emancipado': 'SIM'}\n",
            "{'_id': ObjectId('638a0b0fc2e873f37dd3a853'), 'nome': 'Alerrandro', 'idade': 44, 'salario': 1500, 'emancipado': 'SIM'}\n",
            "{'_id': ObjectId('638a0b0fc2e873f37dd3a854'), 'nome': 'Marcia Gomes', 'idade': 33, 'Salario': 1880, 'emancipado': 'SIM'}\n",
            "{'_id': ObjectId('638a0b0fc2e873f37dd3a855'), 'nome': 'Marcia Aurelio', 'idade': 25, 'emancipado': 'SIM'}\n",
            "{'_id': ObjectId('638a0b10c2e873f37dd3a856'), 'nome': 'Paulo Alura', 'idade': 45, 'emancipado': 'SIM'}\n",
            "{'_id': ObjectId('638a0b13c2e873f37dd3a85f'), 'nome': ' cliente12', 'idade': 18, 'emancipado': 'SIM'}\n",
            "{'_id': ObjectId('638a0b13c2e873f37dd3a860'), 'nome': ' cliente11', 'idade': 19, 'emancipado': 'SIM'}\n",
            "{'_id': ObjectId('638a0b13c2e873f37dd3a861'), 'nome': ' cliente10', 'idade': 20, 'emancipado': 'SIM'}\n",
            "{'_id': ObjectId('638a0b13c2e873f37dd3a862'), 'nome': ' cliente9', 'idade': 21, 'emancipado': 'SIM'}\n",
            "{'_id': ObjectId('638a0b13c2e873f37dd3a863'), 'nome': ' cliente8', 'idade': 22, 'emancipado': 'SIM'}\n",
            "{'_id': ObjectId('638a0b13c2e873f37dd3a864'), 'nome': ' cliente7', 'idade': 23, 'emancipado': 'SIM'}\n",
            "{'_id': ObjectId('638a0b13c2e873f37dd3a865'), 'nome': ' cliente6', 'idade': 24, 'emancipado': 'SIM'}\n",
            "{'_id': ObjectId('638a0b14c2e873f37dd3a866'), 'nome': ' cliente5', 'idade': 25, 'emancipado': 'SIM'}\n",
            "{'_id': ObjectId('638a0b14c2e873f37dd3a867'), 'nome': ' cliente4', 'idade': 26, 'emancipado': 'SIM'}\n",
            "{'_id': ObjectId('638a0b14c2e873f37dd3a868'), 'nome': ' cliente3', 'idade': 27, 'emancipado': 'SIM'}\n",
            "{'_id': ObjectId('638a0b14c2e873f37dd3a869'), 'nome': ' cliente2', 'idade': 28, 'emancipado': 'SIM'}\n",
            "{'_id': ObjectId('638a0b14c2e873f37dd3a86a'), 'nome': ' cliente1', 'idade': 29, 'emancipado': 'SIM'}\n",
            "{'_id': ObjectId('638a0b14c2e873f37dd3a86b'), 'nome': ' cliente0', 'idade': 30, 'emancipado': 'SIM'}\n",
            "{'_id': ObjectId('638a0b14c2e873f37dd3a86c'), 'nome': ' cliente-1', 'idade': 31, 'emancipado': 'SIM'}\n",
            "{'_id': ObjectId('638a0b14c2e873f37dd3a86d'), 'nome': ' cliente-2', 'idade': 32, 'emancipado': 'SIM'}\n",
            "{'_id': ObjectId('638a0b15c2e873f37dd3a86e'), 'nome': ' cliente-3', 'idade': 33, 'emancipado': 'SIM'}\n",
            "{'_id': ObjectId('638a0b15c2e873f37dd3a86f'), 'nome': ' cliente-4', 'idade': 34, 'emancipado': 'SIM'}\n",
            "{'_id': ObjectId('638a0b15c2e873f37dd3a870'), 'nome': ' cliente-5', 'idade': 35, 'emancipado': 'SIM'}\n",
            "{'_id': ObjectId('638a0b15c2e873f37dd3a871'), 'nome': ' cliente-6', 'idade': 36, 'emancipado': 'SIM'}\n",
            "{'_id': ObjectId('638a0b15c2e873f37dd3a872'), 'nome': ' cliente-7', 'idade': 37, 'emancipado': 'SIM'}\n",
            "{'_id': ObjectId('638a0b15c2e873f37dd3a873'), 'nome': ' cliente-8', 'idade': 38, 'emancipado': 'SIM'}\n",
            "{'_id': ObjectId('638a0b15c2e873f37dd3a874'), 'nome': ' cliente-9', 'idade': 39, 'emancipado': 'SIM'}\n",
            "{'_id': ObjectId('638a0b15c2e873f37dd3a875'), 'nome': ' cliente-10', 'idade': 40, 'emancipado': 'SIM'}\n",
            "{'_id': ObjectId('638a0b16c2e873f37dd3a876'), 'nome': ' cliente-11', 'idade': 41, 'emancipado': 'SIM'}\n",
            "{'_id': ObjectId('638a0b16c2e873f37dd3a877'), 'nome': ' cliente-12', 'idade': 42, 'emancipado': 'SIM'}\n",
            "{'_id': ObjectId('638a0b16c2e873f37dd3a878'), 'nome': ' cliente-13', 'idade': 43, 'emancipado': 'SIM'}\n",
            "{'_id': ObjectId('638a0b16c2e873f37dd3a879'), 'nome': ' cliente-14', 'idade': 44, 'emancipado': 'SIM'}\n",
            "{'_id': ObjectId('638a0b16c2e873f37dd3a87a'), 'nome': ' cliente-15', 'idade': 45, 'emancipado': 'SIM'}\n",
            "{'_id': ObjectId('638a0b16c2e873f37dd3a87b'), 'nome': ' cliente-16', 'idade': 46, 'emancipado': 'SIM'}\n",
            "{'_id': ObjectId('638a0b16c2e873f37dd3a87c'), 'nome': ' cliente-17', 'idade': 47, 'emancipado': 'SIM'}\n",
            "{'_id': ObjectId('638a0b16c2e873f37dd3a87d'), 'nome': ' cliente-18', 'idade': 48, 'emancipado': 'SIM'}\n",
            "{'_id': ObjectId('638a0b16c2e873f37dd3a87e'), 'nome': ' cliente-19', 'idade': 49, 'emancipado': 'SIM'}\n"
          ]
        }
      ]
    },
    {
      "cell_type": "code",
      "source": [
        "colecao.delete_many({'emancipado':'Não'})"
      ],
      "metadata": {
        "colab": {
          "base_uri": "https://localhost:8080/"
        },
        "id": "CT5iZ0hJ69sg",
        "outputId": "d98bf138-17b2-4273-c635-318e59f8a2f4"
      },
      "execution_count": null,
      "outputs": [
        {
          "output_type": "execute_result",
          "data": {
            "text/plain": [
              "<pymongo.results.DeleteResult at 0x7f06858930a0>"
            ]
          },
          "metadata": {},
          "execution_count": 84
        }
      ]
    },
    {
      "cell_type": "code",
      "source": [
        "busca = {'idade':{'$gte':18}}\n",
        "\n",
        "doc = colecao.find(busca)\n",
        "\n",
        "for x in doc:\n",
        "  print(x)"
      ],
      "metadata": {
        "colab": {
          "base_uri": "https://localhost:8080/"
        },
        "id": "GaFTk8GM8b2W",
        "outputId": "3b50557f-c395-478e-b12a-4311ee09699d"
      },
      "execution_count": null,
      "outputs": [
        {
          "output_type": "stream",
          "name": "stdout",
          "text": [
            "{'_id': ObjectId('6389028b91e0366640f4fe30'), 'nome': 'Ste Gracy', 'idade': 28, 'salario': 3500, 'emancipado': 'SIM'}\n",
            "{'_id': ObjectId('6389029b91e0366640f4fe31'), 'nome': 'Gu Meni', 'idade': 33, 'salario': 5500, 'emancipado': 'SIM'}\n",
            "{'_id': ObjectId('638902d691e0366640f4fe32'), 'nome': 'Noah Kg', 'idade': 22, 'salario': 1500, 'emancipado': 'SIM'}\n",
            "{'_id': ObjectId('6389035591e0366640f4fe33'), 'nome': 'Leo Santana', 'idade': 28, 'salario': 1250, 'emancipado': 'SIM'}\n",
            "{'_id': ObjectId('6389036a91e0366640f4fe34'), 'nome': 'lisa', 'idade': 25, 'salario': 1200, 'emancipado': 'SIM'}\n",
            "{'_id': ObjectId('6389052991e0366640f4fe35'), 'nome': 'Suzana', 'idade': 31, 'emancipado': 'SIM'}\n",
            "{'_id': ObjectId('6389052991e0366640f4fe36'), 'nome': 'Ana Paula', 'idade': 26, 'emancipado': 'SIM'}\n",
            "{'_id': ObjectId('638907f491e0366640f4fe37'), 'nome': 'Fe Martins', 'idade': 28, 'salario': 3500, 'Nacionalidade': 'brasileira', 'emancipado': 'SIM'}\n",
            "{'_id': ObjectId('638907f491e0366640f4fe38'), 'nome': 'Maria José', 'idade': 36, 'salario': 1000, 'emancipado': 'SIM'}\n",
            "{'_id': ObjectId('638907f491e0366640f4fe39'), 'nome': 'Joana Freire', 'idade': 45, 'Salario': 880, 'emancipado': 'SIM'}\n",
            "{'_id': ObjectId('63890a9c91e0366640f4fe3a'), 'nome': 'Thiago Martins', 'idade': 38, 'salario': 1500, 'Nacionalidade': 'Uruguai', 'emancipado': 'SIM'}\n",
            "{'_id': ObjectId('63890a9c91e0366640f4fe3b'), 'nome': 'João Marcos', 'idade': 27, 'salario': 4000, 'emancipado': 'SIM'}\n",
            "{'_id': ObjectId('63890a9c91e0366640f4fe3c'), 'nome': 'Mauricio Freire', 'idade': 35, 'Salario': 8280, 'emancipado': 'SIM'}\n",
            "{'_id': ObjectId('63890a9c91e0366640f4fe3d'), 'nome': 'Mauricio Freire', 'idade': 35, 'emancipado': 'SIM'}\n",
            "{'_id': ObjectId('63890b7a91e0366640f4fe3e'), 'nome': 'Richarlison Dutra', 'idade': 26, 'salario': 4500, 'emancipado': 'SIM'}\n",
            "{'_id': ObjectId('63890b7a91e0366640f4fe3f'), 'nome': 'Josef', 'idade': 24, 'salario': 9000, 'nacionalidade': 'Francesa', 'emancipado': 'SIM'}\n",
            "{'_id': ObjectId('63890b7a91e0366640f4fe40'), 'nome': 'Murilo Gomes', 'idade': 33, 'Salario': 1880, 'emancipado': 'SIM'}\n",
            "{'_id': ObjectId('63890b7a91e0366640f4fe41'), 'nome': 'Marcos Aurelio', 'idade': 25, 'emancipado': 'SIM'}\n",
            "{'_id': ObjectId('63890bd591e0366640f4fe42'), 'nome': 'Franscico Conto', 'idade': 36, 'salario': 3500, 'emancipado': 'SIM'}\n",
            "{'_id': ObjectId('63890bd591e0366640f4fe43'), 'nome': 'Alerrandro', 'idade': 44, 'salario': 1500, 'emancipado': 'SIM'}\n",
            "{'_id': ObjectId('63890bd591e0366640f4fe44'), 'nome': 'Marcia Gomes', 'idade': 33, 'Salario': 1880, 'emancipado': 'SIM'}\n",
            "{'_id': ObjectId('63890bd591e0366640f4fe45'), 'nome': 'Marcia Aurelio', 'idade': 25, 'emancipado': 'SIM'}\n",
            "{'_id': ObjectId('63890cc691e0366640f4fe46'), 'nome': 'Paulo Alura', 'idade': 45, 'emancipado': 'SIM'}\n",
            "{'_id': ObjectId('63890ec491e0366640f4fe4f'), 'nome': ' cliente12', 'idade': 18, 'emancipado': 'SIM'}\n",
            "{'_id': ObjectId('63890ec591e0366640f4fe50'), 'nome': ' cliente11', 'idade': 19, 'emancipado': 'SIM'}\n",
            "{'_id': ObjectId('63890ec591e0366640f4fe51'), 'nome': ' cliente10', 'idade': 20, 'emancipado': 'SIM'}\n",
            "{'_id': ObjectId('63890ec591e0366640f4fe52'), 'nome': ' cliente9', 'idade': 21, 'emancipado': 'SIM'}\n",
            "{'_id': ObjectId('63890ec591e0366640f4fe53'), 'nome': ' cliente8', 'idade': 22, 'emancipado': 'SIM'}\n",
            "{'_id': ObjectId('63890ec591e0366640f4fe54'), 'nome': ' cliente7', 'idade': 23, 'emancipado': 'SIM'}\n",
            "{'_id': ObjectId('63890ec691e0366640f4fe55'), 'nome': ' cliente6', 'idade': 24, 'emancipado': 'SIM'}\n",
            "{'_id': ObjectId('63890ec691e0366640f4fe56'), 'nome': ' cliente5', 'idade': 25, 'emancipado': 'SIM'}\n",
            "{'_id': ObjectId('63890ec691e0366640f4fe57'), 'nome': ' cliente4', 'idade': 26, 'emancipado': 'SIM'}\n",
            "{'_id': ObjectId('63890ec691e0366640f4fe58'), 'nome': ' cliente3', 'idade': 27, 'emancipado': 'SIM'}\n",
            "{'_id': ObjectId('63890ec691e0366640f4fe59'), 'nome': ' cliente2', 'idade': 28, 'emancipado': 'SIM'}\n",
            "{'_id': ObjectId('63890ec691e0366640f4fe5a'), 'nome': ' cliente1', 'idade': 29, 'emancipado': 'SIM'}\n",
            "{'_id': ObjectId('63890ec791e0366640f4fe5b'), 'nome': ' cliente0', 'idade': 30, 'emancipado': 'SIM'}\n",
            "{'_id': ObjectId('63890ec791e0366640f4fe5c'), 'nome': ' cliente-1', 'idade': 31, 'emancipado': 'SIM'}\n",
            "{'_id': ObjectId('63890ec791e0366640f4fe5d'), 'nome': ' cliente-2', 'idade': 32, 'emancipado': 'SIM'}\n",
            "{'_id': ObjectId('63890ec791e0366640f4fe5e'), 'nome': ' cliente-3', 'idade': 33, 'emancipado': 'SIM'}\n",
            "{'_id': ObjectId('63890ec791e0366640f4fe5f'), 'nome': ' cliente-4', 'idade': 34, 'emancipado': 'SIM'}\n",
            "{'_id': ObjectId('63890ec891e0366640f4fe60'), 'nome': ' cliente-5', 'idade': 35, 'emancipado': 'SIM'}\n",
            "{'_id': ObjectId('63890ec891e0366640f4fe61'), 'nome': ' cliente-6', 'idade': 36, 'emancipado': 'SIM'}\n",
            "{'_id': ObjectId('63890ec891e0366640f4fe62'), 'nome': ' cliente-7', 'idade': 37, 'emancipado': 'SIM'}\n",
            "{'_id': ObjectId('63890ec891e0366640f4fe63'), 'nome': ' cliente-8', 'idade': 38, 'emancipado': 'SIM'}\n",
            "{'_id': ObjectId('63890ec891e0366640f4fe64'), 'nome': ' cliente-9', 'idade': 39, 'emancipado': 'SIM'}\n",
            "{'_id': ObjectId('63890ec891e0366640f4fe65'), 'nome': ' cliente-10', 'idade': 40, 'emancipado': 'SIM'}\n",
            "{'_id': ObjectId('63890ec991e0366640f4fe66'), 'nome': ' cliente-11', 'idade': 41, 'emancipado': 'SIM'}\n",
            "{'_id': ObjectId('63890ec991e0366640f4fe67'), 'nome': ' cliente-12', 'idade': 42, 'emancipado': 'SIM'}\n",
            "{'_id': ObjectId('63890ec991e0366640f4fe68'), 'nome': ' cliente-13', 'idade': 43, 'emancipado': 'SIM'}\n",
            "{'_id': ObjectId('63890ec991e0366640f4fe69'), 'nome': ' cliente-14', 'idade': 44, 'emancipado': 'SIM'}\n",
            "{'_id': ObjectId('63890ec991e0366640f4fe6a'), 'nome': ' cliente-15', 'idade': 45, 'emancipado': 'SIM'}\n",
            "{'_id': ObjectId('63890eca91e0366640f4fe6b'), 'nome': ' cliente-16', 'idade': 46, 'emancipado': 'SIM'}\n",
            "{'_id': ObjectId('63890eca91e0366640f4fe6c'), 'nome': ' cliente-17', 'idade': 47, 'emancipado': 'SIM'}\n",
            "{'_id': ObjectId('63890eca91e0366640f4fe6d'), 'nome': ' cliente-18', 'idade': 48, 'emancipado': 'SIM'}\n",
            "{'_id': ObjectId('63890eca91e0366640f4fe6e'), 'nome': ' cliente-19', 'idade': 49, 'emancipado': 'SIM'}\n",
            "{'_id': ObjectId('638a0b0dc2e873f37dd3a851'), 'nome': 'Igor Godin', 'idade': 33, 'salario': 1200, 'emancipado': 'SIM'}\n",
            "{'_id': ObjectId('638a0b0fc2e873f37dd3a852'), 'nome': 'Franscico Conto', 'idade': 36, 'salario': 3500, 'emancipado': 'SIM'}\n",
            "{'_id': ObjectId('638a0b0fc2e873f37dd3a853'), 'nome': 'Alerrandro', 'idade': 44, 'salario': 1500, 'emancipado': 'SIM'}\n",
            "{'_id': ObjectId('638a0b0fc2e873f37dd3a854'), 'nome': 'Marcia Gomes', 'idade': 33, 'Salario': 1880, 'emancipado': 'SIM'}\n",
            "{'_id': ObjectId('638a0b0fc2e873f37dd3a855'), 'nome': 'Marcia Aurelio', 'idade': 25, 'emancipado': 'SIM'}\n",
            "{'_id': ObjectId('638a0b10c2e873f37dd3a856'), 'nome': 'Paulo Alura', 'idade': 45, 'emancipado': 'SIM'}\n",
            "{'_id': ObjectId('638a0b13c2e873f37dd3a85f'), 'nome': ' cliente12', 'idade': 18, 'emancipado': 'SIM'}\n",
            "{'_id': ObjectId('638a0b13c2e873f37dd3a860'), 'nome': ' cliente11', 'idade': 19, 'emancipado': 'SIM'}\n",
            "{'_id': ObjectId('638a0b13c2e873f37dd3a861'), 'nome': ' cliente10', 'idade': 20, 'emancipado': 'SIM'}\n",
            "{'_id': ObjectId('638a0b13c2e873f37dd3a862'), 'nome': ' cliente9', 'idade': 21, 'emancipado': 'SIM'}\n",
            "{'_id': ObjectId('638a0b13c2e873f37dd3a863'), 'nome': ' cliente8', 'idade': 22, 'emancipado': 'SIM'}\n",
            "{'_id': ObjectId('638a0b13c2e873f37dd3a864'), 'nome': ' cliente7', 'idade': 23, 'emancipado': 'SIM'}\n",
            "{'_id': ObjectId('638a0b13c2e873f37dd3a865'), 'nome': ' cliente6', 'idade': 24, 'emancipado': 'SIM'}\n",
            "{'_id': ObjectId('638a0b14c2e873f37dd3a866'), 'nome': ' cliente5', 'idade': 25, 'emancipado': 'SIM'}\n",
            "{'_id': ObjectId('638a0b14c2e873f37dd3a867'), 'nome': ' cliente4', 'idade': 26, 'emancipado': 'SIM'}\n",
            "{'_id': ObjectId('638a0b14c2e873f37dd3a868'), 'nome': ' cliente3', 'idade': 27, 'emancipado': 'SIM'}\n",
            "{'_id': ObjectId('638a0b14c2e873f37dd3a869'), 'nome': ' cliente2', 'idade': 28, 'emancipado': 'SIM'}\n",
            "{'_id': ObjectId('638a0b14c2e873f37dd3a86a'), 'nome': ' cliente1', 'idade': 29, 'emancipado': 'SIM'}\n",
            "{'_id': ObjectId('638a0b14c2e873f37dd3a86b'), 'nome': ' cliente0', 'idade': 30, 'emancipado': 'SIM'}\n",
            "{'_id': ObjectId('638a0b14c2e873f37dd3a86c'), 'nome': ' cliente-1', 'idade': 31, 'emancipado': 'SIM'}\n",
            "{'_id': ObjectId('638a0b14c2e873f37dd3a86d'), 'nome': ' cliente-2', 'idade': 32, 'emancipado': 'SIM'}\n",
            "{'_id': ObjectId('638a0b15c2e873f37dd3a86e'), 'nome': ' cliente-3', 'idade': 33, 'emancipado': 'SIM'}\n",
            "{'_id': ObjectId('638a0b15c2e873f37dd3a86f'), 'nome': ' cliente-4', 'idade': 34, 'emancipado': 'SIM'}\n",
            "{'_id': ObjectId('638a0b15c2e873f37dd3a870'), 'nome': ' cliente-5', 'idade': 35, 'emancipado': 'SIM'}\n",
            "{'_id': ObjectId('638a0b15c2e873f37dd3a871'), 'nome': ' cliente-6', 'idade': 36, 'emancipado': 'SIM'}\n",
            "{'_id': ObjectId('638a0b15c2e873f37dd3a872'), 'nome': ' cliente-7', 'idade': 37, 'emancipado': 'SIM'}\n",
            "{'_id': ObjectId('638a0b15c2e873f37dd3a873'), 'nome': ' cliente-8', 'idade': 38, 'emancipado': 'SIM'}\n",
            "{'_id': ObjectId('638a0b15c2e873f37dd3a874'), 'nome': ' cliente-9', 'idade': 39, 'emancipado': 'SIM'}\n",
            "{'_id': ObjectId('638a0b15c2e873f37dd3a875'), 'nome': ' cliente-10', 'idade': 40, 'emancipado': 'SIM'}\n",
            "{'_id': ObjectId('638a0b16c2e873f37dd3a876'), 'nome': ' cliente-11', 'idade': 41, 'emancipado': 'SIM'}\n",
            "{'_id': ObjectId('638a0b16c2e873f37dd3a877'), 'nome': ' cliente-12', 'idade': 42, 'emancipado': 'SIM'}\n",
            "{'_id': ObjectId('638a0b16c2e873f37dd3a878'), 'nome': ' cliente-13', 'idade': 43, 'emancipado': 'SIM'}\n",
            "{'_id': ObjectId('638a0b16c2e873f37dd3a879'), 'nome': ' cliente-14', 'idade': 44, 'emancipado': 'SIM'}\n",
            "{'_id': ObjectId('638a0b16c2e873f37dd3a87a'), 'nome': ' cliente-15', 'idade': 45, 'emancipado': 'SIM'}\n",
            "{'_id': ObjectId('638a0b16c2e873f37dd3a87b'), 'nome': ' cliente-16', 'idade': 46, 'emancipado': 'SIM'}\n",
            "{'_id': ObjectId('638a0b16c2e873f37dd3a87c'), 'nome': ' cliente-17', 'idade': 47, 'emancipado': 'SIM'}\n",
            "{'_id': ObjectId('638a0b16c2e873f37dd3a87d'), 'nome': ' cliente-18', 'idade': 48, 'emancipado': 'SIM'}\n",
            "{'_id': ObjectId('638a0b16c2e873f37dd3a87e'), 'nome': ' cliente-19', 'idade': 49, 'emancipado': 'SIM'}\n"
          ]
        }
      ]
    },
    {
      "cell_type": "markdown",
      "source": [
        "#Integração com Pandas"
      ],
      "metadata": {
        "id": "n_5JZPYZBm8J"
      }
    },
    {
      "cell_type": "code",
      "source": [
        "import pandas as pd"
      ],
      "metadata": {
        "id": "BjsHut4gBq1D"
      },
      "execution_count": null,
      "outputs": []
    },
    {
      "cell_type": "markdown",
      "source": [
        "##Extrair do mongo "
      ],
      "metadata": {
        "id": "hHQgcFKZB0Aa"
      }
    },
    {
      "cell_type": "code",
      "source": [
        "#Extrair de uma coleção\n",
        "cursor = colecao.find({})\n",
        "dfmongo = pd.DataFrame(list(cursor))"
      ],
      "metadata": {
        "id": "nFvKxSg-B3Kh"
      },
      "execution_count": null,
      "outputs": []
    },
    {
      "cell_type": "code",
      "source": [
        "dfmongo"
      ],
      "metadata": {
        "colab": {
          "base_uri": "https://localhost:8080/",
          "height": 644
        },
        "id": "CeX0bnAwClgw",
        "outputId": "0703d947-3153-4ce8-fd1d-c776ecf81855"
      },
      "execution_count": null,
      "outputs": [
        {
          "output_type": "execute_result",
          "data": {
            "text/plain": [
              "                          _id         nome  idade  salario emancipado  \\\n",
              "0    6389028b91e0366640f4fe30    Ste Gracy     28   3500.0        SIM   \n",
              "1    6389029b91e0366640f4fe31      Gu Meni     33   5500.0        SIM   \n",
              "2    638902d691e0366640f4fe32      Noah Kg     22   1500.0        SIM   \n",
              "3    6389035591e0366640f4fe33  Leo Santana     28   1250.0        SIM   \n",
              "4    6389036a91e0366640f4fe34         lisa     25   1200.0        SIM   \n",
              "..                        ...          ...    ...      ...        ...   \n",
              "104  638a0b16c2e873f37dd3a87a   cliente-15     45      NaN        SIM   \n",
              "105  638a0b16c2e873f37dd3a87b   cliente-16     46      NaN        SIM   \n",
              "106  638a0b16c2e873f37dd3a87c   cliente-17     47      NaN        SIM   \n",
              "107  638a0b16c2e873f37dd3a87d   cliente-18     48      NaN        SIM   \n",
              "108  638a0b16c2e873f37dd3a87e   cliente-19     49      NaN        SIM   \n",
              "\n",
              "    Nacionalidade  Salario nacionalidade  \n",
              "0             NaN      NaN           NaN  \n",
              "1             NaN      NaN           NaN  \n",
              "2             NaN      NaN           NaN  \n",
              "3             NaN      NaN           NaN  \n",
              "4             NaN      NaN           NaN  \n",
              "..            ...      ...           ...  \n",
              "104           NaN      NaN           NaN  \n",
              "105           NaN      NaN           NaN  \n",
              "106           NaN      NaN           NaN  \n",
              "107           NaN      NaN           NaN  \n",
              "108           NaN      NaN           NaN  \n",
              "\n",
              "[109 rows x 8 columns]"
            ],
            "text/html": [
              "\n",
              "  <div id=\"df-29ea9c07-0829-42da-a496-5f6e2961161b\">\n",
              "    <div class=\"colab-df-container\">\n",
              "      <div>\n",
              "<style scoped>\n",
              "    .dataframe tbody tr th:only-of-type {\n",
              "        vertical-align: middle;\n",
              "    }\n",
              "\n",
              "    .dataframe tbody tr th {\n",
              "        vertical-align: top;\n",
              "    }\n",
              "\n",
              "    .dataframe thead th {\n",
              "        text-align: right;\n",
              "    }\n",
              "</style>\n",
              "<table border=\"1\" class=\"dataframe\">\n",
              "  <thead>\n",
              "    <tr style=\"text-align: right;\">\n",
              "      <th></th>\n",
              "      <th>_id</th>\n",
              "      <th>nome</th>\n",
              "      <th>idade</th>\n",
              "      <th>salario</th>\n",
              "      <th>emancipado</th>\n",
              "      <th>Nacionalidade</th>\n",
              "      <th>Salario</th>\n",
              "      <th>nacionalidade</th>\n",
              "    </tr>\n",
              "  </thead>\n",
              "  <tbody>\n",
              "    <tr>\n",
              "      <th>0</th>\n",
              "      <td>6389028b91e0366640f4fe30</td>\n",
              "      <td>Ste Gracy</td>\n",
              "      <td>28</td>\n",
              "      <td>3500.0</td>\n",
              "      <td>SIM</td>\n",
              "      <td>NaN</td>\n",
              "      <td>NaN</td>\n",
              "      <td>NaN</td>\n",
              "    </tr>\n",
              "    <tr>\n",
              "      <th>1</th>\n",
              "      <td>6389029b91e0366640f4fe31</td>\n",
              "      <td>Gu Meni</td>\n",
              "      <td>33</td>\n",
              "      <td>5500.0</td>\n",
              "      <td>SIM</td>\n",
              "      <td>NaN</td>\n",
              "      <td>NaN</td>\n",
              "      <td>NaN</td>\n",
              "    </tr>\n",
              "    <tr>\n",
              "      <th>2</th>\n",
              "      <td>638902d691e0366640f4fe32</td>\n",
              "      <td>Noah Kg</td>\n",
              "      <td>22</td>\n",
              "      <td>1500.0</td>\n",
              "      <td>SIM</td>\n",
              "      <td>NaN</td>\n",
              "      <td>NaN</td>\n",
              "      <td>NaN</td>\n",
              "    </tr>\n",
              "    <tr>\n",
              "      <th>3</th>\n",
              "      <td>6389035591e0366640f4fe33</td>\n",
              "      <td>Leo Santana</td>\n",
              "      <td>28</td>\n",
              "      <td>1250.0</td>\n",
              "      <td>SIM</td>\n",
              "      <td>NaN</td>\n",
              "      <td>NaN</td>\n",
              "      <td>NaN</td>\n",
              "    </tr>\n",
              "    <tr>\n",
              "      <th>4</th>\n",
              "      <td>6389036a91e0366640f4fe34</td>\n",
              "      <td>lisa</td>\n",
              "      <td>25</td>\n",
              "      <td>1200.0</td>\n",
              "      <td>SIM</td>\n",
              "      <td>NaN</td>\n",
              "      <td>NaN</td>\n",
              "      <td>NaN</td>\n",
              "    </tr>\n",
              "    <tr>\n",
              "      <th>...</th>\n",
              "      <td>...</td>\n",
              "      <td>...</td>\n",
              "      <td>...</td>\n",
              "      <td>...</td>\n",
              "      <td>...</td>\n",
              "      <td>...</td>\n",
              "      <td>...</td>\n",
              "      <td>...</td>\n",
              "    </tr>\n",
              "    <tr>\n",
              "      <th>104</th>\n",
              "      <td>638a0b16c2e873f37dd3a87a</td>\n",
              "      <td>cliente-15</td>\n",
              "      <td>45</td>\n",
              "      <td>NaN</td>\n",
              "      <td>SIM</td>\n",
              "      <td>NaN</td>\n",
              "      <td>NaN</td>\n",
              "      <td>NaN</td>\n",
              "    </tr>\n",
              "    <tr>\n",
              "      <th>105</th>\n",
              "      <td>638a0b16c2e873f37dd3a87b</td>\n",
              "      <td>cliente-16</td>\n",
              "      <td>46</td>\n",
              "      <td>NaN</td>\n",
              "      <td>SIM</td>\n",
              "      <td>NaN</td>\n",
              "      <td>NaN</td>\n",
              "      <td>NaN</td>\n",
              "    </tr>\n",
              "    <tr>\n",
              "      <th>106</th>\n",
              "      <td>638a0b16c2e873f37dd3a87c</td>\n",
              "      <td>cliente-17</td>\n",
              "      <td>47</td>\n",
              "      <td>NaN</td>\n",
              "      <td>SIM</td>\n",
              "      <td>NaN</td>\n",
              "      <td>NaN</td>\n",
              "      <td>NaN</td>\n",
              "    </tr>\n",
              "    <tr>\n",
              "      <th>107</th>\n",
              "      <td>638a0b16c2e873f37dd3a87d</td>\n",
              "      <td>cliente-18</td>\n",
              "      <td>48</td>\n",
              "      <td>NaN</td>\n",
              "      <td>SIM</td>\n",
              "      <td>NaN</td>\n",
              "      <td>NaN</td>\n",
              "      <td>NaN</td>\n",
              "    </tr>\n",
              "    <tr>\n",
              "      <th>108</th>\n",
              "      <td>638a0b16c2e873f37dd3a87e</td>\n",
              "      <td>cliente-19</td>\n",
              "      <td>49</td>\n",
              "      <td>NaN</td>\n",
              "      <td>SIM</td>\n",
              "      <td>NaN</td>\n",
              "      <td>NaN</td>\n",
              "      <td>NaN</td>\n",
              "    </tr>\n",
              "  </tbody>\n",
              "</table>\n",
              "<p>109 rows × 8 columns</p>\n",
              "</div>\n",
              "      <button class=\"colab-df-convert\" onclick=\"convertToInteractive('df-29ea9c07-0829-42da-a496-5f6e2961161b')\"\n",
              "              title=\"Convert this dataframe to an interactive table.\"\n",
              "              style=\"display:none;\">\n",
              "        \n",
              "  <svg xmlns=\"http://www.w3.org/2000/svg\" height=\"24px\"viewBox=\"0 0 24 24\"\n",
              "       width=\"24px\">\n",
              "    <path d=\"M0 0h24v24H0V0z\" fill=\"none\"/>\n",
              "    <path d=\"M18.56 5.44l.94 2.06.94-2.06 2.06-.94-2.06-.94-.94-2.06-.94 2.06-2.06.94zm-11 1L8.5 8.5l.94-2.06 2.06-.94-2.06-.94L8.5 2.5l-.94 2.06-2.06.94zm10 10l.94 2.06.94-2.06 2.06-.94-2.06-.94-.94-2.06-.94 2.06-2.06.94z\"/><path d=\"M17.41 7.96l-1.37-1.37c-.4-.4-.92-.59-1.43-.59-.52 0-1.04.2-1.43.59L10.3 9.45l-7.72 7.72c-.78.78-.78 2.05 0 2.83L4 21.41c.39.39.9.59 1.41.59.51 0 1.02-.2 1.41-.59l7.78-7.78 2.81-2.81c.8-.78.8-2.07 0-2.86zM5.41 20L4 18.59l7.72-7.72 1.47 1.35L5.41 20z\"/>\n",
              "  </svg>\n",
              "      </button>\n",
              "      \n",
              "  <style>\n",
              "    .colab-df-container {\n",
              "      display:flex;\n",
              "      flex-wrap:wrap;\n",
              "      gap: 12px;\n",
              "    }\n",
              "\n",
              "    .colab-df-convert {\n",
              "      background-color: #E8F0FE;\n",
              "      border: none;\n",
              "      border-radius: 50%;\n",
              "      cursor: pointer;\n",
              "      display: none;\n",
              "      fill: #1967D2;\n",
              "      height: 32px;\n",
              "      padding: 0 0 0 0;\n",
              "      width: 32px;\n",
              "    }\n",
              "\n",
              "    .colab-df-convert:hover {\n",
              "      background-color: #E2EBFA;\n",
              "      box-shadow: 0px 1px 2px rgba(60, 64, 67, 0.3), 0px 1px 3px 1px rgba(60, 64, 67, 0.15);\n",
              "      fill: #174EA6;\n",
              "    }\n",
              "\n",
              "    [theme=dark] .colab-df-convert {\n",
              "      background-color: #3B4455;\n",
              "      fill: #D2E3FC;\n",
              "    }\n",
              "\n",
              "    [theme=dark] .colab-df-convert:hover {\n",
              "      background-color: #434B5C;\n",
              "      box-shadow: 0px 1px 3px 1px rgba(0, 0, 0, 0.15);\n",
              "      filter: drop-shadow(0px 1px 2px rgba(0, 0, 0, 0.3));\n",
              "      fill: #FFFFFF;\n",
              "    }\n",
              "  </style>\n",
              "\n",
              "      <script>\n",
              "        const buttonEl =\n",
              "          document.querySelector('#df-29ea9c07-0829-42da-a496-5f6e2961161b button.colab-df-convert');\n",
              "        buttonEl.style.display =\n",
              "          google.colab.kernel.accessAllowed ? 'block' : 'none';\n",
              "\n",
              "        async function convertToInteractive(key) {\n",
              "          const element = document.querySelector('#df-29ea9c07-0829-42da-a496-5f6e2961161b');\n",
              "          const dataTable =\n",
              "            await google.colab.kernel.invokeFunction('convertToInteractive',\n",
              "                                                     [key], {});\n",
              "          if (!dataTable) return;\n",
              "\n",
              "          const docLinkHtml = 'Like what you see? Visit the ' +\n",
              "            '<a target=\"_blank\" href=https://colab.research.google.com/notebooks/data_table.ipynb>data table notebook</a>'\n",
              "            + ' to learn more about interactive tables.';\n",
              "          element.innerHTML = '';\n",
              "          dataTable['output_type'] = 'display_data';\n",
              "          await google.colab.output.renderOutput(dataTable, element);\n",
              "          const docLink = document.createElement('div');\n",
              "          docLink.innerHTML = docLinkHtml;\n",
              "          element.appendChild(docLink);\n",
              "        }\n",
              "      </script>\n",
              "    </div>\n",
              "  </div>\n",
              "  "
            ]
          },
          "metadata": {},
          "execution_count": 88
        }
      ]
    },
    {
      "cell_type": "code",
      "source": [
        "dfmongo.dtypes"
      ],
      "metadata": {
        "colab": {
          "base_uri": "https://localhost:8080/"
        },
        "id": "ECnQf0mWCwCD",
        "outputId": "85f78745-6915-4f4b-b0bf-c865403c39c3"
      },
      "execution_count": null,
      "outputs": [
        {
          "output_type": "execute_result",
          "data": {
            "text/plain": [
              "_id               object\n",
              "nome              object\n",
              "idade              int64\n",
              "salario          float64\n",
              "emancipado        object\n",
              "Nacionalidade     object\n",
              "Salario          float64\n",
              "nacionalidade     object\n",
              "dtype: object"
            ]
          },
          "metadata": {},
          "execution_count": 89
        }
      ]
    },
    {
      "cell_type": "markdown",
      "source": [
        "#Base cenipa"
      ],
      "metadata": {
        "id": "nIdkes1lFxng"
      }
    },
    {
      "cell_type": "code",
      "source": [
        "df = pd.read_csv('https://storage.googleapis.com/bc26-bucket/ocorrencia.csv',sep=';',encoding = 'ISO-8859-1',parse_dates=['ocorrencia_dia'],dayfirst=True)"
      ],
      "metadata": {
        "id": "7nAoGGe6Fx8u"
      },
      "execution_count": null,
      "outputs": []
    },
    {
      "cell_type": "code",
      "source": [
        "#Dropagem das colunas que tinham dados repetidos\n",
        "df.drop(['codigo_ocorrencia1','codigo_ocorrencia2','codigo_ocorrencia3','codigo_ocorrencia4'],axis=1,inplace=True)\n",
        "#Drop de colunas que não serão utilizadas\n",
        "df.drop(['ocorrencia_latitude','ocorrencia_longitude','investigacao_aeronave_liberada','investigacao_status','divulgacao_relatorio_numero','divulgacao_relatorio_publicado','divulgacao_dia_publicacao'],axis=1,inplace=True)"
      ],
      "metadata": {
        "id": "1rgE4-1Iq_3P"
      },
      "execution_count": null,
      "outputs": []
    },
    {
      "cell_type": "code",
      "source": [
        "#Renomear as colunas\n",
        "df.rename(columns={'codigo_ocorrencia':'ocorrencia','ocorrencia_classificacao':'classificacao','ocorrencia_cidade':'cidade','ocorrencia_uf':'uf','ocorrencia_pais':'pais','ocorrencia_aerodromo':'aerodromo'},inplace=True)\n",
        "df.rename(columns={'ocorrencia_dia':'dia','ocorrencia_hora':'horario','total_recomendacoes':'recomendacoes','total_aeronaves_envolvidas':'n_aeronaves','ocorrencia_saida_pista':'saida_pista'},inplace=True)"
      ],
      "metadata": {
        "id": "6N8tBic6ADHN"
      },
      "execution_count": null,
      "outputs": []
    },
    {
      "cell_type": "code",
      "source": [
        "df.replace(['***','**NI'],pd.NA,inplace=True)"
      ],
      "metadata": {
        "id": "hU1DjofxGRlf"
      },
      "execution_count": null,
      "outputs": []
    },
    {
      "cell_type": "code",
      "source": [
        "df.replace(pd.NA,np.NaN,inplace=True)"
      ],
      "metadata": {
        "id": "Ra5GwK03rMEc"
      },
      "execution_count": null,
      "outputs": []
    },
    {
      "cell_type": "code",
      "source": [
        "#converter coluna dia\n",
        "df['dia'] = df['dia'].astype(str)"
      ],
      "metadata": {
        "id": "FgE4s23_Y0ja"
      },
      "execution_count": null,
      "outputs": []
    },
    {
      "cell_type": "code",
      "source": [
        "#criar a coluna de data\n",
        "df['data'] = pd.to_datetime(df['dia']+' '+df['horario'])"
      ],
      "metadata": {
        "id": "Vj6oaIVegFSy"
      },
      "execution_count": null,
      "outputs": []
    },
    {
      "cell_type": "code",
      "source": [
        "df.drop(['dia','horario'],axis=1,inplace=True)"
      ],
      "metadata": {
        "id": "1CdewOt6jd3f"
      },
      "execution_count": null,
      "outputs": []
    },
    {
      "cell_type": "code",
      "source": [
        "df2 = df[['ocorrencia','data','aerodromo','cidade','uf','classificacao','n_aeronaves','saida_pista','recomendacoes']]"
      ],
      "metadata": {
        "id": "P9btNhOqGidN"
      },
      "execution_count": null,
      "outputs": []
    },
    {
      "cell_type": "code",
      "source": [
        "df2"
      ],
      "metadata": {
        "colab": {
          "base_uri": "https://localhost:8080/",
          "height": 835
        },
        "id": "FcdRo6NEHSFW",
        "outputId": "786791cd-35ce-4023-a8c3-a803a2c61998"
      },
      "execution_count": null,
      "outputs": [
        {
          "output_type": "execute_result",
          "data": {
            "text/plain": [
              "      ocorrencia                data aerodromo              cidade  uf  \\\n",
              "0          81027 2022-10-09 16:30:00      SBSP           SÃO PAULO  SP   \n",
              "1          81030 2022-10-09 16:20:00      SBVT             VITÓRIA  ES   \n",
              "2          81023 2022-10-06 15:30:00      SDAI           AMERICANA  SP   \n",
              "3          81029 2022-10-06 00:44:00      SBBH      BELO HORIZONTE  MG   \n",
              "4          81025 2022-10-05 20:56:00      SBEG              MANAUS  AM   \n",
              "...          ...                 ...       ...                 ...  ..   \n",
              "6764       40324 2010-01-05 19:25:00      SBPK             PELOTAS  RS   \n",
              "6765       39527 2010-01-04 17:30:00       NaN  LUCAS DO RIO VERDE  MT   \n",
              "6766       40211 2010-01-03 12:00:00       NaN      RIO DE JANEIRO  RJ   \n",
              "6767       40349 2010-01-03 11:05:00      SBBE               BELÉM  PA   \n",
              "6768       40351 2010-01-03 03:00:00      SBRJ      RIO DE JANEIRO  RJ   \n",
              "\n",
              "        classificacao  n_aeronaves saida_pista  recomendacoes  \n",
              "0     INCIDENTE GRAVE            1         SIM              0  \n",
              "1           INCIDENTE            1         NÃO              0  \n",
              "2     INCIDENTE GRAVE            1         SIM              0  \n",
              "3           INCIDENTE            1         NÃO              0  \n",
              "4           INCIDENTE            1         NÃO              0  \n",
              "...               ...          ...         ...            ...  \n",
              "6764        INCIDENTE            1         NÃO              0  \n",
              "6765         ACIDENTE            1         NÃO              0  \n",
              "6766        INCIDENTE            1         NÃO              0  \n",
              "6767        INCIDENTE            1         NÃO              0  \n",
              "6768        INCIDENTE            1         NÃO              0  \n",
              "\n",
              "[6769 rows x 9 columns]"
            ],
            "text/html": [
              "\n",
              "  <div id=\"df-8a01f37a-5c38-406b-9bdc-ab835d076531\">\n",
              "    <div class=\"colab-df-container\">\n",
              "      <div>\n",
              "<style scoped>\n",
              "    .dataframe tbody tr th:only-of-type {\n",
              "        vertical-align: middle;\n",
              "    }\n",
              "\n",
              "    .dataframe tbody tr th {\n",
              "        vertical-align: top;\n",
              "    }\n",
              "\n",
              "    .dataframe thead th {\n",
              "        text-align: right;\n",
              "    }\n",
              "</style>\n",
              "<table border=\"1\" class=\"dataframe\">\n",
              "  <thead>\n",
              "    <tr style=\"text-align: right;\">\n",
              "      <th></th>\n",
              "      <th>ocorrencia</th>\n",
              "      <th>data</th>\n",
              "      <th>aerodromo</th>\n",
              "      <th>cidade</th>\n",
              "      <th>uf</th>\n",
              "      <th>classificacao</th>\n",
              "      <th>n_aeronaves</th>\n",
              "      <th>saida_pista</th>\n",
              "      <th>recomendacoes</th>\n",
              "    </tr>\n",
              "  </thead>\n",
              "  <tbody>\n",
              "    <tr>\n",
              "      <th>0</th>\n",
              "      <td>81027</td>\n",
              "      <td>2022-10-09 16:30:00</td>\n",
              "      <td>SBSP</td>\n",
              "      <td>SÃO PAULO</td>\n",
              "      <td>SP</td>\n",
              "      <td>INCIDENTE GRAVE</td>\n",
              "      <td>1</td>\n",
              "      <td>SIM</td>\n",
              "      <td>0</td>\n",
              "    </tr>\n",
              "    <tr>\n",
              "      <th>1</th>\n",
              "      <td>81030</td>\n",
              "      <td>2022-10-09 16:20:00</td>\n",
              "      <td>SBVT</td>\n",
              "      <td>VITÓRIA</td>\n",
              "      <td>ES</td>\n",
              "      <td>INCIDENTE</td>\n",
              "      <td>1</td>\n",
              "      <td>NÃO</td>\n",
              "      <td>0</td>\n",
              "    </tr>\n",
              "    <tr>\n",
              "      <th>2</th>\n",
              "      <td>81023</td>\n",
              "      <td>2022-10-06 15:30:00</td>\n",
              "      <td>SDAI</td>\n",
              "      <td>AMERICANA</td>\n",
              "      <td>SP</td>\n",
              "      <td>INCIDENTE GRAVE</td>\n",
              "      <td>1</td>\n",
              "      <td>SIM</td>\n",
              "      <td>0</td>\n",
              "    </tr>\n",
              "    <tr>\n",
              "      <th>3</th>\n",
              "      <td>81029</td>\n",
              "      <td>2022-10-06 00:44:00</td>\n",
              "      <td>SBBH</td>\n",
              "      <td>BELO HORIZONTE</td>\n",
              "      <td>MG</td>\n",
              "      <td>INCIDENTE</td>\n",
              "      <td>1</td>\n",
              "      <td>NÃO</td>\n",
              "      <td>0</td>\n",
              "    </tr>\n",
              "    <tr>\n",
              "      <th>4</th>\n",
              "      <td>81025</td>\n",
              "      <td>2022-10-05 20:56:00</td>\n",
              "      <td>SBEG</td>\n",
              "      <td>MANAUS</td>\n",
              "      <td>AM</td>\n",
              "      <td>INCIDENTE</td>\n",
              "      <td>1</td>\n",
              "      <td>NÃO</td>\n",
              "      <td>0</td>\n",
              "    </tr>\n",
              "    <tr>\n",
              "      <th>...</th>\n",
              "      <td>...</td>\n",
              "      <td>...</td>\n",
              "      <td>...</td>\n",
              "      <td>...</td>\n",
              "      <td>...</td>\n",
              "      <td>...</td>\n",
              "      <td>...</td>\n",
              "      <td>...</td>\n",
              "      <td>...</td>\n",
              "    </tr>\n",
              "    <tr>\n",
              "      <th>6764</th>\n",
              "      <td>40324</td>\n",
              "      <td>2010-01-05 19:25:00</td>\n",
              "      <td>SBPK</td>\n",
              "      <td>PELOTAS</td>\n",
              "      <td>RS</td>\n",
              "      <td>INCIDENTE</td>\n",
              "      <td>1</td>\n",
              "      <td>NÃO</td>\n",
              "      <td>0</td>\n",
              "    </tr>\n",
              "    <tr>\n",
              "      <th>6765</th>\n",
              "      <td>39527</td>\n",
              "      <td>2010-01-04 17:30:00</td>\n",
              "      <td>NaN</td>\n",
              "      <td>LUCAS DO RIO VERDE</td>\n",
              "      <td>MT</td>\n",
              "      <td>ACIDENTE</td>\n",
              "      <td>1</td>\n",
              "      <td>NÃO</td>\n",
              "      <td>0</td>\n",
              "    </tr>\n",
              "    <tr>\n",
              "      <th>6766</th>\n",
              "      <td>40211</td>\n",
              "      <td>2010-01-03 12:00:00</td>\n",
              "      <td>NaN</td>\n",
              "      <td>RIO DE JANEIRO</td>\n",
              "      <td>RJ</td>\n",
              "      <td>INCIDENTE</td>\n",
              "      <td>1</td>\n",
              "      <td>NÃO</td>\n",
              "      <td>0</td>\n",
              "    </tr>\n",
              "    <tr>\n",
              "      <th>6767</th>\n",
              "      <td>40349</td>\n",
              "      <td>2010-01-03 11:05:00</td>\n",
              "      <td>SBBE</td>\n",
              "      <td>BELÉM</td>\n",
              "      <td>PA</td>\n",
              "      <td>INCIDENTE</td>\n",
              "      <td>1</td>\n",
              "      <td>NÃO</td>\n",
              "      <td>0</td>\n",
              "    </tr>\n",
              "    <tr>\n",
              "      <th>6768</th>\n",
              "      <td>40351</td>\n",
              "      <td>2010-01-03 03:00:00</td>\n",
              "      <td>SBRJ</td>\n",
              "      <td>RIO DE JANEIRO</td>\n",
              "      <td>RJ</td>\n",
              "      <td>INCIDENTE</td>\n",
              "      <td>1</td>\n",
              "      <td>NÃO</td>\n",
              "      <td>0</td>\n",
              "    </tr>\n",
              "  </tbody>\n",
              "</table>\n",
              "<p>6769 rows × 9 columns</p>\n",
              "</div>\n",
              "      <button class=\"colab-df-convert\" onclick=\"convertToInteractive('df-8a01f37a-5c38-406b-9bdc-ab835d076531')\"\n",
              "              title=\"Convert this dataframe to an interactive table.\"\n",
              "              style=\"display:none;\">\n",
              "        \n",
              "  <svg xmlns=\"http://www.w3.org/2000/svg\" height=\"24px\"viewBox=\"0 0 24 24\"\n",
              "       width=\"24px\">\n",
              "    <path d=\"M0 0h24v24H0V0z\" fill=\"none\"/>\n",
              "    <path d=\"M18.56 5.44l.94 2.06.94-2.06 2.06-.94-2.06-.94-.94-2.06-.94 2.06-2.06.94zm-11 1L8.5 8.5l.94-2.06 2.06-.94-2.06-.94L8.5 2.5l-.94 2.06-2.06.94zm10 10l.94 2.06.94-2.06 2.06-.94-2.06-.94-.94-2.06-.94 2.06-2.06.94z\"/><path d=\"M17.41 7.96l-1.37-1.37c-.4-.4-.92-.59-1.43-.59-.52 0-1.04.2-1.43.59L10.3 9.45l-7.72 7.72c-.78.78-.78 2.05 0 2.83L4 21.41c.39.39.9.59 1.41.59.51 0 1.02-.2 1.41-.59l7.78-7.78 2.81-2.81c.8-.78.8-2.07 0-2.86zM5.41 20L4 18.59l7.72-7.72 1.47 1.35L5.41 20z\"/>\n",
              "  </svg>\n",
              "      </button>\n",
              "      \n",
              "  <style>\n",
              "    .colab-df-container {\n",
              "      display:flex;\n",
              "      flex-wrap:wrap;\n",
              "      gap: 12px;\n",
              "    }\n",
              "\n",
              "    .colab-df-convert {\n",
              "      background-color: #E8F0FE;\n",
              "      border: none;\n",
              "      border-radius: 50%;\n",
              "      cursor: pointer;\n",
              "      display: none;\n",
              "      fill: #1967D2;\n",
              "      height: 32px;\n",
              "      padding: 0 0 0 0;\n",
              "      width: 32px;\n",
              "    }\n",
              "\n",
              "    .colab-df-convert:hover {\n",
              "      background-color: #E2EBFA;\n",
              "      box-shadow: 0px 1px 2px rgba(60, 64, 67, 0.3), 0px 1px 3px 1px rgba(60, 64, 67, 0.15);\n",
              "      fill: #174EA6;\n",
              "    }\n",
              "\n",
              "    [theme=dark] .colab-df-convert {\n",
              "      background-color: #3B4455;\n",
              "      fill: #D2E3FC;\n",
              "    }\n",
              "\n",
              "    [theme=dark] .colab-df-convert:hover {\n",
              "      background-color: #434B5C;\n",
              "      box-shadow: 0px 1px 3px 1px rgba(0, 0, 0, 0.15);\n",
              "      filter: drop-shadow(0px 1px 2px rgba(0, 0, 0, 0.3));\n",
              "      fill: #FFFFFF;\n",
              "    }\n",
              "  </style>\n",
              "\n",
              "      <script>\n",
              "        const buttonEl =\n",
              "          document.querySelector('#df-8a01f37a-5c38-406b-9bdc-ab835d076531 button.colab-df-convert');\n",
              "        buttonEl.style.display =\n",
              "          google.colab.kernel.accessAllowed ? 'block' : 'none';\n",
              "\n",
              "        async function convertToInteractive(key) {\n",
              "          const element = document.querySelector('#df-8a01f37a-5c38-406b-9bdc-ab835d076531');\n",
              "          const dataTable =\n",
              "            await google.colab.kernel.invokeFunction('convertToInteractive',\n",
              "                                                     [key], {});\n",
              "          if (!dataTable) return;\n",
              "\n",
              "          const docLinkHtml = 'Like what you see? Visit the ' +\n",
              "            '<a target=\"_blank\" href=https://colab.research.google.com/notebooks/data_table.ipynb>data table notebook</a>'\n",
              "            + ' to learn more about interactive tables.';\n",
              "          element.innerHTML = '';\n",
              "          dataTable['output_type'] = 'display_data';\n",
              "          await google.colab.output.renderOutput(dataTable, element);\n",
              "          const docLink = document.createElement('div');\n",
              "          docLink.innerHTML = docLinkHtml;\n",
              "          element.appendChild(docLink);\n",
              "        }\n",
              "      </script>\n",
              "    </div>\n",
              "  </div>\n",
              "  "
            ]
          },
          "metadata": {},
          "execution_count": 114
        }
      ]
    },
    {
      "cell_type": "markdown",
      "source": [
        "#Enviar o DataFrame para o mongo"
      ],
      "metadata": {
        "id": "cKRYmZM6G11g"
      }
    },
    {
      "cell_type": "code",
      "source": [
        "db2 = cliente ['cenipa']\n",
        "colecaocenipa = db2 ['tratado']\n",
        "colecaocenipa.count_documents({})"
      ],
      "metadata": {
        "colab": {
          "base_uri": "https://localhost:8080/",
          "height": 200
        },
        "id": "vgw2ShZ2HXRR",
        "outputId": "770b5c47-4dbb-40e6-ed40-81789f82bba2"
      },
      "execution_count": null,
      "outputs": [
        {
          "output_type": "error",
          "ename": "NameError",
          "evalue": "ignored",
          "traceback": [
            "\u001b[0;31m---------------------------------------------------------------------------\u001b[0m",
            "\u001b[0;31mNameError\u001b[0m                                 Traceback (most recent call last)",
            "\u001b[0;32m<ipython-input-100-3278529ef83c>\u001b[0m in \u001b[0;36m<module>\u001b[0;34m\u001b[0m\n\u001b[0;32m----> 1\u001b[0;31m \u001b[0mdb2\u001b[0m \u001b[0;34m=\u001b[0m \u001b[0mcliente\u001b[0m \u001b[0;34m[\u001b[0m\u001b[0;34m'cenipa'\u001b[0m\u001b[0;34m]\u001b[0m\u001b[0;34m\u001b[0m\u001b[0;34m\u001b[0m\u001b[0m\n\u001b[0m\u001b[1;32m      2\u001b[0m \u001b[0mcolecaocenipa\u001b[0m \u001b[0;34m=\u001b[0m \u001b[0mdb2\u001b[0m \u001b[0;34m[\u001b[0m\u001b[0;34m'tratado'\u001b[0m\u001b[0;34m]\u001b[0m\u001b[0;34m\u001b[0m\u001b[0;34m\u001b[0m\u001b[0m\n\u001b[1;32m      3\u001b[0m \u001b[0mcolecaocenipa\u001b[0m\u001b[0;34m.\u001b[0m\u001b[0mcount_documents\u001b[0m\u001b[0;34m(\u001b[0m\u001b[0;34m{\u001b[0m\u001b[0;34m}\u001b[0m\u001b[0;34m)\u001b[0m\u001b[0;34m\u001b[0m\u001b[0;34m\u001b[0m\u001b[0m\n",
            "\u001b[0;31mNameError\u001b[0m: name 'cliente' is not defined"
          ]
        }
      ]
    },
    {
      "cell_type": "code",
      "source": [],
      "metadata": {
        "id": "HTHWdmK7IB55"
      },
      "execution_count": null,
      "outputs": []
    }
  ]
}