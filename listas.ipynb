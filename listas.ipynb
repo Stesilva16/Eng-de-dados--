{
  "nbformat": 4,
  "nbformat_minor": 0,
  "metadata": {
    "colab": {
      "provenance": [],
      "include_colab_link": true
    },
    "kernelspec": {
      "name": "python3",
      "display_name": "Python 3"
    },
    "language_info": {
      "name": "python"
    }
  },
  "cells": [
    {
      "cell_type": "markdown",
      "metadata": {
        "id": "view-in-github",
        "colab_type": "text"
      },
      "source": [
        "<a href=\"https://colab.research.google.com/github/Stesilva16/Eng-de-dados--/blob/main/listas.ipynb\" target=\"_parent\"><img src=\"https://colab.research.google.com/assets/colab-badge.svg\" alt=\"Open In Colab\"/></a>"
      ]
    },
    {
      "cell_type": "code",
      "execution_count": null,
      "metadata": {
        "colab": {
          "base_uri": "https://localhost:8080/"
        },
        "id": "7IAbjE2AJFip",
        "outputId": "765d01f6-3824-40ab-c78e-182fe02aac1a"
      },
      "outputs": [
        {
          "output_type": "execute_result",
          "data": {
            "text/plain": [
              "list"
            ]
          },
          "metadata": {},
          "execution_count": 1
        }
      ],
      "source": [
        "#Básico de Listas\n",
        "frutas = [] #Criando uma lista vazia\n",
        "frutas = ['Laranja', 'Morango', 'Melancia']\n",
        "numeros = [0, 10, 25]\n",
        "notas = [1.5, 9.8, 7.5]\n",
        "\n",
        "mistureba = ['João Carlos', 1.75, True, 10]\n",
        "\n",
        "lista = ['carlos', ['Laranja', 'Kiwi'], [['E por aí vai']]]"
      ]
    },
    {
      "cell_type": "code",
      "source": [
        "carros = [\"Corolla\", 'Gol', 'Ônix',['laranja', 'limão'], 'Hilux']\n",
        "print(carros[0:4])\n",
        "carros[3][1]\n",
        "carros[0] = 'Fusca'\n",
        "carros[3] = 'Chevete'\n",
        "print(carros)"
      ],
      "metadata": {
        "colab": {
          "base_uri": "https://localhost:8080/",
          "height": 236
        },
        "id": "lLeyyEmiRWNW",
        "outputId": "6ee8afcc-659a-4ba2-e04f-ba79201af6c0"
      },
      "execution_count": null,
      "outputs": [
        {
          "output_type": "stream",
          "name": "stdout",
          "text": [
            "['Corolla', 'Gol', 'Ônix', ['laranja', 'limão']]\n"
          ]
        },
        {
          "output_type": "error",
          "ename": "IndexError",
          "evalue": "ignored",
          "traceback": [
            "\u001b[0;31m---------------------------------------------------------------------------\u001b[0m",
            "\u001b[0;31mIndexError\u001b[0m                                Traceback (most recent call last)",
            "\u001b[0;32m<ipython-input-16-5c8b7890159b>\u001b[0m in \u001b[0;36m<module>\u001b[0;34m\u001b[0m\n\u001b[1;32m      4\u001b[0m \u001b[0mcarros\u001b[0m\u001b[0;34m[\u001b[0m\u001b[0;36m0\u001b[0m\u001b[0;34m]\u001b[0m \u001b[0;34m=\u001b[0m \u001b[0;34m'Fusca'\u001b[0m\u001b[0;34m\u001b[0m\u001b[0;34m\u001b[0m\u001b[0m\n\u001b[1;32m      5\u001b[0m \u001b[0mcarros\u001b[0m\u001b[0;34m[\u001b[0m\u001b[0;36m3\u001b[0m\u001b[0;34m]\u001b[0m \u001b[0;34m=\u001b[0m \u001b[0;34m'Chevete'\u001b[0m\u001b[0;34m\u001b[0m\u001b[0;34m\u001b[0m\u001b[0m\n\u001b[0;32m----> 6\u001b[0;31m \u001b[0mcarros\u001b[0m\u001b[0;34m[\u001b[0m\u001b[0;36m5\u001b[0m\u001b[0;34m]\u001b[0m \u001b[0;34m=\u001b[0m \u001b[0;34m'Astra'\u001b[0m\u001b[0;34m\u001b[0m\u001b[0;34m\u001b[0m\u001b[0m\n\u001b[0m\u001b[1;32m      7\u001b[0m \u001b[0mprint\u001b[0m\u001b[0;34m(\u001b[0m\u001b[0mcarros\u001b[0m\u001b[0;34m)\u001b[0m\u001b[0;34m\u001b[0m\u001b[0;34m\u001b[0m\u001b[0m\n",
            "\u001b[0;31mIndexError\u001b[0m: list assignment index out of range"
          ]
        }
      ]
    },
    {
      "cell_type": "code",
      "source": [
        "#MÉTODOS DE LISTA - Inserção\n",
        "#APPEND - ADICIONA UM ELEMENTO AO FINAL DA LISTA\n",
        "carros.append('Astra')\n",
        "print(carros)\n",
        "#INSERT - ADICIONA UM ELEMENTO EM UM ÍNDICE QUALQUER\n",
        "carros.insert(0, 'Pálio')\n",
        "print(carros)\n",
        "carros.insert(2, 'Uno')\n",
        "print(carros)\n",
        "#EXTEND\n"
      ],
      "metadata": {
        "colab": {
          "base_uri": "https://localhost:8080/"
        },
        "id": "RX6XhszUU2Me",
        "outputId": "91133c25-9567-4fe2-c4d8-667da9b4433c"
      },
      "execution_count": null,
      "outputs": [
        {
          "output_type": "stream",
          "name": "stdout",
          "text": [
            "['Pálio', 'Fusca', 'Gol', 'Ônix', 'Chevete', 'Hilux', 'Astra', 'Astra', 'Astra']\n",
            "['Pálio', 'Pálio', 'Fusca', 'Gol', 'Ônix', 'Chevete', 'Hilux', 'Astra', 'Astra', 'Astra']\n",
            "['Pálio', 'Pálio', 'Uno', 'Fusca', 'Gol', 'Ônix', 'Chevete', 'Hilux', 'Astra', 'Astra', 'Astra']\n"
          ]
        }
      ]
    },
    {
      "cell_type": "code",
      "source": [
        "#lista de compras\n",
        "compras = ['Arroz', 'feijão', 'óleo']\n",
        "compras2 = ['Maminha', 'Patinho']\n",
        "\n",
        "compras.extend(compras2)\n",
        "\n",
        "print(compras2)"
      ],
      "metadata": {
        "colab": {
          "base_uri": "https://localhost:8080/"
        },
        "id": "hKj8tETqZovl",
        "outputId": "31cc95d0-1407-4366-de46-9db504f6b199"
      },
      "execution_count": null,
      "outputs": [
        {
          "output_type": "stream",
          "name": "stdout",
          "text": [
            "['Maminha', 'Patinho']\n"
          ]
        }
      ]
    },
    {
      "cell_type": "code",
      "source": [
        "#Remover itens de uma lista\n",
        "#1º Pelo Elemento que eu quero remover\n",
        "compras.remove('Arroz')\n",
        "print(compras)\n",
        "#2º Pelo índice que eu quero remover\n",
        "compras.pop(0)\n",
        "print(compras)\n",
        "#3º Outra forma pelo índice\n",
        "del compras[0]\n",
        "print(compras)\n",
        "\n",
        "#del compras - Exclui a lista e ela deixa de existir\n",
        "\n",
        "compras.clear() #Limpa a lista e deixa ela vazia\n",
        "print(compras)\n"
      ],
      "metadata": {
        "colab": {
          "base_uri": "https://localhost:8080/"
        },
        "id": "dXgZrkRBawLG",
        "outputId": "0d445b57-8d86-41d7-b307-d76a94082f72"
      },
      "execution_count": null,
      "outputs": [
        {
          "output_type": "stream",
          "name": "stdout",
          "text": [
            "['feijão', 'óleo', 'Maminha', 'Patinho']\n",
            "['óleo', 'Maminha', 'Patinho']\n",
            "['Maminha', 'Patinho']\n",
            "[]\n"
          ]
        }
      ]
    },
    {
      "cell_type": "code",
      "source": [
        "#Iterar sobre a lista\n",
        "print(compras)\n",
        "\n",
        "#1ª forma - for in\n",
        "  #for x in compras:\n",
        "#   print(x)\n",
        "\n",
        "#2ª forma - for com range\n",
        "\n",
        "for i in range(len(compras)):\n",
        "  print(compras[i])\n",
        "\n",
        "#3ª forma = while com range\n",
        "\n",
        "i = 0\n",
        "while i < len(compras):\n",
        "  print(compras[i])\n",
        "  i += 1"
      ],
      "metadata": {
        "colab": {
          "base_uri": "https://localhost:8080/"
        },
        "id": "OKWTqTpwdci9",
        "outputId": "daea0405-0db7-4667-8de5-444fb55d4efd"
      },
      "execution_count": null,
      "outputs": [
        {
          "output_type": "stream",
          "name": "stdout",
          "text": [
            "['Arroz', 'feijão', 'óleo', 'Maminha', 'Patinho']\n",
            "Arroz\n",
            "feijão\n",
            "óleo\n",
            "Maminha\n",
            "Patinho\n",
            "Arroz\n",
            "feijão\n",
            "óleo\n",
            "Maminha\n",
            "Patinho\n"
          ]
        }
      ]
    },
    {
      "cell_type": "code",
      "source": [
        "frutas = ['Melancia', 'laranja', 'Abacate', 'abacaxi', 'limao', 'banana', 'quiui']\n",
        "frutas_backup = frutas"
      ],
      "metadata": {
        "id": "vVsITOm0o7zR"
      },
      "execution_count": null,
      "outputs": []
    },
    {
      "cell_type": "code",
      "source": [
        "#Ordenação de listas\n",
        "\n",
        "print(frutas)\n",
        "frutas.sort(key = str.lower)\n",
        "\n",
        "print(frutas)\n",
        "\n",
        "numeros = [19, 4, 26, -14, 0, 27, 100, 1, 59, -7]\n",
        "numeros.sort(reverse = True)\n",
        "print(numeros)"
      ],
      "metadata": {
        "colab": {
          "base_uri": "https://localhost:8080/"
        },
        "id": "9qUIwngoh0-e",
        "outputId": "fb990e38-d883-464e-f5f6-34830720717e"
      },
      "execution_count": null,
      "outputs": [
        {
          "output_type": "stream",
          "name": "stdout",
          "text": [
            "['Abacate', 'Melancia', 'abacaxi', 'banana', 'laranja', 'limao', 'quiui']\n",
            "['Abacate', 'abacaxi', 'banana', 'laranja', 'limao', 'Melancia', 'quiui']\n",
            "[100, 59, 27, 26, 19, 4, 1, 0, -7, -14]\n"
          ]
        }
      ]
    },
    {
      "cell_type": "markdown",
      "source": [
        "1) Faça um Programa que leia uma lista de 5 números inteiros e mostre-os.\n",
        "\n",
        "2) Faça um Programa que leia uma lista de 10 números reais e mostre-os na ordem inversa.\n",
        "\n",
        "3) Faça um Programa que leia 4 notas de aluno e armazene-as dentro de uma lista. Em seguida mostre as notas e a média das notas na tela.\n",
        "\n",
        "4) Faça um Programa que leia 20 números inteiros e armazene-os numa lista. Em seguida, crie mais 2 listas, uma para armazenar os números pares e outra para armazenar os números impares. Ao final, Imprima as três listas.\n",
        "\n",
        "5) Faça um Programa que peça as quatro notas de 10 alunos junto com o seu nome. Calcule e armazene numa lista a média de cada aluno, bem como em outra lista armazene o nome do aluno. Ao final imprima o número de alunos com média maior ou igual a 7.0 junto com o seu nome e a média.\n",
        "\n",
        "6) Faça um Programa que leia uma lista de 5 números inteiros. Após, percorra a lista e calcule a soma e a multiplicação dos números. Ao final, mostre os números lidos, a soma dos números e a multiplicação entre eles.\n",
        "\n",
        "7) Faça um Programa que leia uma lista A com 10 números inteiros, calcule e mostre a soma dos quadrados dos elementos da lista.\n",
        "\n",
        "8) Faça um programa que leia o nome, a idade e a altura de 10 alunos da SoulCode. Em seguida determine quantos alunos com mais de 13 anos possuem altura inferior à média de altura desses alunos."
      ],
      "metadata": {
        "id": "P3HmpMxNq7sB"
      }
    },
    {
      "cell_type": "code",
      "source": [
        "# 1) Faça um Programa que leia uma lista de 5 números inteiros e mostre-os.\n",
        "numeros = []\n",
        "\n",
        "for i in range(5):\n",
        "  numeros.append(int(input(f'Digite o {i+1}º número da lista: ')))\n",
        "\n",
        "for x in numeros:\n",
        "  print(x, end=' ')\n",
        "\n",
        "print('\\n')\n",
        "\n",
        "for i in range(5):\n",
        "  print(numeros[i], end=' ')\n",
        "print('\\n')\n",
        "\n",
        "for i in range(len(numeros)):\n",
        "  print(numeros[i], end=' ')"
      ],
      "metadata": {
        "colab": {
          "base_uri": "https://localhost:8080/"
        },
        "id": "T50-iVobLjAP",
        "outputId": "c02e4327-000b-44f6-c2f7-f75d29cd3aba"
      },
      "execution_count": null,
      "outputs": [
        {
          "output_type": "stream",
          "name": "stdout",
          "text": [
            "Digite o 1º número da lista: 5\n",
            "Digite o 2º número da lista: 6\n",
            "Digite o 3º número da lista: 119\n",
            "Digite o 4º número da lista: -8\n",
            "Digite o 5º número da lista: -78\n",
            "5 6 119 -8 -78 \n",
            "\n",
            "5 6 119 -8 -78 \n",
            "\n",
            "5 6 119 -8 -78 "
          ]
        }
      ]
    },
    {
      "cell_type": "code",
      "source": [
        "#2) Faça um Programa que leia uma lista de 10 números reais e mostre-os na ordem inversa.\n",
        "numeros = []\n",
        "\n",
        "for i in range(5):\n",
        "  numeros.append(float(input(f'Digite o {i+1}º número: ')))\n",
        "\n",
        "# numeros.reverse()\n",
        "\n",
        "# for x in numeros:\n",
        "#   print(x)\n",
        "\n",
        "for i in range(len(numeros) - 1, -1, -1):\n",
        "  print(f'{numeros[i]:.2f}')\n",
        "\n",
        "#print(numeros[::-1])"
      ],
      "metadata": {
        "colab": {
          "base_uri": "https://localhost:8080/"
        },
        "id": "sWY9ntpyQfB9",
        "outputId": "51d648b1-1eac-4da3-e1ea-61210e2210e1"
      },
      "execution_count": null,
      "outputs": [
        {
          "output_type": "stream",
          "name": "stdout",
          "text": [
            "Digite o 1º número: 5\n",
            "Digite o 2º número: 36\n",
            "Digite o 3º número: 9\n",
            "Digite o 4º número: 2\n",
            "Digite o 5º número: 19\n",
            "19.0\n",
            "2.0\n",
            "9.0\n",
            "36.0\n",
            "5.0\n"
          ]
        }
      ]
    },
    {
      "cell_type": "code",
      "source": [
        "#3) Faça um Programa que leia 4 notas de aluno e armazene-as dentro de uma lista.\n",
        "# Em seguida mostre as notas e a média das notas na tela.\n",
        "\n",
        "notas = []\n",
        "soma = 0\n",
        "for i in range(4):\n",
        "  n = float(input(f'Digite a {i+1}ª nota: '))\n",
        "  while n < 0 or n > 10:\n",
        "    n = float(input(f'Digite a {i+1}ª nota: '))\n",
        "  \n",
        "  notas.append(n)\n",
        "  soma += notas[i] \n",
        "\n",
        "media = soma / len(notas)\n",
        "print('Notas do Aluno: ', end=' ,')\n",
        "for x in notas:\n",
        "  print(f' {x}', end=' ')\n",
        "\n",
        "print(f'\\nA média do aluno foi: {media}')"
      ],
      "metadata": {
        "colab": {
          "base_uri": "https://localhost:8080/"
        },
        "id": "VSkRhC-yS8xg",
        "outputId": "ee404877-8c21-4d6a-f670-30c973f1d933"
      },
      "execution_count": null,
      "outputs": [
        {
          "output_type": "stream",
          "name": "stdout",
          "text": [
            "Digite a 1ª nota: 7\n",
            "Digite a 2ª nota: 9\n",
            "Digite a 3ª nota: 12\n",
            "Digite a 3ª nota: -5\n",
            "Digite a 3ª nota: 0\n",
            "Digite a 4ª nota: 0\n",
            "Notas do Aluno:  , 7.0  9.0  0.0  0.0 \n",
            "A média do aluno foi: 4.0\n"
          ]
        }
      ]
    },
    {
      "cell_type": "code",
      "source": [
        "# 4) Faça um Programa que leia 20 números inteiros e armazene-os numa lista. \n",
        "#Em seguida, crie mais 2 listas, uma para armazenar os números pares e \n",
        "#outra para armazenar os números impares. Ao final, Imprima as três listas.\n",
        "\n",
        "numeros = []\n",
        "for i in range(6):\n",
        "  numeros.append(int(input(f\"Digite o {i+1}º número: \")))\n",
        "\n",
        "numeros_pares = []\n",
        "numeros_impares = []\n",
        "\n",
        "for x in numeros:\n",
        "  if x % 2 == 0:\n",
        "    numeros_pares.append(x)\n",
        "  else:\n",
        "    numeros_impares.append(x)\n",
        "\n",
        "for a in numeros:\n",
        "  print(a, end=' ')\n",
        "\n",
        "print('')\n",
        "for b in numeros_pares:\n",
        "  print(b, end=' ')\n",
        "\n",
        "print('')\n",
        "for c in numeros_impares:\n",
        "  print(c, end=' ')"
      ],
      "metadata": {
        "colab": {
          "base_uri": "https://localhost:8080/"
        },
        "id": "32wNkZwjWPt7",
        "outputId": "85b1cb6b-daa3-4a3f-ba4e-868b44ab71be"
      },
      "execution_count": null,
      "outputs": [
        {
          "output_type": "stream",
          "name": "stdout",
          "text": [
            "Digite o 1º número: 10\n",
            "Digite o 2º número: 2\n",
            "Digite o 3º número: 3\n",
            "Digite o 4º número: 4\n",
            "Digite o 5º número: 7\n",
            "Digite o 6º número: 11\n",
            "10 2 3 4 7 11 \n",
            "10 2 4 \n",
            "3 7 11 "
          ]
        }
      ]
    },
    {
      "cell_type": "code",
      "source": [
        "# 5) Faça um Programa que peça as quatro notas de 10 alunos junto com o seu nome. \n",
        "# Calcule e armazene numa lista a média de cada aluno, bem como em outra lista \n",
        "# armazene o nome do aluno. Ao final imprima o número de alunos com média maior\n",
        "# ou igual a 7.0 junto com o seu nome e a média.\n",
        "\n",
        "medias = []\n",
        "nomes = []\n",
        "\n",
        "for i in range(4):\n",
        "  soma = 0\n",
        "  nomes.append(input(f'Digite o nome do {i+1}º aluno: '))\n",
        "  for j in range(2):\n",
        "    nota = float(input(f'Digite a {j+1}ª nota do {i+1}º aluno: '))\n",
        "    while nota < 0 or nota > 10:\n",
        "      nota = float(input(f'Digite a {j+1}ª nota do {i+1}º aluno: '))\n",
        "    soma += nota\n",
        "  med = soma / 2\n",
        "  medias.append(med)\n",
        "\n",
        "qtd_maior_media = 0\n",
        "for i in range(len(nomes)):\n",
        "  if medias[i] >= 7:\n",
        "    print(f'O aluno {nomes[i]} foi aprovado com a média {medias[i]}')\n",
        "    qtd_maior_media += 1\n",
        "\n",
        "print(f'A quantidade de alunos que estão acima da média é {qtd_maior_media}')"
      ],
      "metadata": {
        "colab": {
          "base_uri": "https://localhost:8080/"
        },
        "id": "IQA7pSxmYr3h",
        "outputId": "a57b8b0f-a9a9-48ea-a841-e6e7828784c7"
      },
      "execution_count": null,
      "outputs": [
        {
          "output_type": "stream",
          "name": "stdout",
          "text": [
            "Digite o nome do 1º aluno: João\n",
            "Digite a 1ª nota do 1º aluno: 10\n",
            "Digite a 2ª nota do 1º aluno: 8\n",
            "Digite o nome do 2º aluno: Priscila\n",
            "Digite a 1ª nota do 2º aluno: 7\n",
            "Digite a 2ª nota do 2º aluno: 10\n",
            "Digite o nome do 3º aluno: Maria\n",
            "Digite a 1ª nota do 3º aluno: 9\n",
            "Digite a 2ª nota do 3º aluno: 7\n",
            "Digite o nome do 4º aluno: Luis\n",
            "Digite a 1ª nota do 4º aluno: 4\n",
            "Digite a 2ª nota do 4º aluno: 6\n",
            "O aluno João foi aprovado com a média 9.0\n",
            "O aluno Priscila foi aprovado com a média 8.5\n",
            "O aluno Maria foi aprovado com a média 8.0\n",
            "A quantidade de alunos que estão acima da média é 3\n"
          ]
        }
      ]
    },
    {
      "cell_type": "code",
      "source": [
        "# 6) Faça um Programa que leia uma lista de 5 números inteiros. Após, percorra a lista e calcule \n",
        "# a soma e a multiplicação dos números. Ao final, mostre os números lidos, \n",
        "# a soma dos números e a multiplicação entre eles.\n",
        "\n",
        "numeros = []\n",
        "for i in range(5):\n",
        "  numeros.append(int(input(f'Digite o {i+1}º número: ')))\n",
        "\n",
        "soma = 0\n",
        "mult = 1\n",
        "\n",
        "for x in numeros:\n",
        "  soma += x\n",
        "  mult *= x\n",
        "\n",
        "for x in numeros:\n",
        "  print(x, end=' ')\n",
        "\n",
        "print(f'\\nA soma dos números lidos foi {soma}')\n",
        "print(f'A multiplicação entre os números lidos foi {mult}')"
      ],
      "metadata": {
        "colab": {
          "base_uri": "https://localhost:8080/"
        },
        "id": "qTUYBvEJgtxS",
        "outputId": "767a08b0-7616-4f92-a283-a9835ac3fd57"
      },
      "execution_count": null,
      "outputs": [
        {
          "output_type": "stream",
          "name": "stdout",
          "text": [
            "Digite o 1º número: 5\n",
            "Digite o 2º número: 3\n",
            "Digite o 3º número: 2\n",
            "Digite o 4º número: 4\n",
            "Digite o 5º número: 2\n",
            "5 3 2 4 2 A soma dos números lidos foi 16\n",
            "A multiplicação entre os números lidos foi 240\n"
          ]
        }
      ]
    },
    {
      "cell_type": "code",
      "source": [
        "# 7) Faça um Programa que leia uma lista A com 10 números inteiros, \n",
        "# calcule e mostre a soma dos quadrados dos elementos da lista.\n",
        "\n",
        "A = []\n",
        "soma = 0\n",
        "for i in range(10):\n",
        "  A.append(int(input(f'Digite o {i+1}º número: ')))\n",
        "\n",
        "for x in A:\n",
        "  soma += x**2\n",
        "\n",
        "print(f'A soma dos quadrados dos elementos da lista é {soma}')"
      ],
      "metadata": {
        "id": "c6HkeNA8iY03"
      },
      "execution_count": null,
      "outputs": []
    },
    {
      "cell_type": "code",
      "source": [
        "# 8) Faça um programa que leia o nome, a idade e a altura de 10 alunos da SoulCode. \n",
        "# Em seguida determine quantos alunos com mais de 13 anos possuem altura inferior à média \n",
        "# de altura desses alunos.\n",
        "\n",
        "nomes = []\n",
        "idades = []\n",
        "alturas = []\n",
        "soma_alturas = 0\n",
        "qtd = 0\n",
        "\n",
        "for i in range(3):\n",
        "  nomes.append(input(f'Digite o nome do {i+1}º aluno: '))\n",
        "  idades.append(int(input(f'Digite a idade do {i+1}º aluno: ')))\n",
        "  altura = float(input(f'Digite a altura do {i+1}º aluno: '))\n",
        "  soma_alturas += altura\n",
        "  alturas.append(altura)\n",
        "  \n",
        "media_altura = soma_alturas / len(alturas)\n",
        "\n",
        "for i in range(len(nomes)):\n",
        "  if idades[i] > 13 and alturas[i] < media_altura:\n",
        "    qtd += 1\n",
        "\n",
        "print(f'A quantidade de alunos com mais de 13 anos que são menores que a média {media_altura} é {qtd}')"
      ],
      "metadata": {
        "colab": {
          "base_uri": "https://localhost:8080/"
        },
        "id": "42IFS-KjjVBw",
        "outputId": "b8814f5e-2c14-4efc-fdf7-bd636325a0b4"
      },
      "execution_count": null,
      "outputs": [
        {
          "output_type": "stream",
          "name": "stdout",
          "text": [
            "Digite o nome do 1º aluno: João\n",
            "Digite a idade do 1º aluno: 17\n",
            "Digite a altura do 1º aluno: 1.53\n",
            "Digite o nome do 2º aluno: Maria\n",
            "Digite a idade do 2º aluno: 12\n",
            "Digite a altura do 2º aluno: 1.90\n",
            "Digite o nome do 3º aluno: Priscila\n",
            "Digite a idade do 3º aluno: 15\n",
            "Digite a altura do 3º aluno: 1.70\n",
            "A quantidade de alunos com mais de 13 anos que são menores que a média 1.71 é 2\n"
          ]
        }
      ]
    }
  ]
}