{
  "nbformat": 4,
  "nbformat_minor": 0,
  "metadata": {
    "colab": {
      "provenance": [],
      "include_colab_link": true
    },
    "kernelspec": {
      "name": "python3",
      "display_name": "Python 3"
    },
    "language_info": {
      "name": "python"
    }
  },
  "cells": [
    {
      "cell_type": "markdown",
      "metadata": {
        "id": "view-in-github",
        "colab_type": "text"
      },
      "source": [
        "<a href=\"https://colab.research.google.com/github/Stesilva16/Eng-de-dados--/blob/main/Conceitos_B%C3%A1sicos.ipynb\" target=\"_parent\"><img src=\"https://colab.research.google.com/assets/colab-badge.svg\" alt=\"Open In Colab\"/></a>"
      ]
    },
    {
      "cell_type": "code",
      "source": [
        "numero = 10\n",
        "idade = 26\n",
        "peso = 60.5\n",
        "\n",
        "nome = 'Bismark \"William\"'\n",
        "NOME = \"Bismark 'William'\"\n",
        "resultado = True\n",
        "\n",
        "#Atribuimos um valor bool para a variável result\n",
        "\n",
        "result = False\n",
        "\n",
        "\"\"\"\n",
        "Aqui eu posso fazer um comentário\n",
        "com mais de uma\n",
        "linha\n",
        "\"\"\"\n",
        "print('Olá Mundo!')\n",
        "print(type(peso))"
      ],
      "metadata": {
        "colab": {
          "base_uri": "https://localhost:8080/"
        },
        "id": "22wsu2PZuBms",
        "outputId": "2a203ec1-1958-46c9-df5a-aebedb34039b"
      },
      "execution_count": null,
      "outputs": [
        {
          "output_type": "stream",
          "name": "stdout",
          "text": [
            "Olá Mundo!\n",
            "<class 'float'>\n"
          ]
        }
      ]
    },
    {
      "cell_type": "code",
      "source": [
        "#Operadores Aritméticos\n",
        "numero1 = 10\n",
        "numero2 = 5\n",
        "\n",
        "#SOMA\n",
        "soma = numero1 + 3\n",
        "\n",
        "numero1 = numero1 + 3\n",
        "\n",
        "soma = numero1 + 3\n",
        "\n",
        "soma = numero1 + numero2\n",
        "# print(soma)\n",
        "# print(numero1)\n",
        "\n",
        "#SUBTRAÇÃO\n",
        "numero1 = 10\n",
        "numero2 = 5\n",
        "sub = numero2 - numero1\n",
        "print(sub)\n",
        "\n",
        "#MULTIPLICAÇÃO\n",
        "numero1 = 10\n",
        "numero2 = 5\n",
        "mult = numero1 * numero2\n",
        "print(mult)\n",
        "\n",
        "#DIVISÃO\n",
        "numero1 = 10\n",
        "numero2 = 5\n",
        "div = numero1 / numero2\n",
        "print(div)\n",
        "\n",
        "#DIVISÃO INTEIRA\n",
        "num1 = 10\n",
        "num2 = 3\n",
        "divInteira = num1 // num2\n",
        "print(divInteira)\n",
        "\n",
        "#RESTO DA DIVISÃO\n",
        "num1 = 10\n",
        "num2 = 3\n",
        "mod = num1 % num2\n",
        "print(mod)\n",
        "\n",
        "#EXPONENCIAÇÃO\n",
        "num1 = 2\n",
        "num2 = 3\n",
        "potencia = num1 ** 6\n",
        "print(potencia)"
      ],
      "metadata": {
        "id": "UaOB7OiRuByf",
        "colab": {
          "base_uri": "https://localhost:8080/"
        },
        "outputId": "8ff75e1c-5b32-4b73-e01a-ed67b64eb6b6"
      },
      "execution_count": null,
      "outputs": [
        {
          "output_type": "stream",
          "name": "stdout",
          "text": [
            "-5\n",
            "50\n",
            "2.0\n",
            "3\n",
            "1\n",
            "8\n"
          ]
        }
      ]
    }
  ]
}