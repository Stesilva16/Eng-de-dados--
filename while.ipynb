{
  "nbformat": 4,
  "nbformat_minor": 0,
  "metadata": {
    "colab": {
      "provenance": [],
      "include_colab_link": true
    },
    "kernelspec": {
      "name": "python3",
      "display_name": "Python 3"
    },
    "language_info": {
      "name": "python"
    }
  },
  "cells": [
    {
      "cell_type": "markdown",
      "metadata": {
        "id": "view-in-github",
        "colab_type": "text"
      },
      "source": [
        "<a href=\"https://colab.research.google.com/github/Stesilva16/Eng-de-dados--/blob/main/while.ipynb\" target=\"_parent\"><img src=\"https://colab.research.google.com/assets/colab-badge.svg\" alt=\"Open In Colab\"/></a>"
      ]
    },
    {
      "cell_type": "code",
      "execution_count": null,
      "metadata": {
        "id": "u2EtNFP2gRww"
      },
      "outputs": [],
      "source": [
        "#1) Construam um algoritmo que leia 2 notas de 1000 alunos e diga se ele\n",
        "#está ou não está aprovado com uma media 7.\n",
        "\n",
        "if condição:\n",
        "  bloco de código\n",
        "\n",
        "while condição:\n",
        "  bloco de código\n",
        "\n",
        "execução normal do sistema"
      ]
    },
    {
      "cell_type": "code",
      "source": [
        "numero = int(input('Digite um número positivo: '))\n",
        "\n",
        "if numero <=0:\n",
        "  print(f'O número digitado {numero} não é positivo!')\n",
        "else:\n",
        "  print(f'O número digitado {numero} é positivo!')"
      ],
      "metadata": {
        "colab": {
          "base_uri": "https://localhost:8080/"
        },
        "id": "elFvgOzCokJm",
        "outputId": "42cdeb78-abff-4da4-aa76-c6449b208a4b"
      },
      "execution_count": null,
      "outputs": [
        {
          "output_type": "stream",
          "name": "stdout",
          "text": [
            "Digite um número positivo: -10\n",
            "O número digitado -10 não é positivo!\n"
          ]
        }
      ]
    },
    {
      "cell_type": "code",
      "source": [
        "numero = int(input('Digite um número positivo: '))\n",
        "\n",
        "while numero <= 0:\n",
        "  numero = int(input(f'O número {numero} não é positivo! Favor digitar um número maior que 0'))\n",
        "\n",
        "print('Você digitou um número válido!')\n",
        "\n"
      ],
      "metadata": {
        "colab": {
          "base_uri": "https://localhost:8080/"
        },
        "id": "oMcLIlUFo9SL",
        "outputId": "adc5d5c2-b7ef-43dc-ff28-cc5cac9261e6"
      },
      "execution_count": null,
      "outputs": [
        {
          "output_type": "stream",
          "name": "stdout",
          "text": [
            "Digite um número positivo: -9\n",
            "O número -9 não é positivo! Favor digitar um número maior que 06\n",
            "Você digitou um número válido!\n"
          ]
        }
      ]
    },
    {
      "cell_type": "code",
      "source": [
        "#2) Faça um algoritmo que escreva na tela 1000x Bom dia!\n",
        "contador = 1\n",
        "while contador <= 500:\n",
        "  print(f' {contador}')\n",
        "  contador += 1"
      ],
      "metadata": {
        "id": "FTIUCsUQqw_b"
      },
      "execution_count": null,
      "outputs": []
    },
    {
      "cell_type": "code",
      "source": [
        "#3) Faça um algoritmo para escrever na tela os números de 0 a 500\n",
        "i = 0\n",
        "while i <= 500:\n",
        "  print(i, end=' ')\n",
        "  i += 1\n",
        "print('\\n')\n",
        "print(i)"
      ],
      "metadata": {
        "colab": {
          "base_uri": "https://localhost:8080/"
        },
        "id": "hDSdSxc7w0kg",
        "outputId": "89cb5eec-7fe4-4ef2-85ea-3d64e76f8d86"
      },
      "execution_count": null,
      "outputs": [
        {
          "output_type": "stream",
          "name": "stdout",
          "text": [
            "0 1 2 3 4 5 6 7 8 9 10 11 12 13 14 15 16 17 18 19 20 21 22 23 24 25 26 27 28 29 30 31 32 33 34 35 36 37 38 39 40 41 42 43 44 45 46 47 48 49 50 51 52 53 54 55 56 57 58 59 60 61 62 63 64 65 66 67 68 69 70 71 72 73 74 75 76 77 78 79 80 81 82 83 84 85 86 87 88 89 90 91 92 93 94 95 96 97 98 99 100 101 102 103 104 105 106 107 108 109 110 111 112 113 114 115 116 117 118 119 120 121 122 123 124 125 126 127 128 129 130 131 132 133 134 135 136 137 138 139 140 141 142 143 144 145 146 147 148 149 150 151 152 153 154 155 156 157 158 159 160 161 162 163 164 165 166 167 168 169 170 171 172 173 174 175 176 177 178 179 180 181 182 183 184 185 186 187 188 189 190 191 192 193 194 195 196 197 198 199 200 201 202 203 204 205 206 207 208 209 210 211 212 213 214 215 216 217 218 219 220 221 222 223 224 225 226 227 228 229 230 231 232 233 234 235 236 237 238 239 240 241 242 243 244 245 246 247 248 249 250 251 252 253 254 255 256 257 258 259 260 261 262 263 264 265 266 267 268 269 270 271 272 273 274 275 276 277 278 279 280 281 282 283 284 285 286 287 288 289 290 291 292 293 294 295 296 297 298 299 300 301 302 303 304 305 306 307 308 309 310 311 312 313 314 315 316 317 318 319 320 321 322 323 324 325 326 327 328 329 330 331 332 333 334 335 336 337 338 339 340 341 342 343 344 345 346 347 348 349 350 351 352 353 354 355 356 357 358 359 360 361 362 363 364 365 366 367 368 369 370 371 372 373 374 375 376 377 378 379 380 381 382 383 384 385 386 387 388 389 390 391 392 393 394 395 396 397 398 399 400 401 402 403 404 405 406 407 408 409 410 411 412 413 414 415 416 417 418 419 420 421 422 423 424 425 426 427 428 429 430 431 432 433 434 435 436 437 438 439 440 441 442 443 444 445 446 447 448 449 450 451 452 453 454 455 456 457 458 459 460 461 462 463 464 465 466 467 468 469 470 471 472 473 474 475 476 477 478 479 480 481 482 483 484 485 486 487 488 489 490 491 492 493 494 495 496 497 498 499 500 \n",
            "\n",
            "501\n"
          ]
        }
      ]
    },
    {
      "cell_type": "code",
      "source": [
        "#4) Faça um algoritmo para escrever na tela os números de 300 a 100 em ordem decrescente\n",
        "i = 300\n",
        "while i >= 100:\n",
        "  print(i, end=' ')\n",
        "  i -= 1\n",
        "\n",
        "print('\\n',i)"
      ],
      "metadata": {
        "colab": {
          "base_uri": "https://localhost:8080/"
        },
        "id": "7IEzsEuVxEJz",
        "outputId": "9574ad95-1a67-4678-cad4-c7dd55af595b"
      },
      "execution_count": null,
      "outputs": [
        {
          "output_type": "stream",
          "name": "stdout",
          "text": [
            "300 299 298 297 296 295 294 293 292 291 290 289 288 287 286 285 284 283 282 281 280 279 278 277 276 275 274 273 272 271 270 269 268 267 266 265 264 263 262 261 260 259 258 257 256 255 254 253 252 251 250 249 248 247 246 245 244 243 242 241 240 239 238 237 236 235 234 233 232 231 230 229 228 227 226 225 224 223 222 221 220 219 218 217 216 215 214 213 212 211 210 209 208 207 206 205 204 203 202 201 200 199 198 197 196 195 194 193 192 191 190 189 188 187 186 185 184 183 182 181 180 179 178 177 176 175 174 173 172 171 170 169 168 167 166 165 164 163 162 161 160 159 158 157 156 155 154 153 152 151 150 149 148 147 146 145 144 143 142 141 140 139 138 137 136 135 134 133 132 131 130 129 128 127 126 125 124 123 122 121 120 119 118 117 116 115 114 113 112 111 110 109 108 107 106 105 104 103 102 101 100 \n",
            " 99\n"
          ]
        }
      ]
    },
    {
      "cell_type": "code",
      "source": [
        "#4) Faça um algoritmo para escrever na tela os números que são múltiplos de 4 de 300 a 100\n",
        "# em ordem decrescente \n",
        "i = 300\n",
        "while i >= 100:\n",
        "  if i % 4 == 0:\n",
        "    print(i)\n",
        "  i -= 1"
      ],
      "metadata": {
        "id": "RCjH3r474SnL",
        "colab": {
          "base_uri": "https://localhost:8080/"
        },
        "outputId": "037bcb76-76f2-4396-f7fd-ffd39a33e41c"
      },
      "execution_count": null,
      "outputs": [
        {
          "output_type": "stream",
          "name": "stdout",
          "text": [
            "300\n",
            "296\n",
            "292\n",
            "288\n",
            "284\n",
            "280\n",
            "276\n",
            "272\n",
            "268\n",
            "264\n",
            "260\n",
            "256\n",
            "252\n",
            "248\n",
            "244\n",
            "240\n",
            "236\n",
            "232\n",
            "228\n",
            "224\n",
            "220\n",
            "216\n",
            "212\n",
            "208\n",
            "204\n",
            "200\n",
            "196\n",
            "192\n",
            "188\n",
            "184\n",
            "180\n",
            "176\n",
            "172\n",
            "168\n",
            "164\n",
            "160\n",
            "156\n",
            "152\n",
            "148\n",
            "144\n",
            "140\n",
            "136\n",
            "132\n",
            "128\n",
            "124\n",
            "120\n",
            "116\n",
            "112\n",
            "108\n",
            "104\n",
            "100\n"
          ]
        }
      ]
    },
    {
      "cell_type": "code",
      "source": [
        "#1) Faça um algoritmo que imprima na tela uma sequência de 10 números pares a partir do 1.\n",
        "i = 2\n",
        "while i <= 20:\n",
        "  print(i, end=' ')\n",
        "  i += 2\n",
        "\n",
        "i = 1\n",
        "while i <= 20:\n",
        "  if i % 2 == 0:\n",
        "    print(i, end='')\n",
        "  i += 1\n",
        "\n",
        "i = 1\n",
        "while i <= 10:\n",
        "  print(i * 2, end=' ')\n",
        "  i += 1\n"
      ],
      "metadata": {
        "colab": {
          "base_uri": "https://localhost:8080/"
        },
        "id": "Lv_qLP0jYL5z",
        "outputId": "6e55350e-c974-4299-a300-914fefec880b"
      },
      "execution_count": null,
      "outputs": [
        {
          "output_type": "stream",
          "name": "stdout",
          "text": [
            "2 4 6 8 10 12 14 16 18 20 "
          ]
        }
      ]
    },
    {
      "cell_type": "code",
      "source": [
        "#2) Faça um programa que apresente na tela os 10 primeiros números negativos.\n",
        "i = -1\n",
        "while i >= -10:\n",
        "  print(i, end=' ')\n",
        "  i -= 1"
      ],
      "metadata": {
        "colab": {
          "base_uri": "https://localhost:8080/"
        },
        "id": "CS_QzY2ygy5U",
        "outputId": "37433077-8cb1-4427-cbb0-034b175a7a31"
      },
      "execution_count": null,
      "outputs": [
        {
          "output_type": "stream",
          "name": "stdout",
          "text": [
            "-1 -2 -3 -4 -5 -6 -7 -8 -9 -10 "
          ]
        }
      ]
    },
    {
      "cell_type": "code",
      "source": [
        "#3) Faça um algoritmo que leia um número positivo e imprima na tela todos os divisores desse número\n",
        "numero = int(input('Digite um número qualquer: '))\n",
        "while numero < 1:\n",
        "  numero = int(input('Número inválido! Digite um número maior do que 0: '))\n",
        "\n",
        "contador = 1\n",
        "while contador <= numero:\n",
        "  if numero % contador == 0:\n",
        "    print(contador)\n",
        "  contador += 1\n"
      ],
      "metadata": {
        "colab": {
          "base_uri": "https://localhost:8080/"
        },
        "id": "EUCOzFnuhvk_",
        "outputId": "3ed53296-4ccd-4146-8368-03f42271250b"
      },
      "execution_count": null,
      "outputs": [
        {
          "output_type": "stream",
          "name": "stdout",
          "text": [
            "Digite um número qualquer: 7\n",
            "1\n",
            "7\n"
          ]
        }
      ]
    },
    {
      "cell_type": "code",
      "source": [
        "#4) Faça um programa que leia N notas e mostre na tela a média das notas lidas.\n",
        "qtde = int(input('Digite quantas notas serão digitadas: '))\n",
        "while qtde < 1:\n",
        "  qtde = int(input('Quantidade inválida! Digite uma quantidade maior que 0: '))\n",
        "\n",
        "contador = 1\n",
        "soma = 0\n",
        "while contador <= qtde:\n",
        "  nota = float(input('Digite a nota do aluno: '))\n",
        "  while nota < 0 or nota > 10:\n",
        "    nota = float(input('Nota inválida! Digite novamente a nota do aluno: '))\n",
        "  soma += nota\n",
        "  contador += 1\n",
        "\n",
        "media = soma / qtde\n",
        "print(f'A media das notas digitadas foi: {media:.2f}')"
      ],
      "metadata": {
        "colab": {
          "base_uri": "https://localhost:8080/"
        },
        "id": "smAA3KgBlf1h",
        "outputId": "5d1fa96e-1218-401f-814d-639b8ed75367"
      },
      "execution_count": null,
      "outputs": [
        {
          "output_type": "stream",
          "name": "stdout",
          "text": [
            "Digite quantas notas serão digitadas: 5\n",
            "Digite a nota do aluno: -5\n",
            "Nota inválida! Digite novamente a nota do aluno: 7\n",
            "Digite a nota do aluno: 0\n",
            "Digite a nota do aluno: 10\n",
            "Digite a nota do aluno: -8\n",
            "Nota inválida! Digite novamente a nota do aluno: 8\n",
            "Digite a nota do aluno: 5\n",
            "A media das notas digitadas foi: 6.00\n"
          ]
        }
      ]
    },
    {
      "cell_type": "code",
      "source": [
        "while True:\n",
        "  nota = float(input('Digite a nota do aluno: Caso queira sair do programa, digite um valor negativo'))\n",
        "  if nota < 0:\n",
        "    break\n",
        "  while nota > 10:\n",
        "    nota = float(input('Nota inválida! Digite novamente a nota do aluno: '))"
      ],
      "metadata": {
        "colab": {
          "base_uri": "https://localhost:8080/"
        },
        "id": "-4jczF47u0e0",
        "outputId": "59ffbf6f-bc67-4300-f6b3-f864642f271f"
      },
      "execution_count": null,
      "outputs": [
        {
          "name": "stdout",
          "output_type": "stream",
          "text": [
            "Digite a nota do aluno: Caso queira sair do programa, digite um valor negativo8\n",
            "Digite a nota do aluno: Caso queira sair do programa, digite um valor negativo7\n",
            "Digite a nota do aluno: Caso queira sair do programa, digite um valor negativo10\n",
            "Digite a nota do aluno: Caso queira sair do programa, digite um valor negativo25\n",
            "Nota inválida! Digite novamente a nota do aluno: 6\n",
            "Digite a nota do aluno: Caso queira sair do programa, digite um valor negativo-1\n"
          ]
        }
      ]
    },
    {
      "cell_type": "code",
      "source": [
        "# 5) Escreva um algoritmo que leia um valor inicial A e uma razão R e \n",
        "#imprima uma seqüência em P.A. contendo 10 valores.\n",
        "A = int(input('Digite a valor inicial da P.A: '))\n",
        "R = int(input('Digite a Razão da P.A: '))\n",
        "\n",
        "contador = 1\n",
        "while contador <= 10:\n",
        "  print(A, end=' ')\n",
        "  A += R\n",
        "  contador += 1"
      ],
      "metadata": {
        "colab": {
          "base_uri": "https://localhost:8080/"
        },
        "id": "TwbbQZzBwCgM",
        "outputId": "b9f842e8-848e-4f04-8234-c8e41b78069c"
      },
      "execution_count": null,
      "outputs": [
        {
          "output_type": "stream",
          "name": "stdout",
          "text": [
            "Digite a valor inicial da P.A: 3\n",
            "Digite a Razão da P.A: 2\n",
            "3 5 7 9 11 13 15 17 19 21 "
          ]
        }
      ]
    },
    {
      "cell_type": "code",
      "source": [
        "#6) Escrever um algoritmo que gera e escreve os números ímpares entre 100 e 200.\n",
        "i = 101\n",
        "while i <= 200:\n",
        "  print(i, end=' ')\n",
        "  i += 2\n",
        "\n",
        "i = 100\n",
        "while i <= 200:\n",
        "  if i % 2 != 0:\n",
        "    print(i, end=' ')\n",
        "  i += 1"
      ],
      "metadata": {
        "colab": {
          "base_uri": "https://localhost:8080/"
        },
        "id": "irF4YkqxzeZ3",
        "outputId": "9a28b127-72d8-44f2-c911-945132d4e8fe"
      },
      "execution_count": null,
      "outputs": [
        {
          "output_type": "stream",
          "name": "stdout",
          "text": [
            "101 103 105 107 109 111 113 115 117 119 121 123 125 127 129 131 133 135 137 139 141 143 145 147 149 151 153 155 157 159 161 163 165 167 169 171 173 175 177 179 181 183 185 187 189 191 193 195 197 199 "
          ]
        }
      ]
    },
    {
      "cell_type": "code",
      "source": [
        "#Fatorial\n",
        "num = int(input('Digite um número maior ou igual a 0: '))\n",
        "while num < 0:\n",
        "  num = int(input('Digite um número maior ou igual a 0: '))\n",
        "\n",
        "contador = num - 1\n",
        "fatorial = num\n",
        "\n",
        "while contador >= 1:\n",
        "  fatorial *= contador\n",
        "  print(f'{num} x', end=' ')\n",
        "  contador -= 1\n",
        "  num -= 1\n",
        "print('1', end=' ')  \n",
        "\n",
        "if num < 2:\n",
        "  print(f'{num}')\n",
        "else:\n",
        "  print(f'= {fatorial}')"
      ],
      "metadata": {
        "colab": {
          "base_uri": "https://localhost:8080/"
        },
        "id": "RZALmnbT6EMO",
        "outputId": "148f958f-dd12-42d5-9315-317ebfe06ed5"
      },
      "execution_count": null,
      "outputs": [
        {
          "output_type": "stream",
          "name": "stdout",
          "text": [
            "Digite um número maior ou igual a 0: 5\n",
            "5 x 4 x 3 x 2 x 1 1\n"
          ]
        }
      ]
    },
    {
      "cell_type": "code",
      "source": [
        "fatorial = int(input('Digite um número inteiro '))\n",
        "while fatorial < 0:\n",
        "  fatorial = int(input('Número inválido. Digite um número inteiro '))  \n",
        "total = 1\n",
        "print(f'{fatorial}! =',end=' ')\n",
        "while fatorial >= 1:\n",
        "  total *= fatorial\n",
        "  print(f'{fatorial}x',end='')\n",
        "  fatorial-=1\n",
        "\n",
        "print(f' = {total}')"
      ],
      "metadata": {
        "colab": {
          "base_uri": "https://localhost:8080/"
        },
        "id": "H-z6D6ByAbwG",
        "outputId": "7c06fe76-dffb-46e7-a837-8eb51f495030"
      },
      "execution_count": null,
      "outputs": [
        {
          "output_type": "stream",
          "name": "stdout",
          "text": [
            "Digite um número inteiro 5\n",
            "5! = 5x4x3x2x1x = 120\n"
          ]
        }
      ]
    },
    {
      "cell_type": "code",
      "source": [
        "#TABUADA\n",
        "i = 1\n",
        "j = 0\n",
        "\n",
        "while i < 11:\n",
        "  while j < 11:\n",
        "    print(f'{i} X {j} = {i * j}')\n",
        "    j += 1\n",
        "  i += 1\n",
        "  j = 0\n",
        "  print('\\n')"
      ],
      "metadata": {
        "colab": {
          "base_uri": "https://localhost:8080/"
        },
        "id": "eNGltXbjF-8e",
        "outputId": "7262dbef-9307-4ec8-990d-d3cd81472214"
      },
      "execution_count": null,
      "outputs": [
        {
          "output_type": "stream",
          "name": "stdout",
          "text": [
            "1 X 0 = 0\n",
            "1 X 1 = 1\n",
            "1 X 2 = 2\n",
            "1 X 3 = 3\n",
            "1 X 4 = 4\n",
            "1 X 5 = 5\n",
            "1 X 6 = 6\n",
            "1 X 7 = 7\n",
            "1 X 8 = 8\n",
            "1 X 9 = 9\n",
            "1 X 10 = 10\n",
            "\n",
            "\n",
            "2 X 0 = 0\n",
            "2 X 1 = 2\n",
            "2 X 2 = 4\n",
            "2 X 3 = 6\n",
            "2 X 4 = 8\n",
            "2 X 5 = 10\n",
            "2 X 6 = 12\n",
            "2 X 7 = 14\n",
            "2 X 8 = 16\n",
            "2 X 9 = 18\n",
            "2 X 10 = 20\n",
            "\n",
            "\n",
            "3 X 0 = 0\n",
            "3 X 1 = 3\n",
            "3 X 2 = 6\n",
            "3 X 3 = 9\n",
            "3 X 4 = 12\n",
            "3 X 5 = 15\n",
            "3 X 6 = 18\n",
            "3 X 7 = 21\n",
            "3 X 8 = 24\n",
            "3 X 9 = 27\n",
            "3 X 10 = 30\n",
            "\n",
            "\n",
            "4 X 0 = 0\n",
            "4 X 1 = 4\n",
            "4 X 2 = 8\n",
            "4 X 3 = 12\n",
            "4 X 4 = 16\n",
            "4 X 5 = 20\n",
            "4 X 6 = 24\n",
            "4 X 7 = 28\n",
            "4 X 8 = 32\n",
            "4 X 9 = 36\n",
            "4 X 10 = 40\n",
            "\n",
            "\n",
            "5 X 0 = 0\n",
            "5 X 1 = 5\n",
            "5 X 2 = 10\n",
            "5 X 3 = 15\n",
            "5 X 4 = 20\n",
            "5 X 5 = 25\n",
            "5 X 6 = 30\n",
            "5 X 7 = 35\n",
            "5 X 8 = 40\n",
            "5 X 9 = 45\n",
            "5 X 10 = 50\n",
            "\n",
            "\n",
            "6 X 0 = 0\n",
            "6 X 1 = 6\n",
            "6 X 2 = 12\n",
            "6 X 3 = 18\n",
            "6 X 4 = 24\n",
            "6 X 5 = 30\n",
            "6 X 6 = 36\n",
            "6 X 7 = 42\n",
            "6 X 8 = 48\n",
            "6 X 9 = 54\n",
            "6 X 10 = 60\n",
            "\n",
            "\n",
            "7 X 0 = 0\n",
            "7 X 1 = 7\n",
            "7 X 2 = 14\n",
            "7 X 3 = 21\n",
            "7 X 4 = 28\n",
            "7 X 5 = 35\n",
            "7 X 6 = 42\n",
            "7 X 7 = 49\n",
            "7 X 8 = 56\n",
            "7 X 9 = 63\n",
            "7 X 10 = 70\n",
            "\n",
            "\n",
            "8 X 0 = 0\n",
            "8 X 1 = 8\n",
            "8 X 2 = 16\n",
            "8 X 3 = 24\n",
            "8 X 4 = 32\n",
            "8 X 5 = 40\n",
            "8 X 6 = 48\n",
            "8 X 7 = 56\n",
            "8 X 8 = 64\n",
            "8 X 9 = 72\n",
            "8 X 10 = 80\n",
            "\n",
            "\n",
            "9 X 0 = 0\n",
            "9 X 1 = 9\n",
            "9 X 2 = 18\n",
            "9 X 3 = 27\n",
            "9 X 4 = 36\n",
            "9 X 5 = 45\n",
            "9 X 6 = 54\n",
            "9 X 7 = 63\n",
            "9 X 8 = 72\n",
            "9 X 9 = 81\n",
            "9 X 10 = 90\n",
            "\n",
            "\n",
            "10 X 0 = 0\n",
            "10 X 1 = 10\n",
            "10 X 2 = 20\n",
            "10 X 3 = 30\n",
            "10 X 4 = 40\n",
            "10 X 5 = 50\n",
            "10 X 6 = 60\n",
            "10 X 7 = 70\n",
            "10 X 8 = 80\n",
            "10 X 9 = 90\n",
            "10 X 10 = 100\n",
            "\n",
            "\n"
          ]
        }
      ]
    },
    {
      "cell_type": "markdown",
      "source": [
        "1) Faça um algoritmo que imprima na tela uma sequência de 10 números pares a partir do 1.\n",
        "\n",
        "2) Faça um programa que apresente na tela os 10 primeiros números negativos.\n",
        "\n",
        "3) Faça um algoritmo que leia um número positivo e imprima na tela todos os divisores desse número\n",
        "\n",
        "4) Faça um programa que leia N notas e mostre na tela a média das notas lidas.\n",
        "\n",
        "5) Escreva um algoritmo que leia um valor inicial A e uma razão R e imprima uma seqüência em P.A. contendo 10 valores.\n",
        "\n",
        "6) Escrever um algoritmo que gera e escreve os números ímpares entre 100 e 200.\n",
        "\n",
        "7) Crie uma tabuada do 1 ao 10 utilizando o comando while. Ex de saída: 1 x 0 = 0 1 x 1 = 1 1 x 2 = … 1 x 10 = 10\n",
        "\n",
        "2 x 0 = 0 2 x 1 = 2 … 2 x 10 = 20\n",
        "\n",
        "….\n",
        "\n",
        "10 x 0 = 0 10 x 1 = 10 … 10 x 10 = 100\n",
        "\n",
        "8) Desenvolver um algoritmo que leia um número não determinado de valores e calcule e escreva a média aritmética dos valores lidos, a quantidade de valores positivos, a quantidade de valores negativos e o percentual de valores negativos e positivos.\n",
        "\n",
        "9) Escrever um algoritmo que leia uma quantidade desconhecida de números e conte quantos deles estão nos seguintes intervalos: [0-25], [26-50], [51-75] e [76-100]. A entrada de dados deve terminar quando for lido um número negativo.\n",
        "\n",
        "10) Escreva um algoritmo que leia um valor inicial A e imprima a seqüência de valores do cálculo de A! e o seu resultado. Ex: 5! = 5 X 4 X 3 X 2 X 1 = 120"
      ],
      "metadata": {
        "id": "-USfSsek4pXa"
      }
    },
    {
      "cell_type": "code",
      "source": [
        "qtd_pos = 0\n",
        "qtd_neg = 0\n",
        "perc_pos = 0\n",
        "perc_neg = 0\n",
        "soma = 0\n",
        "total = 0\n",
        "\n",
        "while True:\n",
        "  n = int(input('Digite um número: '))\n",
        "  if n == 0:\n",
        "    break\n",
        "  if n > 0:\n",
        "    qtd_pos += 1\n",
        "  else:\n",
        "    qtd_neg += 1\n",
        "  soma += n\n",
        "  total += 1\n",
        "\n",
        "if total == 0:\n",
        "  print('Não foi digitado nenhum número!')\n",
        "else:\n",
        "  print(f'A média dos números lidos foi de {soma/total}')\n",
        "  print(f'A quantidade de valores positivos é {qtd_pos}')\n",
        "  print(f'A quantidade de valores negativos é {qtd_neg}')\n",
        "  print(f'O percentual de valores positivos é {(qtd_pos/total) * 100}%')\n",
        "  print(f'O percentual de valores negativos é {(qtd_neg/total) * 100}%')\n"
      ],
      "metadata": {
        "colab": {
          "base_uri": "https://localhost:8080/"
        },
        "id": "qtevgqDIMHuD",
        "outputId": "94952d03-5151-4999-afd6-1f75b1564b66"
      },
      "execution_count": null,
      "outputs": [
        {
          "output_type": "stream",
          "name": "stdout",
          "text": [
            "Digite um número: 10\n",
            "Digite um número: -5\n",
            "Digite um número: 8\n",
            "Digite um número: -3\n",
            "Digite um número: 0\n",
            "A média dos números lidos foi de 2.5\n",
            "A quantidade de valores positivos é 2\n",
            "A quantidade de valores negativos é 2\n",
            "O percentual de valores positivos é 50.0\n",
            "O percentual de valores negativos é 50.0\n"
          ]
        }
      ]
    },
    {
      "cell_type": "code",
      "source": [
        "intervalo1 = 0\n",
        "intervalo2 = 0\n",
        "intervalo3 = 0\n",
        "intervalo4 = 0\n",
        "\n",
        "while True:\n",
        "  n = int(input('Digite um número qualquer: '))\n",
        "  if n < 0:\n",
        "    print('Você digitou um número negativo e encerrou o programa!')\n",
        "    break\n",
        "  if 0 <= numero <= 25:\n",
        "    intervalo1 += 1\n",
        "  if 26 <= numero <= 50:\n",
        "    intervalo2 += 1\n",
        "  if 51 <= numero <= 75:\n",
        "    intervalo3 += 1\n",
        "  if 76 <= numero <= 100:\n",
        "    intervalo4 += 1\n",
        "\n",
        "print(f'Qtd de números no intervalo [0-25]{intervalo1}')\n",
        "print(f'Qtd de números no intervalo [26-50]{intervalo2}')\n",
        "print(f'Qtd de números no intervalo [51-75]{intervalo3}')\n",
        "print(f'Qtd de números no intervalo [76-100]{intervalo4}')\n"
      ],
      "metadata": {
        "colab": {
          "base_uri": "https://localhost:8080/"
        },
        "id": "bVtfZOoKQJOP",
        "outputId": "f1f104ce-4677-441f-ec6a-c2b9e7f31da7"
      },
      "execution_count": null,
      "outputs": [
        {
          "output_type": "stream",
          "name": "stdout",
          "text": [
            "Digite um número qualquer: 10\n",
            "Digite um número qualquer: 5\n",
            "Digite um número qualquer: 0\n",
            "Digite um número qualquer: -1\n",
            "Você digitou um número negativo e encerrou o programa!\n",
            "3\n",
            "0\n",
            "0\n",
            "0\n"
          ]
        }
      ]
    },
    {
      "cell_type": "code",
      "source": [
        "if aula 'acabou':\n",
        "  break"
      ],
      "metadata": {
        "colab": {
          "base_uri": "https://localhost:8080/"
        },
        "id": "HBlSmTouUVZd",
        "outputId": "c61bfa6a-5580-43d2-f460-a2fb787ca6d8"
      },
      "execution_count": null,
      "outputs": [
        {
          "output_type": "stream",
          "name": "stdout",
          "text": [
            "2\n",
            "4\n",
            "6\n",
            "8\n",
            "10\n",
            "12\n",
            "14\n",
            "16\n",
            "18\n",
            "20\n"
          ]
        }
      ]
    }
  ]
}