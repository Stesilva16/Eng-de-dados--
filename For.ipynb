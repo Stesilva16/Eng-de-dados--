{
  "nbformat": 4,
  "nbformat_minor": 0,
  "metadata": {
    "colab": {
      "provenance": []
    },
    "kernelspec": {
      "name": "python3",
      "display_name": "Python 3"
    },
    "language_info": {
      "name": "python"
    }
  },
  "cells": [
    {
      "cell_type": "code",
      "source": [
        "print(maior)"
      ],
      "metadata": {
        "colab": {
          "base_uri": "https://localhost:8080/"
        },
        "id": "ruaXbnkNQfRy",
        "outputId": "95d8b177-55e2-4868-acf4-6830c6d23b6e"
      },
      "execution_count": null,
      "outputs": [
        {
          "output_type": "stream",
          "name": "stdout",
          "text": [
            "1000\n"
          ]
        }
      ]
    },
    {
      "cell_type": "code",
      "execution_count": null,
      "metadata": {
        "colab": {
          "base_uri": "https://localhost:8080/"
        },
        "id": "lKc0cXIHk0be",
        "outputId": "4c46c61c-db09-4c17-afca-c4154110df65"
      },
      "outputs": [
        {
          "output_type": "stream",
          "name": "stdout",
          "text": [
            "1 2 3 4 5 6 7 8 9 10 "
          ]
        }
      ],
      "source": [
        "# SINTAXE for contador in range(valor_inicial_do_contador,valor_de_parada_contador,\n",
        "# passo ou incremento ou decremento)\n",
        "\n",
        "for i in range(1, 11, 1):\n",
        "  print(i, end=' ')\n",
        "\n",
        "#Usando apenas um parâmetro no range\n",
        "\n",
        "for i in range(10): #por padrão valor_inicial = 0, passo = 1\n",
        "  print(i)\n",
        "\n",
        "#Usando apenas 2 parâmetros\n",
        "\n",
        "for i in range(1, 10):#por padrão passo = 1\n",
        "  print(i)"
      ]
    },
    {
      "cell_type": "code",
      "source": [
        "#1) Crie um programa em Python que escreva na tela os números de 250 a 120 em ordem decrescente.\n",
        "for i in range(250, 119, -1):\n",
        "  print(i, end=' ')\n",
        "\n",
        "  #Inicialização do contador\n",
        "  #condição de parada\n",
        "  #incremento ou decremento\n"
      ],
      "metadata": {
        "colab": {
          "base_uri": "https://localhost:8080/"
        },
        "id": "vnVX5GXUp-K-",
        "outputId": "8633315c-0cbf-4fba-821b-cd9ee4b463be"
      },
      "execution_count": null,
      "outputs": [
        {
          "output_type": "stream",
          "name": "stdout",
          "text": [
            "250 249 248 247 246 245 244 243 242 241 240 239 238 237 236 235 234 233 232 231 230 229 228 227 226 225 224 223 222 221 220 219 218 217 216 215 214 213 212 211 210 209 208 207 206 205 204 203 202 201 200 199 198 197 196 195 194 193 192 191 190 189 188 187 186 185 184 183 182 181 180 179 178 177 176 175 174 173 172 171 170 169 168 167 166 165 164 163 162 161 160 159 158 157 156 155 154 153 152 151 150 149 148 147 146 145 144 143 142 141 140 139 138 137 136 135 134 133 132 131 130 129 128 127 126 125 124 123 122 121 120 "
          ]
        }
      ]
    },
    {
      "cell_type": "code",
      "source": [
        "#2) Crie um programa em Python que escreva na tela os números de 1000 a 1500 em ordem crescente.\n",
        "for contador in range(1000, 1501):\n",
        "  print(contador, end=' ')"
      ],
      "metadata": {
        "colab": {
          "base_uri": "https://localhost:8080/"
        },
        "id": "IPM5LwwFrvQY",
        "outputId": "b6dcb454-9d24-4dc3-fd2a-1d4af167f797"
      },
      "execution_count": null,
      "outputs": [
        {
          "output_type": "stream",
          "name": "stdout",
          "text": [
            "1000 1001 1002 1003 1004 1005 1006 1007 1008 1009 1010 1011 1012 1013 1014 1015 1016 1017 1018 1019 1020 1021 1022 1023 1024 1025 1026 1027 1028 1029 1030 1031 1032 1033 1034 1035 1036 1037 1038 1039 1040 1041 1042 1043 1044 1045 1046 1047 1048 1049 1050 1051 1052 1053 1054 1055 1056 1057 1058 1059 1060 1061 1062 1063 1064 1065 1066 1067 1068 1069 1070 1071 1072 1073 1074 1075 1076 1077 1078 1079 1080 1081 1082 1083 1084 1085 1086 1087 1088 1089 1090 1091 1092 1093 1094 1095 1096 1097 1098 1099 1100 1101 1102 1103 1104 1105 1106 1107 1108 1109 1110 1111 1112 1113 1114 1115 1116 1117 1118 1119 1120 1121 1122 1123 1124 1125 1126 1127 1128 1129 1130 1131 1132 1133 1134 1135 1136 1137 1138 1139 1140 1141 1142 1143 1144 1145 1146 1147 1148 1149 1150 1151 1152 1153 1154 1155 1156 1157 1158 1159 1160 1161 1162 1163 1164 1165 1166 1167 1168 1169 1170 1171 1172 1173 1174 1175 1176 1177 1178 1179 1180 1181 1182 1183 1184 1185 1186 1187 1188 1189 1190 1191 1192 1193 1194 1195 1196 1197 1198 1199 1200 1201 1202 1203 1204 1205 1206 1207 1208 1209 1210 1211 1212 1213 1214 1215 1216 1217 1218 1219 1220 1221 1222 1223 1224 1225 1226 1227 1228 1229 1230 1231 1232 1233 1234 1235 1236 1237 1238 1239 1240 1241 1242 1243 1244 1245 1246 1247 1248 1249 1250 1251 1252 1253 1254 1255 1256 1257 1258 1259 1260 1261 1262 1263 1264 1265 1266 1267 1268 1269 1270 1271 1272 1273 1274 1275 1276 1277 1278 1279 1280 1281 1282 1283 1284 1285 1286 1287 1288 1289 1290 1291 1292 1293 1294 1295 1296 1297 1298 1299 1300 1301 1302 1303 1304 1305 1306 1307 1308 1309 1310 1311 1312 1313 1314 1315 1316 1317 1318 1319 1320 1321 1322 1323 1324 1325 1326 1327 1328 1329 1330 1331 1332 1333 1334 1335 1336 1337 1338 1339 1340 1341 1342 1343 1344 1345 1346 1347 1348 1349 1350 1351 1352 1353 1354 1355 1356 1357 1358 1359 1360 1361 1362 1363 1364 1365 1366 1367 1368 1369 1370 1371 1372 1373 1374 1375 1376 1377 1378 1379 1380 1381 1382 1383 1384 1385 1386 1387 1388 1389 1390 1391 1392 1393 1394 1395 1396 1397 1398 1399 1400 1401 1402 1403 1404 1405 1406 1407 1408 1409 1410 1411 1412 1413 1414 1415 1416 1417 1418 1419 1420 1421 1422 1423 1424 1425 1426 1427 1428 1429 1430 1431 1432 1433 1434 1435 1436 1437 1438 1439 1440 1441 1442 1443 1444 1445 1446 1447 1448 1449 1450 1451 1452 1453 1454 1455 1456 1457 1458 1459 1460 1461 1462 1463 1464 1465 1466 1467 1468 1469 1470 1471 1472 1473 1474 1475 1476 1477 1478 1479 1480 1481 1482 1483 1484 1485 1486 1487 1488 1489 1490 1491 1492 1493 1494 1495 1496 1497 1498 1499 1500 "
          ]
        }
      ]
    },
    {
      "cell_type": "code",
      "source": [
        "#3) Crie um programa em Python que escreva na tela os números de 150 a 1000 em ordem crescente que\n",
        "#são múltiplos de 3.\n",
        "for j in range(150, 1001):\n",
        "  if j % 3 == 0:\n",
        "    print(j, end=' ')"
      ],
      "metadata": {
        "colab": {
          "base_uri": "https://localhost:8080/"
        },
        "id": "Fg5JPytir0T6",
        "outputId": "4654088a-93c0-4c6b-a75e-9c60935f8bad"
      },
      "execution_count": null,
      "outputs": [
        {
          "output_type": "stream",
          "name": "stdout",
          "text": [
            "150 153 156 159 162 165 168 171 174 177 180 183 186 189 192 195 198 201 204 207 210 213 216 219 222 225 228 231 234 237 240 243 246 249 252 255 258 261 264 267 270 273 276 279 282 285 288 291 294 297 300 303 306 309 312 315 318 321 324 327 330 333 336 339 342 345 348 351 354 357 360 363 366 369 372 375 378 381 384 387 390 393 396 399 402 405 408 411 414 417 420 423 426 429 432 435 438 441 444 447 450 453 456 459 462 465 468 471 474 477 480 483 486 489 492 495 498 501 504 507 510 513 516 519 522 525 528 531 534 537 540 543 546 549 552 555 558 561 564 567 570 573 576 579 582 585 588 591 594 597 600 603 606 609 612 615 618 621 624 627 630 633 636 639 642 645 648 651 654 657 660 663 666 669 672 675 678 681 684 687 690 693 696 699 702 705 708 711 714 717 720 723 726 729 732 735 738 741 744 747 750 753 756 759 762 765 768 771 774 777 780 783 786 789 792 795 798 801 804 807 810 813 816 819 822 825 828 831 834 837 840 843 846 849 852 855 858 861 864 867 870 873 876 879 882 885 888 891 894 897 900 903 906 909 912 915 918 921 924 927 930 933 936 939 942 945 948 951 954 957 960 963 966 969 972 975 978 981 984 987 990 993 996 999 "
          ]
        }
      ]
    },
    {
      "cell_type": "code",
      "source": [
        "#4) Crie um programa em Python que escreva na tela os números de 10 a N que são múltiplos de 4, \n",
        "#onde o N é informado pelo usuário e deve ser maior que 10. \n",
        "n = int(input('Digite um número maior que 10: '))\n",
        "while n <= 10:\n",
        "  n = int(input('Digite um número maior que 10: '))\n",
        "\n",
        "for i in range(10, n + 1):\n",
        "  if i % 4 == 0:\n",
        "    print(i, end=' ')"
      ],
      "metadata": {
        "colab": {
          "base_uri": "https://localhost:8080/"
        },
        "id": "K8lwOSwCwsCn",
        "outputId": "ee19dd93-05ea-4f2b-9308-661ae88ef6e1"
      },
      "execution_count": null,
      "outputs": [
        {
          "output_type": "stream",
          "name": "stdout",
          "text": [
            "Digite um número maior que 10: 1\n",
            "Digite um número maior que 10: -5\n",
            "Digite um número maior que 10: 1\n",
            "Digite um número maior que 10: 100\n",
            "12 16 20 24 28 32 36 40 44 48 52 56 60 64 68 72 76 80 84 88 92 96 100 "
          ]
        }
      ]
    },
    {
      "cell_type": "code",
      "source": [
        "#5) Em uma turma há 10 alunos. Cada aluno tem 2 notas.\n",
        "# Um professor precisa calcular a média das duas notas de cada aluno. \n",
        "#Crie um programa que resolva este problema.\n",
        "\n",
        "for i in range(3):\n",
        "  nota1 = float(input('Digite a primeira nota: '))\n",
        "\n",
        "  while nota1 < 0 or nota1 > 10:\n",
        "    nota1 = float(input('Nota inválida! Digite uma nota entre 0 e 10: '))\n",
        "\n",
        "  nota2 = float(input('Digite a segunda nota: '))\n",
        "  \n",
        "  while nota2 < 0 or nota2 > 10:\n",
        "    nota1 = float(input('Nota inválida! Digite uma nota entre 0 e 10: '))\n",
        "\n",
        "  media = (nota1 +nota2) / 2\n",
        "  print(f'A media do {i+1}º aluno foi {media}')"
      ],
      "metadata": {
        "colab": {
          "base_uri": "https://localhost:8080/"
        },
        "id": "HaiP_HgSy4up",
        "outputId": "01f226f2-b166-4036-c0ff-7416b5f8ac80"
      },
      "execution_count": null,
      "outputs": [
        {
          "output_type": "stream",
          "name": "stdout",
          "text": [
            "Digite a primeira nota: 10\n",
            "Digite a segunda nota: 9\n",
            "A media do 1º aluno foi 9.5\n",
            "Digite a primeira nota: 8\n",
            "Digite a segunda nota: 7\n",
            "A media do 2º aluno foi 7.5\n",
            "Digite a primeira nota: 5\n",
            "Digite a segunda nota: 6\n",
            "A media do 3º aluno foi 5.5\n"
          ]
        }
      ]
    },
    {
      "cell_type": "code",
      "source": [
        "#6) Utilizando a estrutura de repetição for, faça um programa em Python que receba 10 números \n",
        "#e conte quantos deles estão no intervalo [10,20] e quantos deles estão fora do intervalo, \n",
        "#escrevendo estas informações.\n",
        "soma_intervalo_sim = 0\n",
        "soma_intervalo_nao = 0\n",
        "\n",
        "for i in range(10):\n",
        "  num = int(input(f'Digite o {i+1}º número: '))\n",
        "  if 10 <= num <= 20:\n",
        "    soma_intervalo_sim += 1\n",
        "  else:\n",
        "    soma_intervalo_nao += 1\n",
        "\n",
        "print(f'A quantidade de números digitados no intervalo entre [10,20] foi {soma_intervalo_sim}')\n",
        "print(f'A quantidade de números digitados que não estão no intervalo entre [10,20] foi {soma_intervalo_nao}')\n",
        "\n",
        "\n",
        "#5) Crie um programa em Python que leia N números (N digitado pelo usuário) e \n",
        "#mostre na tela a soma de todos os números lidos."
      ],
      "metadata": {
        "colab": {
          "base_uri": "https://localhost:8080/"
        },
        "id": "CNZRKtkSy9wq",
        "outputId": "e51ab2c3-bc05-4adf-ec67-8db31ae23ebb"
      },
      "execution_count": null,
      "outputs": [
        {
          "output_type": "stream",
          "name": "stdout",
          "text": [
            "Digite o 1º número: 15\n",
            "Digite o 2º número: 99\n",
            "Digite o 3º número: 3\n",
            "Digite o 4º número: 12\n",
            "Digite o 5º número: -80\n",
            "Digite o 6º número: -5\n",
            "Digite o 7º número: 20\n",
            "Digite o 8º número: 1\n",
            "Digite o 9º número: 9\n",
            "Digite o 10º número: 16\n",
            "A quantidade de números digitados no intervalo entre [10,20] foi 4\n",
            "A quantidade de números digitados que não estão no intervalo entre [10,20] foi 6\n"
          ]
        }
      ]
    },
    {
      "cell_type": "code",
      "source": [
        "soma_intervalo_sim = 0\n",
        "\n",
        "for i in range(10):\n",
        "  num = int(input(f'Digite o {i+1}º número: '))\n",
        "  if 10 <= num <= 20:\n",
        "    soma_intervalo_sim += 1\n",
        "\n",
        "print(f'A quantidade de números que estão fora do intervalo [10-20] é {i - soma_intervalo_sim}')\n",
        "#10 , 5 , 8 , 7 , 16 - \n",
        "#soma_intervalo_sim = 2"
      ],
      "metadata": {
        "id": "jb5QGc96Hmy1"
      },
      "execution_count": null,
      "outputs": []
    },
    {
      "cell_type": "code",
      "source": [
        "#5) Crie um programa em Python que leia N números (N digitado pelo usuário) e \n",
        "#mostre na tela a soma de todos os números lidos.\n",
        "n = int(input('Digite a quantidade de números que serão digitados'))\n",
        "while n < 0:\n",
        "  n = int(input('Digite um número maior ou igual a 0: '))\n",
        "\n",
        "soma = 0\n",
        "\n",
        "for i in range(n):\n",
        "  num = float(input(f'Digite o {i+1}º número: '))\n",
        "  soma += num\n",
        "\n",
        "print(f'A soma dos números digitados foi : {soma}')"
      ],
      "metadata": {
        "colab": {
          "base_uri": "https://localhost:8080/"
        },
        "id": "RzmieRKAIzgB",
        "outputId": "fdd6f0db-65a6-443a-9b1f-d442ec1f4663"
      },
      "execution_count": null,
      "outputs": [
        {
          "output_type": "stream",
          "name": "stdout",
          "text": [
            "Digite a quantidade de números que serão digitados0\n",
            "A soma dos números digitados foi : 0\n"
          ]
        }
      ]
    },
    {
      "cell_type": "code",
      "source": [
        "# 1) Escreva um programa que mostre todos os números entre 5 e 100 que são divisíveis por 7, \n",
        "#mas não são múltiplos de 5.\n",
        "\n",
        "for i in range(5, 101):\n",
        "  if i % 7 == 0 and i % 5 != 0:\n",
        "    print(i, end=' ')"
      ],
      "metadata": {
        "id": "Vn4-p7JwLDwj",
        "colab": {
          "base_uri": "https://localhost:8080/"
        },
        "outputId": "ff3fffbb-780f-4b9c-db07-e98bb3f23905"
      },
      "execution_count": null,
      "outputs": [
        {
          "output_type": "stream",
          "name": "stdout",
          "text": [
            "7 14 21 28 42 49 56 63 77 84 91 98 "
          ]
        }
      ]
    },
    {
      "cell_type": "code",
      "source": [
        "maior = 0\n",
        "menor = 0"
      ],
      "metadata": {
        "id": "XPAJzJZ2P7b7"
      },
      "execution_count": null,
      "outputs": []
    },
    {
      "cell_type": "code",
      "source": [
        "#2) Crie um programa que leia 20 números e informe na tela o maior e o menor número lido.\n",
        "for i in range(6):\n",
        "  n = int(input(f'Digite o {i+1}º número: '))\n",
        "  if i == 0:\n",
        "    maior = n\n",
        "    menor = n\n",
        "  if n > maior:\n",
        "    maior = n\n",
        "  if n < menor:\n",
        "    menor = n\n",
        "\n",
        "print(f'O maior número digitado foi {maior}')\n",
        "print(f'O menor número digitado foi {menor}')"
      ],
      "metadata": {
        "colab": {
          "base_uri": "https://localhost:8080/",
          "height": 398
        },
        "id": "cELtc5egJTfr",
        "outputId": "e5defac0-e717-4b53-9258-faf3fe5eba35"
      },
      "execution_count": null,
      "outputs": [
        {
          "output_type": "error",
          "ename": "KeyboardInterrupt",
          "evalue": "ignored",
          "traceback": [
            "\u001b[0;31m---------------------------------------------------------------------------\u001b[0m",
            "\u001b[0;31mKeyboardInterrupt\u001b[0m                         Traceback (most recent call last)",
            "\u001b[0;32m<ipython-input-12-77cd32ec5dbd>\u001b[0m in \u001b[0;36m<module>\u001b[0;34m\u001b[0m\n\u001b[1;32m      1\u001b[0m \u001b[0;31m#2) Crie um programa que leia 20 números e informe na tela o maior e o menor número lido.\u001b[0m\u001b[0;34m\u001b[0m\u001b[0;34m\u001b[0m\u001b[0;34m\u001b[0m\u001b[0m\n\u001b[1;32m      2\u001b[0m \u001b[0;32mfor\u001b[0m \u001b[0mi\u001b[0m \u001b[0;32min\u001b[0m \u001b[0mrange\u001b[0m\u001b[0;34m(\u001b[0m\u001b[0;36m6\u001b[0m\u001b[0;34m)\u001b[0m\u001b[0;34m:\u001b[0m\u001b[0;34m\u001b[0m\u001b[0;34m\u001b[0m\u001b[0m\n\u001b[0;32m----> 3\u001b[0;31m   \u001b[0mn\u001b[0m \u001b[0;34m=\u001b[0m \u001b[0mint\u001b[0m\u001b[0;34m(\u001b[0m\u001b[0minput\u001b[0m\u001b[0;34m(\u001b[0m\u001b[0;34mf'Digite o {i+1}º número: '\u001b[0m\u001b[0;34m)\u001b[0m\u001b[0;34m)\u001b[0m\u001b[0;34m\u001b[0m\u001b[0;34m\u001b[0m\u001b[0m\n\u001b[0m\u001b[1;32m      4\u001b[0m   \u001b[0;32mif\u001b[0m \u001b[0mi\u001b[0m \u001b[0;34m==\u001b[0m \u001b[0;36m0\u001b[0m\u001b[0;34m:\u001b[0m\u001b[0;34m\u001b[0m\u001b[0;34m\u001b[0m\u001b[0m\n\u001b[1;32m      5\u001b[0m     \u001b[0mmaior\u001b[0m\u001b[0;34m,\u001b[0m \u001b[0mmenor\u001b[0m\u001b[0;34m,\u001b[0m \u001b[0midade\u001b[0m \u001b[0;34m=\u001b[0m \u001b[0mn\u001b[0m\u001b[0;34m\u001b[0m\u001b[0;34m\u001b[0m\u001b[0m\n",
            "\u001b[0;32m/usr/local/lib/python3.7/dist-packages/ipykernel/kernelbase.py\u001b[0m in \u001b[0;36mraw_input\u001b[0;34m(self, prompt)\u001b[0m\n\u001b[1;32m    861\u001b[0m             \u001b[0mself\u001b[0m\u001b[0;34m.\u001b[0m\u001b[0m_parent_ident\u001b[0m\u001b[0;34m,\u001b[0m\u001b[0;34m\u001b[0m\u001b[0;34m\u001b[0m\u001b[0m\n\u001b[1;32m    862\u001b[0m             \u001b[0mself\u001b[0m\u001b[0;34m.\u001b[0m\u001b[0m_parent_header\u001b[0m\u001b[0;34m,\u001b[0m\u001b[0;34m\u001b[0m\u001b[0;34m\u001b[0m\u001b[0m\n\u001b[0;32m--> 863\u001b[0;31m             \u001b[0mpassword\u001b[0m\u001b[0;34m=\u001b[0m\u001b[0;32mFalse\u001b[0m\u001b[0;34m,\u001b[0m\u001b[0;34m\u001b[0m\u001b[0;34m\u001b[0m\u001b[0m\n\u001b[0m\u001b[1;32m    864\u001b[0m         )\n\u001b[1;32m    865\u001b[0m \u001b[0;34m\u001b[0m\u001b[0m\n",
            "\u001b[0;32m/usr/local/lib/python3.7/dist-packages/ipykernel/kernelbase.py\u001b[0m in \u001b[0;36m_input_request\u001b[0;34m(self, prompt, ident, parent, password)\u001b[0m\n\u001b[1;32m    902\u001b[0m             \u001b[0;32mexcept\u001b[0m \u001b[0mKeyboardInterrupt\u001b[0m\u001b[0;34m:\u001b[0m\u001b[0;34m\u001b[0m\u001b[0;34m\u001b[0m\u001b[0m\n\u001b[1;32m    903\u001b[0m                 \u001b[0;31m# re-raise KeyboardInterrupt, to truncate traceback\u001b[0m\u001b[0;34m\u001b[0m\u001b[0;34m\u001b[0m\u001b[0;34m\u001b[0m\u001b[0m\n\u001b[0;32m--> 904\u001b[0;31m                 \u001b[0;32mraise\u001b[0m \u001b[0mKeyboardInterrupt\u001b[0m\u001b[0;34m(\u001b[0m\u001b[0;34m\"Interrupted by user\"\u001b[0m\u001b[0;34m)\u001b[0m \u001b[0;32mfrom\u001b[0m \u001b[0;32mNone\u001b[0m\u001b[0;34m\u001b[0m\u001b[0;34m\u001b[0m\u001b[0m\n\u001b[0m\u001b[1;32m    905\u001b[0m             \u001b[0;32mexcept\u001b[0m \u001b[0mException\u001b[0m \u001b[0;32mas\u001b[0m \u001b[0me\u001b[0m\u001b[0;34m:\u001b[0m\u001b[0;34m\u001b[0m\u001b[0;34m\u001b[0m\u001b[0m\n\u001b[1;32m    906\u001b[0m                 \u001b[0mself\u001b[0m\u001b[0;34m.\u001b[0m\u001b[0mlog\u001b[0m\u001b[0;34m.\u001b[0m\u001b[0mwarning\u001b[0m\u001b[0;34m(\u001b[0m\u001b[0;34m\"Invalid Message:\"\u001b[0m\u001b[0;34m,\u001b[0m \u001b[0mexc_info\u001b[0m\u001b[0;34m=\u001b[0m\u001b[0;32mTrue\u001b[0m\u001b[0;34m)\u001b[0m\u001b[0;34m\u001b[0m\u001b[0;34m\u001b[0m\u001b[0m\n",
            "\u001b[0;31mKeyboardInterrupt\u001b[0m: Interrupted by user"
          ]
        }
      ]
    },
    {
      "cell_type": "code",
      "source": [
        "#3)Escreva um programa em python que gera números entre 1000 e 1999 e mostra aqueles que\n",
        "#divididos por 11 dão resto 5.\n",
        "for i in range(1000, 2000):\n",
        "  if i % 11 == 5:\n",
        "    print(i, end=' ')"
      ],
      "metadata": {
        "colab": {
          "base_uri": "https://localhost:8080/"
        },
        "id": "rParhkfwPn19",
        "outputId": "8b9605c2-6d99-4de9-b9c1-e51a00fd6c4c"
      },
      "execution_count": null,
      "outputs": [
        {
          "output_type": "stream",
          "name": "stdout",
          "text": [
            "1000 1001 1002 1003 1004 1005 1006 1007 1008 1009 1010 1011 1012 1013 1014 1015 1016 1017 1018 1019 1020 1021 1022 1023 1024 1025 1026 1027 1028 1029 1030 1031 1032 1033 1034 1035 1036 1037 1038 1039 1040 1041 1042 1043 1044 1045 1046 1047 1048 1049 1050 1051 1052 1053 1054 1055 1056 1057 1058 1059 1060 1061 1062 1063 1064 1065 1066 1067 1068 1069 1070 1071 1072 1073 1074 1075 1076 1077 1078 1079 1080 1081 1082 1083 1084 1085 1086 1087 1088 1089 1090 1091 1092 1093 1094 1095 1096 1097 1098 1099 1100 1101 1102 1103 1104 1105 1106 1107 1108 1109 1110 1111 1112 1113 1114 1115 1116 1117 1118 1119 1120 1121 1122 1123 1124 1125 1126 1127 1128 1129 1130 1131 1132 1133 1134 1135 1136 1137 1138 1139 1140 1141 1142 1143 1144 1145 1146 1147 1148 1149 1150 1151 1152 1153 1154 1155 1156 1157 1158 1159 1160 1161 1162 1163 1164 1165 1166 1167 1168 1169 1170 1171 1172 1173 1174 1175 1176 1177 1178 1179 1180 1181 1182 1183 1184 1185 1186 1187 1188 1189 1190 1191 1192 1193 1194 1195 1196 1197 1198 1199 1200 1201 1202 1203 1204 1205 1206 1207 1208 1209 1210 1211 1212 1213 1214 1215 1216 1217 1218 1219 1220 1221 1222 1223 1224 1225 1226 1227 1228 1229 1230 1231 1232 1233 1234 1235 1236 1237 1238 1239 1240 1241 1242 1243 1244 1245 1246 1247 1248 1249 1250 1251 1252 1253 1254 1255 1256 1257 1258 1259 1260 1261 1262 1263 1264 1265 1266 1267 1268 1269 1270 1271 1272 1273 1274 1275 1276 1277 1278 1279 1280 1281 1282 1283 1284 1285 1286 1287 1288 1289 1290 1291 1292 1293 1294 1295 1296 1297 1298 1299 1300 1301 1302 1303 1304 1305 1306 1307 1308 1309 1310 1311 1312 1313 1314 1315 1316 1317 1318 1319 1320 1321 1322 1323 1324 1325 1326 1327 1328 1329 1330 1331 1332 1333 1334 1335 1336 1337 1338 1339 1340 1341 1342 1343 1344 1345 1346 1347 1348 1349 1350 1351 1352 1353 1354 1355 1356 1357 1358 1359 1360 1361 1362 1363 1364 1365 1366 1367 1368 1369 1370 1371 1372 1373 1374 1375 1376 1377 1378 1379 1380 1381 1382 1383 1384 1385 1386 1387 1388 1389 1390 1391 1392 1393 1394 1395 1396 1397 1398 1399 1400 1401 1402 1403 1404 1405 1406 1407 1408 1409 1410 1411 1412 1413 1414 1415 1416 1417 1418 1419 1420 1421 1422 1423 1424 1425 1426 1427 1428 1429 1430 1431 1432 1433 1434 1435 1436 1437 1438 1439 1440 1441 1442 1443 1444 1445 1446 1447 1448 1449 1450 1451 1452 1453 1454 1455 1456 1457 1458 1459 1460 1461 1462 1463 1464 1465 1466 1467 1468 1469 1470 1471 1472 1473 1474 1475 1476 1477 1478 1479 1480 1481 1482 1483 1484 1485 1486 1487 1488 1489 1490 1491 1492 1493 1494 1495 1496 1497 1498 1499 1500 1501 1502 1503 1504 1505 1506 1507 1508 1509 1510 1511 1512 1513 1514 1515 1516 1517 1518 1519 1520 1521 1522 1523 1524 1525 1526 1527 1528 1529 1530 1531 1532 1533 1534 1535 1536 1537 1538 1539 1540 1541 1542 1543 1544 1545 1546 1547 1548 1549 1550 1551 1552 1553 1554 1555 1556 1557 1558 1559 1560 1561 1562 1563 1564 1565 1566 1567 1568 1569 1570 1571 1572 1573 1574 1575 1576 1577 1578 1579 1580 1581 1582 1583 1584 1585 1586 1587 1588 1589 1590 1591 1592 1593 1594 1595 1596 1597 1598 1599 1600 1601 1602 1603 1604 1605 1606 1607 1608 1609 1610 1611 1612 1613 1614 1615 1616 1617 1618 1619 1620 1621 1622 1623 1624 1625 1626 1627 1628 1629 1630 1631 1632 1633 1634 1635 1636 1637 1638 1639 1640 1641 1642 1643 1644 1645 1646 1647 1648 1649 1650 1651 1652 1653 1654 1655 1656 1657 1658 1659 1660 1661 1662 1663 1664 1665 1666 1667 1668 1669 1670 1671 1672 1673 1674 1675 1676 1677 1678 1679 1680 1681 1682 1683 1684 1685 1686 1687 1688 1689 1690 1691 1692 1693 1694 1695 1696 1697 1698 1699 1700 1701 1702 1703 1704 1705 1706 1707 1708 1709 1710 1711 1712 1713 1714 1715 1716 1717 1718 1719 1720 1721 1722 1723 1724 1725 1726 1727 1728 1729 1730 1731 1732 1733 1734 1735 1736 1737 1738 1739 1740 1741 1742 1743 1744 1745 1746 1747 1748 1749 1750 1751 1752 1753 1754 1755 1756 1757 1758 1759 1760 1761 1762 1763 1764 1765 1766 1767 1768 1769 1770 1771 1772 1773 1774 1775 1776 1777 1778 1779 1780 1781 1782 1783 1784 1785 1786 1787 1788 1789 1790 1791 1792 1793 1794 1795 1796 1797 1798 1799 1800 1801 1802 1803 1804 1805 1806 1807 1808 1809 1810 1811 1812 1813 1814 1815 1816 1817 1818 1819 1820 1821 1822 1823 1824 1825 1826 1827 1828 1829 1830 1831 1832 1833 1834 1835 1836 1837 1838 1839 1840 1841 1842 1843 1844 1845 1846 1847 1848 1849 1850 1851 1852 1853 1854 1855 1856 1857 1858 1859 1860 1861 1862 1863 1864 1865 1866 1867 1868 1869 1870 1871 1872 1873 1874 1875 1876 1877 1878 1879 1880 1881 1882 1883 1884 1885 1886 1887 1888 1889 1890 1891 1892 1893 1894 1895 1896 1897 1898 1899 1900 1901 1902 1903 1904 1905 1906 1907 1908 1909 1910 1911 1912 1913 1914 1915 1916 1917 1918 1919 1920 1921 1922 1923 1924 1925 1926 1927 1928 1929 1930 1931 1932 1933 1934 1935 1936 1937 1938 1939 1940 1941 1942 1943 1944 1945 1946 1947 1948 1949 1950 1951 1952 1953 1954 1955 1956 1957 1958 1959 1960 1961 1962 1963 1964 1965 1966 1967 1968 1969 1970 1971 1972 1973 1974 1975 1976 1977 1978 1979 1980 1981 1982 1983 1984 1985 1986 1987 1988 1989 1990 1991 1992 1993 1994 1995 1996 1997 1998 1999 "
          ]
        }
      ]
    },
    {
      "cell_type": "code",
      "source": [
        "#4) Digitados dois números (base e expoente ), calcule o resultado  da potência utilizando apenas \n",
        "#operadores básicos da matemática(soma, subtração, multiplicação ou divisão) e o comando FOR;\n",
        "base = int(input('Digite a base: '))\n",
        "exp = int(input('Digite o expoente: '))\n",
        "\n",
        "potencia = 1\n",
        "\n",
        "for i in range(exp):\n",
        "  potencia *= base\n",
        "\n",
        "print(f'{base} ^ {exp} = {potencia}')"
      ],
      "metadata": {
        "colab": {
          "base_uri": "https://localhost:8080/"
        },
        "id": "7HbVPDNgVAJu",
        "outputId": "c05febfb-22dd-43d7-ca5f-f59cc96b5b27"
      },
      "execution_count": null,
      "outputs": [
        {
          "output_type": "stream",
          "name": "stdout",
          "text": [
            "Digite a base: 3\n",
            "Digite o expoente: 4\n",
            "3 ^ 4 = 81\n"
          ]
        }
      ]
    },
    {
      "cell_type": "code",
      "source": [
        "#5) Faça um programa que receba um número positivo digitado pelo usuário e calcule a soma de todos os \n",
        "#números  de 1 até ao número digitado. Por exemplo, se o usuário inseriu 4, \n",
        "#a saída deve ser 10 (1+2+3+4=10).\n",
        "n = int(input('Digite um número positivo: '))\n",
        "while n < 1:\n",
        "  n = int(input('Digite um número positivo: '))\n",
        "\n",
        "soma = 0\n",
        "for i in range(1, n+1):\n",
        "  soma += i\n",
        "\n",
        "print(f'= {soma}')"
      ],
      "metadata": {
        "colab": {
          "base_uri": "https://localhost:8080/"
        },
        "id": "DN1yRZo6aj-U",
        "outputId": "861eacb4-d583-4227-c761-f162a0633098"
      },
      "execution_count": null,
      "outputs": [
        {
          "output_type": "stream",
          "name": "stdout",
          "text": [
            "Digite um número positivo: 5\n",
            "1 + 2 + 3 + 4 + 5 = 15\n"
          ]
        }
      ]
    },
    {
      "cell_type": "code",
      "source": [
        "#6) Faça um programa que leia 10 números inteiros positivos e mostre, no final, a soma dos\n",
        "# números pares e a soma dos números ímpares.\n",
        "\n",
        "somaPar = 0\n",
        "somaImpar = 0\n",
        "qtdPar = 0\n",
        "for i in range(10):\n",
        "  n = int(input(f'Digite o {i+1}º número: '))\n",
        "  while n < 0:\n",
        "    n = int(input(f'Número digitado deve ser positivo! Digite novamente'))\n",
        "  if n % 2 == 0:\n",
        "    qtdPar += 1\n",
        "    somaPar += n\n",
        "  else:\n",
        "    somaImpar += n\n",
        "\n",
        "print(f'A soma dos números pares digitados foi {somaPar}')\n",
        "print(f'A soma dos números ímpares digitados foi {somaImpar}')\n",
        "print(f'A quantidade de números pares digitados foi {qtdPar}')\n",
        "print(f'A quantidade de números impares digitados foi {10-qtdPar}')"
      ],
      "metadata": {
        "colab": {
          "base_uri": "https://localhost:8080/"
        },
        "id": "hdUa7t8Kdwcg",
        "outputId": "4eaa53ff-2645-440a-ba73-90172eee3224"
      },
      "execution_count": null,
      "outputs": [
        {
          "output_type": "stream",
          "name": "stdout",
          "text": [
            "Digite o 1º número: 10\n",
            "Digite o 2º número: 5\n",
            "Digite o 3º número: 6\n",
            "Digite o 4º número: 8\n",
            "Digite o 5º número: 2\n",
            "Digite o 6º número: 3\n",
            "Digite o 7º número: 1\n",
            "Digite o 8º número: 4\n",
            "Digite o 9º número: 7\n",
            "Digite o 10º número: 3\n",
            "A soma dos números pares digitados foi 30\n",
            "A soma dos números ímpares digitados foi 19\n"
          ]
        }
      ]
    },
    {
      "cell_type": "code",
      "source": [
        "# 7) Dado um número n inteiro e positivo, dizemos que n é perfeito se n for igual à soma de\n",
        "#seus divisores positivos diferentes de n. Construa um programa em python que verifica se um\n",
        "#dado número é perfeito. Ex: 6 é perfeito, pois 1+2+3 = 6.\n",
        "\n",
        "n = int(input('Digite um número positivo maior que 0'))\n",
        "while n < 1:\n",
        "  n = int(input('Digite um número positivo maior que 0'))\n",
        "\n",
        "soma_divisor = 0\n",
        "for i in range(1, n):\n",
        "  if n % i == 0:\n",
        "    soma_divisor += i\n",
        "    #print(f'{i} +', end='')\n",
        "\n",
        "if soma_divisor == n:\n",
        "  print(f'A soma dos divisores de {n} é perfeita' )\n",
        "else:\n",
        "  print(f'A soma dos divisores de {n} não é perfeita' )"
      ],
      "metadata": {
        "colab": {
          "base_uri": "https://localhost:8080/"
        },
        "id": "AKw_Ifwoif7T",
        "outputId": "7a747309-671e-49c3-d3aa-1246115750b8"
      },
      "execution_count": null,
      "outputs": [
        {
          "output_type": "stream",
          "name": "stdout",
          "text": [
            "Digite um número positivo maior que 06\n",
            "A soma dos divisores de 6 é perfeita\n"
          ]
        }
      ]
    },
    {
      "cell_type": "code",
      "source": [
        "#8) Escreva um programa que leia um valor correspondente ao número de jogadores de um time de vôlei.\n",
        "#O programa deverá ler uma altura para cada um dos jogadores e, ao final, informar a altura média do time.\n",
        "qtd_jogadores = int(input('Digite a quantidade de jogadores do time de vôlei'))\n",
        "\n",
        "while qtd_jogadores < 1:\n",
        "  qtd_jogadores = int(input('Digite a quantidade de jogadores do time de vôlei'))\n",
        "\n",
        "soma_alturas = 0\n",
        "for i in range(qtd_jogadores):\n",
        "  altura = float(input(f'Digite a altura do {i+1}º jogador: '))\n",
        "  while altura < 0 or altura > 3:\n",
        "    altura = float(input(f'Digite a altura do {i+1}º jogador: '))\n",
        "  soma_alturas += altura\n",
        "\n",
        "media_alturas = soma_alturas / qtd_jogadores\n",
        "\n",
        "print(f'A media das alturas digitadas foi de {media_alturas:.2f}')"
      ],
      "metadata": {
        "colab": {
          "base_uri": "https://localhost:8080/"
        },
        "id": "CyjJJ4MPk8cF",
        "outputId": "896c763b-e248-4935-fccf-efe0d95f2173"
      },
      "execution_count": null,
      "outputs": [
        {
          "output_type": "stream",
          "name": "stdout",
          "text": [
            "Digite a quantidade de jogadores do time de vôlei4\n",
            "Digite a altura do 1º jogador1.8\n",
            "Digite a altura do 2º jogador1.5\n",
            "Digite a altura do 3º jogador1.97\n",
            "Digite a altura do 4º jogador1.69\n",
            "A media das alturas digitadas foi de 1.74\n"
          ]
        }
      ]
    },
    {
      "cell_type": "code",
      "source": [
        "#9) Escreva um programa em Python que leia um número inteiro positivo e diga se o número informado é primo\n",
        "\n",
        "n = int(input('Digite um número positivo: '))\n",
        "while n < 1:\n",
        "  n = int(input('Digite um número positivo: '))\n",
        "\n",
        "qtd_divisores = 0\n",
        "\n",
        "for i in range(1, n+1):\n",
        "  if n % i == 0:\n",
        "    qtd_divisores += 1\n",
        "\n",
        "if qtd_divisores == 2:\n",
        "  print(f'O número {n} é primo!')\n",
        "else:\n",
        "  print(f'O número {n} não é primo!')"
      ],
      "metadata": {
        "colab": {
          "base_uri": "https://localhost:8080/"
        },
        "id": "-L361_75n5dZ",
        "outputId": "d152b89b-7cd2-4150-e8b0-138dd0a17a6d"
      },
      "execution_count": null,
      "outputs": [
        {
          "output_type": "stream",
          "name": "stdout",
          "text": [
            "Digite um número positivo: 5\n",
            "O número 5 é primo!\n"
          ]
        }
      ]
    },
    {
      "cell_type": "code",
      "source": [
        "#10) Escreva um algoritmo em python que leia um número N e informe os N primeiros números da sequência de Fibonacci\n",
        "    #A sequência é a seguinte: 1 1 2 3 5 8 13 21 34 55 89 …\n",
        "n = int(input('Digite a quantidade de termos da sequência de Fibonacci: '))\n",
        "while n < 1:\n",
        "  n = int(input('Digite a quantidade de termos da sequência de Fibonacci: '))\n",
        "\n",
        "a, b, c = 0, 1, 1\n",
        "\n",
        "for i in range(n):\n",
        "  print(c)\n",
        "  c = a + b\n",
        "  a = b\n",
        "  b = c"
      ],
      "metadata": {
        "colab": {
          "base_uri": "https://localhost:8080/"
        },
        "id": "ojJN0Ls28bgZ",
        "outputId": "8d660dc6-5bee-46f3-bfbb-793ba7f53470"
      },
      "execution_count": null,
      "outputs": [
        {
          "output_type": "stream",
          "name": "stdout",
          "text": [
            "Digite a quantidade de termos da sequência de Fibonacci: 11\n",
            "1\n",
            "1\n",
            "2\n",
            "3\n",
            "5\n",
            "8\n",
            "13\n",
            "21\n",
            "34\n",
            "55\n",
            "89\n"
          ]
        }
      ]
    }
  ]
}