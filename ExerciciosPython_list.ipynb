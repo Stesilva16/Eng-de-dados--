{
  "nbformat": 4,
  "nbformat_minor": 0,
  "metadata": {
    "colab": {
      "provenance": [],
      "include_colab_link": true
    },
    "kernelspec": {
      "name": "python3",
      "display_name": "Python 3"
    },
    "language_info": {
      "name": "python"
    }
  },
  "cells": [
    {
      "cell_type": "markdown",
      "metadata": {
        "id": "view-in-github",
        "colab_type": "text"
      },
      "source": [
        "<a href=\"https://colab.research.google.com/github/Stesilva16/Eng-de-dados--/blob/main/ExerciciosPython_list.ipynb\" target=\"_parent\"><img src=\"https://colab.research.google.com/assets/colab-badge.svg\" alt=\"Open In Colab\"/></a>"
      ]
    },
    {
      "cell_type": "markdown",
      "source": [
        "#Lista de exercícios para praticar estruturas de repetição e listas"
      ],
      "metadata": {
        "id": "TGWs-saKqvlO"
      }
    },
    {
      "cell_type": "markdown",
      "source": [
        "1) Faça um Programa que leia uma lista de 5 números inteiros e mostre-os."
      ],
      "metadata": {
        "id": "VqCAV3Q-rTAk"
      }
    },
    {
      "cell_type": "code",
      "source": [
        "#resolução 1\n",
        "cont = 0\n",
        "lista_numeros=[]\n",
        "\n",
        "while(cont <5):\n",
        "  numero = int(input('Digite um número:'))\n",
        "  cont+=1\n",
        "  lista_numeros.append(numero)\n",
        "\n",
        "\n",
        "#print(lista_numeros)\n",
        "for i in lista_numeros:\n",
        "  print(i)\n"
      ],
      "metadata": {
        "id": "p7MhDU0CrtFs"
      },
      "execution_count": null,
      "outputs": []
    },
    {
      "cell_type": "code",
      "source": [
        "#resolução 2\n",
        "lista_numeros=[]\n",
        "for i in range(5):\n",
        "  lista_numeros.append(int(input('Digite um número:')))\n",
        "\n",
        "print(lista_numeros)"
      ],
      "metadata": {
        "id": "4E4JQNXGyZZx"
      },
      "execution_count": null,
      "outputs": []
    },
    {
      "cell_type": "markdown",
      "source": [
        "2) Faça um Programa que leia uma lista de 10 números reais e mostre-os na ordem inversa."
      ],
      "metadata": {
        "id": "tSalaGw6rYjr"
      }
    },
    {
      "cell_type": "code",
      "source": [
        "#resolução 1\n",
        "cont = 0\n",
        "lista_numeros=[]\n",
        "\n",
        "while(cont < 10):\n",
        "  numero = float(input('Digite um número:'))\n",
        "  cont+=1\n",
        "  lista_numeros.append(numero)\n",
        "\n",
        "for i in range(len(lista_numeros)-1, -1, -1):\n",
        "  print(lista_numeros[i])"
      ],
      "metadata": {
        "id": "yqdj6h6ztCR6"
      },
      "execution_count": null,
      "outputs": []
    },
    {
      "cell_type": "code",
      "source": [
        "#resolução 2\n",
        "cont = 0\n",
        "lista_numeros=[]\n",
        "\n",
        "while(cont < 10):\n",
        "  numero = float(input('Digite um número:'))\n",
        "  cont+=1\n",
        "  lista_numeros.append(numero)\n",
        "\n",
        "lista_numeros.reverse()\n",
        "print(lista_numeros)"
      ],
      "metadata": {
        "colab": {
          "base_uri": "https://localhost:8080/"
        },
        "id": "anfAzO_on6T6",
        "outputId": "6b712026-a53d-4709-d946-42b66937498e"
      },
      "execution_count": null,
      "outputs": [
        {
          "output_type": "stream",
          "name": "stdout",
          "text": [
            "Digite um número:1\n",
            "Digite um número:6\n",
            "Digite um número:5\n",
            "Digite um número:3\n",
            "Digite um número:7\n",
            "[7.0, 3.0, 5.0, 6.0, 1.0]\n"
          ]
        }
      ]
    },
    {
      "cell_type": "markdown",
      "source": [
        "3) Faça um Programa que leia 4 notas de aluno e armazene-as dentro de uma lista. Em seguida mostre as notas e a média das notas na tela."
      ],
      "metadata": {
        "id": "zweg8sQorZhK"
      }
    },
    {
      "cell_type": "code",
      "source": [
        "cont = 0\n",
        "lista_notas=[]\n",
        "soma=0\n",
        "\n",
        "while(cont <4):\n",
        "  nota = float(input(f'Digite a {cont+1}ª nota:'))\n",
        "  if(nota < 0) or (nota > 10):\n",
        "    nota = float(input(f'Digite a {cont+1}ª nota, não pode ser número negativo:'))\n",
        "  cont+=1\n",
        "  lista_notas.append(nota)\n",
        "\n",
        "print('As notas digitadas foram: ')\n",
        "for i in lista_notas:\n",
        "  soma+=i\n",
        "  print(i)\n",
        "\n",
        "print(f'A média do aluno é: {soma/len(lista_notas)}')"
      ],
      "metadata": {
        "id": "oPJ93qSpvAdi"
      },
      "execution_count": null,
      "outputs": []
    },
    {
      "cell_type": "markdown",
      "source": [
        "4) Faça um Programa que leia 20 números inteiros e armazene-os numa lista. Em seguida, crie mais 2 listas, uma para armazenar os números pares e outra para armazenar os números impares. Ao final, Imprima as três listas."
      ],
      "metadata": {
        "id": "WlmqYxJDrcO6"
      }
    },
    {
      "cell_type": "code",
      "source": [
        "lista_numeros=[]\n",
        "lista_pares=[]\n",
        "lista_imapres=[]\n",
        "\n",
        "for i in range(20):\n",
        " \n",
        "  numero=int(input(f'Digite o {i+1}º número:'))\n",
        "  while(numero <=0):\n",
        "    numero=int(input(f'Digite o {i+1}º número (número deve ser maior que 0):'))\n",
        "\n",
        "  lista_numeros.append(numero)\n",
        "  if(numero%2==0):\n",
        "    lista_pares.append(numero)\n",
        "  else:\n",
        "    lista_imapres.append(numero)\n",
        "\n",
        "print(f'Os números digitados foram: {lista_numeros}')\n",
        "print(f'Os números pares são: {lista_pares}')\n",
        "print(f'Os números ímpares são: {lista_imapres}')"
      ],
      "metadata": {
        "id": "mefc_m7gw6Az"
      },
      "execution_count": null,
      "outputs": []
    },
    {
      "cell_type": "markdown",
      "source": [
        "5) Faça um Programa que peça as quatro notas de 10 alunos junto com o seu nome. Calcule e armazene numa lista a média de cada aluno, bem como em outra lista armazene o nome do aluno. Ao final imprima o número de alunos com média maior ou igual a 7.0 junto com o seu nome e a média."
      ],
      "metadata": {
        "id": "MnjesGPArfJr"
      }
    },
    {
      "cell_type": "code",
      "source": [
        "lista_medias=[]\n",
        "lista_nomes=[]\n",
        "media_maior_sete=0\n",
        "\n",
        "for i in range(10):\n",
        "  nome_aluno= input(f'Digite o nome do(a) {i+1}º aluno(a): ')\n",
        "  media=0\n",
        "  lista_nomes.append(nome_aluno)\n",
        "  \n",
        "  for j in range(4):\n",
        "    \n",
        "    nota=float(input(f'Digite a {j+1}ª nota do(a) aluno(a) {nome_aluno}: '))\n",
        "    \n",
        "    while(nota <0) or (nota > 10):\n",
        "      nota=float(input(f'Digite a {j+1}ª nota do(a) aluno(a) {nome_aluno}: '))\n",
        "    \n",
        "    media+=nota\n",
        "  lista_medias.append(media/4)\n",
        "\n",
        "\n",
        "for i in range(len(lista_medias)):\n",
        "  if(lista_medias[i]>=7):\n",
        "    media_maior_sete+=1\n",
        "    print(f'A média do aluno(a) {lista_nomes[i]} é {lista_medias[i]}\\n1')\n",
        "\n",
        "\n",
        "print(f'O total de alunos com média maior ou igual a 7.0 é de: {media_maior_sete} \\n')"
      ],
      "metadata": {
        "id": "3K3Gq3M53Xyf"
      },
      "execution_count": null,
      "outputs": []
    },
    {
      "cell_type": "markdown",
      "source": [
        "6) Faça um Programa que leia uma lista de 5 números inteiros. Após, percorra a lista e calcule a soma e a multiplicação dos números. Ao final, mostre os números lidos, a soma dos números e a multiplicação entre eles."
      ],
      "metadata": {
        "id": "Pwtg857PrhYa"
      }
    },
    {
      "cell_type": "code",
      "source": [
        "lista_numeros=[]\n",
        "soma_numeros=0\n",
        "mult_numeros=1\n",
        "\n",
        "for i in range(5):\n",
        "  numero = int(input(f'Digite o {i+1}º número inteiro: '))\n",
        "  lista_numeros.append(numero)\n",
        "\n",
        "print(f'A lista de números digitados é:')  \n",
        "\n",
        "for i in lista_numeros:\n",
        "  soma_numeros+=i\n",
        "  mult_numeros*=i\n",
        "  print(f'{i}')\n",
        "\n",
        "print(f'A soma dos números digitados é: {soma_numeros}')\n",
        "print(f'A multiplicação dos números digitados é: {mult_numeros}')\n",
        "\n"
      ],
      "metadata": {
        "id": "QKBhzp9MAfce"
      },
      "execution_count": null,
      "outputs": []
    },
    {
      "cell_type": "markdown",
      "source": [
        "7) Faça um Programa que leia uma lista A com 10 números inteiros, calcule e mostre a soma dos quadrados dos elementos da lista."
      ],
      "metadata": {
        "id": "fXJtz2_nrkA1"
      }
    },
    {
      "cell_type": "code",
      "source": [
        "lista_numeros=[]\n",
        "lista_quadrados=[]\n",
        "soma_quadrados=0\n",
        "quadrado=0\n",
        "\n",
        "for i in range(10):\n",
        "  numero = int(input(f'Digite o {i+1}º número inteiro: '))\n",
        "  lista_numeros.append(numero)\n",
        "\n",
        "for i in lista_numeros:\n",
        "  quadrado=i*i\n",
        "  lista_quadrados.append(quadrado)\n",
        "  soma_quadrados+=quadrado\n",
        "  \n",
        "print(f'A lista dos quadrados é: {lista_quadrados}')\n",
        "print(f'A soma dos quadrados é: {soma_quadrados}')\n"
      ],
      "metadata": {
        "id": "8NS5a4PxCgeN"
      },
      "execution_count": null,
      "outputs": []
    },
    {
      "cell_type": "markdown",
      "source": [
        "8) Faça um programa que leia o nome, a idade e a altura de 10 alunos da SoulCode. Em seguida determine quantos alunos com mais de 13 anos possuem altura inferior à média de altura desses alunos."
      ],
      "metadata": {
        "id": "aGOsjTPNrnnC"
      }
    },
    {
      "cell_type": "code",
      "execution_count": null,
      "metadata": {
        "id": "4slOlxN9rCdg"
      },
      "outputs": [],
      "source": [
        "lista_nomes=[]\n",
        "lista_idades=[]\n",
        "lista_alturas=[]\n",
        "soma_altura = 0\n",
        "media_altura = 0\n",
        "inferior_media = 0\n",
        "\n",
        "for i in range(10):\n",
        "  nome = input(f'Digite o nome do(a) {i+1}º aluno(a): ')\n",
        "\n",
        "  idade = int(input(f'Digite a idade do(a) {i+1}º aluno(a): '))\n",
        "  while(idade < 0):\n",
        "    idade = int(input(f'Digite a idade do(a) {i+1}º aluno(a): '))\n",
        "\n",
        "  altura = float(input(f'Digite a altura do(a) {i+1}º aluno(a): '))\n",
        "  while(altura < 0):\n",
        "    altura = float(input(f'Digite a altura do(a) {i+1}º aluno(a): '))\n",
        "  \n",
        "  lista_nomes.append(nome)\n",
        "  lista_idades.append(idade)\n",
        "  lista_alturas.append(altura)\n",
        "\n",
        "  soma_altura+=altura\n",
        "\n",
        "media_altura = soma_altura/len(lista_alturas)\n",
        "\n",
        "for i in range(len(lista_nomes)):\n",
        "  if(lista_idades[i]>13) and (lista_alturas[i] < media_altura):\n",
        "    inferior_media+=1\n",
        "\n",
        "print(f'A quantidade de alunos maior de 13 anos e com altura inferior a média é: {inferior_media}')\n",
        "\n",
        "\n",
        "  "
      ]
    }
  ]
}