{
  "nbformat": 4,
  "nbformat_minor": 0,
  "metadata": {
    "colab": {
      "provenance": [],
      "include_colab_link": true
    },
    "kernelspec": {
      "name": "python3",
      "display_name": "Python 3"
    },
    "language_info": {
      "name": "python"
    }
  },
  "cells": [
    {
      "cell_type": "markdown",
      "metadata": {
        "id": "view-in-github",
        "colab_type": "text"
      },
      "source": [
        "<a href=\"https://colab.research.google.com/github/Stesilva16/Eng-de-dados--/blob/main/Exercicios_08_11.ipynb\" target=\"_parent\"><img src=\"https://colab.research.google.com/assets/colab-badge.svg\" alt=\"Open In Colab\"/></a>"
      ]
    },
    {
      "cell_type": "code",
      "execution_count": null,
      "metadata": {
        "colab": {
          "base_uri": "https://localhost:8080/"
        },
        "id": "FLSkq3X8MD54",
        "outputId": "b348cd46-7ea1-4880-bdcb-a2b39af94a99"
      },
      "outputs": [
        {
          "output_type": "stream",
          "name": "stdout",
          "text": [
            "Digite um numero inteiro: 0\n",
            "Esse é o 0\n"
          ]
        }
      ],
      "source": [
        "# fazer um algoritimo qu eleia um numero inteiro e diga se ele é positivo ou negativo ou 0.\n",
        "\n",
        "num = int(input('Digite um numero inteiro: '))\n",
        "\n",
        "if num > 0:\n",
        "  print(num, ', é positivo!')\n",
        "elif num < 0:\n",
        "  print(num, 'é um número negativo')\n",
        "else:\n",
        "  print('Esse é o 0')\n",
        "\n"
      ]
    },
    {
      "cell_type": "code",
      "source": [
        "#1) Faça um programa que leia duas variáveis A e B com números inteiros. Em seguida inverta os valores de A e B. Exemplo: A = 5, B = 3 , deverá ficar assim: A = 3, B = 5\n",
        "\n",
        "num1 = int(input('Digite um numero inteiro que será A: '))\n",
        "num2 = int(input('Digite um numero inteiro que será B: '))\n",
        "\n",
        "print(f' O numero de A = {num1} e o B = {num2}') \n",
        "\n",
        "aux = num1\n",
        "num1 = num2\n",
        "num2 = aux\n",
        "\n",
        "print(f' O numero de A = {num1} e o B = {num2}')"
      ],
      "metadata": {
        "colab": {
          "base_uri": "https://localhost:8080/"
        },
        "id": "Kl_7TG72bIY7",
        "outputId": "7f634b00-64c0-430d-df1a-f82df285c6e8"
      },
      "execution_count": null,
      "outputs": [
        {
          "output_type": "stream",
          "name": "stdout",
          "text": [
            "Digite um numero inteiro que será A: 2\n",
            "Digite um numero inteiro que será B: 5\n",
            " O numero de A = 2 e o B = 5\n",
            " O numero de A = 5 e o B = 2\n"
          ]
        }
      ]
    },
    {
      "cell_type": "code",
      "source": [
        "#2) Faça um programa que pede duas notas de um aluno. Em seguida ele deve calcular a média do aluno e dar o seguinte resultado:\n",
        "#A mensagem \"Aprovado\", se a média alcançada for maior ou igual a sete;\n",
        "# A mensagem \"Recuperação\", se a média for menor do que sete;\n",
        "\n",
        "nota1 = float(input('Digite a nota 1: '))\n",
        "nota2 = float(input('Digite a nota 2: '))\n",
        "media_notas = (nota1 + nota2) / 2\n",
        "\n",
        "if media_notas >= 7:\n",
        "  print(f'A sua média é {media_notas:.2f} , você está Aprovado!')\n",
        "else:\n",
        "  print(f'A sua média é {media_notas:.2f} , você está Reprovado!')\n",
        "\n"
      ],
      "metadata": {
        "colab": {
          "base_uri": "https://localhost:8080/"
        },
        "id": "-4yJv-8Ccxis",
        "outputId": "0f5bcd17-83d0-4165-ecff-efd84e9aaa03"
      },
      "execution_count": null,
      "outputs": [
        {
          "output_type": "stream",
          "name": "stdout",
          "text": [
            "Digite a nota 1: 5.55\n",
            "Digite a nota 2: 8.20\n",
            "A sua média é 6.88 , você está Reprovado!\n"
          ]
        }
      ]
    },
    {
      "cell_type": "code",
      "source": [
        "\"\"\"3) Faça um programa que lê as duas notas parciais obtidas por um aluno numa disciplina ao longo de um semestre, e calcule a sua média.\"\"\"\n",
        "\n",
        "nota1 = float(input('Digite a nota 1 de 0 a 10.0: '))\n",
        "nota2 = float(input('Digite a nota 2 de 0 a 10.0: '))\n",
        "media_notas = (nota1 + nota2) / 2\n",
        "\n",
        "if media_notas >= 0 and  media_notas < 4.0:\n",
        "  print(f'Sua média é {media_notas} que é E, você está reprovado!')\n",
        "elif media_notas >=  4.0 and  media_notas < 6.0:\n",
        "  print(f'Sua média é {media_notas} que é D, você está reprovado!')\n",
        "elif media_notas >=  6.0 and  media_notas < 7.5:\n",
        "  print(f'Sua média é {media_notas} que é C, você está aprovado!')\n",
        "elif media_notas >=  7.5 and  media_notas < 9.0:\n",
        "  print(f'Sua média é {media_notas} que é B, você está aprovado!')\n",
        "elif media_notas >=  9.0 and  media_notas <= 10.0:\n",
        "  print(f'Sua média é {media_notas} que é A, você está aprovado!')\n",
        "else:\n",
        "  print('ERRO! A media das notas são de 0 a 10!')\n",
        "\n",
        "\n",
        "\n"
      ],
      "metadata": {
        "colab": {
          "base_uri": "https://localhost:8080/"
        },
        "id": "ueLqHf19evnw",
        "outputId": "20c51744-391f-4fb3-b985-c5d0dab05754"
      },
      "execution_count": null,
      "outputs": [
        {
          "output_type": "stream",
          "name": "stdout",
          "text": [
            "Digite a nota 1: 5\n",
            "Digite a nota 2: 8\n",
            "Sua média é 6.5 que é C, você está aprovado!\n"
          ]
        }
      ]
    },
    {
      "cell_type": "code",
      "source": [
        "#4) Faça um Programa que leia 4 números inteiros e mostre o maior deles.\n",
        "\n",
        "n1 = int(input('Digite o primeiro numero: '))\n",
        "n2 = int(input('Digite o segundo numero: '))\n",
        "n3 = int(input('Digite o terceiro numero: '))\n",
        "n4 = int(input('Digite o quarto numero: '))\n",
        "\n",
        "print(f'O maior número digitado foi: {max(n1, n2, n3, n4)}')\n"
      ],
      "metadata": {
        "colab": {
          "base_uri": "https://localhost:8080/"
        },
        "id": "Xha9sf-2jSe1",
        "outputId": "14e12310-5387-40c9-e042-286b2b015b5f"
      },
      "execution_count": null,
      "outputs": [
        {
          "output_type": "stream",
          "name": "stdout",
          "text": [
            "Digite o primeiro numero: 50\n",
            "Digite o segundo numero: 2\n",
            "Digite o terceiro numero: 15\n",
            "Digite o quarto numero: 1\n",
            "O maior número digitado foi: 50\n"
          ]
        }
      ]
    },
    {
      "cell_type": "code",
      "source": [
        "from sre_constants import CHARSET\n",
        "# 5) Faça um Programa que pergunte em que turno você estuda.\n",
        "#Peça para digitar M-matutino ou V-Vespertino ou N- Noturno. \n",
        "#Imprima a mensagem \"Bom Dia!\", \"Boa Tarde!\" ou \"Boa Noite!\" ou \"Valor Inválido!\", conforme o caso.\n",
        "\n",
        "nome = input('Qual é o seu nome?')\n",
        "turno = str(input('Qual é o turno que você estuda? Digite \\nM-matutino, \\nV-Vespertino ou \\nN- Noturno: '))\n",
        "\n",
        "if turno == 'M' or turno == 'm':\n",
        "  print(f' Bom dia, {nome}!')\n",
        "elif turno == 'V' or turno == 'v':\n",
        "  print(f' Boa tarde, {nome}!')\n",
        "elif turno == 'N' or turno == 'n':\n",
        "  print(f' Boa noite, {nome}!')\n",
        "else:\n",
        "  print('Valor Inválido!')\n",
        "\n"
      ],
      "metadata": {
        "colab": {
          "base_uri": "https://localhost:8080/"
        },
        "id": "r1nVkQqAmSPG",
        "outputId": "e9bb17ab-6896-495b-e4a3-6137052f85e9"
      },
      "execution_count": null,
      "outputs": [
        {
          "output_type": "stream",
          "name": "stdout",
          "text": [
            "Qual é o seu nome?Sté\n",
            "Qual é o turno que você estuda? Digite \n",
            "M-matutino, \n",
            "V-Vespertino ou \n",
            "N- Noturno: m\n",
            " Bom dia, Sté!\n"
          ]
        }
      ]
    },
    {
      "cell_type": "code",
      "source": [
        "#6) Faça um Programa que peça um número correspondente a um determinado ano e em seguida informe se este ano é ou não bissexto. Para que um ano seja Bissexto ele tem que seguir aos seguintes critérios:\n",
        "#Ser múltiplo de 4 e não ser múltiplo de 100 ou ser múltiplo de 400.\n",
        "\n",
        "nome = input('Qual é o seu nome? ')\n",
        "ano = int(input('Digite qual o ano que deseja: '))\n",
        "\n",
        "if (ano % 4 == 0 or ano % 100 == 0) or ano % 400 == 0:\n",
        "  print(f' {nome} o ano {ano} é um ano bissexto!')\n",
        "else:\n",
        "  print(f' {nome} o ano {ano} Não é um ano bissexto!')\n",
        "\n",
        "\n",
        "\n"
      ],
      "metadata": {
        "colab": {
          "base_uri": "https://localhost:8080/"
        },
        "id": "Sr2f1-6Dqi8P",
        "outputId": "6ae36d59-8393-4873-dae4-d71c658ca9ce"
      },
      "execution_count": null,
      "outputs": [
        {
          "output_type": "stream",
          "name": "stdout",
          "text": [
            "Qual é o seu nome? Ste\n",
            "Digite qual o ano que deseja:  2016\n",
            " Ste o ano 2016 é um ano bissexto!\n"
          ]
        }
      ]
    },
    {
      "cell_type": "code",
      "source": [
        "#7) Um posto está vendendo combustíveis com a seguinte tabela de descontos:\n",
        "\n",
        "nome = input('Qual é o seu nome? ')\n",
        "comb = str(input('Qual é o tipo de combustivel que você deseja? Digite \\nA-álcool ou \\nG-gasolina? '))\n",
        "qtd = float(input('Quantos Litros você deseja? '))\n",
        "alc = 3.90\n",
        "gas = 5.50\n",
        "\n",
        "if (comb == 'A' or comb == 'a') and qtd <= 20:\n",
        "  print(f'{nome}, o valor total que você irá pagar é R$ {alc * qtd } com o desconto de 3% você vai pagar R$ {((alc * qtd) - ((alc * qtd) * 0.03))}')\n",
        "elif (comb == 'A' or comb == 'a' ) and qtd > 20:\n",
        "  print(f'{nome}, o valor total que você irá pagar é R$ {alc * qtd } com o desconto de 5% você vai pagar R$ {((alc * qtd) - ((alc * qtd) * 0.05))} ')\n",
        "elif (comb == 'G' or comb == 'g' ) and qtd <= 20:\n",
        "  print(f'{nome}, o valor total que você irá pagar é R$ {gas * qtd } com o desconto de 4% você vai pagar R$ {((gas * qtd) - ((gas * qtd) * 0.04))} ')\n",
        "elif (comb == 'G' or comb == 'g' ) and qtd > 20:\n",
        "  print(f'{nome}, o valor total que você irá pagar é R$ {gas * qtd } com o desconto 6% você vai pagar R$ {((gas * qtd) - ((gas * qtd) * 0.06))} ')\n",
        "else:\n",
        "  print('Valor invalido!')\n",
        "\n",
        "\n",
        "\n",
        "\n"
      ],
      "metadata": {
        "colab": {
          "base_uri": "https://localhost:8080/"
        },
        "id": "OmkmCU74qsFS",
        "outputId": "48a4f965-4f0d-43f4-9505-67f383bd324b"
      },
      "execution_count": null,
      "outputs": [
        {
          "output_type": "stream",
          "name": "stdout",
          "text": [
            "Qual é o seu nome? oi\n",
            "Qual é o tipo de combustivel que você deseja? Digite \n",
            "A-álcool ou \n",
            "G-gasolina? a\n",
            "Quantos Litros você deseja? 25\n",
            "oi, o valor total que você irá pagar é R$ 97.5 com o desconto de 5% você vai pagar R$ 92.625 \n"
          ]
        }
      ]
    }
  ]
}