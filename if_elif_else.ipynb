{
  "nbformat": 4,
  "nbformat_minor": 0,
  "metadata": {
    "colab": {
      "provenance": [],
      "include_colab_link": true
    },
    "kernelspec": {
      "name": "python3",
      "display_name": "Python 3"
    },
    "language_info": {
      "name": "python"
    }
  },
  "cells": [
    {
      "cell_type": "markdown",
      "metadata": {
        "id": "view-in-github",
        "colab_type": "text"
      },
      "source": [
        "<a href=\"https://colab.research.google.com/github/Stesilva16/Eng-de-dados--/blob/main/if_elif_else.ipynb\" target=\"_parent\"><img src=\"https://colab.research.google.com/assets/colab-badge.svg\" alt=\"Open In Colab\"/></a>"
      ]
    },
    {
      "cell_type": "code",
      "execution_count": null,
      "metadata": {
        "id": "AIU_Tj6vH2Np"
      },
      "outputs": [],
      "source": [
        "#IF - ENCADEADO - Exemplo maior que 10, menor que 10 ou igual a 10\n",
        "\n",
        "numero = int(input('Digite um número: '))\n",
        "\n",
        "if numero > 10:\n",
        "  print('O número é maior do que 10')\n",
        "elif numero < 10:\n",
        "  print('O número é menor do que 10')\n",
        "else:\n",
        "  print('O número digitado foi 10')"
      ]
    },
    {
      "cell_type": "code",
      "source": [
        "#IF - ENCADEADO - FAÇA UM ALGORITMO QUE LEIA UM NÚMERO INTEIRO E DIGA SE \n",
        "# O NÚMERO LIDO É POSITIVO, NEGATIVO OU O 0.\n",
        "n1 = int(input('Digite um número inteiro: '))\n",
        "\n",
        "if n1 > 0:\n",
        "  print('Positivo')\n",
        "\n",
        "if n1 < 0:\n",
        "  print('Negativo')\n",
        "\n",
        "if n1 == 0:\n",
        "  print('Zero')"
      ],
      "metadata": {
        "id": "EBCNetRkLoQx"
      },
      "execution_count": null,
      "outputs": []
    },
    {
      "cell_type": "code",
      "source": [
        "#IF - ENCADEADO - FAÇA UM ALGORITMO QUE LEIA UM NÚMERO INTEIRO E DIGA SE \n",
        "# O NÚMERO LIDO É POSITIVO, NEGATIVO OU O 0.\n",
        "n1 = int(input('Digite um número inteiro: '))\n",
        "\n",
        "if n1 > 0:\n",
        "  print(f' O número {n1} é Positivo')\n",
        "elif n1 == 0:\n",
        "  print(f' O número {n1} é Zero')\n",
        "else:\n",
        "  print(f' O número {n1} é Negativo')"
      ],
      "metadata": {
        "colab": {
          "base_uri": "https://localhost:8080/"
        },
        "id": "h7yYbs9tTIMJ",
        "outputId": "0d313548-c576-48fb-bfc2-963598e30689"
      },
      "execution_count": null,
      "outputs": [
        {
          "output_type": "stream",
          "name": "stdout",
          "text": [
            "Digite um número inteiro: 15\n",
            " O número 15 é Positivo\n"
          ]
        }
      ]
    },
    {
      "cell_type": "code",
      "source": [
        "'''\n",
        "1) Faça um programa que leia duas variáveis A e B com números inteiros.\n",
        " Em seguida inverta os valores de A e B. Exemplo: A = 5, B = 3 , deverá ficar assim: A = 3, B = 5\n",
        "'''\n",
        "A = int(input('Digite o primeiro número: '))\n",
        "B = int(input('Digite o segundo número: '))\n",
        "\n",
        "print(f'O valor de A = {A} e  valor de B = {B}')\n",
        "\n",
        "aux = A\n",
        "A = B\n",
        "B = aux\n",
        "\n",
        "print(f'O valor de A = {A} e  valor de B = {B}')"
      ],
      "metadata": {
        "colab": {
          "base_uri": "https://localhost:8080/"
        },
        "id": "3S9fji2UbTuZ",
        "outputId": "2aa6b75e-5c54-4e37-ea6e-dcc07f680b33"
      },
      "execution_count": null,
      "outputs": [
        {
          "output_type": "stream",
          "name": "stdout",
          "text": [
            "Digite o primeiro número: 5\n",
            "Digite o segundo número: 7\n",
            "O valor de A = 5 e  valor de B = 7\n",
            "O valor de A = 7 e  valor de B = 5\n"
          ]
        }
      ]
    },
    {
      "cell_type": "code",
      "source": [
        "'''\n",
        "2) Faça um programa que pede duas notas de um aluno. \n",
        "Em seguida ele deve calcular a média do aluno e dar o seguinte resultado:\n",
        "\n",
        "A mensagem \"Aprovado\", se a média alcançada for maior ou igual a sete;\n",
        "A mensagem \"Recuperação\", se a média for menor do que sete;\n",
        "'''\n",
        "nota1 = float(input('Digite a primeira nota: '))\n",
        "nota2 = float(input('Digite a segunda nota: '))\n",
        "\n",
        "media = (nota1 + nota2) / 2\n",
        "\n",
        "if media >= 7:\n",
        "  print(f'Aprovado com media {media:.2f}')\n",
        "else:\n",
        "  print(f'Recuperação com media {media:.2f}')"
      ],
      "metadata": {
        "colab": {
          "base_uri": "https://localhost:8080/"
        },
        "id": "HhkXgZ18gXDZ",
        "outputId": "4f1ad028-cf32-4bc7-b2c0-121695a9066e"
      },
      "execution_count": null,
      "outputs": [
        {
          "output_type": "stream",
          "name": "stdout",
          "text": [
            "Digite a primeira nota: 3\n",
            "Digite a segunda nota: 6\n",
            "Reprovado com media 4.50\n"
          ]
        }
      ]
    },
    {
      "cell_type": "code",
      "source": [
        "'''\n",
        "3) Faça um programa que lê as duas notas parciais obtidas por um aluno numa disciplina ao longo\n",
        " de um semestre, e calcule a sua média. A atribuição de conceitos obedece à tabela abaixo:\n",
        "\n",
        "  Média de Aproveitamento  Conceito\n",
        "  Entre 9.0 e 10.0                      A\n",
        "  Entre 7.5 e 9.0                        B\n",
        "  Entre 6.0 e 7.5                        C\n",
        "  Entre 4.0 e 6.0                        D\n",
        "  Entre 4.0 e zero                      E\n",
        "O algoritmo deve mostrar na tela as notas, a média, o conceito correspondente e a mensagem “APROVADO” \n",
        "se o conceito for A, B ou C ou “REPROVADO” se o conceito for D ou E.\n",
        "'''\n",
        "nota1 = float(input('Digite a primeira nota: '))\n",
        "nota2 = float(input('Digite a segunda nota: '))\n",
        "\n",
        "media = (nota1 + nota2) / 2\n",
        "\n",
        "if media >= 9 and media <= 10:\n",
        "  conceito = 'A'\n",
        "elif media >= 7.5 and media < 9:\n",
        "  conceito = 'B'\n",
        "elif media >= 6 and media < 7.5:\n",
        "  conceito = 'C'\n",
        "elif media >= 4 and media < 6:\n",
        "  conceito = 'D'\n",
        "else:\n",
        "  conceito = 'E'\n",
        "\n",
        "print(f'As notas do aluno foram {nota1} e {nota2}')\n",
        "print(f'A media do aluno foi {media:.2f}')\n",
        "print(f'O aluno ficou com o conceito {conceito}')\n",
        "\n",
        "if conceito == 'A' or conceito == 'B' or conceito == 'C':\n",
        "  print('ALUNO APROVADO')\n",
        "else:\n",
        "  print('ALUNO REPROVADO')"
      ],
      "metadata": {
        "colab": {
          "base_uri": "https://localhost:8080/"
        },
        "id": "_ydwZkMrjVBk",
        "outputId": "9ebc9627-1590-406d-a7f2-24e3b082f21d"
      },
      "execution_count": null,
      "outputs": [
        {
          "output_type": "stream",
          "name": "stdout",
          "text": [
            "Digite a primeira nota: 6.5\n",
            "Digite a segunda nota: 9.2\n",
            "As notas do aluno foram 6.5 e 9.2\n",
            "A media do aluno foi 7.85\n",
            "O aluno ficou com o conceito B\n",
            "ALUNO APROVADO\n"
          ]
        }
      ]
    },
    {
      "cell_type": "code",
      "source": [
        "#4) Faça um Programa que leia 4 números inteiros e mostre o maior deles.\n",
        "\n",
        "n1 = int(input('Digite o primeiro número: '))\n",
        "n2 = int(input('Digite o segundo número: '))\n",
        "n3 = int(input('Digite o terceiro número: '))\n",
        "n4 = int(input('Digite o quarto número: '))\n",
        "\n",
        "maior = n1\n",
        "\n",
        "if n2 > maior:\n",
        "  maior = n2\n",
        "\n",
        "if n3 > maior:\n",
        "  maior = n3\n",
        "\n",
        "if n4 > maior:\n",
        "  maior = n4\n",
        "\n",
        "print(f'O maior número digitado foi {maior}')"
      ],
      "metadata": {
        "colab": {
          "base_uri": "https://localhost:8080/"
        },
        "id": "nYfdFTN-tf--",
        "outputId": "95f6df0b-78f0-4a26-d61b-a06fe5ed98e8"
      },
      "execution_count": null,
      "outputs": [
        {
          "output_type": "stream",
          "name": "stdout",
          "text": [
            "Digite o primeiro número: 5\n",
            "Digite o segundo número: 2\n",
            "Digite o terceiro número: 47\n",
            "Digite o quarto número: 9\n",
            "O maior número digitado foi 47\n"
          ]
        }
      ]
    },
    {
      "cell_type": "code",
      "source": [
        "'''\n",
        "5) Faça um Programa que pergunte em que turno você estuda. Peça para digitar M-matutino ou \n",
        "V-Vespertino ou N- Noturno. Imprima a mensagem \"Bom Dia!\",\n",
        " \"Boa Tarde!\" ou \"Boa Noite!\" ou \"Valor Inválido!\", conforme o caso.\n",
        "'''\n",
        "turno = input('Digite em qual turno você estuda: M - matutino, V - vespertino ou N - Noturno: ')\n",
        "\n",
        "if turno == 'm' or turno == 'M':\n",
        "  print('Bom dia!')\n",
        "elif turno == 'v' or turno == 'V':\n",
        "  print('Boa tarde!')\n",
        "elif turno == 'n' or turno == 'N':\n",
        "  print('Boa noite!')\n",
        "else:\n",
        "  print('Valor inválido!')"
      ],
      "metadata": {
        "colab": {
          "base_uri": "https://localhost:8080/"
        },
        "id": "Fxam4YTp4tBs",
        "outputId": "d6daeec2-e562-4bd9-95c8-638ace02813a"
      },
      "execution_count": null,
      "outputs": [
        {
          "output_type": "stream",
          "name": "stdout",
          "text": [
            "Digite em qual turno você estuda: M - matutino, V - vespertino ou N - Noturno: t\n",
            "Valor inválido!\n"
          ]
        }
      ]
    },
    {
      "cell_type": "code",
      "source": [
        "'''\n",
        "6) Faça um Programa que peça um número correspondente a um determinado ano e \n",
        "em seguida informe se este ano é ou não bissexto. Para que um ano seja Bissexto\n",
        " ele tem que seguir aos seguintes critérios:\n",
        "\n",
        "Ser múltiplo de 4 e não ser múltiplo de 100 ou ser múltiplo de 400.\n",
        "'''\n",
        "ano = int(input('Digite um ano: '))\n",
        "\n",
        "if (ano % 4 == 0 and ano % 100 != 0) or ano % 400 == 0:\n",
        "  print('O ano é bissexto')\n",
        "else:\n",
        "  print('O ano não é bissexto')"
      ],
      "metadata": {
        "colab": {
          "base_uri": "https://localhost:8080/"
        },
        "id": "-ypreJ5r7QvQ",
        "outputId": "30be8bde-4ed5-4692-e552-a21b53154ea9"
      },
      "execution_count": null,
      "outputs": [
        {
          "output_type": "stream",
          "name": "stdout",
          "text": [
            "Digite um ano: 2021\n",
            "O ano não é bissexto\n"
          ]
        }
      ]
    },
    {
      "cell_type": "code",
      "source": [
        "'''\n",
        "Um posto está vendendo combustíveis com a seguinte tabela de descontos:\n",
        "\n",
        "Álcool: até 20 litros, desconto de 3% por litro\n",
        "acima de 20 litros, desconto de 5% por litro\n",
        "\n",
        "Gasolina:\n",
        "até 20 litros, desconto de 4% por litro\n",
        "acima de 20 litros, desconto de 6% por litro \n",
        "Escreva um algoritmo que leia o número de litros\n",
        " vendidos, o tipo de combustível (codificado da seguinte forma: A-álcool, G-gasolina),\n",
        "  calcule e imprima o valor a ser pago pelo cliente sabendo-se que o preço do litro da gasolina\n",
        "   é R$ 5,50 o preçodo litrodo álcool é R$3,90.\n",
        "'''\n",
        "tipo_combustivel = input('Digite A- Álcool ou G - Gasolina')\n",
        "qtd_litros = float(input('Digite a quantidade de litros para abastecer o veículo'))\n",
        "\n",
        "\n",
        "if tipo_combustivel == 'A':\n",
        "  valor_total = (qtd_litros * 3.90)\n",
        "  if qtd_litros <= 20:\n",
        "    desconto = (qtd_litros * 3.90) * 0.03\n",
        "  else:\n",
        "    desconto = (qtd_litros * 3.90) * 0.05\n",
        "\n",
        "elif tipo_combustivel == 'G':\n",
        "  valor_total = (qtd_litros * 5.50)\n",
        "  if qtd_litros <= 20:\n",
        "    desconto = (qtd_litros * 5.50) * 0.04\n",
        "  else:\n",
        "    desconto = (qtd_litros * 5.50) * 0.06\n",
        "else:\n",
        "  print('Valor digitado Inexistente')\n",
        "\n",
        "total = valor_total - desconto\n",
        "\n",
        "print(f'O valor total a ser pago pela quantidade {qtd_litros}  com o desconto é {total}')"
      ],
      "metadata": {
        "colab": {
          "base_uri": "https://localhost:8080/"
        },
        "id": "31k6_T2K-sCn",
        "outputId": "ef2744ff-8ff8-4da9-ef12-e6cba31e5f30"
      },
      "execution_count": null,
      "outputs": [
        {
          "output_type": "stream",
          "name": "stdout",
          "text": [
            "Digite A- Álcool ou G - Gasolina12\n",
            "Digite a quantidade de litros para abastecer o veículo2521\n",
            "Valor digitado Inexistente\n",
            "O valor total a ser pago pela quantidade 2521.0  com o desconto é 37.83\n"
          ]
        }
      ]
    },
    {
      "cell_type": "markdown",
      "source": [
        "1) Faça um programa que leia duas variáveis A e B com números inteiros. Em seguida inverta os valores de A e B. \n",
        "         Exemplo: A = 5, B = 3 , deverá ficar assim: A = 3, B = 5\n",
        "\n",
        "\n",
        "2) Faça um programa que pede duas notas de um aluno. Em seguida ele deve calcular a média do aluno\n",
        " e dar o seguinte resultado:\n",
        "\n",
        "    A mensagem \"Aprovado\", se a média alcançada for maior ou igual a sete;\n",
        "    A mensagem \"Recuperação\", se a média for menor do que sete;\n",
        "\n",
        "\n",
        "3) Faça um programa que lê as duas notas parciais obtidas por um aluno numa disciplina ao longo de um semestre,\n",
        " e calcule a sua média. A atribuição de conceitos obedece à tabela abaixo:\n",
        "\n",
        "      Média de Aproveitamento  Conceito\n",
        "      Entre 9.0 e 10.0                      A\n",
        "      Entre 7.5 e 9.0                        B\n",
        "      Entre 6.0 e 7.5                        C\n",
        "      Entre 4.0 e 6.0                        D\n",
        "      Entre 4.0 e zero                      E\n",
        "    O algoritmo deve mostrar na tela as notas, a média, o conceito correspondente e a mensagem “APROVADO” \n",
        "se o conceito for A, B ou C ou “REPROVADO” se o conceito for D ou E.\n",
        "\n",
        "4) Faça um Programa que leia 4 números inteiros e mostre o maior deles.\n",
        "\n",
        "5) Faça um Programa que pergunte em que turno você estuda. \n",
        "Peça para digitar M-matutino ou V-Vespertino ou N- Noturno. \n",
        "Imprima a mensagem \"Bom Dia!\", \"Boa Tarde!\" ou \"Boa Noite!\" ou \"Valor Inválido!\", conforme o caso.\n",
        "\n",
        "6)  Faça um Programa que peça um número correspondente a um determinado ano\n",
        " e em seguida informe se este ano é ou não bissexto.\n",
        "Para que um ano seja Bissexto ele tem que seguir aos seguintes critérios:\n",
        "- Ser múltiplo de 4 e não ser múltiplo de 100 ou ser múltiplo de 400.\n",
        "\n",
        "7)  Um posto está vendendo combustíveis com a seguinte tabela de descontos:\n",
        "\n",
        "    Álcool: até 20 litros, desconto de 3% por litro\n",
        "    acima de 20 litros, desconto de 5% por litro\n",
        "\n",
        "    Gasolina:\n",
        "    até 20 litros, desconto de 4% por litro\n",
        "    acima de 20 litros, desconto de 6% por litro Escreva um algoritmo que leia o número de litros vendidos,\n",
        "    \n",
        " o tipo de combustível (codificado da seguinte forma: A-álcool, G-gasolina), calcule e imprima o valor a ser pago\n",
        " pelo cliente sabendo-se que o preço do litro da gasolina é R$ 5,50 o preço do litro do álcool é R$ 3,90.\n"
      ],
      "metadata": {
        "id": "bHIfeiDbYyaO"
      }
    }
  ]
}