{
  "nbformat": 4,
  "nbformat_minor": 0,
  "metadata": {
    "colab": {
      "provenance": [],
      "include_colab_link": true
    },
    "kernelspec": {
      "name": "python3",
      "display_name": "Python 3"
    },
    "language_info": {
      "name": "python"
    }
  },
  "cells": [
    {
      "cell_type": "markdown",
      "metadata": {
        "id": "view-in-github",
        "colab_type": "text"
      },
      "source": [
        "<a href=\"https://colab.research.google.com/github/Stesilva16/Eng-de-dados--/blob/main/Stefany_Gracy_Atividade_La%C3%A7os_de_Repeti%C3%A7%C3%A3o_FOR.ipynb\" target=\"_parent\"><img src=\"https://colab.research.google.com/assets/colab-badge.svg\" alt=\"Open In Colab\"/></a>"
      ]
    },
    {
      "cell_type": "code",
      "execution_count": null,
      "metadata": {
        "id": "0HgI7ltwftxL",
        "colab": {
          "base_uri": "https://localhost:8080/"
        },
        "outputId": "2c9c2fe3-3df8-42d0-b84a-41155e9fb898"
      },
      "outputs": [
        {
          "output_type": "stream",
          "name": "stdout",
          "text": [
            "Nome : Stefany Gracy!\n"
          ]
        }
      ],
      "source": [
        "print('Nome : Stefany Gracy!')\n",
        "\n",
        "\n"
      ]
    },
    {
      "cell_type": "code",
      "source": [
        "#1) Escreva um programa que mostre todos os números entre 5 e 100 que são divisíveis por 7, mas não são múltiplos de 5. Os números obtidos devem ser impressos em sequência.\n",
        "\n",
        "for i in range(7, 101, 7):\n",
        "  if i % 5 != 0:\n",
        "    print( i, end= ', ')\n",
        "\n"
      ],
      "metadata": {
        "id": "60cRaizYgVHn",
        "colab": {
          "base_uri": "https://localhost:8080/"
        },
        "outputId": "c0e8435a-1c8f-4d37-e324-cf998fc1d0fc"
      },
      "execution_count": null,
      "outputs": [
        {
          "output_type": "stream",
          "name": "stdout",
          "text": [
            "7, 14, 21, 28, 42, 49, 56, 63, 77, 84, 91, 98, "
          ]
        }
      ]
    },
    {
      "cell_type": "code",
      "source": [
        "#2) Crie um programa que leia 20 números e informe na tela o maior e o menor número lido.\n",
        "\n",
        "maior = 0\n",
        "menor = 0\n",
        "\n",
        "for i in range(0, 20 , 1):\n",
        "  n = int(input(f' Digite um número inteiro {i+1}º: '))\n",
        "  if n > maior:\n",
        "    maior = n\n",
        "  if n < menor:\n",
        "    menor = n  \n",
        "print(f' O maior número digitado é {maior}, o menor número digitado é {menor}')\n",
        "\n"
      ],
      "metadata": {
        "id": "iPiHbYKTgzx2",
        "colab": {
          "base_uri": "https://localhost:8080/"
        },
        "outputId": "ca7a2c21-4416-4d27-dcbc-e9e6c9c6cc04"
      },
      "execution_count": null,
      "outputs": [
        {
          "output_type": "stream",
          "name": "stdout",
          "text": [
            " Digite um número inteiro 1º: 5\n",
            " Digite um número inteiro 2º: -8\n",
            " Digite um número inteiro 3º: 66\n",
            " Digite um número inteiro 4º: 0\n",
            " Digite um número inteiro 5º: -8\n",
            " Digite um número inteiro 6º: 66\n",
            " Digite um número inteiro 7º: 88\n",
            " Digite um número inteiro 8º: 90\n",
            " Digite um número inteiro 9º: -88\n",
            " Digite um número inteiro 10º: 55\n",
            " Digite um número inteiro 11º: 66\n",
            " Digite um número inteiro 12º: 88\n",
            " Digite um número inteiro 13º: 554\n",
            " Digite um número inteiro 14º: 658\n",
            " Digite um número inteiro 15º: 658\n",
            " Digite um número inteiro 16º: -888\n",
            " Digite um número inteiro 17º: 65\n",
            " Digite um número inteiro 18º: 58\n",
            " Digite um número inteiro 19º: 866\n",
            " Digite um número inteiro 20º: 8\n",
            " O maior número digitado é 866, o menor número digitado é -888\n"
          ]
        }
      ]
    },
    {
      "cell_type": "code",
      "source": [
        "#3)Escreva um programa em python que gera números entre 1000 e 1999 e mostra aqueles que divididos por 11 dão resto 5.\n",
        "\n",
        "for i in range(1000,2000,1):\n",
        "  if i % 11 == 5:\n",
        "   print(i, end=' , ')\n",
        "\n"
      ],
      "metadata": {
        "colab": {
          "base_uri": "https://localhost:8080/"
        },
        "id": "1UdMfe-Agzyu",
        "outputId": "3a8355bc-cd6d-46b5-b25d-4375ceea0c3f"
      },
      "execution_count": null,
      "outputs": [
        {
          "output_type": "stream",
          "name": "stdout",
          "text": [
            "1006 , 1017 , 1028 , 1039 , 1050 , 1061 , 1072 , 1083 , 1094 , 1105 , 1116 , 1127 , 1138 , 1149 , 1160 , 1171 , 1182 , 1193 , 1204 , 1215 , 1226 , 1237 , 1248 , 1259 , 1270 , 1281 , 1292 , 1303 , 1314 , 1325 , 1336 , 1347 , 1358 , 1369 , 1380 , 1391 , 1402 , 1413 , 1424 , 1435 , 1446 , 1457 , 1468 , 1479 , 1490 , 1501 , 1512 , 1523 , 1534 , 1545 , 1556 , 1567 , 1578 , 1589 , 1600 , 1611 , 1622 , 1633 , 1644 , 1655 , 1666 , 1677 , 1688 , 1699 , 1710 , 1721 , 1732 , 1743 , 1754 , 1765 , 1776 , 1787 , 1798 , 1809 , 1820 , 1831 , 1842 , 1853 , 1864 , 1875 , 1886 , 1897 , 1908 , 1919 , 1930 , 1941 , 1952 , 1963 , 1974 , 1985 , 1996 , "
          ]
        }
      ]
    },
    {
      "cell_type": "code",
      "source": [
        "#4) Digitados dois números (base e expoente ), calcule o resultado  da potência utilizando apenas operadores básicos da matemática(soma, subtração, multiplicação ou divisão) e o comando FOR;\n",
        "\n",
        "base = int(input('Digite um número inteiro e positivo que será a base: '))\n",
        "while base < 0:\n",
        "  base = int(input('Numero inválido! Digite um número inteiro e positivo que será a base: '))\n",
        "exp = int(input('Digite um número inteiro e positivo que será o expoente: '))\n",
        "while exp < 0:\n",
        "  exp = int(input('Numero inválido! Digite um número inteiro e positivo que será o expoente: '))\n",
        "\n",
        "print('O valor de', base ,'^', exp, end = ' ')\n",
        "\n",
        "res = 1\n",
        "\n",
        "for i in range(0, exp + 1, 1):\n",
        "  while exp >= 1:\n",
        "    mul = base * 1\n",
        "    res *= mul\n",
        "    exp -= 1\n",
        "  \n",
        "\n",
        "print(f' O resultao é = {res}')\n",
        "\n"
      ],
      "metadata": {
        "colab": {
          "base_uri": "https://localhost:8080/"
        },
        "id": "DT9noXnijSt1",
        "outputId": "7039e303-50d0-4207-ff3e-993fa237926b"
      },
      "execution_count": null,
      "outputs": [
        {
          "output_type": "stream",
          "name": "stdout",
          "text": [
            "Digite um número inteiro e positivo que será a base: 2\n",
            "Digite um número inteiro e positivo que será o expoente: 3\n",
            "O valor de 2 ^ 3  O resultao é = 8\n"
          ]
        }
      ]
    },
    {
      "cell_type": "code",
      "source": [
        "#5) Faça um programa que receba um número positivo digitado pelo usuário e calcule a soma de todos os números de 1 até ao número digitado. Por exemplo, se o usuário inseriu 4, a saída deve ser 10 (1+2+3+4=10).\n",
        "\n",
        "n = int(input('Digite um numero inteiro e positivo: '))\n",
        "while n <= 0:\n",
        "    n = int(input('Numero Inválido! Digite um numero inteiro e positivo: '))\n",
        "\n",
        "soma =0\n",
        "for i in range(1, n + 1, 1):\n",
        "  soma += i\n",
        "\n",
        "print(f'A soma dos numeros de forma decrescente é: {soma}')\n"
      ],
      "metadata": {
        "colab": {
          "base_uri": "https://localhost:8080/"
        },
        "id": "DSKRjTbhs8I2",
        "outputId": "086ab133-b8e4-4646-d76e-cbf75812b6f8"
      },
      "execution_count": null,
      "outputs": [
        {
          "output_type": "stream",
          "name": "stdout",
          "text": [
            "Digite um numero inteiro e positivo: 5\n",
            "A soma dos numeros de forma decrescente é: 15\n"
          ]
        }
      ]
    },
    {
      "cell_type": "code",
      "source": [
        "#6) Faça um programa que leia 10 números inteiros positivos e mostre, no final, a soma dos números pares e a soma dos números ímpares.\n",
        "\n",
        "soma_par = 0\n",
        "soma_imp = 0\n",
        "\n",
        "for i in range(0, 10, 1):\n",
        "  n = int(input(f'Digite o {i+1}º número inteiro e positivo: '))\n",
        "  while n <= 0:\n",
        "    n = int(input(f' Número Inválido! Digite o {i+1} º número inteiro e positivo: '))\n",
        "  if n % 2 == 0:\n",
        "    soma_par += n\n",
        "  if n % 2 != 0:\n",
        "    soma_imp += n\n",
        "print(f' A soma dos números pares é {soma_par}, e a soma dos números impares é {soma_imp}! ')\n",
        " \n"
      ],
      "metadata": {
        "id": "vMP1NYPOyPoA",
        "colab": {
          "base_uri": "https://localhost:8080/"
        },
        "outputId": "add10d4c-d46a-4351-d96a-69c00789d673"
      },
      "execution_count": null,
      "outputs": [
        {
          "output_type": "stream",
          "name": "stdout",
          "text": [
            "Digite o 1º número inteiro e positivo: 1\n",
            "Digite o 2º número inteiro e positivo: 1\n",
            "Digite o 3º número inteiro e positivo: 1\n",
            "Digite o 4º número inteiro e positivo: 1\n",
            "Digite o 5º número inteiro e positivo: 1\n",
            "Digite o 6º número inteiro e positivo: 2\n",
            "Digite o 7º número inteiro e positivo: 2\n",
            "Digite o 8º número inteiro e positivo: 2\n",
            "Digite o 9º número inteiro e positivo: 2\n",
            "Digite o 10º número inteiro e positivo: 2\n",
            " A soma dos números pares é 10, e a soma dos números impares é 5! \n"
          ]
        }
      ]
    },
    {
      "cell_type": "code",
      "source": [
        "\n",
        "# 7) Dado um número n inteiro e positivo, dizemos que n é perfeito se n for igual à soma de seus divisores positivos diferentes de n. Construa um programa em python que verifica se um dado número é perfeito. Ex: 6 é perfeito, pois 1+2+3 = 6.\n",
        "\n",
        "n = int(input(f' Digite um número inteiro e positivo: '))\n",
        "while n <= 0:\n",
        "  n = int(input(f' Valor Invalido! Digite um número inteiro e positivo: '))\n",
        "\n",
        "soma = 0\n",
        "\n",
        "for i in range(1, n, 1):\n",
        "  if n % i == 0:\n",
        "    soma += i\n",
        "\n",
        "if soma == n:\n",
        "  print(f' O número {n} é um número perfeito!')\n",
        "else:\n",
        "  print(f'O número {n} não é perfeito!')\n",
        "\n",
        "\n"
      ],
      "metadata": {
        "id": "0Ke0Z9e40UtJ",
        "colab": {
          "base_uri": "https://localhost:8080/"
        },
        "outputId": "fb9ab723-3063-44ad-f20e-d7029cd80a83"
      },
      "execution_count": null,
      "outputs": [
        {
          "output_type": "stream",
          "name": "stdout",
          "text": [
            " Digite um número inteiro e positivo: 55\n",
            "O número 55 não é perfeito!\n"
          ]
        }
      ]
    },
    {
      "cell_type": "code",
      "source": [
        "#8) Escreva um programa que leia um valor correspondente ao número de jogadores de um time de vôlei. O programa deverá ler uma altura para cada um dos jogadores e, ao final, informar a altura média do time.\n",
        "\n",
        "print(' Existem 12 jogadores em um time de volei, sendo que 6 jogam e 6 ficam no banco de reserva!')\n",
        "soma = 0\n",
        "for i in range(0, 12, 1):\n",
        "  alt = float(input(f' Qual é a altura do jogador {i+1}º de vôlei:  '))\n",
        "  soma += alt\n",
        "\n",
        "print(f'A média das alturas do 12 jogares de vôlei é {soma/12:.2f]} m')\n",
        "\n",
        "\n"
      ],
      "metadata": {
        "colab": {
          "base_uri": "https://localhost:8080/"
        },
        "id": "xDyecsLB0YkA",
        "outputId": "35724d15-fd6e-4e67-988c-dab0c50442ba"
      },
      "execution_count": null,
      "outputs": [
        {
          "output_type": "stream",
          "name": "stdout",
          "text": [
            " Existem 12 jogadores em um time de volei, sendo que 6 jogam e 6 ficam no banco de reserva!\n",
            " Qual é a altura do jogador 1º de vôlei:  5\n",
            " Qual é a altura do jogador 2º de vôlei:  2.00\n",
            " Qual é a altura do jogador 3º de vôlei:  1.98\n",
            " Qual é a altura do jogador 4º de vôlei:  2.05\n",
            " Qual é a altura do jogador 5º de vôlei:  3.8\n",
            " Qual é a altura do jogador 6º de vôlei:  1.88\n",
            " Qual é a altura do jogador 7º de vôlei:  1.75\n",
            " Qual é a altura do jogador 8º de vôlei:  1.55\n",
            " Qual é a altura do jogador 9º de vôlei:  1.98\n",
            " Qual é a altura do jogador 10º de vôlei:  2.00\n",
            " Qual é a altura do jogador 11º de vôlei:  1.88\n",
            " Qual é a altura do jogador 12º de vôlei:  1.82\n",
            "A média das alturas do 12 jogares de vôlei é 2.31 m\n"
          ]
        }
      ]
    },
    {
      "cell_type": "code",
      "source": [
        "#9) Escreva um programa em Python que leia um número inteiro positivo e diga se o número informado é primo\n",
        "\n",
        "n = int(input(f'Digite um numero inteiro e positivo: '))\n",
        "while n <= 0:\n",
        "  n = int(input(f'Número inválido! Digite um numero inteiro e positivo: '))\n",
        "\n",
        "div = 0\n",
        "\n",
        "for i in range(1, n+ 1 , 1):\n",
        "  if n % 1 == 0:\n",
        "    div += 1\n",
        "\n",
        "if div == 2:\n",
        "  print(f' Parabéns o {n} é um número primo!')\n",
        "else:\n",
        "  print(f'O número {n} não é primo!')"
      ],
      "metadata": {
        "colab": {
          "base_uri": "https://localhost:8080/"
        },
        "id": "DInUODwj48eS",
        "outputId": "74647624-0ec7-43bf-a7a0-45e871ec9b72"
      },
      "execution_count": null,
      "outputs": [
        {
          "output_type": "stream",
          "name": "stdout",
          "text": [
            "Digite um numero inteiro e positivo: 2\n",
            "O número 2 não é primo!\n"
          ]
        }
      ]
    },
    {
      "cell_type": "code",
      "source": [
        "#10) Escreva um algoritmo em python que leia um número N e informe os N primeiros números da sequência de Fibonacci\n",
        "# A sequência é a seguinte: 1 1 2 3 5 8 13 21 34 55 89 …\n",
        "\n",
        "n = int(input(' Quantos números você quer ver? '))\n",
        "\n",
        "n1 = 0\n",
        "n2 = 1\n",
        "cont = 1\n",
        "\n",
        "for i in range(0, n + 1 , 1):\n",
        "  while cont <= n:\n",
        "    n3 = n1 + n2\n",
        "    print(n1,  end= ' -> ')\n",
        "    n1 = n2\n",
        "    n2 = n3\n",
        "    cont +=1\n",
        "\n",
        "\n",
        "\n"
      ],
      "metadata": {
        "colab": {
          "base_uri": "https://localhost:8080/"
        },
        "id": "EqDilttT_UsB",
        "outputId": "c3c3ab7f-53b2-4b14-af6f-cf17c6c5ce76"
      },
      "execution_count": null,
      "outputs": [
        {
          "output_type": "stream",
          "name": "stdout",
          "text": [
            " Quantos números você quer ver? 50\n",
            "0 -> 1 -> 1 -> 2 -> 3 -> 5 -> 8 -> 13 -> 21 -> 34 -> 55 -> 89 -> 144 -> 233 -> 377 -> 610 -> 987 -> 1597 -> 2584 -> 4181 -> 6765 -> 10946 -> 17711 -> 28657 -> 46368 -> 75025 -> 121393 -> 196418 -> 317811 -> 514229 -> 832040 -> 1346269 -> 2178309 -> 3524578 -> 5702887 -> 9227465 -> 14930352 -> 24157817 -> 39088169 -> 63245986 -> 102334155 -> 165580141 -> 267914296 -> 433494437 -> 701408733 -> 1134903170 -> 1836311903 -> 2971215073 -> 4807526976 -> 7778742049 -> "
          ]
        }
      ]
    },
    {
      "cell_type": "code",
      "source": [
        "n = int(input(' Quantos números você quer ver? '))\n",
        "\n",
        "n1 = 1\n",
        "n2 = 1\n",
        "cont = 1\n",
        "\n",
        "for i in range(0, n + 1 , 1):\n",
        "  while cont <= n:\n",
        "    n3 = n1 + n2\n",
        "    print(n1,  end= ' -> ')\n",
        "    n1 = n2\n",
        "    n2 = n3\n",
        "    cont +=1\n",
        "\n",
        "\n",
        "\n"
      ],
      "metadata": {
        "colab": {
          "base_uri": "https://localhost:8080/"
        },
        "id": "yFg_diMd-54d",
        "outputId": "4a71b811-3b74-49f9-9a9e-be8888e90726"
      },
      "execution_count": null,
      "outputs": [
        {
          "output_type": "stream",
          "name": "stdout",
          "text": [
            " Quantos números você quer ver? 5\n",
            "1 -> 1 -> 2 -> 3 -> 5 -> "
          ]
        }
      ]
    }
  ]
}